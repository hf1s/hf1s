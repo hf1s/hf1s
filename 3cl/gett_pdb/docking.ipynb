{
 "cells": [
  {
   "cell_type": "code",
   "execution_count": 1,
   "metadata": {},
   "outputs": [
    {
     "name": "stderr",
     "output_type": "stream",
     "text": [
      "2023-04-01 07:17:54,892\tINFO worker.py:1550 -- Started a local Ray instance. View the dashboard at http://127.0.0.1:8265 \n"
     ]
    },
    {
     "data": {
      "text/html": [
       "<div>\n",
       "    <div style=\"margin-left: 50px;display: flex;flex-direction: row;align-items: center\">\n",
       "        <h3 style=\"color: var(--jp-ui-font-color0)\">Ray</h3>\n",
       "        <svg version=\"1.1\" id=\"ray\" width=\"3em\" viewBox=\"0 0 144.5 144.6\" style=\"margin-left: 3em;margin-right: 3em\">\n",
       "            <g id=\"layer-1\">\n",
       "                <path fill=\"#00a2e9\" class=\"st0\" d=\"M97.3,77.2c-3.8-1.1-6.2,0.9-8.3,5.1c-3.5,6.8-9.9,9.9-17.4,9.6S58,88.1,54.8,81.2c-1.4-3-3-4-6.3-4.1\n",
       "                    c-5.6-0.1-9.9,0.1-13.1,6.4c-3.8,7.6-13.6,10.2-21.8,7.6C5.2,88.4-0.4,80.5,0,71.7c0.1-8.4,5.7-15.8,13.8-18.2\n",
       "                    c8.4-2.6,17.5,0.7,22.3,8c1.3,1.9,1.3,5.2,3.6,5.6c3.9,0.6,8,0.2,12,0.2c1.8,0,1.9-1.6,2.4-2.8c3.5-7.8,9.7-11.8,18-11.9\n",
       "                    c8.2-0.1,14.4,3.9,17.8,11.4c1.3,2.8,2.9,3.6,5.7,3.3c1-0.1,2,0.1,3,0c2.8-0.5,6.4,1.7,8.1-2.7s-2.3-5.5-4.1-7.5\n",
       "                    c-5.1-5.7-10.9-10.8-16.1-16.3C84,38,81.9,37.1,78,38.3C66.7,42,56.2,35.7,53,24.1C50.3,14,57.3,2.8,67.7,0.5\n",
       "                    C78.4-2,89,4.7,91.5,15.3c0.1,0.3,0.1,0.5,0.2,0.8c0.7,3.4,0.7,6.9-0.8,9.8c-1.7,3.2-0.8,5,1.5,7.2c6.7,6.5,13.3,13,19.8,19.7\n",
       "                    c1.8,1.8,3,2.1,5.5,1.2c9.1-3.4,17.9-0.6,23.4,7c4.8,6.9,4.6,16.1-0.4,22.9c-5.4,7.2-14.2,9.9-23.1,6.5c-2.3-0.9-3.5-0.6-5.1,1.1\n",
       "                    c-6.7,6.9-13.6,13.7-20.5,20.4c-1.8,1.8-2.5,3.2-1.4,5.9c3.5,8.7,0.3,18.6-7.7,23.6c-7.9,5-18.2,3.8-24.8-2.9\n",
       "                    c-6.4-6.4-7.4-16.2-2.5-24.3c4.9-7.8,14.5-11,23.1-7.8c3,1.1,4.7,0.5,6.9-1.7C91.7,98.4,98,92.3,104.2,86c1.6-1.6,4.1-2.7,2.6-6.2\n",
       "                    c-1.4-3.3-3.8-2.5-6.2-2.6C99.8,77.2,98.9,77.2,97.3,77.2z M72.1,29.7c5.5,0.1,9.9-4.3,10-9.8c0-0.1,0-0.2,0-0.3\n",
       "                    C81.8,14,77,9.8,71.5,10.2c-5,0.3-9,4.2-9.3,9.2c-0.2,5.5,4,10.1,9.5,10.3C71.8,29.7,72,29.7,72.1,29.7z M72.3,62.3\n",
       "                    c-5.4-0.1-9.9,4.2-10.1,9.7c0,0.2,0,0.3,0,0.5c0.2,5.4,4.5,9.7,9.9,10c5.1,0.1,9.9-4.7,10.1-9.8c0.2-5.5-4-10-9.5-10.3\n",
       "                    C72.6,62.3,72.4,62.3,72.3,62.3z M115,72.5c0.1,5.4,4.5,9.7,9.8,9.9c5.6-0.2,10-4.8,10-10.4c-0.2-5.4-4.6-9.7-10-9.7\n",
       "                    c-5.3-0.1-9.8,4.2-9.9,9.5C115,72.1,115,72.3,115,72.5z M19.5,62.3c-5.4,0.1-9.8,4.4-10,9.8c-0.1,5.1,5.2,10.4,10.2,10.3\n",
       "                    c5.6-0.2,10-4.9,9.8-10.5c-0.1-5.4-4.5-9.7-9.9-9.6C19.6,62.3,19.5,62.3,19.5,62.3z M71.8,134.6c5.9,0.2,10.3-3.9,10.4-9.6\n",
       "                    c0.5-5.5-3.6-10.4-9.1-10.8c-5.5-0.5-10.4,3.6-10.8,9.1c0,0.5,0,0.9,0,1.4c-0.2,5.3,4,9.8,9.3,10\n",
       "                    C71.6,134.6,71.7,134.6,71.8,134.6z\"/>\n",
       "            </g>\n",
       "        </svg>\n",
       "        <table>\n",
       "            <tr>\n",
       "                <td style=\"text-align: left\"><b>Python version:</b></td>\n",
       "                <td style=\"text-align: left\"><b>3.7.16</b></td>\n",
       "            </tr>\n",
       "            <tr>\n",
       "                <td style=\"text-align: left\"><b>Ray version:</b></td>\n",
       "                <td style=\"text-align: left\"><b> 2.3.0</b></td>\n",
       "            </tr>\n",
       "            <tr>\n",
       "    <td style=\"text-align: left\"><b>Dashboard:</b></td>\n",
       "    <td style=\"text-align: left\"><b><a href=\"http://127.0.0.1:8265\" target=\"_blank\">http://127.0.0.1:8265</a></b></td>\n",
       "</tr>\n",
       "\n",
       "        </table>\n",
       "    </div>\n",
       "</div>\n"
      ],
      "text/plain": [
       "RayContext(dashboard_url='127.0.0.1:8265', python_version='3.7.16', ray_version='2.3.0', ray_commit='cf7a56b4b0b648c324722df7c99c168e92ff0b45', address_info={'node_ip_address': '172.17.8.227', 'raylet_ip_address': '172.17.8.227', 'redis_address': None, 'object_store_address': '/tmp/ray/session_2023-04-01_07-17-51_485090_13022/sockets/plasma_store', 'raylet_socket_name': '/tmp/ray/session_2023-04-01_07-17-51_485090_13022/sockets/raylet', 'webui_url': '127.0.0.1:8265', 'session_dir': '/tmp/ray/session_2023-04-01_07-17-51_485090_13022', 'metrics_export_port': 63492, 'gcs_address': '172.17.8.227:55449', 'address': '172.17.8.227:55449', 'dashboard_agent_listen_port': 52365, 'node_id': '0af6b0601f45c268c87a7f7adb03830c94545ea94b483bdecdfb31e9'})"
      ]
     },
     "execution_count": 1,
     "metadata": {},
     "output_type": "execute_result"
    }
   ],
   "source": [
    "from tdc import Oracle\n",
    "from vina import Vina\n",
    "import pyscreener as ps\n",
    "import os\n",
    "import numpy as np\n",
    "import pandas as pd\n",
    "import csv\n",
    "import json\n",
    "import ray\n",
    "ray.init()"
   ]
  },
  {
   "cell_type": "code",
   "execution_count": 2,
   "metadata": {},
   "outputs": [],
   "source": [
    "with open ('/home/pku/BiDe/sele/sampled_sele.json', 'r') as f:\n",
    "    smiles_dict = json.load(f)"
   ]
  },
  {
   "cell_type": "code",
   "execution_count": 3,
   "metadata": {},
   "outputs": [],
   "source": [
    "smiles_list = list(smiles_dict.values())"
   ]
  },
  {
   "cell_type": "code",
   "execution_count": 7,
   "metadata": {},
   "outputs": [],
   "source": [
    "receptor_pdb_list=['7ENE','7L0D','7L10','7M04','7M90','7RFS','7RVT','7S6X','6LU7']\n"
   ]
  },
  {
   "cell_type": "code",
   "execution_count": 6,
   "metadata": {},
   "outputs": [],
   "source": [
    "# for i in receptor_pdb_list:\n",
    "#     if i == '6LU7':\n",
    "#         pass\n",
    "#     else:\n",
    "#         receptor_command = f'prepare_receptor -r /home/pku/3cl/gett_pdb/{i}/{i}_mol2/{i}_new.pdb -o /home/pku/3cl/gett_pdb/docking_receptor/{i}_receptor.pdbqt'\n",
    "#         os.system(receptor_command)"
   ]
  },
  {
   "cell_type": "code",
   "execution_count": 8,
   "metadata": {},
   "outputs": [],
   "source": [
    "def save_list_to_csv(filename, data_list):\n",
    "    with open(filename, 'w', newline='', encoding='utf-8') as csvfile:\n",
    "        csv_writer = csv.writer(csvfile)\n",
    "        for item in data_list:\n",
    "            csv_writer.writerow([item])"
   ]
  },
  {
   "cell_type": "code",
   "execution_count": 9,
   "metadata": {},
   "outputs": [],
   "source": [
    "def receptor_box(entry_id = '7ENE'):\n",
    "    with open(f'./{entry_id}/{entry_id}_result/{entry_id}_new_cavity_1.pdb') as f:\n",
    "        line_reslut = f.readlines()\n",
    "        del line_reslut[-1:]\n",
    "    x_box = []\n",
    "    y_box = []\n",
    "    z_box = []\n",
    "    for j in line_reslut:\n",
    "        x_box.append(float(j[30:38].strip()))\n",
    "        y_box.append(float(j[38:46].strip()))\n",
    "        z_box.append(float(j[46:54].strip()))\n",
    "    x_max= max(x_box)\n",
    "    x_min= min(x_box)\n",
    "    y_max= max(y_box)\n",
    "    y_min= min(y_box)\n",
    "    z_max= max(z_box)\n",
    "    z_min= min(z_box)\n",
    "    center = [(x_max+x_min)/2,(y_max+y_min)/2,(z_max+z_min)/2]\n",
    "    return center\n",
    "    "
   ]
  },
  {
   "cell_type": "code",
   "execution_count": 10,
   "metadata": {},
   "outputs": [],
   "source": [
    "def docking(entry_id = '7ENE'):\n",
    "    box = receptor_box(entry_id)\n",
    "    md = ps.build_metadata(\"vina\", dict(exhaustivness=32))\n",
    "    vs = ps.virtual_screen(\n",
    "    \"vina\",\n",
    "    receptors=[f'./docking_receptor/{entry_id}_receptor.pdbqt'], \n",
    "    center=box,\n",
    "    size=[35, 35, 35],\n",
    "    metadata_template=md,\n",
    "    ncpu=6\n",
    "    )\n",
    "    scores = vs(test_id)\n",
    "    print(entry_id, scores)\n",
    "    # save_list_to_csv(f'./gett_pdb/docking_receptor/{entry_id}_docking_result.txt', scores)\n",
    "    # print(scores)\n",
    "    return scores\n"
   ]
  },
  {
   "cell_type": "code",
   "execution_count": 13,
   "metadata": {},
   "outputs": [],
   "source": [
    "test_id = ['CC1([C@@H]2[C@H]1[C@H](N(C2)C(=O)[C@H](C(C)(C)C)NC(=O)NC(C)(C)C)C(=O)N[C@@H](C[C@@H]3CCNC3=O)[C@H](C(=O)N)O)C']"
   ]
  },
  {
   "cell_type": "code",
   "execution_count": 14,
   "metadata": {},
   "outputs": [
    {
     "name": "stderr",
     "output_type": "stream",
     "text": [
      "Docking: 100%|██████████| 1/1 [03:00<00:00, 180.02s/ligand]\n"
     ]
    },
    {
     "name": "stdout",
     "output_type": "stream",
     "text": [
      "7ENE [-4.9]\n"
     ]
    },
    {
     "name": "stderr",
     "output_type": "stream",
     "text": [
      "Docking: 100%|██████████| 1/1 [02:56<00:00, 176.11s/ligand]\n"
     ]
    },
    {
     "name": "stdout",
     "output_type": "stream",
     "text": [
      "7L0D [-5.2]\n"
     ]
    },
    {
     "name": "stderr",
     "output_type": "stream",
     "text": [
      "Docking: 100%|██████████| 1/1 [02:54<00:00, 174.86s/ligand]\n"
     ]
    },
    {
     "name": "stdout",
     "output_type": "stream",
     "text": [
      "7L10 [-4.3]\n"
     ]
    },
    {
     "name": "stderr",
     "output_type": "stream",
     "text": [
      "Docking: 100%|██████████| 1/1 [02:53<00:00, 173.18s/ligand]\n"
     ]
    },
    {
     "name": "stdout",
     "output_type": "stream",
     "text": [
      "7M04 [-5.7]\n"
     ]
    },
    {
     "name": "stderr",
     "output_type": "stream",
     "text": [
      "Docking: 100%|██████████| 1/1 [02:56<00:00, 176.30s/ligand]\n"
     ]
    },
    {
     "name": "stdout",
     "output_type": "stream",
     "text": [
      "7M90 [-5.3]\n"
     ]
    },
    {
     "name": "stderr",
     "output_type": "stream",
     "text": [
      "Docking: 100%|██████████| 1/1 [02:53<00:00, 173.34s/ligand]\n"
     ]
    },
    {
     "name": "stdout",
     "output_type": "stream",
     "text": [
      "7RFS [-5.5]\n"
     ]
    },
    {
     "name": "stderr",
     "output_type": "stream",
     "text": [
      "Docking: 100%|██████████| 1/1 [02:56<00:00, 176.49s/ligand]\n"
     ]
    },
    {
     "name": "stdout",
     "output_type": "stream",
     "text": [
      "7RVT [-5.4]\n"
     ]
    },
    {
     "name": "stderr",
     "output_type": "stream",
     "text": [
      "Docking: 100%|██████████| 1/1 [02:52<00:00, 172.96s/ligand]\n"
     ]
    },
    {
     "name": "stdout",
     "output_type": "stream",
     "text": [
      "7S6X [-5.9]\n"
     ]
    },
    {
     "name": "stderr",
     "output_type": "stream",
     "text": [
      "Docking: 100%|██████████| 1/1 [03:00<00:00, 180.58s/ligand]\n"
     ]
    },
    {
     "name": "stdout",
     "output_type": "stream",
     "text": [
      "6LU7 [-5.]\n"
     ]
    }
   ],
   "source": [
    "for i in receptor_pdb_list:\n",
    "    docking(i)"
   ]
  },
  {
   "cell_type": "code",
   "execution_count": null,
   "metadata": {},
   "outputs": [],
   "source": [
    "# 7ENE: 7ENE [-6.1], 7L0D [-5.9], 7L10 [-6.2], 7M04 [-6.7], 7M90 [-6.], 7RFS [-5.8], 7RVT [-5.9], 7S6X [-6.4], 6LU7 [-5.9]\n",
    "# 7L0D: 7L0D [-5.1]\n",
    "# 7L10: 7L10 [-6.9]\n",
    "# 7M04: 7M04 [-6.6][-6.6](异构体)\n",
    "# 7M90: 7M90 [-6.9]\n",
    "# 7RFS: 7ENE [-5.5], 7L0D [-5.5], 7L10 [-5.6], 7M04 [-5.8], 7M90 [-5.6], 7RFS [-5.2], 7RVT [-5.6], 7S6X [-5.7], 6LU7 [-5]\n",
    "# 使用7RFS的rcsb中4WI_sdf文件docking[-5.8]\n",
    "# 7RVT: 7ENE [-5.6], 7L0D [-5.9], 7L10 [-5.7], 7M04 [-6.], 7M90 [-5.5], 7RFS [-5.6], 7RVT [-5.9], 7S6X [-5.6], 6LU7 [-5.4]\n",
    "# 7S6X: 7ENE [-4.9], 7L0D [-5.2], 7L10 [-4.3], 7M04 [-5.7], 7M90 [-5.3], 7RFS [-5.5], 7RVT [-5.4], 7S6X [-5.9], 6LU7 [-5.9]\n",
    "\n"
   ]
  },
  {
   "cell_type": "code",
   "execution_count": null,
   "metadata": {},
   "outputs": [],
   "source": [
    "# (base) root@Touk0:/home/test/3cl# vina --receptor ./gett_pdb/docking_receptor/7RFS_receptor.pdbqt --ligand 7rfs_ligand.pdbqt \\\n",
    "#        --config 7rfs_receptor_vina_box.txt \\\n",
    "#        --exhaustiveness=32 --out 7RFS_ligand_vina_out.pdbqt\n",
    "# #################################################################\n",
    "# # If you used AutoDock Vina in your work, please cite:          #\n",
    "# #                                                               #\n",
    "# # O. Trott, A. J. Olson,                                        #\n",
    "# # AutoDock Vina: improving the speed and accuracy of docking    #\n",
    "# # with a new scoring function, efficient optimization and       #\n",
    "# # multithreading, Journal of Computational Chemistry 31 (2010)  #\n",
    "# # 455-461                                                       #\n",
    "# #                                                               #\n",
    "# # DOI 10.1002/jcc.21334                                         #\n",
    "# #                                                               #\n",
    "# # Please see http://vina.scripps.edu for more information.      #\n",
    "# #################################################################\n",
    "\n",
    "# Detected 16 CPUs\n",
    "# Reading input ... done.\n",
    "# Setting up the scoring function ... done.\n",
    "# Analyzing the binding site ... done.\n",
    "# Using random seed: -1982009087\n",
    "# Performing search ... \n",
    "# 0%   10   20   30   40   50   60   70   80   90   100%\n",
    "# |----|----|----|----|----|----|----|----|----|----|\n",
    "# ***************************************************\n",
    "# done.\n",
    "# Refining results ... done.\n",
    "\n",
    "# mode |   affinity | dist from best mode\n",
    "#      | (kcal/mol) | rmsd l.b.| rmsd u.b.\n",
    "# -----+------------+----------+----------\n",
    "#    1         -5.8      0.000      0.000\n",
    "#    2         -5.3      2.960      6.420\n",
    "#    3         -4.7      3.891      8.226\n",
    "#    4         -4.6      3.567      6.783\n",
    "#    5         -4.5      4.146      8.230\n",
    "#    6         -4.4     10.565     12.369\n",
    "#    7         -4.4      3.650      7.023\n",
    "#    8         -4.4      5.080      9.966\n",
    "#    9         -4.4     11.349     13.173\n",
    "# Writing output ... done."
   ]
  },
  {
   "cell_type": "code",
   "execution_count": 4,
   "metadata": {},
   "outputs": [
    {
     "data": {
      "text/plain": [
       "[9.2485, -1.2175000000000002, 21.947499999999998]"
      ]
     },
     "execution_count": 4,
     "metadata": {},
     "output_type": "execute_result"
    }
   ],
   "source": [
    "receptor_box('7RFS')"
   ]
  }
 ],
 "metadata": {
  "kernelspec": {
   "display_name": "zhenshabi",
   "language": "python",
   "name": "python3"
  },
  "language_info": {
   "codemirror_mode": {
    "name": "ipython",
    "version": 3
   },
   "file_extension": ".py",
   "mimetype": "text/x-python",
   "name": "python",
   "nbconvert_exporter": "python",
   "pygments_lexer": "ipython3",
   "version": "3.7.16"
  },
  "orig_nbformat": 4,
  "vscode": {
   "interpreter": {
    "hash": "e8068c19a8dfb90e8a42bb4b29aa4c0aaed141a7ebbc318216df4c41d7858691"
   }
  }
 },
 "nbformat": 4,
 "nbformat_minor": 2
}
