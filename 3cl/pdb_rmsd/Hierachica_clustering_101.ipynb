{
 "cells": [
  {
   "cell_type": "code",
   "execution_count": 2,
   "metadata": {},
   "outputs": [],
   "source": [
    "import scipy.cluster.hierarchy as sch\n",
    "import matplotlib.pyplot as plt\n",
    "import seaborn as sns\n",
    "sns.set_theme()\n",
    "import numpy as np\n",
    "import pandas as pd\n",
    "from scipy.cluster.hierarchy import fcluster,dendrogram,linkage\n",
    "import os"
   ]
  },
  {
   "cell_type": "code",
   "execution_count": 3,
   "metadata": {},
   "outputs": [],
   "source": [
    "with open ('rmsd_result.txt') as f:\n",
    "    rmsd = f.readlines()\n",
    "with open ('cluster_4.csv') as f:\n",
    "    cluster = f.read()\n",
    "cluster = cluster.split(' ')\n",
    "cluster = cluster[:-1]\n",
    "with open('../error_list/true_cavity_result_list.txt', 'r') as f:\n",
    "    text = f.read()\n",
    "pdb_ids = text.split(',')\n"
   ]
  },
  {
   "cell_type": "code",
   "execution_count": 4,
   "metadata": {},
   "outputs": [],
   "source": [
    "mat = np.zeros((len(rmsd), len(rmsd)))\n",
    "dist_map = []\n",
    "for i in rmsd:\n",
    "    odometry = i.split(',')\n",
    "    for j in odometry:\n",
    "        mat[rmsd.index(i)][odometry.index(j)] = j\n",
    "        dist_map.append(j)"
   ]
  },
  {
   "cell_type": "code",
   "execution_count": 5,
   "metadata": {},
   "outputs": [],
   "source": [
    "mat_2 = np.zeros((len(cluster), len(cluster)))\n",
    "for i in range(len(cluster)):\n",
    "    x = pdb_ids.index(cluster[i])\n",
    "    for j in range(len(cluster)):\n",
    "        y = pdb_ids.index(cluster[j])\n",
    "        mat_2[i][j] = mat[x][y]"
   ]
  },
  {
   "cell_type": "code",
   "execution_count": 6,
   "metadata": {},
   "outputs": [
    {
     "data": {
      "image/png": "[encoded data removed]",
      "text/plain": [
       "<Figure size 432x288 with 1 Axes>"
      ]
     },
     "metadata": {
      "needs_background": "light"
     },
     "output_type": "display_data"
    }
   ],
   "source": [
    "Z = sch.linkage(mat_2, method = 'average')\n",
    "np.savetxt(\"Hierachica_clustering_result_cluster_4.txt\", Z, fmt = '%f', delimiter = ' ')\n",
    "P = sch.dendrogram(Z)\n"
   ]
  },
  {
   "cell_type": "code",
   "execution_count": 7,
   "metadata": {},
   "outputs": [
    {
     "data": {
      "text/plain": [
       "array([ 5,  5,  5,  5,  5,  5,  5,  5,  5,  5,  5,  5,  5,  5,  5,  5,  5,\n",
       "        5,  5,  5,  5,  5,  5, 15,  5,  5,  5,  5,  5,  8,  5,  5,  5,  5,\n",
       "        5,  5,  5,  5,  5,  5,  5,  5,  5,  5,  5, 16,  5,  5,  5,  5,  5,\n",
       "        5,  5,  5,  5,  5,  5,  5,  5,  5,  5,  5,  5,  5, 10,  5,  5,  5,\n",
       "        5,  5,  5,  5,  5,  5,  5,  5,  5,  5,  8,  5,  5,  5,  8,  5,  8,\n",
       "        9,  5,  5,  8,  5,  8,  5,  8,  5,  5,  5,  5,  5,  5,  5,  5,  5,\n",
       "        5,  5,  5,  5,  5,  5,  5,  5,  5,  5,  5,  5,  5,  5,  5,  5,  5,\n",
       "        5,  5,  5,  5,  5,  5,  5,  5,  5,  5,  5,  5,  1,  5,  6,  5,  5,\n",
       "        5,  5,  5,  5,  5,  5,  5,  5,  5,  5, 10,  5,  5,  5,  5,  5,  5,\n",
       "        5,  5,  5, 17,  5,  5,  5,  5,  5,  5,  5,  3,  3,  5,  5,  5,  8,\n",
       "        5,  5,  5,  5,  5,  5,  5,  5,  5,  5,  5,  5,  5,  5,  5,  5,  5,\n",
       "        5,  5,  5,  5,  5,  5,  8,  5,  5,  5,  5,  5,  5,  5,  5,  5,  5,\n",
       "        5,  5,  5,  5,  5,  5,  5,  5,  5,  5,  5,  5,  5,  5,  5,  5,  5,\n",
       "        5,  5,  5,  5, 11,  5,  5,  5,  5,  5,  5,  5,  5,  5,  5,  5,  5,\n",
       "        5,  5,  5,  5, 13,  5,  5,  5,  5,  5,  5,  5,  5,  5,  5,  5,  5,\n",
       "        5,  5,  5,  5,  5,  5,  5,  5,  4,  7,  2,  5,  5,  5,  5,  4, 12,\n",
       "        5,  5,  7, 10,  5,  5,  5,  5,  5,  5, 18, 14,  5,  5, 10,  5, 10],\n",
       "      dtype=int32)"
      ]
     },
     "execution_count": 7,
     "metadata": {},
     "output_type": "execute_result"
    }
   ],
   "source": [
    "f = fcluster(Z, t=20, criterion='distance')\n",
    "f"
   ]
  },
  {
   "cell_type": "code",
   "execution_count": 8,
   "metadata": {},
   "outputs": [],
   "source": [
    "cluster_1=[]\n",
    "cluster_2=[]\n",
    "cluster_3=[]\n",
    "cluster_3clpro=[]\n",
    "for i in range(len(f)):\n",
    "    if f[i]==5:\n",
    "        cluster_3clpro.append(cluster[i])\n",
    "    elif  f[i]==8:\n",
    "        cluster_1.append(cluster[i])\n",
    "    elif  f[i]==9:\n",
    "        cluster_2.append(cluster[i])\n",
    "    elif  f[i]==10:\n",
    "        cluster_3.append(cluster[i])\n",
    "    else:\n",
    "        pass"
   ]
  },
  {
   "cell_type": "code",
   "execution_count": 9,
   "metadata": {},
   "outputs": [],
   "source": [
    "# 8,10(6w81,non-covalent),5,9,18(complex Z285.....可能不是inhibitor)"
   ]
  },
  {
   "cell_type": "code",
   "execution_count": 10,
   "metadata": {},
   "outputs": [],
   "source": [
    "mat_3 = np.zeros((len(cluster_3clpro), len(cluster_3clpro)))\n",
    "for i in range(len(cluster_3clpro)):\n",
    "    x = cluster.index(cluster_3clpro[i])\n",
    "    for j in range(len(cluster_3clpro)):\n",
    "        y = cluster.index(cluster_3clpro[j])\n",
    "        mat_3[i][j] = mat_2[x][y]"
   ]
  },
  {
   "cell_type": "code",
   "execution_count": 11,
   "metadata": {},
   "outputs": [
    {
     "data": {
      "image/png": "[encoded data removed]",
      "text/plain": [
       "<Figure size 432x288 with 1 Axes>"
      ]
     },
     "metadata": {
      "needs_background": "light"
     },
     "output_type": "display_data"
    }
   ],
   "source": [
    "Z_2 = sch.linkage(mat_3,method='complete')\n",
    "P_2 = sch.dendrogram(Z_2)"
   ]
  },
  {
   "cell_type": "code",
   "execution_count": 12,
   "metadata": {},
   "outputs": [
    {
     "data": {
      "text/plain": [
       "array([3, 3, 3, 3, 3, 3, 3, 3, 3, 3, 3, 3, 3, 3, 3, 4, 4, 3, 3, 3, 3, 3,\n",
       "       3, 3, 3, 3, 3, 3, 3, 3, 3, 3, 3, 3, 3, 3, 3, 3, 3, 3, 3, 3, 3, 3,\n",
       "       3, 3, 3, 3, 3, 3, 3, 3, 3, 3, 3, 3, 3, 3, 3, 3, 3, 3, 3, 3, 3, 3,\n",
       "       3, 3, 3, 3, 3, 3, 3, 3, 3, 3, 3, 3, 3, 3, 3, 3, 3, 3, 3, 3, 4, 3,\n",
       "       4, 3, 4, 3, 3, 3, 3, 3, 3, 3, 3, 3, 3, 3, 3, 3, 3, 3, 3, 3, 3, 3,\n",
       "       3, 3, 3, 3, 3, 3, 3, 3, 3, 3, 1, 1, 3, 3, 3, 3, 3, 1, 3, 3, 3, 3,\n",
       "       3, 3, 3, 3, 3, 1, 3, 3, 3, 4, 3, 3, 3, 2, 1, 3, 3, 3, 4, 3, 3, 3,\n",
       "       3, 1, 3, 3, 3, 3, 3, 3, 4, 3, 3, 3, 3, 3, 3, 3, 3, 1, 3, 3, 3, 3,\n",
       "       4, 3, 1, 3, 3, 3, 3, 3, 4, 3, 3, 3, 3, 3, 4, 3, 3, 1, 1, 3, 3, 3,\n",
       "       3, 3, 3, 3, 3, 3, 3, 3, 3, 3, 3, 3, 4, 3, 3, 3, 3, 3, 3, 3, 3, 3,\n",
       "       3, 3, 3, 1, 3, 1, 3, 3, 3, 3, 3, 3, 3, 3, 3, 3, 3, 3, 3, 3, 3, 3,\n",
       "       3, 3, 3, 3, 3, 3, 3, 3, 3, 3, 4, 3, 3, 1, 3], dtype=int32)"
      ]
     },
     "execution_count": 12,
     "metadata": {},
     "output_type": "execute_result"
    }
   ],
   "source": [
    "f_2 = fcluster(Z_2, t=15, criterion='distance')\n",
    "f_2"
   ]
  },
  {
   "cell_type": "code",
   "execution_count": 39,
   "metadata": {},
   "outputs": [],
   "source": [
    "cluster_4=[]\n",
    "cluster_5=[]\n",
    "cluster_6=[]\n",
    "cluster_7=[]\n",
    "for i in range(len(f_2)):\n",
    "    if  f_2[i]==1:\n",
    "        cluster_4.append(cluster_3clpro[i])\n",
    "    elif  f_2[i]==2:\n",
    "        cluster_5.append(cluster_3clpro[i])\n",
    "    elif  f_2[i]==3:\n",
    "        cluster_6.append(cluster_3clpro[i])\n",
    "    elif  f_2[i]==4:\n",
    "        cluster_7.append(cluster_3clpro[i])\n",
    "    else:\n",
    "        pass"
   ]
  },
  {
   "cell_type": "code",
   "execution_count": 40,
   "metadata": {},
   "outputs": [
    {
     "name": "stdout",
     "output_type": "stream",
     "text": [
      "['7T4A', '7RVT', '7RVZ', '7RW1', '7S70', '7S72', '7S74', '7DPU', '7C8R']\n",
      "['7S6X']\n",
      "['6W81', '2AMP', '6L70', '5NH0', '6FV1']\n",
      "['8ACL', '7DPP', '7LMD', '7VTH', '7L8I', '7END', '7S4B', '7L10', '5RH2', '5RH3', '7TVS', '7DDC', '5N19']\n",
      "['7ENE']\n",
      "['7T3Y', '7T3Z', '7T41', '7LZU', '7LZY', '7LZZ', '7M00', '7M01', '7M03', '7TIU', '7TIV', '7TIW', '7TIX', '6M2N', '7LZV', '7VVT', '7TIA', '7TIY', '7TIZ', '7E18', '7E19', '7TJ0', '7T43', '7T44', '7T45', '7T46', '7T4B', '7TQ8', '8CZT', '8CZU', '8CZV', '6VGY', '6VGZ', '6VH0', '6VH1', '6VH3', '7LZW', '7TQ2', '7TQ4', '7TQ6', '8CZW', '8DGY', '7JKV', '6XMK', '6W2A', '7LKS', '7LKX', '7LKR', '7LKT', '7LKV', '7LTN', '7LTJ', '7YGQ', '7EO8', '7LYH', '7RFR', '7RFS', '7RFU', '7RFW', '8E63', '7KX5', '7XRY', '8E64', '8E65', '8E68', '8E69', '8F44', '7CA8', '7RVM', '7RVO', '7RVP', '7RVR', '7RVU', '7RVW', '7RVY', '7RW0', '7S6Y', '7S6Z', '7S71', '7S73', '7S75', '8DD1', '7TE0', '7TOB', '7MAW', '7MB0', '7MB2', '7MB3', '8DPR', '8F45', '7MAV', '8D4K', '8D4M', '8DD9', '8DGB', '8DOX', '7SD9', '7SDA', '8DDM', '6WTT', '7SDC', '7DGF', '7EN9', '7XRS', '6W63', '7DHJ', '2GX4', '7WYM', '7DGH', '7DGI', '7JSU', '7VH8', '7JT7', '7K0G', '7JW8', '7K0E', '7DPV', '7EN8', '7LME', '7WO2', '7LMF', '7K0F', '7CBT', '7L0D', '6XQS', '4TWW', '4TWY', '7FAZ', '4WY3', '7VU6', '5WKL', '2AMD', '7LB7', '5R84', '7WYP', '7JU7', '7C7P', '8E6E', '7D3I', '7N8C', '5C5N', '5C5O', '7M8M', '7M8N', '7M8O', '7M8P', '7M8X', '7M8Z', '7M91', '1WOF', '2D2D', '7L5D', '8E6B', '5RHE', '7S3K', '7S3S', '7TGR', '8E6C', '8E6D', '7C8T', '7VLQ', '7L11', '7L12', '7L13', '7L14', '7VLO', '4YLU', '5RGU', '5RGV', '5RGX', '5RGY', '5RH0', '5RH1', '7ZQV', '7TDU', '6XHM', '7N44', '7TEH', '7U28', '7U29', '8DZ6', '8DZ9', '8E1Y', '8A4T', '7TLL', '8DZ2', '8B2T', '5RL0', '7TVX', '7VLP', '6XHL', '6XHN', '6LNQ', '7B2J', '7B2U', '7O46', '7UJU', '7UJG', '8DCZ', '7SI9', '7UKK', '7RLS', '7RMB', '7RME', '7RMT', '7RMZ', '7RN4', '7RNH', '7RNK', '7RM2', '8E26', '7SF1', '7SF3', '7SFB', '7SFH', '7SFI', '7SGH', '2OP9', '8EYJ', '3TNS', '7SET', '7C8U', '7VIC', '8E25', '8E4R', '2ZU5', '7TEK', '7TEL', '2ALV', '5N5O']\n",
      "['7M02', '7M04', '7MAT', '7MAX', '7MB1', '4YOJ', '4YOI', '7M90', '7ZQW', '7VTC', '5RGZ', '5RL1', '2ZU4']\n"
     ]
    }
   ],
   "source": [
    "print(cluster_1)\n",
    "print(cluster_2)\n",
    "print(cluster_3)\n",
    "print(cluster_4)\n",
    "print(cluster_5)\n",
    "print(cluster_6)\n",
    "print(cluster_7)                            "
   ]
  },
  {
   "cell_type": "code",
   "execution_count": 41,
   "metadata": {},
   "outputs": [],
   "source": [
    "# 1:7l10,7end,7s4b(non-covalent)\n",
    "# 2:7ene(non-covalent)\n",
    "# 3:7l11,7l12......7l0d,7tvx,(non-covalent)\n",
    "# "
   ]
  },
  {
   "cell_type": "code",
   "execution_count": 57,
   "metadata": {},
   "outputs": [],
   "source": [
    "def cluster_chara (mat_i=mat_2,cluster_tot=cluster,cluster_i=cluster_1):\n",
    "    mat_chara = np.zeros((len(cluster_i), len(cluster_i)))\n",
    "    for i in cluster_i:\n",
    "        x = cluster_tot.index(i)\n",
    "        for j in cluster_i:\n",
    "            y = cluster_tot.index(j)\n",
    "            mat_chara[cluster_i.index(i)][cluster_i.index(j)] = mat_i[x][y]\n",
    "    np.sum(mat_chara,axis=1)\n",
    "    print(np.sum(mat_chara,axis=1))\n",
    "    # a = np.sum(mat_chara,axis=1).tolist().index(min(np.sum(mat_chara,axis=1)))\n",
    "    # print(cluster_i[a])"
   ]
  },
  {
   "cell_type": "code",
   "execution_count": 51,
   "metadata": {},
   "outputs": [
    {
     "name": "stdout",
     "output_type": "stream",
     "text": [
      "7RVT\n",
      "7S6X\n",
      "6W81\n",
      "7L10\n",
      "7ENE\n",
      "8E69\n",
      "7ZQW\n"
     ]
    }
   ],
   "source": [
    "cluster_chara(mat_2,cluster,cluster_1)\n",
    "cluster_chara(mat_2,cluster,cluster_2)\n",
    "cluster_chara(mat_2,cluster,cluster_3)\n",
    "cluster_chara(mat_3,cluster_3clpro,cluster_4)\n",
    "cluster_chara(mat_3,cluster_3clpro,cluster_5)\n",
    "cluster_chara(mat_3,cluster_3clpro,cluster_6)\n",
    "cluster_chara(mat_3,cluster_3clpro,cluster_7)\n",
    "\n"
   ]
  },
  {
   "cell_type": "code",
   "execution_count": 55,
   "metadata": {},
   "outputs": [
    {
     "data": {
      "text/plain": [
       "array([1.07918 , 1.021779, 1.243662, 1.274612, 1.128036, 1.744098,\n",
       "       1.053618, 2.182773, 1.982696, 1.231206, 1.141142, 1.210998,\n",
       "       1.222244, 1.144467, 1.860323, 3.81438 , 3.701422, 1.177202,\n",
       "       0.945408, 1.315696, 1.167727, 1.247701, 1.804544, 0.51184 ,\n",
       "       1.174928, 1.958139, 1.890426, 1.90809 , 2.111003, 3.496877,\n",
       "       4.961619, 1.467186, 1.10346 , 1.283346, 1.297477, 1.179776,\n",
       "       1.071572, 1.075891, 1.01489 , 1.027871, 2.10318 , 1.870481,\n",
       "       0.802719, 2.094375, 1.926298, 3.398057, 1.100998, 2.161707,\n",
       "       4.99477 , 2.078695, 2.02581 , 1.857664, 1.826176, 1.314036,\n",
       "       1.846368, 1.39193 , 1.133324, 2.293313, 2.818757, 1.082007,\n",
       "       1.163387, 1.905432, 1.819879, 1.105261, 1.342131, 1.293239,\n",
       "       1.610165, 1.092488, 4.700645, 1.022788, 2.490464, 1.215499,\n",
       "       1.928748, 1.298325, 4.18802 , 1.321513, 2.094429, 1.063031,\n",
       "       2.007703, 1.526034, 1.676798, 3.588295, 2.897462, 1.176546,\n",
       "       3.253563, 2.905046, 1.858581, 1.852446, 2.110951, 1.5417  ,\n",
       "       3.350698, 1.254885, 2.754472, 1.091452, 1.025337, 1.95007 ,\n",
       "       1.168309, 1.021949, 1.056496, 1.208154, 1.207055, 3.400353,\n",
       "       2.124848, 1.460613, 1.891084, 2.20505 , 1.458485, 0.993024,\n",
       "       1.063224, 1.125597, 1.402642, 1.185377, 1.754714, 4.449451,\n",
       "       1.016516, 1.491183, 2.000112, 1.190619, 1.539338, 1.29584 ,\n",
       "       4.005028, 1.296141, 1.161398, 2.130715, 1.947975, 1.078683,\n",
       "       1.121217, 1.090332, 1.153254, 1.16043 , 0.959515, 2.66063 ,\n",
       "       1.317829, 4.752714, 1.47266 , 1.887907, 1.4898  , 1.429255,\n",
       "       1.586066, 1.523364, 1.68799 , 1.628138, 4.530131, 1.859632,\n",
       "       1.536987, 1.056468, 1.409413, 2.144477, 1.148062, 1.642012,\n",
       "       0.942761, 1.138956, 1.260572, 1.264321, 1.256607, 1.869629,\n",
       "       4.756169, 1.075191, 1.337529, 2.158457, 0.      , 1.306453,\n",
       "       1.246589, 1.222767, 1.333076, 1.343983, 1.105476, 2.137383,\n",
       "       0.979303, 3.729985, 1.27385 , 1.4298  , 1.967149, 1.649193,\n",
       "       1.068096, 1.358042, 1.026376, 2.136997, 1.341601, 1.225805,\n",
       "       1.428425, 1.47936 , 1.145366, 1.503328, 1.259325, 0.      ,\n",
       "       1.631913, 1.654336, 1.630939, 1.585726, 1.174124, 1.094489,\n",
       "       1.142348, 2.259573, 2.191483, 1.759413, 1.055995, 1.213197,\n",
       "       2.157084, 2.741699, 1.305816, 1.01926 , 1.880504, 1.90963 ,\n",
       "       0.833487, 1.617373, 1.842394, 1.374717, 1.559597, 1.463161,\n",
       "       1.503836, 1.599229, 1.71548 , 1.733186, 1.379378, 1.924895,\n",
       "       1.9308  , 1.638763, 1.904408, 3.327202, 1.110056, 1.891577,\n",
       "       1.871105, 2.980615, 1.19527 , 1.643758, 2.904605, 1.08666 ,\n",
       "       0.992804, 4.570834, 3.695266, 1.223394, 1.847906, 1.294361,\n",
       "       1.066887, 1.152522, 1.155175, 1.777761, 2.008482, 1.873131,\n",
       "       2.779324, 1.317333, 5.603211, 1.753893, 1.757694, 1.921948,\n",
       "       2.000634, 1.53216 , 1.559608, 2.419745, 2.210666, 3.857366,\n",
       "       1.492293, 2.08255 , 4.037517, 1.564597, 1.083015, 0.943286,\n",
       "       1.837154, 1.894132, 3.818054, 1.918301, 1.155942, 0.      ,\n",
       "       3.44967 , 6.15344 , 1.249656, 0.918032, 1.179371, 3.314428,\n",
       "       0.      , 4.459279, 1.00515 , 0.863747, 3.790361, 1.532777,\n",
       "       2.027074, 1.986595, 1.070392, 1.481993, 1.685053, 1.409583,\n",
       "       5.949153, 2.598816, 1.235496, 1.551565, 1.601286, 0.979189,\n",
       "       1.291834])"
      ]
     },
     "execution_count": 55,
     "metadata": {},
     "output_type": "execute_result"
    }
   ],
   "source": [
    "cluster.index('7ENE')\n",
    "mat_2[160]"
   ]
  },
  {
   "cell_type": "code",
   "execution_count": 58,
   "metadata": {},
   "outputs": [
    {
     "name": "stdout",
     "output_type": "stream",
     "text": [
      "[16.934462 16.180412 15.657631 18.526307 16.422682 18.905748 18.672353\n",
      " 18.120921 14.654501 17.749146 16.948367 15.20154  16.29551 ]\n"
     ]
    }
   ],
   "source": [
    "cluster_chara(mat_3,cluster_3clpro,cluster_7)"
   ]
  },
  {
   "cell_type": "code",
   "execution_count": null,
   "metadata": {},
   "outputs": [],
   "source": []
  }
 ],
 "metadata": {
  "kernelspec": {
   "display_name": "shabi",
   "language": "python",
   "name": "python3"
  },
  "language_info": {
   "codemirror_mode": {
    "name": "ipython",
    "version": 3
   },
   "file_extension": ".py",
   "mimetype": "text/x-python",
   "name": "python",
   "nbconvert_exporter": "python",
   "pygments_lexer": "ipython3",
   "version": "3.7.16"
  },
  "orig_nbformat": 4
 },
 "nbformat": 4,
 "nbformat_minor": 2
}
