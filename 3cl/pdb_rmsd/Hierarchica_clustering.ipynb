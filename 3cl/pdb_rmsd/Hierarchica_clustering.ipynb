{
 "cells": [
  {
   "cell_type": "code",
   "execution_count": 1,
   "metadata": {},
   "outputs": [],
   "source": [
    "import scipy.cluster.hierarchy as sch\n",
    "import matplotlib.pyplot as plt\n",
    "import seaborn as sns\n",
    "sns.set_theme()\n",
    "import numpy as np\n",
    "import pandas as pd\n",
    "from scipy.cluster.hierarchy import fcluster,dendrogram,linkage\n",
    "import os"
   ]
  },
  {
   "cell_type": "code",
   "execution_count": 2,
   "metadata": {},
   "outputs": [],
   "source": [
    "with open ('rmsd_result.txt') as f:\n",
    "    rmsd = f.readlines()\n",
    "mat = np.zeros((len(rmsd), len(rmsd)))\n",
    "dist_map = []\n",
    "for i in rmsd:\n",
    "    odometry = i.split(',')\n",
    "    for j in odometry:\n",
    "        mat[rmsd.index(i)][odometry.index(j)] = j\n",
    "        dist_map.append(j)"
   ]
  },
  {
   "cell_type": "code",
   "execution_count": 45,
   "metadata": {},
   "outputs": [
    {
     "data": {
      "text/plain": [
       "array([4, 4, 4, 4, 4, 4, 4, 4, 4, 4, 4, 4, 4, 4, 4, 4, 4, 4, 4, 4, 4, 4,\n",
       "       4, 4, 4, 4, 4, 4, 4, 4, 4, 4, 4, 4, 4, 4, 4, 4, 4, 4, 4, 4, 4, 4,\n",
       "       4, 4, 4, 4, 4, 4, 4, 4, 4, 4, 4, 4, 4, 4, 4, 4, 4, 4, 4, 4, 4, 4,\n",
       "       4, 4, 4, 4, 4, 4, 4, 4, 4, 4, 4, 4, 4, 4, 4, 4, 4, 4, 4, 4, 4, 4,\n",
       "       4, 4, 4, 4, 4, 4, 4, 4, 4, 4, 4, 4, 4, 4, 4, 4, 4, 4, 4, 4, 4, 4,\n",
       "       4, 4, 4, 4, 4, 4, 4, 4, 4, 4, 4, 4, 4, 3, 3, 4, 4, 4, 4, 4, 4, 4,\n",
       "       4, 4, 4, 4, 4, 4, 4, 4, 4, 4, 4, 4, 4, 4, 4, 4, 4, 4, 4, 4, 4, 4,\n",
       "       4, 4, 4, 4, 4, 4, 4, 4, 4, 4, 4, 4, 4, 4, 1, 3, 4, 4, 4, 4, 4, 4,\n",
       "       4, 4, 4, 4, 4, 4, 4, 4, 4, 4, 4, 4, 3, 3, 4, 4, 4, 4, 4, 4, 4, 4,\n",
       "       4, 4, 4, 1, 4, 4, 4, 4, 4, 4, 4, 4, 4, 4, 4, 4, 4, 4, 4, 4, 4, 4,\n",
       "       4, 4, 4, 4, 4, 4, 4, 4, 4, 4, 4, 4, 4, 4, 4, 4, 4, 4, 4, 4, 4, 4,\n",
       "       4, 4, 4, 4, 4, 3, 4, 4, 3, 4, 4, 4, 4, 3, 4, 4, 4, 4, 4, 4, 4, 4,\n",
       "       4, 4, 4, 4, 4, 4, 4, 4, 4, 4, 4, 4, 4, 4, 4, 4, 4, 3, 1, 3, 3, 4,\n",
       "       4, 4, 2, 2, 4, 2, 2, 2, 2, 2, 2, 2, 2, 3, 2, 2, 3, 2, 2, 2, 2, 2,\n",
       "       2, 2, 2, 2, 2, 2, 2, 2, 2, 2, 2, 2, 2, 2, 2, 2, 2, 2, 2, 2, 2, 2,\n",
       "       2, 2, 2, 2, 2, 2, 2, 2, 2, 2, 2, 2, 2, 2, 2, 2, 2, 2, 2, 2, 2, 2,\n",
       "       2, 3, 2, 2, 2, 2, 2, 2, 2, 2, 2, 2, 2, 2, 2, 2, 2, 2, 2, 2, 2, 2,\n",
       "       2, 2, 2, 2, 3, 2, 2, 2, 2, 2, 2, 2, 2, 2, 2, 2, 2, 2, 4, 2, 2, 2,\n",
       "       2, 2, 2, 2, 2, 2, 2, 2, 2, 2, 2, 2, 2, 2, 2, 2, 2, 2, 2, 2, 2, 2,\n",
       "       2, 2, 5, 2, 2, 2, 2, 2, 2, 2, 2, 2, 2, 2, 2, 2, 3, 2, 2, 2, 2, 2,\n",
       "       2, 2, 2, 2, 2, 2, 2, 2, 2, 2, 2, 3, 2, 2, 2, 2, 2, 2, 2, 2, 2, 2,\n",
       "       2, 2, 2, 2, 4, 2, 2, 2, 2, 2, 2, 2, 2, 2, 2, 2, 2, 2, 2, 2, 2, 2,\n",
       "       2, 2, 2, 2, 2, 2, 2, 2, 2, 3, 2, 2, 2, 2, 2, 2, 2, 2, 2, 2, 2, 2,\n",
       "       2, 2, 2, 2, 2, 2, 2, 2, 2, 2, 2, 3, 2, 2, 2, 2, 2, 2, 2, 2, 2, 2,\n",
       "       2, 2, 2, 2, 2, 2, 2, 2, 2, 4, 2, 2, 2, 2, 2, 2, 2, 2, 2, 2, 2, 2,\n",
       "       2, 2, 2, 2, 2, 2, 3, 2, 2, 2, 2, 3, 3, 3, 3, 4, 4, 4, 4, 1, 4, 2,\n",
       "       4, 1, 2, 4, 4, 3, 4, 4, 4], dtype=int32)"
      ]
     },
     "execution_count": 45,
     "metadata": {},
     "output_type": "execute_result"
    }
   ],
   "source": [
    "Z = sch.linkage(mat, method='average')\n",
    "np.savetxt(\"Hierachica_clustering_result1.txt\", Z, fmt = '%f', delimiter = ' ')\n",
    "f = fcluster(Z, t=70, criterion='distance')\n",
    "f"
   ]
  },
  {
   "cell_type": "code",
   "execution_count": 34,
   "metadata": {},
   "outputs": [],
   "source": [
    "with open('../error_list/true_cavity_result_list.txt', 'r') as f:\n",
    "    text = f.read()\n",
    "pdb_ids = text.split(',')\n",
    "pdb_ids = pdb_ids[:-1]\n"
   ]
  },
  {
   "cell_type": "code",
   "execution_count": null,
   "metadata": {},
   "outputs": [],
   "source": [
    "cluster_1 = []\n",
    "cluster_2 = []\n",
    "cluster_3 = []\n",
    "cluster_4 = []\n",
    "ligand_cluster_1 = []\n",
    "ligand_cluster_2 = []\n",
    "ligand_cluster_3 = []\n",
    "ligand_cluster_4 = []\n",
    "for i in range(len(pdb_ids)):\n",
    "    pdb_id = pdb_ids[i]\n",
    "    os_listdir = os.listdir(f'../gett_pdb/{pdb_id}/{pdb_id}_mol2/ligand')\n",
    "    for j in os_listdir:\n",
    "        if j.endswith('.pdb'):\n",
    "            ligand_name = j[-7:-4]\n",
    "    if f[i] == 1:\n",
    "        cluster_1.append(pdb_ids[i])\n",
    "        if ligand_name not in ligand_cluster_1:\n",
    "            ligand_cluster_1.append(ligand_name)\n",
    "        elif ligand_name in ligand_cluster_1:\n",
    "            print(ligand_name+' 1')\n",
    "    elif f[i] == 2:\n",
    "        cluster_2.append(pdb_ids[i])\n",
    "        if ligand_name not in ligand_cluster_2:\n",
    "            ligand_cluster_2.append(ligand_name)\n",
    "        elif ligand_name in ligand_cluster_2:   \n",
    "            print(ligand_name+' 2')\n",
    "    elif f[i] == 3:  \n",
    "        cluster_3.append(pdb_ids[i])\n",
    "        if ligand_name not in ligand_cluster_3:\n",
    "            ligand_cluster_3.append(ligand_name)\n",
    "        elif ligand_name in ligand_cluster_3:\n",
    "            print(ligand_name+' 3')\n",
    "    elif f[i] == 4:\n",
    "        cluster_4.append(pdb_ids[i])\n",
    "        if ligand_name not in ligand_cluster_4:\n",
    "            ligand_cluster_4.append(ligand_name)\n",
    "        elif ligand_name in ligand_cluster_4:\n",
    "            print(ligand_name+' 4')\n",
    "    else:\n",
    "        continue"
   ]
  },
  {
   "cell_type": "code",
   "execution_count": null,
   "metadata": {},
   "outputs": [],
   "source": [
    "# YLM 4\n",
    "# QYS 4\n",
    "HUR 4  4次 苯并噻唑 抑制剂\n",
    "FNO 4 3次 SARS coronavirus 3CL protease inhibitor\n",
    "K36 4    18次 重复 GC376 \n",
    "4WI 4    20次重复 辉瑞 PF-00835231共价化合物\n",
    "# B1S 4\n",
    "# X77 4\n",
    "# TG3 4 3次\n",
    "# SV6 4 3次\n",
    "# J7R 4 3次\n",
    "# YD1 4\n",
    "# I12 4\n",
    "# UYQ 3\n",
    "# NOL 4\n",
    "# XNV 4\n",
    "# G65 4\n",
    "# V2M 4\n",
    "# AG7 4\n",
    "# XNJ 4\n",
    "# I70 4\n",
    "# 1SQ 2\n",
    "# AQO 2\n",
    "# SAH 3\n",
    "# QYJ 2\n",
    "# WWH 2\n",
    "# AR6 2 4次\n",
    "# SAM 3 4次\n",
    "# GTA 3\n",
    "# ZU3 4\n",
    "# GTP 1\n",
    "\n"
   ]
  },
  {
   "cell_type": "code",
   "execution_count": 58,
   "metadata": {},
   "outputs": [
    {
     "name": "stdout",
     "output_type": "stream",
     "text": [
      "5 261 25 289\n",
      "4 255 19 228\n"
     ]
    }
   ],
   "source": [
    "print(len(cluster_1), len(cluster_2), len(cluster_3), len(cluster_4))\n",
    "print(len(ligand_cluster_1), len(ligand_cluster_2), len(ligand_cluster_3), len(ligand_cluster_4))"
   ]
  },
  {
   "cell_type": "code",
   "execution_count": 59,
   "metadata": {},
   "outputs": [
    {
     "name": "stdout",
     "output_type": "stream",
     "text": [
      "HBD\n",
      "G7L\n",
      "5LH\n",
      "HBD\n",
      "G7L\n",
      "5LH\n"
     ]
    }
   ],
   "source": [
    "for i in ligand_cluster_1:\n",
    "    if i in ligand_cluster_2 or i in ligand_cluster_3 or i in ligand_cluster_4:\n",
    "        print(i)\n",
    "for i in ligand_cluster_2:\n",
    "    if i in ligand_cluster_1 or i in ligand_cluster_3 or i in ligand_cluster_4:\n",
    "        print(i)\n",
    "for i in ligand_cluster_3:\n",
    "    if i in ligand_cluster_1 or i in ligand_cluster_2 or i in ligand_cluster_4:\n",
    "        print(i)\n",
    "for i in ligand_cluster_4:\n",
    "    if i in ligand_cluster_1 or i in ligand_cluster_2 or i in ligand_cluster_3:\n",
    "        print(i)"
   ]
  },
  {
   "cell_type": "code",
   "execution_count": 41,
   "metadata": {},
   "outputs": [],
   "source": [
    "with open('./cluster_1.csv', 'w') as f:\n",
    "    for i in cluster_1:\n",
    "        f.write(i+' ')\n",
    "with open('./cluster_2.csv', 'w') as f:\n",
    "    for i in cluster_2:\n",
    "        f.write(i+' ')\n",
    "with open('./cluster_3.csv', 'w') as f:\n",
    "    for i in cluster_3:\n",
    "        f.write(i+' ')\n",
    "with open('./cluster_4.csv', 'w') as f:\n",
    "    for i in cluster_4:\n",
    "        f.write(i+' ')"
   ]
  },
  {
   "cell_type": "code",
   "execution_count": 43,
   "metadata": {},
   "outputs": [
    {
     "name": "stdout",
     "output_type": "stream",
     "text": [
      "5 261 25 289\n"
     ]
    }
   ],
   "source": [
    "print(len(cluster_1), len(cluster_2), len(cluster_3), len(cluster_4))"
   ]
  },
  {
   "cell_type": "code",
   "execution_count": 4,
   "metadata": {},
   "outputs": [
    {
     "data": {
      "image/png": "[encoded data removed]",
      "text/plain": [
       "<Figure size 432x288 with 1 Axes>"
      ]
     },
     "metadata": {
      "needs_background": "light"
     },
     "output_type": "display_data"
    }
   ],
   "source": [
    "P = sch.dendrogram(Z)"
   ]
  }
 ],
 "metadata": {
  "kernelspec": {
   "display_name": "shabi",
   "language": "python",
   "name": "python3"
  },
  "language_info": {
   "codemirror_mode": {
    "name": "ipython",
    "version": 3
   },
   "file_extension": ".py",
   "mimetype": "text/x-python",
   "name": "python",
   "nbconvert_exporter": "python",
   "pygments_lexer": "ipython3",
   "version": "3.7.16"
  },
  "orig_nbformat": 4
 },
 "nbformat": 4,
 "nbformat_minor": 2
}
