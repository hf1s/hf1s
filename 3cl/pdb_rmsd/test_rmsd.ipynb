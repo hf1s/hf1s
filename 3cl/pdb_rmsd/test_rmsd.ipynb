{
 "cells": [
  {
   "cell_type": "code",
   "execution_count": 2,
   "metadata": {},
   "outputs": [],
   "source": [
    "import pymol\n",
    "from tqdm import tqdm\n",
    "import json\n",
    "import os\n",
    "import numpy as np\n"
   ]
  },
  {
   "cell_type": "code",
   "execution_count": 3,
   "metadata": {},
   "outputs": [],
   "source": [
    "with open('../error_list/true_cavity_result_list.txt', 'r') as f:\n",
    "    text = f.read()\n",
    "pdb_ids = text.split(',')\n",
    "pdb_ids = pdb_ids[:-1]\n",
    "# 最后一位有神秘空白"
   ]
  },
  {
   "cell_type": "code",
   "execution_count": 4,
   "metadata": {},
   "outputs": [
    {
     "name": "stderr",
     "output_type": "stream",
     "text": [
      " 13%|█▎        | 78/581 [00:00<00:01, 407.23it/s]"
     ]
    },
    {
     "name": "stdout",
     "output_type": "stream",
     "text": [
      " PyMOL not running, entering library mode (experimental)\n"
     ]
    },
    {
     "name": "stderr",
     "output_type": "stream",
     "text": [
      "100%|██████████| 581/581 [00:02<00:00, 201.89it/s]\n"
     ]
    }
   ],
   "source": [
    "for i in tqdm(pdb_ids):\n",
    "    path=os.listdir(f'../gett_pdb/{i}/{i}_result/')\n",
    "    for j in path:\n",
    "        if j[-12:-6]=='cavity':\n",
    "            pymol.cmd.load(f'../gett_pdb/{i}/{i}_result/{j}')"
   ]
  },
  {
   "cell_type": "code",
   "execution_count": 5,
   "metadata": {},
   "outputs": [],
   "source": [
    "a = pymol.cmd.get_object_list()"
   ]
  },
  {
   "cell_type": "code",
   "execution_count": 5,
   "metadata": {},
   "outputs": [],
   "source": [
    "mat = np.zeros((len(a), len(a)))\n",
    "data_stati = []"
   ]
  },
  {
   "cell_type": "code",
   "execution_count": 6,
   "metadata": {},
   "outputs": [
    {
     "name": "stderr",
     "output_type": "stream",
     "text": [
      " 25%|██▍       | 144/581 [06:52<36:29,  5.01s/it]"
     ]
    },
    {
     "name": "stdout",
     "output_type": "stream",
     "text": [
      " Matrix: Warning: no convergence (0.00000010<283.60238647 after 1000 iterations).\n"
     ]
    },
    {
     "name": "stderr",
     "output_type": "stream",
     "text": [
      " 33%|███▎      | 189/581 [11:19<40:42,  6.23s/it]"
     ]
    },
    {
     "name": "stdout",
     "output_type": "stream",
     "text": [
      " Matrix: Warning: no convergence (0.00000010<1387.66491699 after 1000 iterations).\n"
     ]
    },
    {
     "name": "stderr",
     "output_type": "stream",
     "text": [
      " 41%|████▏     | 240/581 [17:40<46:05,  8.11s/it]"
     ]
    },
    {
     "name": "stdout",
     "output_type": "stream",
     "text": [
      " Matrix: Warning: no convergence (0.00000010<285.63583374 after 1000 iterations).\n"
     ]
    },
    {
     "name": "stderr",
     "output_type": "stream",
     "text": [
      " 44%|████▍     | 255/581 [19:49<48:20,  8.90s/it]"
     ]
    },
    {
     "name": "stdout",
     "output_type": "stream",
     "text": [
      " Matrix: Warning: no convergence (0.00000010<187.12251282 after 1000 iterations).\n",
      " Matrix: Warning: no convergence (0.00000010<466.66537476 after 1000 iterations).\n",
      " Matrix: Warning: no convergence (0.00000010<252.23049927 after 1000 iterations).\n"
     ]
    },
    {
     "name": "stderr",
     "output_type": "stream",
     "text": [
      " 47%|████▋     | 274/581 [22:39<46:08,  9.02s/it]"
     ]
    },
    {
     "name": "stdout",
     "output_type": "stream",
     "text": [
      " Matrix: Warning: no convergence (0.00000010<193.19055176 after 1000 iterations).\n",
      " Matrix: Warning: no convergence (0.00000010<75.43576813 after 1000 iterations).\n"
     ]
    },
    {
     "name": "stderr",
     "output_type": "stream",
     "text": [
      " 49%|████▉     | 284/581 [24:21<51:24, 10.38s/it]"
     ]
    },
    {
     "name": "stdout",
     "output_type": "stream",
     "text": [
      " Matrix: Warning: no convergence (0.00000010<3112.48266602 after 1000 iterations).\n"
     ]
    },
    {
     "name": "stderr",
     "output_type": "stream",
     "text": [
      " 49%|████▉     | 287/581 [24:53<52:17, 10.67s/it]"
     ]
    },
    {
     "name": "stdout",
     "output_type": "stream",
     "text": [
      " Matrix: Warning: no convergence (0.00000010<50.42025757 after 1000 iterations).\n"
     ]
    },
    {
     "name": "stderr",
     "output_type": "stream",
     "text": [
      " 50%|████▉     | 289/581 [25:14<51:27, 10.57s/it]"
     ]
    },
    {
     "name": "stdout",
     "output_type": "stream",
     "text": [
      " Matrix: Warning: no convergence (0.00000010<66.06070709 after 1000 iterations).\n"
     ]
    },
    {
     "name": "stderr",
     "output_type": "stream",
     "text": [
      " 51%|█████     | 294/581 [26:12<54:43, 11.44s/it]"
     ]
    },
    {
     "name": "stdout",
     "output_type": "stream",
     "text": [
      " Matrix: Warning: no convergence (0.00000010<251.43748474 after 1000 iterations).\n"
     ]
    },
    {
     "name": "stderr",
     "output_type": "stream",
     "text": [
      " 51%|█████     | 295/581 [26:22<52:36, 11.04s/it]"
     ]
    },
    {
     "name": "stdout",
     "output_type": "stream",
     "text": [
      " Matrix: Warning: no convergence (0.00000010<365.97558594 after 1000 iterations).\n"
     ]
    },
    {
     "name": "stderr",
     "output_type": "stream",
     "text": [
      " 51%|█████     | 296/581 [26:33<53:28, 11.26s/it]"
     ]
    },
    {
     "name": "stdout",
     "output_type": "stream",
     "text": [
      " Matrix: Warning: no convergence (0.00000010<16.16931915 after 1000 iterations).\n",
      " Matrix: Warning: no convergence (0.00000010<2.98073912 after 1000 iterations).\n",
      " Matrix: Warning: no convergence (0.00000010<2.12255812 after 1000 iterations).\n",
      " Matrix: Warning: no convergence (0.00000010<2.02103424 after 1000 iterations).\n",
      " Matrix: Warning: no convergence (0.00000010<15.00464630 after 1000 iterations).\n",
      " Matrix: Warning: no convergence (0.00000010<5.94300270 after 1000 iterations).\n",
      " Matrix: Warning: no convergence (0.00000010<5.97797298 after 1000 iterations).\n",
      " Matrix: Warning: no convergence (0.00000010<5.98907280 after 1000 iterations).\n",
      " Matrix: Warning: no convergence (0.00000010<11.52162075 after 1000 iterations).\n",
      " Matrix: Warning: no convergence (0.00000010<8.78492546 after 1000 iterations).\n",
      " Matrix: Warning: no convergence (0.00000010<23.17435265 after 1000 iterations).\n",
      " Matrix: Warning: no convergence (0.00000010<10.01379204 after 1000 iterations).\n",
      " Matrix: Warning: no convergence (0.00000010<31.73907661 after 1000 iterations).\n",
      " Matrix: Warning: no convergence (0.00000010<9.68237495 after 1000 iterations).\n",
      " Matrix: Warning: no convergence (0.00000010<8.73096752 after 1000 iterations).\n",
      " Matrix: Warning: no convergence (0.00000010<10.16349792 after 1000 iterations).\n",
      " Matrix: Warning: no convergence (0.00000010<9.31957626 after 1000 iterations).\n",
      " Matrix: Warning: no convergence (0.00000010<10.03940296 after 1000 iterations).\n",
      " Matrix: Warning: no convergence (0.00000010<16.42114830 after 1000 iterations).\n",
      " Matrix: Warning: no convergence (0.00000010<18.19921112 after 1000 iterations).\n",
      " Matrix: Warning: no convergence (0.00000010<10.12186813 after 1000 iterations).\n",
      " Matrix: Warning: no convergence (0.00000010<18.26594543 after 1000 iterations).\n",
      " Matrix: Warning: no convergence (0.00000010<10.93744183 after 1000 iterations).\n",
      " Matrix: Warning: no convergence (0.00000010<17.01294327 after 1000 iterations).\n",
      " Matrix: Warning: no convergence (0.00000010<16.16122246 after 1000 iterations).\n",
      " Matrix: Warning: no convergence (0.00000010<16.94470406 after 1000 iterations).\n",
      " Matrix: Warning: no convergence (0.00000010<32.25946426 after 1000 iterations).\n",
      " Matrix: Warning: no convergence (0.00000010<34.25986862 after 1000 iterations).\n",
      " Matrix: Warning: no convergence (0.00000010<37.93942261 after 1000 iterations).\n",
      " Matrix: Warning: no convergence (0.00000010<10.36202240 after 1000 iterations).\n",
      " Matrix: Warning: no convergence (0.00000010<40.75054169 after 1000 iterations).\n",
      " Matrix: Warning: no convergence (0.00000010<40.42939758 after 1000 iterations).\n",
      " Matrix: Warning: no convergence (0.00000010<40.93231201 after 1000 iterations).\n",
      " Matrix: Warning: no convergence (0.00000010<40.64284515 after 1000 iterations).\n",
      " Matrix: Warning: no convergence (0.00000010<20.65491104 after 1000 iterations).\n",
      " Matrix: Warning: no convergence (0.00000010<39.31478500 after 1000 iterations).\n",
      " Matrix: Warning: no convergence (0.00000010<39.80052948 after 1000 iterations).\n",
      " Matrix: Warning: no convergence (0.00000010<41.20137787 after 1000 iterations).\n",
      " Matrix: Warning: no convergence (0.00000010<10.82190895 after 1000 iterations).\n",
      " Matrix: Warning: no convergence (0.00000010<40.68492508 after 1000 iterations).\n",
      " Matrix: Warning: no convergence (0.00000010<38.93534851 after 1000 iterations).\n",
      " Matrix: Warning: no convergence (0.00000010<32.33951187 after 1000 iterations).\n",
      " Matrix: Warning: no convergence (0.00000010<33.45992279 after 1000 iterations).\n",
      " Matrix: Warning: no convergence (0.00000010<29.05001068 after 1000 iterations).\n",
      " Matrix: Warning: no convergence (0.00000010<41.31039810 after 1000 iterations).\n",
      " Matrix: Warning: no convergence (0.00000010<37.99301529 after 1000 iterations).\n",
      " Matrix: Warning: no convergence (0.00000010<38.19887161 after 1000 iterations).\n",
      " Matrix: Warning: no convergence (0.00000010<41.19524765 after 1000 iterations).\n",
      " Matrix: Warning: no convergence (0.00000010<40.68810654 after 1000 iterations).\n",
      " Matrix: Warning: no convergence (0.00000010<40.78425598 after 1000 iterations).\n",
      " Matrix: Warning: no convergence (0.00000010<38.12558365 after 1000 iterations).\n",
      " Matrix: Warning: no convergence (0.00000010<40.90433121 after 1000 iterations).\n",
      " Matrix: Warning: no convergence (0.00000010<11.18041420 after 1000 iterations).\n",
      " Matrix: Warning: no convergence (0.00000010<40.89244843 after 1000 iterations).\n",
      " Matrix: Warning: no convergence (0.00000010<40.64446259 after 1000 iterations).\n",
      " Matrix: Warning: no convergence (0.00000010<3.76638031 after 1000 iterations).\n",
      " Matrix: Warning: no convergence (0.00000010<38.12390137 after 1000 iterations).\n",
      " Matrix: Warning: no convergence (0.00000010<1.22745359 after 1000 iterations).\n",
      " Matrix: Warning: no convergence (0.00000010<0.89452976 after 1000 iterations).\n",
      " Matrix: Warning: no convergence (0.00000010<1.21275377 after 1000 iterations).\n",
      " Matrix: Warning: no convergence (0.00000010<2.18579149 after 1000 iterations).\n",
      " Matrix: Warning: no convergence (0.00000010<39.79001236 after 1000 iterations).\n",
      " Matrix: Warning: no convergence (0.00000010<1.30622447 after 1000 iterations).\n",
      " Matrix: Warning: no convergence (0.00000010<1.88344300 after 1000 iterations).\n",
      " Matrix: Warning: no convergence (0.00000010<4.37978172 after 1000 iterations).\n",
      " Matrix: Warning: no convergence (0.00000010<9.66359234 after 1000 iterations).\n",
      " Matrix: Warning: no convergence (0.00000010<8.35944653 after 1000 iterations).\n",
      " Matrix: Warning: no convergence (0.00000010<0.80546731 after 1000 iterations).\n",
      " Matrix: Warning: no convergence (0.00000010<12.98623276 after 1000 iterations).\n",
      " Matrix: Warning: no convergence (0.00000010<2.86574841 after 1000 iterations).\n",
      " Matrix: Warning: no convergence (0.00000010<24.81024170 after 1000 iterations).\n",
      " Matrix: Warning: no convergence (0.00000010<39.58773422 after 1000 iterations).\n",
      " Matrix: Warning: no convergence (0.00000010<19.22295189 after 1000 iterations).\n",
      " Matrix: Warning: no convergence (0.00000010<26.85408592 after 1000 iterations).\n",
      " Matrix: Warning: no convergence (0.00000010<31.91151237 after 1000 iterations).\n",
      " Matrix: Warning: no convergence (0.00000010<19.33727455 after 1000 iterations).\n",
      " Matrix: Warning: no convergence (0.00000010<33.45282745 after 1000 iterations).\n",
      " Matrix: Warning: no convergence (0.00000010<16.86625290 after 1000 iterations).\n"
     ]
    },
    {
     "name": "stderr",
     "output_type": "stream",
     "text": [
      " 52%|█████▏    | 300/581 [27:16<50:12, 10.72s/it]"
     ]
    },
    {
     "name": "stdout",
     "output_type": "stream",
     "text": [
      " Matrix: Warning: no convergence (0.00000010<250.93518066 after 1000 iterations).\n"
     ]
    },
    {
     "name": "stderr",
     "output_type": "stream",
     "text": [
      " 52%|█████▏    | 301/581 [27:28<51:54, 11.12s/it]"
     ]
    },
    {
     "name": "stdout",
     "output_type": "stream",
     "text": [
      " Matrix: Warning: no convergence (0.00000010<553.02593994 after 1000 iterations).\n"
     ]
    },
    {
     "name": "stderr",
     "output_type": "stream",
     "text": [
      " 52%|█████▏    | 303/581 [27:49<49:59, 10.79s/it]"
     ]
    },
    {
     "name": "stdout",
     "output_type": "stream",
     "text": [
      " Matrix: Warning: no convergence (0.00000010<233.83671570 after 1000 iterations).\n"
     ]
    },
    {
     "name": "stderr",
     "output_type": "stream",
     "text": [
      " 53%|█████▎    | 309/581 [28:51<46:56, 10.36s/it]"
     ]
    },
    {
     "name": "stdout",
     "output_type": "stream",
     "text": [
      " Matrix: Warning: no convergence (0.00000010<744.47943115 after 1000 iterations).\n",
      " Matrix: Warning: no convergence (0.00000010<2.97455764 after 1000 iterations).\n",
      " Matrix: Warning: no convergence (0.00000010<31.43954468 after 1000 iterations).\n",
      " Matrix: Warning: no convergence (0.00000010<18.58528328 after 1000 iterations).\n",
      " Matrix: Warning: no convergence (0.00000010<4.22871113 after 1000 iterations).\n",
      " Matrix: Warning: no convergence (0.00000010<3.23807168 after 1000 iterations).\n",
      " Matrix: Warning: no convergence (0.00000010<3.43119550 after 1000 iterations).\n",
      " Matrix: Warning: no convergence (0.00000010<19.16651726 after 1000 iterations).\n",
      " Matrix: Warning: no convergence (0.00000010<724.46063232 after 1000 iterations).\n",
      " Matrix: Warning: no convergence (0.00000010<236.50517273 after 1000 iterations).\n",
      " Matrix: Warning: no convergence (0.00000010<11.46381187 after 1000 iterations).\n",
      " Matrix: Warning: no convergence (0.00000010<16.42969894 after 1000 iterations).\n",
      " Matrix: Warning: no convergence (0.00000010<41.50431061 after 1000 iterations).\n",
      " Matrix: Warning: no convergence (0.00000010<9.98469257 after 1000 iterations).\n",
      " Matrix: Warning: no convergence (0.00000010<34.40076828 after 1000 iterations).\n",
      " Matrix: Warning: no convergence (0.00000010<31.89308167 after 1000 iterations).\n",
      " Matrix: Warning: no convergence (0.00000010<3.41175842 after 1000 iterations).\n",
      " Matrix: Warning: no convergence (0.00000010<10.18032551 after 1000 iterations).\n",
      " Matrix: Warning: no convergence (0.00000010<9.29490185 after 1000 iterations).\n",
      " Matrix: Warning: no convergence (0.00000010<10.01353741 after 1000 iterations).\n",
      " Matrix: Warning: no convergence (0.00000010<1.38169003 after 1000 iterations).\n",
      " Matrix: Warning: no convergence (0.00000010<10.06174850 after 1000 iterations).\n",
      " Matrix: Warning: no convergence (0.00000010<4.62764454 after 1000 iterations).\n",
      " Matrix: Warning: no convergence (0.00000010<13.21307182 after 1000 iterations).\n",
      " Matrix: Warning: no convergence (0.00000010<41.36884308 after 1000 iterations).\n",
      " Matrix: Warning: no convergence (0.00000010<40.72420120 after 1000 iterations).\n",
      " Matrix: Warning: no convergence (0.00000010<40.37029266 after 1000 iterations).\n",
      " Matrix: Warning: no convergence (0.00000010<19.39891434 after 1000 iterations).\n",
      " Matrix: Warning: no convergence (0.00000010<21.37793350 after 1000 iterations).\n",
      " Matrix: Warning: no convergence (0.00000010<7.40182209 after 1000 iterations).\n",
      " Matrix: Warning: no convergence (0.00000010<40.49305725 after 1000 iterations).\n",
      " Matrix: Warning: no convergence (0.00000010<15.11670113 after 1000 iterations).\n",
      " Matrix: Warning: no convergence (0.00000010<38.17176819 after 1000 iterations).\n",
      " Matrix: Warning: no convergence (0.00000010<41.18301010 after 1000 iterations).\n",
      " Matrix: Warning: no convergence (0.00000010<40.33535004 after 1000 iterations).\n",
      " Matrix: Warning: no convergence (0.00000010<37.85383224 after 1000 iterations).\n",
      " Matrix: Warning: no convergence (0.00000010<619.14575195 after 1000 iterations).\n",
      " Matrix: Warning: no convergence (0.00000010<19.72135162 after 1000 iterations).\n",
      " Matrix: Warning: no convergence (0.00000010<408.65625000 after 1000 iterations).\n",
      " Matrix: Warning: no convergence (0.00000010<41.14937973 after 1000 iterations).\n",
      " Matrix: Warning: no convergence (0.00000010<41.14664078 after 1000 iterations).\n",
      " Matrix: Warning: no convergence (0.00000010<15.20295525 after 1000 iterations).\n",
      " Matrix: Warning: no convergence (0.00000010<35.95511627 after 1000 iterations).\n",
      " Matrix: Warning: no convergence (0.00000010<2.93879700 after 1000 iterations).\n",
      " Matrix: Warning: no convergence (0.00000010<5.20116663 after 1000 iterations).\n",
      " Matrix: Warning: no convergence (0.00000010<1.60187232 after 1000 iterations).\n",
      " Matrix: Warning: no convergence (0.00000010<17.16632271 after 1000 iterations).\n",
      " Matrix: Warning: no convergence (0.00000010<40.26059723 after 1000 iterations).\n",
      " Matrix: Warning: no convergence (0.00000010<41.21998215 after 1000 iterations).\n",
      " Matrix: Warning: no convergence (0.00000010<33.99318695 after 1000 iterations).\n",
      " Matrix: Warning: no convergence (0.00000010<19.53522491 after 1000 iterations).\n",
      " Matrix: Warning: no convergence (0.00000010<16.86024094 after 1000 iterations).\n"
     ]
    },
    {
     "name": "stderr",
     "output_type": "stream",
     "text": [
      " 54%|█████▍    | 316/581 [30:07<47:04, 10.66s/it]"
     ]
    },
    {
     "name": "stdout",
     "output_type": "stream",
     "text": [
      " Matrix: Warning: no convergence (0.00000010<1881.78100586 after 1000 iterations).\n",
      " Matrix: Warning: no convergence (0.00000010<1301.27258301 after 1000 iterations).\n",
      " Matrix: Warning: no convergence (0.00000010<28.84305000 after 1000 iterations).\n"
     ]
    },
    {
     "name": "stderr",
     "output_type": "stream",
     "text": [
      " 55%|█████▍    | 318/581 [30:27<44:52, 10.24s/it]"
     ]
    },
    {
     "name": "stdout",
     "output_type": "stream",
     "text": [
      " Matrix: Warning: no convergence (0.00000010<32.00927353 after 1000 iterations).\n",
      " Matrix: Warning: no convergence (0.00000010<2.97763467 after 1000 iterations).\n",
      " Matrix: Warning: no convergence (0.00000010<2.12196231 after 1000 iterations).\n",
      " Matrix: Warning: no convergence (0.00000010<2.02027178 after 1000 iterations).\n",
      " Matrix: Warning: no convergence (0.00000010<6.25078201 after 1000 iterations).\n",
      " Matrix: Warning: no convergence (0.00000010<3.09081912 after 1000 iterations).\n",
      " Matrix: Warning: no convergence (0.00000010<34.89465714 after 1000 iterations).\n",
      " Matrix: Warning: no convergence (0.00000010<3.43551946 after 1000 iterations).\n",
      " Matrix: Warning: no convergence (0.00000010<5.97229242 after 1000 iterations).\n",
      " Matrix: Warning: no convergence (0.00000010<5.99974966 after 1000 iterations).\n",
      " Matrix: Warning: no convergence (0.00000010<6.01317120 after 1000 iterations).\n",
      " Matrix: Warning: no convergence (0.00000010<11.39447308 after 1000 iterations).\n",
      " Matrix: Warning: no convergence (0.00000010<17.19666481 after 1000 iterations).\n",
      " Matrix: Warning: no convergence (0.00000010<41.07201385 after 1000 iterations).\n",
      " Matrix: Warning: no convergence (0.00000010<9.91227627 after 1000 iterations).\n",
      " Matrix: Warning: no convergence (0.00000010<34.48386765 after 1000 iterations).\n",
      " Matrix: Warning: no convergence (0.00000010<4.61696625 after 1000 iterations).\n",
      " Matrix: Warning: no convergence (0.00000010<9.65095520 after 1000 iterations).\n",
      " Matrix: Warning: no convergence (0.00000010<10.75299644 after 1000 iterations).\n",
      " Matrix: Warning: no convergence (0.00000010<15.51970863 after 1000 iterations).\n",
      " Matrix: Warning: no convergence (0.00000010<10.12810135 after 1000 iterations).\n",
      " Matrix: Warning: no convergence (0.00000010<9.18842316 after 1000 iterations).\n",
      " Matrix: Warning: no convergence (0.00000010<9.22269154 after 1000 iterations).\n",
      " Matrix: Warning: no convergence (0.00000010<9.94093609 after 1000 iterations).\n",
      " Matrix: Warning: no convergence (0.00000010<16.44237900 after 1000 iterations).\n",
      " Matrix: Warning: no convergence (0.00000010<18.20595360 after 1000 iterations).\n",
      " Matrix: Warning: no convergence (0.00000010<9.98789597 after 1000 iterations).\n",
      " Matrix: Warning: no convergence (0.00000010<39.64730072 after 1000 iterations).\n",
      " Matrix: Warning: no convergence (0.00000010<16.19416809 after 1000 iterations).\n",
      " Matrix: Warning: no convergence (0.00000010<16.95713997 after 1000 iterations).\n",
      " Matrix: Warning: no convergence (0.00000010<16.51345444 after 1000 iterations).\n",
      " Matrix: Warning: no convergence (0.00000010<16.01657677 after 1000 iterations).\n",
      " Matrix: Warning: no convergence (0.00000010<41.04677963 after 1000 iterations).\n",
      " Matrix: Warning: no convergence (0.00000010<13.13629627 after 1000 iterations).\n",
      " Matrix: Warning: no convergence (0.00000010<41.02981567 after 1000 iterations).\n",
      " Matrix: Warning: no convergence (0.00000010<10.24687290 after 1000 iterations).\n",
      " Matrix: Warning: no convergence (0.00000010<40.76364517 after 1000 iterations).\n",
      " Matrix: Warning: no convergence (0.00000010<40.44093704 after 1000 iterations).\n",
      " Matrix: Warning: no convergence (0.00000010<40.93669891 after 1000 iterations).\n",
      " Matrix: Warning: no convergence (0.00000010<40.65086746 after 1000 iterations).\n",
      " Matrix: Warning: no convergence (0.00000010<41.06964874 after 1000 iterations).\n",
      " Matrix: Warning: no convergence (0.00000010<32.92962646 after 1000 iterations).\n",
      " Matrix: Warning: no convergence (0.00000010<17.03846359 after 1000 iterations).\n",
      " Matrix: Warning: no convergence (0.00000010<9.95458603 after 1000 iterations).\n",
      " Matrix: Warning: no convergence (0.00000010<31.07963943 after 1000 iterations).\n",
      " Matrix: Warning: no convergence (0.00000010<39.65665817 after 1000 iterations).\n",
      " Matrix: Warning: no convergence (0.00000010<24.09119987 after 1000 iterations).\n",
      " Matrix: Warning: no convergence (0.00000010<38.21240997 after 1000 iterations).\n",
      " Matrix: Warning: no convergence (0.00000010<41.21910858 after 1000 iterations).\n",
      " Matrix: Warning: no convergence (0.00000010<40.70650101 after 1000 iterations).\n",
      " Matrix: Warning: no convergence (0.00000010<37.96261597 after 1000 iterations).\n",
      " Matrix: Warning: no convergence (0.00000010<37.90916061 after 1000 iterations).\n",
      " Matrix: Warning: no convergence (0.00000010<19.38739777 after 1000 iterations).\n",
      " Matrix: Warning: no convergence (0.00000010<3.84014082 after 1000 iterations).\n",
      " Matrix: Warning: no convergence (0.00000010<4.49025965 after 1000 iterations).\n",
      " Matrix: Warning: no convergence (0.00000010<29.90658569 after 1000 iterations).\n",
      " Matrix: Warning: no convergence (0.00000010<8.87176514 after 1000 iterations).\n",
      " Matrix: Warning: no convergence (0.00000010<13.31720734 after 1000 iterations).\n",
      " Matrix: Warning: no convergence (0.00000010<35.47353745 after 1000 iterations).\n",
      " Matrix: Warning: no convergence (0.00000010<39.67864227 after 1000 iterations).\n",
      " Matrix: Warning: no convergence (0.00000010<17.08288002 after 1000 iterations).\n",
      " Matrix: Warning: no convergence (0.00000010<17.79567528 after 1000 iterations).\n",
      " Matrix: Warning: no convergence (0.00000010<27.25433540 after 1000 iterations).\n",
      " Matrix: Warning: no convergence (0.00000010<35.37820816 after 1000 iterations).\n",
      " Matrix: Warning: no convergence (0.00000010<33.79301834 after 1000 iterations).\n",
      " Matrix: Warning: no convergence (0.00000010<19.58173370 after 1000 iterations).\n"
     ]
    },
    {
     "name": "stderr",
     "output_type": "stream",
     "text": [
      " 55%|█████▍    | 319/581 [30:37<44:13, 10.13s/it]"
     ]
    },
    {
     "name": "stdout",
     "output_type": "stream",
     "text": [
      " Matrix: Warning: no convergence (0.00000010<795.82794189 after 1000 iterations).\n",
      " Matrix: Warning: no convergence (0.00000010<2.97213531 after 1000 iterations).\n",
      " Matrix: Warning: no convergence (0.00000010<31.39838791 after 1000 iterations).\n",
      " Matrix: Warning: no convergence (0.00000010<18.50661659 after 1000 iterations).\n",
      " Matrix: Warning: no convergence (0.00000010<4.22468853 after 1000 iterations).\n",
      " Matrix: Warning: no convergence (0.00000010<3.23527861 after 1000 iterations).\n",
      " Matrix: Warning: no convergence (0.00000010<3.42795753 after 1000 iterations).\n",
      " Matrix: Warning: no convergence (0.00000010<19.08008385 after 1000 iterations).\n",
      " Matrix: Warning: no convergence (0.00000010<669.58935547 after 1000 iterations).\n",
      " Matrix: Warning: no convergence (0.00000010<229.46469116 after 1000 iterations).\n",
      " Matrix: Warning: no convergence (0.00000010<11.45526695 after 1000 iterations).\n",
      " Matrix: Warning: no convergence (0.00000010<17.55872345 after 1000 iterations).\n",
      " Matrix: Warning: no convergence (0.00000010<31.03218651 after 1000 iterations).\n",
      " Matrix: Warning: no convergence (0.00000010<9.98254967 after 1000 iterations).\n",
      " Matrix: Warning: no convergence (0.00000010<35.56009293 after 1000 iterations).\n",
      " Matrix: Warning: no convergence (0.00000010<28.09573746 after 1000 iterations).\n",
      " Matrix: Warning: no convergence (0.00000010<3.30788445 after 1000 iterations).\n",
      " Matrix: Warning: no convergence (0.00000010<10.20965862 after 1000 iterations).\n",
      " Matrix: Warning: no convergence (0.00000010<9.28983307 after 1000 iterations).\n",
      " Matrix: Warning: no convergence (0.00000010<10.00282001 after 1000 iterations).\n",
      " Matrix: Warning: no convergence (0.00000010<5.55070210 after 1000 iterations).\n",
      " Matrix: Warning: no convergence (0.00000010<10.06116104 after 1000 iterations).\n",
      " Matrix: Warning: no convergence (0.00000010<4.58288193 after 1000 iterations).\n",
      " Matrix: Warning: no convergence (0.00000010<13.20494175 after 1000 iterations).\n",
      " Matrix: Warning: no convergence (0.00000010<41.16686630 after 1000 iterations).\n",
      " Matrix: Warning: no convergence (0.00000010<40.70608902 after 1000 iterations).\n",
      " Matrix: Warning: no convergence (0.00000010<40.36376190 after 1000 iterations).\n",
      " Matrix: Warning: no convergence (0.00000010<17.84384918 after 1000 iterations).\n",
      " Matrix: Warning: no convergence (0.00000010<3.54235435 after 1000 iterations).\n",
      " Matrix: Warning: no convergence (0.00000010<7.98892546 after 1000 iterations).\n",
      " Matrix: Warning: no convergence (0.00000010<39.86295700 after 1000 iterations).\n",
      " Matrix: Warning: no convergence (0.00000010<17.58637619 after 1000 iterations).\n",
      " Matrix: Warning: no convergence (0.00000010<38.15256882 after 1000 iterations).\n",
      " Matrix: Warning: no convergence (0.00000010<41.15797424 after 1000 iterations).\n",
      " Matrix: Warning: no convergence (0.00000010<37.74453354 after 1000 iterations).\n",
      " Matrix: Warning: no convergence (0.00000010<37.81011963 after 1000 iterations).\n",
      " Matrix: Warning: no convergence (0.00000010<592.07916260 after 1000 iterations).\n",
      " Matrix: Warning: no convergence (0.00000010<19.56230736 after 1000 iterations).\n",
      " Matrix: Warning: no convergence (0.00000010<399.37820435 after 1000 iterations).\n",
      " Matrix: Warning: no convergence (0.00000010<40.39263535 after 1000 iterations).\n",
      " Matrix: Warning: no convergence (0.00000010<41.21340561 after 1000 iterations).\n",
      " Matrix: Warning: no convergence (0.00000010<15.12198544 after 1000 iterations).\n",
      " Matrix: Warning: no convergence (0.00000010<37.72805023 after 1000 iterations).\n",
      " Matrix: Warning: no convergence (0.00000010<2.91384697 after 1000 iterations).\n",
      " Matrix: Warning: no convergence (0.00000010<5.17380333 after 1000 iterations).\n",
      " Matrix: Warning: no convergence (0.00000010<1.59372687 after 1000 iterations).\n",
      " Matrix: Warning: no convergence (0.00000010<16.10180473 after 1000 iterations).\n",
      " Matrix: Warning: no convergence (0.00000010<39.93802643 after 1000 iterations).\n",
      " Matrix: Warning: no convergence (0.00000010<41.14124298 after 1000 iterations).\n",
      " Matrix: Warning: no convergence (0.00000010<34.06960297 after 1000 iterations).\n",
      " Matrix: Warning: no convergence (0.00000010<19.48551178 after 1000 iterations).\n",
      " Matrix: Warning: no convergence (0.00000010<16.84847450 after 1000 iterations).\n"
     ]
    },
    {
     "name": "stderr",
     "output_type": "stream",
     "text": [
      " 55%|█████▌    | 321/581 [30:55<42:10,  9.73s/it]"
     ]
    },
    {
     "name": "stdout",
     "output_type": "stream",
     "text": [
      " Matrix: Warning: no convergence (0.00000010<2.97506785 after 1000 iterations).\n",
      " Matrix: Warning: no convergence (0.00000010<2.11982393 after 1000 iterations).\n",
      " Matrix: Warning: no convergence (0.00000010<2.01847553 after 1000 iterations).\n",
      " Matrix: Warning: no convergence (0.00000010<6.21087360 after 1000 iterations).\n",
      " Matrix: Warning: no convergence (0.00000010<3.08796144 after 1000 iterations).\n",
      " Matrix: Warning: no convergence (0.00000010<4.23526287 after 1000 iterations).\n",
      " Matrix: Warning: no convergence (0.00000010<3.23754787 after 1000 iterations).\n",
      " Matrix: Warning: no convergence (0.00000010<3.43116856 after 1000 iterations).\n",
      " Matrix: Warning: no convergence (0.00000010<5.94049740 after 1000 iterations).\n",
      " Matrix: Warning: no convergence (0.00000010<5.99642658 after 1000 iterations).\n",
      " Matrix: Warning: no convergence (0.00000010<5.98230934 after 1000 iterations).\n",
      " Matrix: Warning: no convergence (0.00000010<11.45620537 after 1000 iterations).\n",
      " Matrix: Warning: no convergence (0.00000010<16.72987366 after 1000 iterations).\n",
      " Matrix: Warning: no convergence (0.00000010<31.21293068 after 1000 iterations).\n",
      " Matrix: Warning: no convergence (0.00000010<9.97892475 after 1000 iterations).\n",
      " Matrix: Warning: no convergence (0.00000010<35.52683640 after 1000 iterations).\n",
      " Matrix: Warning: no convergence (0.00000010<4.88243389 after 1000 iterations).\n",
      " Matrix: Warning: no convergence (0.00000010<9.69547367 after 1000 iterations).\n",
      " Matrix: Warning: no convergence (0.00000010<10.83168125 after 1000 iterations).\n",
      " Matrix: Warning: no convergence (0.00000010<15.51602745 after 1000 iterations).\n",
      " Matrix: Warning: no convergence (0.00000010<10.17479801 after 1000 iterations).\n",
      " Matrix: Warning: no convergence (0.00000010<9.26277065 after 1000 iterations).\n",
      " Matrix: Warning: no convergence (0.00000010<9.28884792 after 1000 iterations).\n",
      " Matrix: Warning: no convergence (0.00000010<10.00669575 after 1000 iterations).\n",
      " Matrix: Warning: no convergence (0.00000010<16.43685532 after 1000 iterations).\n",
      " Matrix: Warning: no convergence (0.00000010<18.20173454 after 1000 iterations).\n",
      " Matrix: Warning: no convergence (0.00000010<10.05318069 after 1000 iterations).\n",
      " Matrix: Warning: no convergence (0.00000010<40.02516937 after 1000 iterations).\n",
      " Matrix: Warning: no convergence (0.00000010<16.19053459 after 1000 iterations).\n",
      " Matrix: Warning: no convergence (0.00000010<16.95390129 after 1000 iterations).\n",
      " Matrix: Warning: no convergence (0.00000010<16.51075554 after 1000 iterations).\n",
      " Matrix: Warning: no convergence (0.00000010<16.01371574 after 1000 iterations).\n",
      " Matrix: Warning: no convergence (0.00000010<13.20816040 after 1000 iterations).\n",
      " Matrix: Warning: no convergence (0.00000010<41.23975754 after 1000 iterations).\n",
      " Matrix: Warning: no convergence (0.00000010<40.76435471 after 1000 iterations).\n",
      " Matrix: Warning: no convergence (0.00000010<40.40462112 after 1000 iterations).\n",
      " Matrix: Warning: no convergence (0.00000010<40.93605042 after 1000 iterations).\n",
      " Matrix: Warning: no convergence (0.00000010<40.64968109 after 1000 iterations).\n",
      " Matrix: Warning: no convergence (0.00000010<17.87438011 after 1000 iterations).\n",
      " Matrix: Warning: no convergence (0.00000010<20.62452888 after 1000 iterations).\n",
      " Matrix: Warning: no convergence (0.00000010<17.46284485 after 1000 iterations).\n",
      " Matrix: Warning: no convergence (0.00000010<9.23418808 after 1000 iterations).\n",
      " Matrix: Warning: no convergence (0.00000010<40.64171600 after 1000 iterations).\n",
      " Matrix: Warning: no convergence (0.00000010<7.41242409 after 1000 iterations).\n",
      " Matrix: Warning: no convergence (0.00000010<40.11373138 after 1000 iterations).\n",
      " Matrix: Warning: no convergence (0.00000010<39.56371307 after 1000 iterations).\n",
      " Matrix: Warning: no convergence (0.00000010<16.03573608 after 1000 iterations).\n",
      " Matrix: Warning: no convergence (0.00000010<38.20923615 after 1000 iterations).\n",
      " Matrix: Warning: no convergence (0.00000010<41.22475052 after 1000 iterations).\n",
      " Matrix: Warning: no convergence (0.00000010<40.69710922 after 1000 iterations).\n",
      " Matrix: Warning: no convergence (0.00000010<37.96099854 after 1000 iterations).\n",
      " Matrix: Warning: no convergence (0.00000010<37.28792572 after 1000 iterations).\n",
      " Matrix: Warning: no convergence (0.00000010<37.89984512 after 1000 iterations).\n",
      " Matrix: Warning: no convergence (0.00000010<19.75738144 after 1000 iterations).\n",
      " Matrix: Warning: no convergence (0.00000010<40.51232910 after 1000 iterations).\n",
      " Matrix: Warning: no convergence (0.00000010<41.27727127 after 1000 iterations).\n",
      " Matrix: Warning: no convergence (0.00000010<3.86071205 after 1000 iterations).\n",
      " Matrix: Warning: no convergence (0.00000010<4.52599955 after 1000 iterations).\n",
      " Matrix: Warning: no convergence (0.00000010<7.44139767 after 1000 iterations).\n",
      " Matrix: Warning: no convergence (0.00000010<7.07748985 after 1000 iterations).\n",
      " Matrix: Warning: no convergence (0.00000010<0.80384636 after 1000 iterations).\n",
      " Matrix: Warning: no convergence (0.00000010<8.78294373 after 1000 iterations).\n",
      " Matrix: Warning: no convergence (0.00000010<2.93702507 after 1000 iterations).\n",
      " Matrix: Warning: no convergence (0.00000010<5.22871447 after 1000 iterations).\n",
      " Matrix: Warning: no convergence (0.00000010<1.58592451 after 1000 iterations).\n",
      " Matrix: Warning: no convergence (0.00000010<35.17222595 after 1000 iterations).\n",
      " Matrix: Warning: no convergence (0.00000010<16.14753532 after 1000 iterations).\n",
      " Matrix: Warning: no convergence (0.00000010<17.73641968 after 1000 iterations).\n",
      " Matrix: Warning: no convergence (0.00000010<16.59027481 after 1000 iterations).\n",
      " Matrix: Warning: no convergence (0.00000010<31.14183426 after 1000 iterations).\n",
      " Matrix: Warning: no convergence (0.00000010<33.98122406 after 1000 iterations).\n",
      " Matrix: Warning: no convergence (0.00000010<19.59332848 after 1000 iterations).\n",
      " Matrix: Warning: no convergence (0.00000010<16.85896111 after 1000 iterations).\n"
     ]
    },
    {
     "name": "stderr",
     "output_type": "stream",
     "text": [
      " 56%|█████▌    | 325/581 [31:35<41:38,  9.76s/it]"
     ]
    },
    {
     "name": "stdout",
     "output_type": "stream",
     "text": [
      " Matrix: Warning: no convergence (0.00000010<507.80630493 after 1000 iterations).\n"
     ]
    },
    {
     "name": "stderr",
     "output_type": "stream",
     "text": [
      " 57%|█████▋    | 329/581 [32:13<40:41,  9.69s/it]"
     ]
    },
    {
     "name": "stdout",
     "output_type": "stream",
     "text": [
      " Matrix: Warning: no convergence (0.00000010<1015.57421875 after 1000 iterations).\n",
      " Matrix: Warning: no convergence (0.00000010<545.63763428 after 1000 iterations).\n",
      " Matrix: Warning: no convergence (0.00000010<659.88403320 after 1000 iterations).\n"
     ]
    },
    {
     "name": "stderr",
     "output_type": "stream",
     "text": [
      " 57%|█████▋    | 330/581 [32:23<40:09,  9.60s/it]"
     ]
    },
    {
     "name": "stdout",
     "output_type": "stream",
     "text": [
      " Matrix: Warning: no convergence (0.00000010<478.84533691 after 1000 iterations).\n"
     ]
    },
    {
     "name": "stderr",
     "output_type": "stream",
     "text": [
      " 57%|█████▋    | 331/581 [32:33<40:37,  9.75s/it]"
     ]
    },
    {
     "name": "stdout",
     "output_type": "stream",
     "text": [
      " Matrix: Warning: no convergence (0.00000010<17.91482544 after 1000 iterations).\n"
     ]
    },
    {
     "name": "stderr",
     "output_type": "stream",
     "text": [
      " 58%|█████▊    | 335/581 [33:20<47:31, 11.59s/it]"
     ]
    },
    {
     "name": "stdout",
     "output_type": "stream",
     "text": [
      " Matrix: Warning: no convergence (0.00000010<620.90838623 after 1000 iterations).\n"
     ]
    },
    {
     "name": "stderr",
     "output_type": "stream",
     "text": [
      " 59%|█████▉    | 343/581 [35:00<48:31, 12.23s/it]"
     ]
    },
    {
     "name": "stdout",
     "output_type": "stream",
     "text": [
      " Matrix: Warning: no convergence (0.00000010<211.22833252 after 1000 iterations).\n"
     ]
    },
    {
     "name": "stderr",
     "output_type": "stream",
     "text": [
      " 59%|█████▉    | 345/581 [35:26<50:03, 12.73s/it]"
     ]
    },
    {
     "name": "stdout",
     "output_type": "stream",
     "text": [
      " Matrix: Warning: no convergence (0.00000010<10.56625843 after 1000 iterations).\n"
     ]
    },
    {
     "name": "stderr",
     "output_type": "stream",
     "text": [
      " 60%|█████▉    | 347/581 [35:54<52:04, 13.35s/it]"
     ]
    },
    {
     "name": "stdout",
     "output_type": "stream",
     "text": [
      " Matrix: Warning: no convergence (0.00000010<37.48517990 after 1000 iterations).\n",
      " Matrix: Warning: no convergence (0.00000010<31.76216125 after 1000 iterations).\n",
      " Matrix: Warning: no convergence (0.00000010<31.00811958 after 1000 iterations).\n",
      " Matrix: Warning: no convergence (0.00000010<4.25056553 after 1000 iterations).\n",
      " Matrix: Warning: no convergence (0.00000010<3.25078583 after 1000 iterations).\n",
      " Matrix: Warning: no convergence (0.00000010<3.44450593 after 1000 iterations).\n",
      " Matrix: Warning: no convergence (0.00000010<23.33279991 after 1000 iterations).\n",
      " Matrix: Warning: no convergence (0.00000010<8.59736347 after 1000 iterations).\n",
      " Matrix: Warning: no convergence (0.00000010<11.76804829 after 1000 iterations).\n",
      " Matrix: Warning: no convergence (0.00000010<7.97609806 after 1000 iterations).\n",
      " Matrix: Warning: no convergence (0.00000010<9.06974411 after 1000 iterations).\n",
      " Matrix: Warning: no convergence (0.00000010<18.58709526 after 1000 iterations).\n",
      " Matrix: Warning: no convergence (0.00000010<36.60319519 after 1000 iterations).\n",
      " Matrix: Warning: no convergence (0.00000010<33.73977280 after 1000 iterations).\n",
      " Matrix: Warning: no convergence (0.00000010<12.99498940 after 1000 iterations).\n",
      " Matrix: Warning: no convergence (0.00000010<32.94332123 after 1000 iterations).\n",
      " Matrix: Warning: no convergence (0.00000010<4.04313707 after 1000 iterations).\n",
      " Matrix: Warning: no convergence (0.00000010<8.44659901 after 1000 iterations).\n",
      " Matrix: Warning: no convergence (0.00000010<9.60249424 after 1000 iterations).\n",
      " Matrix: Warning: no convergence (0.00000010<10.63539982 after 1000 iterations).\n",
      " Matrix: Warning: no convergence (0.00000010<9.57066727 after 1000 iterations).\n",
      " Matrix: Warning: no convergence (0.00000010<10.36689186 after 1000 iterations).\n",
      " Matrix: Warning: no convergence (0.00000010<10.30156898 after 1000 iterations).\n",
      " Matrix: Warning: no convergence (0.00000010<4.89996052 after 1000 iterations).\n",
      " Matrix: Warning: no convergence (0.00000010<40.13718414 after 1000 iterations).\n",
      " Matrix: Warning: no convergence (0.00000010<37.28551102 after 1000 iterations).\n",
      " Matrix: Warning: no convergence (0.00000010<40.64038086 after 1000 iterations).\n",
      " Matrix: Warning: no convergence (0.00000010<39.65512848 after 1000 iterations).\n",
      " Matrix: Warning: no convergence (0.00000010<39.70941544 after 1000 iterations).\n",
      " Matrix: Warning: no convergence (0.00000010<39.00773621 after 1000 iterations).\n",
      " Matrix: Warning: no convergence (0.00000010<35.54008865 after 1000 iterations).\n",
      " Matrix: Warning: no convergence (0.00000010<19.08363914 after 1000 iterations).\n",
      " Matrix: Warning: no convergence (0.00000010<6.47360468 after 1000 iterations).\n",
      " Matrix: Warning: no convergence (0.00000010<670.35485840 after 1000 iterations).\n",
      " Matrix: Warning: no convergence (0.00000010<38.22542953 after 1000 iterations).\n",
      " Matrix: Warning: no convergence (0.00000010<560.24859619 after 1000 iterations).\n",
      " Matrix: Warning: no convergence (0.00000010<32.05583191 after 1000 iterations).\n",
      " Matrix: Warning: no convergence (0.00000010<35.81171799 after 1000 iterations).\n",
      " Matrix: Warning: no convergence (0.00000010<37.54118347 after 1000 iterations).\n",
      " Matrix: Warning: no convergence (0.00000010<39.76904297 after 1000 iterations).\n",
      " Matrix: Warning: no convergence (0.00000010<36.29732895 after 1000 iterations).\n",
      " Matrix: Warning: no convergence (0.00000010<33.73928833 after 1000 iterations).\n",
      " Matrix: Warning: no convergence (0.00000010<11.99627018 after 1000 iterations).\n",
      " Matrix: Warning: no convergence (0.00000010<4.06360769 after 1000 iterations).\n",
      " Matrix: Warning: no convergence (0.00000010<5.41245794 after 1000 iterations).\n",
      " Matrix: Warning: no convergence (0.00000010<4.80243206 after 1000 iterations).\n",
      " Matrix: Warning: no convergence (0.00000010<39.43119049 after 1000 iterations).\n",
      " Matrix: Warning: no convergence (0.00000010<36.38255310 after 1000 iterations).\n",
      " Matrix: Warning: no convergence (0.00000010<16.75619125 after 1000 iterations).\n",
      " Matrix: Warning: no convergence (0.00000010<10.40155220 after 1000 iterations).\n",
      " Matrix: Warning: no convergence (0.00000010<15.72803020 after 1000 iterations).\n",
      " Matrix: Warning: no convergence (0.00000010<17.13086700 after 1000 iterations).\n",
      " Matrix: Warning: no convergence (0.00000010<22.08668137 after 1000 iterations).\n"
     ]
    },
    {
     "name": "stderr",
     "output_type": "stream",
     "text": [
      " 60%|█████▉    | 348/581 [36:09<53:10, 13.69s/it]"
     ]
    },
    {
     "name": "stdout",
     "output_type": "stream",
     "text": [
      " Matrix: Warning: no convergence (0.00000010<794.83178711 after 1000 iterations).\n",
      " Matrix: Warning: no convergence (0.00000010<2.97511864 after 1000 iterations).\n",
      " Matrix: Warning: no convergence (0.00000010<31.42609215 after 1000 iterations).\n",
      " Matrix: Warning: no convergence (0.00000010<18.59009743 after 1000 iterations).\n",
      " Matrix: Warning: no convergence (0.00000010<4.22904634 after 1000 iterations).\n",
      " Matrix: Warning: no convergence (0.00000010<3.23864603 after 1000 iterations).\n",
      " Matrix: Warning: no convergence (0.00000010<3.43165207 after 1000 iterations).\n",
      " Matrix: Warning: no convergence (0.00000010<19.17211151 after 1000 iterations).\n",
      " Matrix: Warning: no convergence (0.00000010<673.75323486 after 1000 iterations).\n",
      " Matrix: Warning: no convergence (0.00000010<235.01885986 after 1000 iterations).\n",
      " Matrix: Warning: no convergence (0.00000010<11.43722343 after 1000 iterations).\n",
      " Matrix: Warning: no convergence (0.00000010<17.20709229 after 1000 iterations).\n",
      " Matrix: Warning: no convergence (0.00000010<30.85592842 after 1000 iterations).\n",
      " Matrix: Warning: no convergence (0.00000010<9.95749664 after 1000 iterations).\n",
      " Matrix: Warning: no convergence (0.00000010<34.46584702 after 1000 iterations).\n",
      " Matrix: Warning: no convergence (0.00000010<30.85973930 after 1000 iterations).\n",
      " Matrix: Warning: no convergence (0.00000010<3.31286144 after 1000 iterations).\n",
      " Matrix: Warning: no convergence (0.00000010<10.16831303 after 1000 iterations).\n",
      " Matrix: Warning: no convergence (0.00000010<9.26661777 after 1000 iterations).\n",
      " Matrix: Warning: no convergence (0.00000010<9.98154640 after 1000 iterations).\n",
      " Matrix: Warning: no convergence (0.00000010<5.49138784 after 1000 iterations).\n",
      " Matrix: Warning: no convergence (0.00000010<10.03862667 after 1000 iterations).\n",
      " Matrix: Warning: no convergence (0.00000010<4.61376667 after 1000 iterations).\n",
      " Matrix: Warning: no convergence (0.00000010<13.18446922 after 1000 iterations).\n",
      " Matrix: Warning: no convergence (0.00000010<41.19493103 after 1000 iterations).\n",
      " Matrix: Warning: no convergence (0.00000010<40.75436020 after 1000 iterations).\n",
      " Matrix: Warning: no convergence (0.00000010<40.42190552 after 1000 iterations).\n",
      " Matrix: Warning: no convergence (0.00000010<19.41735458 after 1000 iterations).\n",
      " Matrix: Warning: no convergence (0.00000010<3.64138031 after 1000 iterations).\n",
      " Matrix: Warning: no convergence (0.00000010<8.19016361 after 1000 iterations).\n",
      " Matrix: Warning: no convergence (0.00000010<40.05890656 after 1000 iterations).\n",
      " Matrix: Warning: no convergence (0.00000010<17.01777649 after 1000 iterations).\n",
      " Matrix: Warning: no convergence (0.00000010<38.19968033 after 1000 iterations).\n",
      " Matrix: Warning: no convergence (0.00000010<41.20300674 after 1000 iterations).\n",
      " Matrix: Warning: no convergence (0.00000010<37.83419800 after 1000 iterations).\n",
      " Matrix: Warning: no convergence (0.00000010<37.89329147 after 1000 iterations).\n",
      " Matrix: Warning: no convergence (0.00000010<599.23516846 after 1000 iterations).\n",
      " Matrix: Warning: no convergence (0.00000010<19.90272713 after 1000 iterations).\n",
      " Matrix: Warning: no convergence (0.00000010<412.12957764 after 1000 iterations).\n",
      " Matrix: Warning: no convergence (0.00000010<41.16304398 after 1000 iterations).\n",
      " Matrix: Warning: no convergence (0.00000010<41.18355179 after 1000 iterations).\n",
      " Matrix: Warning: no convergence (0.00000010<15.20897293 after 1000 iterations).\n",
      " Matrix: Warning: no convergence (0.00000010<38.48882294 after 1000 iterations).\n",
      " Matrix: Warning: no convergence (0.00000010<2.90989566 after 1000 iterations).\n",
      " Matrix: Warning: no convergence (0.00000010<5.16372776 after 1000 iterations).\n",
      " Matrix: Warning: no convergence (0.00000010<1.59926844 after 1000 iterations).\n",
      " Matrix: Warning: no convergence (0.00000010<17.16778755 after 1000 iterations).\n",
      " Matrix: Warning: no convergence (0.00000010<40.01157379 after 1000 iterations).\n",
      " Matrix: Warning: no convergence (0.00000010<41.25319672 after 1000 iterations).\n",
      " Matrix: Warning: no convergence (0.00000010<33.99949265 after 1000 iterations).\n",
      " Matrix: Warning: no convergence (0.00000010<19.52183723 after 1000 iterations).\n",
      " Matrix: Warning: no convergence (0.00000010<16.82516861 after 1000 iterations).\n"
     ]
    },
    {
     "name": "stderr",
     "output_type": "stream",
     "text": [
      " 60%|██████    | 351/581 [36:47<49:47, 12.99s/it]"
     ]
    },
    {
     "name": "stdout",
     "output_type": "stream",
     "text": [
      " Matrix: Warning: no convergence (0.00000010<2.98074341 after 1000 iterations).\n",
      " Matrix: Warning: no convergence (0.00000010<31.99757385 after 1000 iterations).\n",
      " Matrix: Warning: no convergence (0.00000010<18.55143356 after 1000 iterations).\n",
      " Matrix: Warning: no convergence (0.00000010<4.23617125 after 1000 iterations).\n",
      " Matrix: Warning: no convergence (0.00000010<3.24414372 after 1000 iterations).\n",
      " Matrix: Warning: no convergence (0.00000010<3.43741798 after 1000 iterations).\n",
      " Matrix: Warning: no convergence (0.00000010<19.23458290 after 1000 iterations).\n",
      " Matrix: Warning: no convergence (0.00000010<11.39004993 after 1000 iterations).\n",
      " Matrix: Warning: no convergence (0.00000010<14.56170654 after 1000 iterations).\n",
      " Matrix: Warning: no convergence (0.00000010<41.42612076 after 1000 iterations).\n",
      " Matrix: Warning: no convergence (0.00000010<9.93380928 after 1000 iterations).\n",
      " Matrix: Warning: no convergence (0.00000010<35.28281403 after 1000 iterations).\n",
      " Matrix: Warning: no convergence (0.00000010<28.48695374 after 1000 iterations).\n",
      " Matrix: Warning: no convergence (0.00000010<4.25844717 after 1000 iterations).\n",
      " Matrix: Warning: no convergence (0.00000010<10.15642262 after 1000 iterations).\n",
      " Matrix: Warning: no convergence (0.00000010<9.23863983 after 1000 iterations).\n",
      " Matrix: Warning: no convergence (0.00000010<9.95520496 after 1000 iterations).\n",
      " Matrix: Warning: no convergence (0.00000010<3.03377891 after 1000 iterations).\n",
      " Matrix: Warning: no convergence (0.00000010<10.02069950 after 1000 iterations).\n",
      " Matrix: Warning: no convergence (0.00000010<5.03961325 after 1000 iterations).\n",
      " Matrix: Warning: no convergence (0.00000010<13.14448071 after 1000 iterations).\n",
      " Matrix: Warning: no convergence (0.00000010<41.31689835 after 1000 iterations).\n",
      " Matrix: Warning: no convergence (0.00000010<40.69681168 after 1000 iterations).\n",
      " Matrix: Warning: no convergence (0.00000010<40.35829926 after 1000 iterations).\n",
      " Matrix: Warning: no convergence (0.00000010<17.83901596 after 1000 iterations).\n",
      " Matrix: Warning: no convergence (0.00000010<20.98628426 after 1000 iterations).\n",
      " Matrix: Warning: no convergence (0.00000010<7.75722504 after 1000 iterations).\n",
      " Matrix: Warning: no convergence (0.00000010<698.45159912 after 1000 iterations).\n",
      " Matrix: Warning: no convergence (0.00000010<40.00254440 after 1000 iterations).\n",
      " Matrix: Warning: no convergence (0.00000010<16.48694229 after 1000 iterations).\n",
      " Matrix: Warning: no convergence (0.00000010<38.13431931 after 1000 iterations).\n",
      " Matrix: Warning: no convergence (0.00000010<41.13915634 after 1000 iterations).\n",
      " Matrix: Warning: no convergence (0.00000010<39.01259613 after 1000 iterations).\n",
      " Matrix: Warning: no convergence (0.00000010<37.79001617 after 1000 iterations).\n",
      " Matrix: Warning: no convergence (0.00000010<20.22669411 after 1000 iterations).\n",
      " Matrix: Warning: no convergence (0.00000010<40.55330658 after 1000 iterations).\n",
      " Matrix: Warning: no convergence (0.00000010<41.19987488 after 1000 iterations).\n",
      " Matrix: Warning: no convergence (0.00000010<15.39854908 after 1000 iterations).\n",
      " Matrix: Warning: no convergence (0.00000010<34.88305664 after 1000 iterations).\n",
      " Matrix: Warning: no convergence (0.00000010<2.93219042 after 1000 iterations).\n",
      " Matrix: Warning: no convergence (0.00000010<5.18160963 after 1000 iterations).\n",
      " Matrix: Warning: no convergence (0.00000010<1.61191869 after 1000 iterations).\n",
      " Matrix: Warning: no convergence (0.00000010<16.13865662 after 1000 iterations).\n",
      " Matrix: Warning: no convergence (0.00000010<40.28942108 after 1000 iterations).\n",
      " Matrix: Warning: no convergence (0.00000010<41.18482208 after 1000 iterations).\n",
      " Matrix: Warning: no convergence (0.00000010<34.14757538 after 1000 iterations).\n",
      " Matrix: Warning: no convergence (0.00000010<19.52869415 after 1000 iterations).\n",
      " Matrix: Warning: no convergence (0.00000010<16.79177475 after 1000 iterations).\n"
     ]
    },
    {
     "name": "stderr",
     "output_type": "stream",
     "text": [
      " 61%|██████    | 355/581 [37:40<49:06, 13.04s/it]"
     ]
    },
    {
     "name": "stdout",
     "output_type": "stream",
     "text": [
      " Matrix: Warning: no convergence (0.00000010<243.63130188 after 1000 iterations).\n"
     ]
    },
    {
     "name": "stderr",
     "output_type": "stream",
     "text": [
      " 61%|██████▏   | 356/581 [37:52<47:36, 12.70s/it]"
     ]
    },
    {
     "name": "stdout",
     "output_type": "stream",
     "text": [
      " Matrix: Warning: no convergence (0.00000010<31.49530602 after 1000 iterations).\n",
      " Matrix: Warning: no convergence (0.00000010<2.97810841 after 1000 iterations).\n",
      " Matrix: Warning: no convergence (0.00000010<2.11944675 after 1000 iterations).\n",
      " Matrix: Warning: no convergence (0.00000010<2.01824141 after 1000 iterations).\n",
      " Matrix: Warning: no convergence (0.00000010<30.43043327 after 1000 iterations).\n",
      " Matrix: Warning: no convergence (0.00000010<4.24268818 after 1000 iterations).\n",
      " Matrix: Warning: no convergence (0.00000010<3.23508143 after 1000 iterations).\n",
      " Matrix: Warning: no convergence (0.00000010<3.42838740 after 1000 iterations).\n",
      " Matrix: Warning: no convergence (0.00000010<22.97856140 after 1000 iterations).\n",
      " Matrix: Warning: no convergence (0.00000010<5.94616365 after 1000 iterations).\n",
      " Matrix: Warning: no convergence (0.00000010<11.50841999 after 1000 iterations).\n",
      " Matrix: Warning: no convergence (0.00000010<8.76059723 after 1000 iterations).\n",
      " Matrix: Warning: no convergence (0.00000010<8.78932667 after 1000 iterations).\n",
      " Matrix: Warning: no convergence (0.00000010<14.90704632 after 1000 iterations).\n",
      " Matrix: Warning: no convergence (0.00000010<39.40396500 after 1000 iterations).\n",
      " Matrix: Warning: no convergence (0.00000010<10.00502491 after 1000 iterations).\n",
      " Matrix: Warning: no convergence (0.00000010<35.70243073 after 1000 iterations).\n",
      " Matrix: Warning: no convergence (0.00000010<13.15427876 after 1000 iterations).\n",
      " Matrix: Warning: no convergence (0.00000010<6.20530081 after 1000 iterations).\n",
      " Matrix: Warning: no convergence (0.00000010<9.68239498 after 1000 iterations).\n",
      " Matrix: Warning: no convergence (0.00000010<9.28730965 after 1000 iterations).\n",
      " Matrix: Warning: no convergence (0.00000010<10.86312580 after 1000 iterations).\n",
      " Matrix: Warning: no convergence (0.00000010<15.49442196 after 1000 iterations).\n",
      " Matrix: Warning: no convergence (0.00000010<10.16306019 after 1000 iterations).\n",
      " Matrix: Warning: no convergence (0.00000010<9.28789806 after 1000 iterations).\n",
      " Matrix: Warning: no convergence (0.00000010<10.04267979 after 1000 iterations).\n",
      " Matrix: Warning: no convergence (0.00000010<36.35751724 after 1000 iterations).\n",
      " Matrix: Warning: no convergence (0.00000010<10.07973480 after 1000 iterations).\n",
      " Matrix: Warning: no convergence (0.00000010<18.24121284 after 1000 iterations).\n",
      " Matrix: Warning: no convergence (0.00000010<10.93970203 after 1000 iterations).\n",
      " Matrix: Warning: no convergence (0.00000010<17.01529884 after 1000 iterations).\n",
      " Matrix: Warning: no convergence (0.00000010<16.49237061 after 1000 iterations).\n",
      " Matrix: Warning: no convergence (0.00000010<15.99700546 after 1000 iterations).\n",
      " Matrix: Warning: no convergence (0.00000010<9.45861816 after 1000 iterations).\n",
      " Matrix: Warning: no convergence (0.00000010<16.97965431 after 1000 iterations).\n",
      " Matrix: Warning: no convergence (0.00000010<13.24394989 after 1000 iterations).\n",
      " Matrix: Warning: no convergence (0.00000010<41.46040726 after 1000 iterations).\n",
      " Matrix: Warning: no convergence (0.00000010<10.34513378 after 1000 iterations).\n",
      " Matrix: Warning: no convergence (0.00000010<40.70915604 after 1000 iterations).\n",
      " Matrix: Warning: no convergence (0.00000010<40.34905624 after 1000 iterations).\n",
      " Matrix: Warning: no convergence (0.00000010<13.01844883 after 1000 iterations).\n",
      " Matrix: Warning: no convergence (0.00000010<40.69460297 after 1000 iterations).\n",
      " Matrix: Warning: no convergence (0.00000010<40.81280518 after 1000 iterations).\n",
      " Matrix: Warning: no convergence (0.00000010<18.72877502 after 1000 iterations).\n",
      " Matrix: Warning: no convergence (0.00000010<40.44675446 after 1000 iterations).\n",
      " Matrix: Warning: no convergence (0.00000010<39.54706573 after 1000 iterations).\n",
      " Matrix: Warning: no convergence (0.00000010<16.10506058 after 1000 iterations).\n",
      " Matrix: Warning: no convergence (0.00000010<36.30160904 after 1000 iterations).\n",
      " Matrix: Warning: no convergence (0.00000010<40.51807404 after 1000 iterations).\n",
      " Matrix: Warning: no convergence (0.00000010<40.58367157 after 1000 iterations).\n",
      " Matrix: Warning: no convergence (0.00000010<40.67945480 after 1000 iterations).\n",
      " Matrix: Warning: no convergence (0.00000010<39.22769165 after 1000 iterations).\n",
      " Matrix: Warning: no convergence (0.00000010<0.73235059 after 1000 iterations).\n",
      " Matrix: Warning: no convergence (0.00000010<21.35469055 after 1000 iterations).\n",
      " Matrix: Warning: no convergence (0.00000010<40.76182938 after 1000 iterations).\n",
      " Matrix: Warning: no convergence (0.00000010<39.49057388 after 1000 iterations).\n",
      " Matrix: Warning: no convergence (0.00000010<41.26366043 after 1000 iterations).\n",
      " Matrix: Warning: no convergence (0.00000010<37.93278122 after 1000 iterations).\n",
      " Matrix: Warning: no convergence (0.00000010<38.15479279 after 1000 iterations).\n",
      " Matrix: Warning: no convergence (0.00000010<41.16162872 after 1000 iterations).\n",
      " Matrix: Warning: no convergence (0.00000010<22.02465630 after 1000 iterations).\n",
      " Matrix: Warning: no convergence (0.00000010<37.23750305 after 1000 iterations).\n",
      " Matrix: Warning: no convergence (0.00000010<37.78807449 after 1000 iterations).\n",
      " Matrix: Warning: no convergence (0.00000010<40.91440201 after 1000 iterations).\n",
      " Matrix: Warning: no convergence (0.00000010<11.37491417 after 1000 iterations).\n",
      " Matrix: Warning: no convergence (0.00000010<1.79136574 after 1000 iterations).\n",
      " Matrix: Warning: no convergence (0.00000010<1.84660947 after 1000 iterations).\n",
      " Matrix: Warning: no convergence (0.00000010<1.83940113 after 1000 iterations).\n",
      " Matrix: Warning: no convergence (0.00000010<20.48029709 after 1000 iterations).\n",
      " Matrix: Warning: no convergence (0.00000010<41.26986313 after 1000 iterations).\n",
      " Matrix: Warning: no convergence (0.00000010<0.89417863 after 1000 iterations).\n",
      " Matrix: Warning: no convergence (0.00000010<1.21304822 after 1000 iterations).\n",
      " Matrix: Warning: no convergence (0.00000010<2.18528080 after 1000 iterations).\n",
      " Matrix: Warning: no convergence (0.00000010<6.91592932 after 1000 iterations).\n",
      " Matrix: Warning: no convergence (0.00000010<1.30002630 after 1000 iterations).\n",
      " Matrix: Warning: no convergence (0.00000010<1.88358402 after 1000 iterations).\n",
      " Matrix: Warning: no convergence (0.00000010<4.48591805 after 1000 iterations).\n",
      " Matrix: Warning: no convergence (0.00000010<8.50116825 after 1000 iterations).\n",
      " Matrix: Warning: no convergence (0.00000010<0.80646890 after 1000 iterations).\n",
      " Matrix: Warning: no convergence (0.00000010<11.37269878 after 1000 iterations).\n",
      " Matrix: Warning: no convergence (0.00000010<2.93468547 after 1000 iterations).\n",
      " Matrix: Warning: no convergence (0.00000010<5.18413830 after 1000 iterations).\n",
      " Matrix: Warning: no convergence (0.00000010<1.60188127 after 1000 iterations).\n",
      " Matrix: Warning: no convergence (0.00000010<3.92142010 after 1000 iterations).\n",
      " Matrix: Warning: no convergence (0.00000010<1.41448176 after 1000 iterations).\n",
      " Matrix: Warning: no convergence (0.00000010<4.09233618 after 1000 iterations).\n",
      " Matrix: Warning: no convergence (0.00000010<40.08061600 after 1000 iterations).\n",
      " Matrix: Warning: no convergence (0.00000010<17.65083885 after 1000 iterations).\n",
      " Matrix: Warning: no convergence (0.00000010<22.95246506 after 1000 iterations).\n",
      " Matrix: Warning: no convergence (0.00000010<33.54674911 after 1000 iterations).\n",
      " Matrix: Warning: no convergence (0.00000010<30.97004700 after 1000 iterations).\n",
      " Matrix: Warning: no convergence (0.00000010<19.46804237 after 1000 iterations).\n",
      " Matrix: Warning: no convergence (0.00000010<36.84388351 after 1000 iterations).\n",
      " Matrix: Warning: no convergence (0.00000010<16.88049507 after 1000 iterations).\n"
     ]
    },
    {
     "name": "stderr",
     "output_type": "stream",
     "text": [
      " 61%|██████▏   | 357/581 [38:05<47:34, 12.74s/it]"
     ]
    },
    {
     "name": "stdout",
     "output_type": "stream",
     "text": [
      " Matrix: Warning: no convergence (0.00000010<11.49995136 after 1000 iterations).\n",
      " Matrix: Warning: no convergence (0.00000010<41.11308289 after 1000 iterations).\n",
      " Matrix: Warning: no convergence (0.00000010<43.70219803 after 1000 iterations).\n",
      " Matrix: Warning: no convergence (0.00000010<57.84237671 after 1000 iterations).\n",
      " Matrix: Warning: no convergence (0.00000010<32.32569885 after 1000 iterations).\n",
      " Matrix: Warning: no convergence (0.00000010<50.11848068 after 1000 iterations).\n",
      " Matrix: Warning: no convergence (0.00000010<76.19915009 after 1000 iterations).\n",
      " Matrix: Warning: no convergence (0.00000010<62.48943710 after 1000 iterations).\n"
     ]
    },
    {
     "name": "stderr",
     "output_type": "stream",
     "text": [
      " 62%|██████▏   | 363/581 [39:24<48:17, 13.29s/it]"
     ]
    },
    {
     "name": "stdout",
     "output_type": "stream",
     "text": [
      " Matrix: Warning: no convergence (0.00000010<296.34805298 after 1000 iterations).\n"
     ]
    },
    {
     "name": "stderr",
     "output_type": "stream",
     "text": [
      " 63%|██████▎   | 364/581 [39:38<48:25, 13.39s/it]"
     ]
    },
    {
     "name": "stdout",
     "output_type": "stream",
     "text": [
      " Matrix: Warning: no convergence (0.00000010<26.80298615 after 1000 iterations).\n",
      " Matrix: Warning: no convergence (0.00000010<2.96624064 after 1000 iterations).\n",
      " Matrix: Warning: no convergence (0.00000010<31.39757156 after 1000 iterations).\n",
      " Matrix: Warning: no convergence (0.00000010<18.60734177 after 1000 iterations).\n",
      " Matrix: Warning: no convergence (0.00000010<35.04991531 after 1000 iterations).\n",
      " Matrix: Warning: no convergence (0.00000010<3.43308353 after 1000 iterations).\n",
      " Matrix: Warning: no convergence (0.00000010<19.38141441 after 1000 iterations).\n",
      " Matrix: Warning: no convergence (0.00000010<11.46580505 after 1000 iterations).\n",
      " Matrix: Warning: no convergence (0.00000010<21.02113533 after 1000 iterations).\n",
      " Matrix: Warning: no convergence (0.00000010<8.21971416 after 1000 iterations).\n",
      " Matrix: Warning: no convergence (0.00000010<10.01231289 after 1000 iterations).\n",
      " Matrix: Warning: no convergence (0.00000010<39.76102066 after 1000 iterations).\n",
      " Matrix: Warning: no convergence (0.00000010<37.35581589 after 1000 iterations).\n",
      " Matrix: Warning: no convergence (0.00000010<13.16942501 after 1000 iterations).\n",
      " Matrix: Warning: no convergence (0.00000010<3.26248574 after 1000 iterations).\n",
      " Matrix: Warning: no convergence (0.00000010<8.13785362 after 1000 iterations).\n",
      " Matrix: Warning: no convergence (0.00000010<10.23087502 after 1000 iterations).\n",
      " Matrix: Warning: no convergence (0.00000010<9.31555080 after 1000 iterations).\n",
      " Matrix: Warning: no convergence (0.00000010<10.02589607 after 1000 iterations).\n",
      " Matrix: Warning: no convergence (0.00000010<1.90670347 after 1000 iterations).\n",
      " Matrix: Warning: no convergence (0.00000010<10.08526039 after 1000 iterations).\n",
      " Matrix: Warning: no convergence (0.00000010<4.52559233 after 1000 iterations).\n",
      " Matrix: Warning: no convergence (0.00000010<41.24884415 after 1000 iterations).\n",
      " Matrix: Warning: no convergence (0.00000010<13.23120499 after 1000 iterations).\n",
      " Matrix: Warning: no convergence (0.00000010<41.15298843 after 1000 iterations).\n",
      " Matrix: Warning: no convergence (0.00000010<8.15918159 after 1000 iterations).\n",
      " Matrix: Warning: no convergence (0.00000010<40.73169708 after 1000 iterations).\n",
      " Matrix: Warning: no convergence (0.00000010<40.36204910 after 1000 iterations).\n",
      " Matrix: Warning: no convergence (0.00000010<40.67923737 after 1000 iterations).\n",
      " Matrix: Warning: no convergence (0.00000010<688.23663330 after 1000 iterations).\n",
      " Matrix: Warning: no convergence (0.00000010<29.41714096 after 1000 iterations).\n",
      " Matrix: Warning: no convergence (0.00000010<22.78576469 after 1000 iterations).\n",
      " Matrix: Warning: no convergence (0.00000010<38.18092346 after 1000 iterations).\n",
      " Matrix: Warning: no convergence (0.00000010<41.19936371 after 1000 iterations).\n",
      " Matrix: Warning: no convergence (0.00000010<37.83931732 after 1000 iterations).\n",
      " Matrix: Warning: no convergence (0.00000010<19.68207359 after 1000 iterations).\n",
      " Matrix: Warning: no convergence (0.00000010<4.12353277 after 1000 iterations).\n",
      " Matrix: Warning: no convergence (0.00000010<15.34042931 after 1000 iterations).\n",
      " Matrix: Warning: no convergence (0.00000010<30.44902802 after 1000 iterations).\n",
      " Matrix: Warning: no convergence (0.00000010<1.29657602 after 1000 iterations).\n",
      " Matrix: Warning: no convergence (0.00000010<37.36915207 after 1000 iterations).\n",
      " Matrix: Warning: no convergence (0.00000010<11.26925945 after 1000 iterations).\n",
      " Matrix: Warning: no convergence (0.00000010<37.84332275 after 1000 iterations).\n",
      " Matrix: Warning: no convergence (0.00000010<17.24341965 after 1000 iterations).\n",
      " Matrix: Warning: no convergence (0.00000010<10.44698811 after 1000 iterations).\n",
      " Matrix: Warning: no convergence (0.00000010<34.09371185 after 1000 iterations).\n",
      " Matrix: Warning: no convergence (0.00000010<16.21931267 after 1000 iterations).\n",
      " Matrix: Warning: no convergence (0.00000010<19.58403206 after 1000 iterations).\n",
      " Matrix: Warning: no convergence (0.00000010<40.76644135 after 1000 iterations).\n"
     ]
    },
    {
     "name": "stderr",
     "output_type": "stream",
     "text": [
      " 63%|██████▎   | 366/581 [40:09<51:39, 14.42s/it]"
     ]
    },
    {
     "name": "stdout",
     "output_type": "stream",
     "text": [
      " Matrix: Warning: no convergence (0.00000010<31.78911781 after 1000 iterations).\n",
      " Matrix: Warning: no convergence (0.00000010<3.01662898 after 1000 iterations).\n",
      " Matrix: Warning: no convergence (0.00000010<2.04636812 after 1000 iterations).\n",
      " Matrix: Warning: no convergence (0.00000010<6.22800779 after 1000 iterations).\n",
      " Matrix: Warning: no convergence (0.00000010<3.12821317 after 1000 iterations).\n",
      " Matrix: Warning: no convergence (0.00000010<4.27760077 after 1000 iterations).\n",
      " Matrix: Warning: no convergence (0.00000010<3.27090645 after 1000 iterations).\n",
      " Matrix: Warning: no convergence (0.00000010<3.46621132 after 1000 iterations).\n",
      " Matrix: Warning: no convergence (0.00000010<5.95183992 after 1000 iterations).\n",
      " Matrix: Warning: no convergence (0.00000010<6.05292511 after 1000 iterations).\n",
      " Matrix: Warning: no convergence (0.00000010<5.98936081 after 1000 iterations).\n",
      " Matrix: Warning: no convergence (0.00000010<11.63546658 after 1000 iterations).\n",
      " Matrix: Warning: no convergence (0.00000010<8.86096478 after 1000 iterations).\n",
      " Matrix: Warning: no convergence (0.00000010<8.88017273 after 1000 iterations).\n",
      " Matrix: Warning: no convergence (0.00000010<15.02786922 after 1000 iterations).\n",
      " Matrix: Warning: no convergence (0.00000010<31.66134834 after 1000 iterations).\n",
      " Matrix: Warning: no convergence (0.00000010<10.12220001 after 1000 iterations).\n",
      " Matrix: Warning: no convergence (0.00000010<34.56649780 after 1000 iterations).\n",
      " Matrix: Warning: no convergence (0.00000010<13.25710964 after 1000 iterations).\n",
      " Matrix: Warning: no convergence (0.00000010<5.04189253 after 1000 iterations).\n",
      " Matrix: Warning: no convergence (0.00000010<9.84605217 after 1000 iterations).\n",
      " Matrix: Warning: no convergence (0.00000010<9.39804077 after 1000 iterations).\n",
      " Matrix: Warning: no convergence (0.00000010<10.96365547 after 1000 iterations).\n",
      " Matrix: Warning: no convergence (0.00000010<15.61925411 after 1000 iterations).\n",
      " Matrix: Warning: no convergence (0.00000010<10.32762718 after 1000 iterations).\n",
      " Matrix: Warning: no convergence (0.00000010<9.39456749 after 1000 iterations).\n",
      " Matrix: Warning: no convergence (0.00000010<9.42569351 after 1000 iterations).\n",
      " Matrix: Warning: no convergence (0.00000010<38.18573380 after 1000 iterations).\n",
      " Matrix: Warning: no convergence (0.00000010<18.33382607 after 1000 iterations).\n",
      " Matrix: Warning: no convergence (0.00000010<10.21705627 after 1000 iterations).\n",
      " Matrix: Warning: no convergence (0.00000010<18.39376259 after 1000 iterations).\n",
      " Matrix: Warning: no convergence (0.00000010<11.06144524 after 1000 iterations).\n",
      " Matrix: Warning: no convergence (0.00000010<17.15745735 after 1000 iterations).\n",
      " Matrix: Warning: no convergence (0.00000010<16.27977753 after 1000 iterations).\n",
      " Matrix: Warning: no convergence (0.00000010<17.06460381 after 1000 iterations).\n",
      " Matrix: Warning: no convergence (0.00000010<16.61758614 after 1000 iterations).\n",
      " Matrix: Warning: no convergence (0.00000010<16.12103462 after 1000 iterations).\n",
      " Matrix: Warning: no convergence (0.00000010<9.59801102 after 1000 iterations).\n",
      " Matrix: Warning: no convergence (0.00000010<13.38642597 after 1000 iterations).\n",
      " Matrix: Warning: no convergence (0.00000010<17.54826164 after 1000 iterations).\n",
      " Matrix: Warning: no convergence (0.00000010<41.76160431 after 1000 iterations).\n",
      " Matrix: Warning: no convergence (0.00000010<40.99492645 after 1000 iterations).\n",
      " Matrix: Warning: no convergence (0.00000010<40.66966629 after 1000 iterations).\n",
      " Matrix: Warning: no convergence (0.00000010<41.15501022 after 1000 iterations).\n",
      " Matrix: Warning: no convergence (0.00000010<2.62622046 after 1000 iterations).\n",
      " Matrix: Warning: no convergence (0.00000010<19.75852585 after 1000 iterations).\n",
      " Matrix: Warning: no convergence (0.00000010<39.98778534 after 1000 iterations).\n",
      " Matrix: Warning: no convergence (0.00000010<39.87290573 after 1000 iterations).\n",
      " Matrix: Warning: no convergence (0.00000010<40.02346420 after 1000 iterations).\n",
      " Matrix: Warning: no convergence (0.00000010<36.65936661 after 1000 iterations).\n",
      " Matrix: Warning: no convergence (0.00000010<40.79934311 after 1000 iterations).\n",
      " Matrix: Warning: no convergence (0.00000010<40.90916443 after 1000 iterations).\n",
      " Matrix: Warning: no convergence (0.00000010<39.61539078 after 1000 iterations).\n",
      " Matrix: Warning: no convergence (0.00000010<10.13650131 after 1000 iterations).\n",
      " Matrix: Warning: no convergence (0.00000010<36.28765869 after 1000 iterations).\n",
      " Matrix: Warning: no convergence (0.00000010<41.08110809 after 1000 iterations).\n",
      " Matrix: Warning: no convergence (0.00000010<39.87155914 after 1000 iterations).\n",
      " Matrix: Warning: no convergence (0.00000010<24.18916321 after 1000 iterations).\n",
      " Matrix: Warning: no convergence (0.00000010<38.43253326 after 1000 iterations).\n",
      " Matrix: Warning: no convergence (0.00000010<41.43362045 after 1000 iterations).\n",
      " Matrix: Warning: no convergence (0.00000010<40.93992233 after 1000 iterations).\n",
      " Matrix: Warning: no convergence (0.00000010<38.16651154 after 1000 iterations).\n",
      " Matrix: Warning: no convergence (0.00000010<37.48926163 after 1000 iterations).\n",
      " Matrix: Warning: no convergence (0.00000010<37.95160294 after 1000 iterations).\n",
      " Matrix: Warning: no convergence (0.00000010<41.21215439 after 1000 iterations).\n",
      " Matrix: Warning: no convergence (0.00000010<11.28693771 after 1000 iterations).\n",
      " Matrix: Warning: no convergence (0.00000010<1.81674743 after 1000 iterations).\n",
      " Matrix: Warning: no convergence (0.00000010<1.86937511 after 1000 iterations).\n",
      " Matrix: Warning: no convergence (0.00000010<40.24351501 after 1000 iterations).\n",
      " Matrix: Warning: no convergence (0.00000010<20.68431473 after 1000 iterations).\n",
      " Matrix: Warning: no convergence (0.00000010<3.76179457 after 1000 iterations).\n",
      " Matrix: Warning: no convergence (0.00000010<40.99987793 after 1000 iterations).\n",
      " Matrix: Warning: no convergence (0.00000010<1.23636436 after 1000 iterations).\n",
      " Matrix: Warning: no convergence (0.00000010<0.90801150 after 1000 iterations).\n",
      " Matrix: Warning: no convergence (0.00000010<1.23070610 after 1000 iterations).\n",
      " Matrix: Warning: no convergence (0.00000010<2.20693159 after 1000 iterations).\n",
      " Matrix: Warning: no convergence (0.00000010<6.83684397 after 1000 iterations).\n",
      " Matrix: Warning: no convergence (0.00000010<1.31649208 after 1000 iterations).\n",
      " Matrix: Warning: no convergence (0.00000010<1.90585625 after 1000 iterations).\n",
      " Matrix: Warning: no convergence (0.00000010<4.44176149 after 1000 iterations).\n",
      " Matrix: Warning: no convergence (0.00000010<7.60681772 after 1000 iterations).\n",
      " Matrix: Warning: no convergence (0.00000010<7.24979305 after 1000 iterations).\n",
      " Matrix: Warning: no convergence (0.00000010<0.82229108 after 1000 iterations).\n",
      " Matrix: Warning: no convergence (0.00000010<8.93582535 after 1000 iterations).\n",
      " Matrix: Warning: no convergence (0.00000010<2.91077828 after 1000 iterations).\n",
      " Matrix: Warning: no convergence (0.00000010<5.12044430 after 1000 iterations).\n",
      " Matrix: Warning: no convergence (0.00000010<1.62585711 after 1000 iterations).\n",
      " Matrix: Warning: no convergence (0.00000010<3.86345696 after 1000 iterations).\n",
      " Matrix: Warning: no convergence (0.00000010<1.44214380 after 1000 iterations).\n",
      " Matrix: Warning: no convergence (0.00000010<4.94865370 after 1000 iterations).\n",
      " Matrix: Warning: no convergence (0.00000010<40.37560654 after 1000 iterations).\n",
      " Matrix: Warning: no convergence (0.00000010<17.66987419 after 1000 iterations).\n",
      " Matrix: Warning: no convergence (0.00000010<16.94660378 after 1000 iterations).\n",
      " Matrix: Warning: no convergence (0.00000010<31.53260422 after 1000 iterations).\n",
      " Matrix: Warning: no convergence (0.00000010<23.69604301 after 1000 iterations).\n",
      " Matrix: Warning: no convergence (0.00000010<19.42824364 after 1000 iterations).\n",
      " Matrix: Warning: no convergence (0.00000010<37.72099686 after 1000 iterations).\n",
      " Matrix: Warning: no convergence (0.00000010<17.03914261 after 1000 iterations).\n"
     ]
    },
    {
     "name": "stderr",
     "output_type": "stream",
     "text": [
      " 63%|██████▎   | 367/581 [40:23<51:09, 14.34s/it]"
     ]
    },
    {
     "name": "stdout",
     "output_type": "stream",
     "text": [
      " Matrix: Warning: no convergence (0.00000010<374.91363525 after 1000 iterations).\n"
     ]
    },
    {
     "name": "stderr",
     "output_type": "stream",
     "text": [
      " 63%|██████▎   | 368/581 [40:39<52:37, 14.82s/it]"
     ]
    },
    {
     "name": "stdout",
     "output_type": "stream",
     "text": [
      " Matrix: Warning: no convergence (0.00000010<40.70272446 after 1000 iterations).\n",
      " Matrix: Warning: no convergence (0.00000010<2.98327160 after 1000 iterations).\n",
      " Matrix: Warning: no convergence (0.00000010<31.41467667 after 1000 iterations).\n",
      " Matrix: Warning: no convergence (0.00000010<18.65689087 after 1000 iterations).\n",
      " Matrix: Warning: no convergence (0.00000010<4.23365068 after 1000 iterations).\n",
      " Matrix: Warning: no convergence (0.00000010<3.24101591 after 1000 iterations).\n",
      " Matrix: Warning: no convergence (0.00000010<3.43412900 after 1000 iterations).\n",
      " Matrix: Warning: no convergence (0.00000010<19.27759933 after 1000 iterations).\n",
      " Matrix: Warning: no convergence (0.00000010<8.48662949 after 1000 iterations).\n",
      " Matrix: Warning: no convergence (0.00000010<17.80850601 after 1000 iterations).\n",
      " Matrix: Warning: no convergence (0.00000010<9.99988174 after 1000 iterations).\n",
      " Matrix: Warning: no convergence (0.00000010<28.33170128 after 1000 iterations).\n",
      " Matrix: Warning: no convergence (0.00000010<27.47370911 after 1000 iterations).\n",
      " Matrix: Warning: no convergence (0.00000010<2.68279052 after 1000 iterations).\n",
      " Matrix: Warning: no convergence (0.00000010<10.20401764 after 1000 iterations).\n",
      " Matrix: Warning: no convergence (0.00000010<10.01891327 after 1000 iterations).\n",
      " Matrix: Warning: no convergence (0.00000010<1.51132333 after 1000 iterations).\n",
      " Matrix: Warning: no convergence (0.00000010<10.09589672 after 1000 iterations).\n",
      " Matrix: Warning: no convergence (0.00000010<4.50362825 after 1000 iterations).\n",
      " Matrix: Warning: no convergence (0.00000010<13.23669434 after 1000 iterations).\n",
      " Matrix: Warning: no convergence (0.00000010<41.46722412 after 1000 iterations).\n",
      " Matrix: Warning: no convergence (0.00000010<40.78181458 after 1000 iterations).\n",
      " Matrix: Warning: no convergence (0.00000010<40.46031189 after 1000 iterations).\n",
      " Matrix: Warning: no convergence (0.00000010<22.09796333 after 1000 iterations).\n",
      " Matrix: Warning: no convergence (0.00000010<30.58348274 after 1000 iterations).\n",
      " Matrix: Warning: no convergence (0.00000010<39.14167023 after 1000 iterations).\n",
      " Matrix: Warning: no convergence (0.00000010<37.50123978 after 1000 iterations).\n",
      " Matrix: Warning: no convergence (0.00000010<699.36169434 after 1000 iterations).\n",
      " Matrix: Warning: no convergence (0.00000010<39.78934479 after 1000 iterations).\n",
      " Matrix: Warning: no convergence (0.00000010<37.63990402 after 1000 iterations).\n",
      " Matrix: Warning: no convergence (0.00000010<38.22871780 after 1000 iterations).\n",
      " Matrix: Warning: no convergence (0.00000010<41.23064041 after 1000 iterations).\n",
      " Matrix: Warning: no convergence (0.00000010<40.22937393 after 1000 iterations).\n",
      " Matrix: Warning: no convergence (0.00000010<37.92893982 after 1000 iterations).\n",
      " Matrix: Warning: no convergence (0.00000010<35.87715530 after 1000 iterations).\n",
      " Matrix: Warning: no convergence (0.00000010<38.66735840 after 1000 iterations).\n",
      " Matrix: Warning: no convergence (0.00000010<41.53396225 after 1000 iterations).\n",
      " Matrix: Warning: no convergence (0.00000010<28.61105919 after 1000 iterations).\n",
      " Matrix: Warning: no convergence (0.00000010<1.21358216 after 1000 iterations).\n",
      " Matrix: Warning: no convergence (0.00000010<15.35067081 after 1000 iterations).\n",
      " Matrix: Warning: no convergence (0.00000010<34.39190674 after 1000 iterations).\n",
      " Matrix: Warning: no convergence (0.00000010<2.87251163 after 1000 iterations).\n",
      " Matrix: Warning: no convergence (0.00000010<5.11589050 after 1000 iterations).\n",
      " Matrix: Warning: no convergence (0.00000010<1.60216391 after 1000 iterations).\n",
      " Matrix: Warning: no convergence (0.00000010<21.25821495 after 1000 iterations).\n",
      " Matrix: Warning: no convergence (0.00000010<40.28823853 after 1000 iterations).\n",
      " Matrix: Warning: no convergence (0.00000010<41.28807449 after 1000 iterations).\n",
      " Matrix: Warning: no convergence (0.00000010<25.41209221 after 1000 iterations).\n",
      " Matrix: Warning: no convergence (0.00000010<19.45365715 after 1000 iterations).\n",
      " Matrix: Warning: no convergence (0.00000010<16.86322975 after 1000 iterations).\n"
     ]
    },
    {
     "name": "stderr",
     "output_type": "stream",
     "text": [
      " 64%|██████▎   | 370/581 [41:08<51:59, 14.78s/it]"
     ]
    },
    {
     "name": "stdout",
     "output_type": "stream",
     "text": [
      " Matrix: Warning: no convergence (0.00000010<480.39532471 after 1000 iterations).\n"
     ]
    },
    {
     "name": "stderr",
     "output_type": "stream",
     "text": [
      " 64%|██████▍   | 372/581 [41:38<51:10, 14.69s/it]"
     ]
    },
    {
     "name": "stdout",
     "output_type": "stream",
     "text": [
      " Matrix: Warning: no convergence (0.00000010<39.82757568 after 1000 iterations).\n",
      " Matrix: Warning: no convergence (0.00000010<2.97664571 after 1000 iterations).\n",
      " Matrix: Warning: no convergence (0.00000010<2.11990643 after 1000 iterations).\n",
      " Matrix: Warning: no convergence (0.00000010<2.01859903 after 1000 iterations).\n",
      " Matrix: Warning: no convergence (0.00000010<6.21044636 after 1000 iterations).\n",
      " Matrix: Warning: no convergence (0.00000010<3.08834958 after 1000 iterations).\n",
      " Matrix: Warning: no convergence (0.00000010<4.23537064 after 1000 iterations).\n",
      " Matrix: Warning: no convergence (0.00000010<3.23765230 after 1000 iterations).\n",
      " Matrix: Warning: no convergence (0.00000010<3.43130827 after 1000 iterations).\n",
      " Matrix: Warning: no convergence (0.00000010<5.93953562 after 1000 iterations).\n",
      " Matrix: Warning: no convergence (0.00000010<5.99686527 after 1000 iterations).\n",
      " Matrix: Warning: no convergence (0.00000010<5.98231316 after 1000 iterations).\n",
      " Matrix: Warning: no convergence (0.00000010<11.48398876 after 1000 iterations).\n",
      " Matrix: Warning: no convergence (0.00000010<16.78708267 after 1000 iterations).\n",
      " Matrix: Warning: no convergence (0.00000010<31.12461472 after 1000 iterations).\n",
      " Matrix: Warning: no convergence (0.00000010<10.00399208 after 1000 iterations).\n",
      " Matrix: Warning: no convergence (0.00000010<29.54737663 after 1000 iterations).\n",
      " Matrix: Warning: no convergence (0.00000010<4.91841602 after 1000 iterations).\n",
      " Matrix: Warning: no convergence (0.00000010<9.73656464 after 1000 iterations).\n",
      " Matrix: Warning: no convergence (0.00000010<10.84184837 after 1000 iterations).\n",
      " Matrix: Warning: no convergence (0.00000010<15.51706886 after 1000 iterations).\n",
      " Matrix: Warning: no convergence (0.00000010<10.21575165 after 1000 iterations).\n",
      " Matrix: Warning: no convergence (0.00000010<9.28834915 after 1000 iterations).\n",
      " Matrix: Warning: no convergence (0.00000010<9.31116581 after 1000 iterations).\n",
      " Matrix: Warning: no convergence (0.00000010<10.02646732 after 1000 iterations).\n",
      " Matrix: Warning: no convergence (0.00000010<16.43828011 after 1000 iterations).\n",
      " Matrix: Warning: no convergence (0.00000010<18.20285797 after 1000 iterations).\n",
      " Matrix: Warning: no convergence (0.00000010<10.08928585 after 1000 iterations).\n",
      " Matrix: Warning: no convergence (0.00000010<39.95466614 after 1000 iterations).\n",
      " Matrix: Warning: no convergence (0.00000010<16.19121933 after 1000 iterations).\n",
      " Matrix: Warning: no convergence (0.00000010<16.95464134 after 1000 iterations).\n",
      " Matrix: Warning: no convergence (0.00000010<16.51137733 after 1000 iterations).\n",
      " Matrix: Warning: no convergence (0.00000010<16.01435852 after 1000 iterations).\n",
      " Matrix: Warning: no convergence (0.00000010<13.23698521 after 1000 iterations).\n",
      " Matrix: Warning: no convergence (0.00000010<41.35739517 after 1000 iterations).\n",
      " Matrix: Warning: no convergence (0.00000010<40.76448822 after 1000 iterations).\n",
      " Matrix: Warning: no convergence (0.00000010<40.42313385 after 1000 iterations).\n",
      " Matrix: Warning: no convergence (0.00000010<40.93647385 after 1000 iterations).\n",
      " Matrix: Warning: no convergence (0.00000010<40.65036392 after 1000 iterations).\n",
      " Matrix: Warning: no convergence (0.00000010<21.35443497 after 1000 iterations).\n",
      " Matrix: Warning: no convergence (0.00000010<20.67463303 after 1000 iterations).\n",
      " Matrix: Warning: no convergence (0.00000010<17.43439865 after 1000 iterations).\n",
      " Matrix: Warning: no convergence (0.00000010<11.38144398 after 1000 iterations).\n",
      " Matrix: Warning: no convergence (0.00000010<40.66374969 after 1000 iterations).\n",
      " Matrix: Warning: no convergence (0.00000010<5.59580946 after 1000 iterations).\n",
      " Matrix: Warning: no convergence (0.00000010<40.50915527 after 1000 iterations).\n",
      " Matrix: Warning: no convergence (0.00000010<39.56793976 after 1000 iterations).\n",
      " Matrix: Warning: no convergence (0.00000010<14.91566944 after 1000 iterations).\n",
      " Matrix: Warning: no convergence (0.00000010<38.21010208 after 1000 iterations).\n",
      " Matrix: Warning: no convergence (0.00000010<41.21534348 after 1000 iterations).\n",
      " Matrix: Warning: no convergence (0.00000010<40.70210266 after 1000 iterations).\n",
      " Matrix: Warning: no convergence (0.00000010<37.96212387 after 1000 iterations).\n",
      " Matrix: Warning: no convergence (0.00000010<37.28856659 after 1000 iterations).\n",
      " Matrix: Warning: no convergence (0.00000010<37.87009048 after 1000 iterations).\n",
      " Matrix: Warning: no convergence (0.00000010<19.66821861 after 1000 iterations).\n",
      " Matrix: Warning: no convergence (0.00000010<41.51486969 after 1000 iterations).\n",
      " Matrix: Warning: no convergence (0.00000010<38.59240341 after 1000 iterations).\n",
      " Matrix: Warning: no convergence (0.00000010<3.81112099 after 1000 iterations).\n",
      " Matrix: Warning: no convergence (0.00000010<4.46573067 after 1000 iterations).\n",
      " Matrix: Warning: no convergence (0.00000010<7.40382051 after 1000 iterations).\n",
      " Matrix: Warning: no convergence (0.00000010<7.04440832 after 1000 iterations).\n",
      " Matrix: Warning: no convergence (0.00000010<0.80387223 after 1000 iterations).\n",
      " Matrix: Warning: no convergence (0.00000010<8.92380619 after 1000 iterations).\n",
      " Matrix: Warning: no convergence (0.00000010<2.89506555 after 1000 iterations).\n",
      " Matrix: Warning: no convergence (0.00000010<5.15935183 after 1000 iterations).\n",
      " Matrix: Warning: no convergence (0.00000010<1.58884645 after 1000 iterations).\n",
      " Matrix: Warning: no convergence (0.00000010<40.28575516 after 1000 iterations).\n",
      " Matrix: Warning: no convergence (0.00000010<19.92601776 after 1000 iterations).\n",
      " Matrix: Warning: no convergence (0.00000010<17.67688560 after 1000 iterations).\n",
      " Matrix: Warning: no convergence (0.00000010<16.50287247 after 1000 iterations).\n",
      " Matrix: Warning: no convergence (0.00000010<31.21897888 after 1000 iterations).\n",
      " Matrix: Warning: no convergence (0.00000010<25.50522995 after 1000 iterations).\n",
      " Matrix: Warning: no convergence (0.00000010<19.49323082 after 1000 iterations).\n",
      " Matrix: Warning: no convergence (0.00000010<16.87595367 after 1000 iterations).\n"
     ]
    },
    {
     "name": "stderr",
     "output_type": "stream",
     "text": [
      " 64%|██████▍   | 373/581 [41:52<50:53, 14.68s/it]"
     ]
    },
    {
     "name": "stdout",
     "output_type": "stream",
     "text": [
      " Matrix: Warning: no convergence (0.00000010<508.05194092 after 1000 iterations).\n"
     ]
    },
    {
     "name": "stderr",
     "output_type": "stream",
     "text": [
      " 65%|██████▍   | 375/581 [42:19<47:47, 13.92s/it]"
     ]
    },
    {
     "name": "stdout",
     "output_type": "stream",
     "text": [
      " Matrix: Warning: no convergence (0.00000010<34.20973969 after 1000 iterations).\n",
      " Matrix: Warning: no convergence (0.00000010<16.81188202 after 1000 iterations).\n",
      " Matrix: Warning: no convergence (0.00000010<10.14496803 after 1000 iterations).\n",
      " Matrix: Warning: no convergence (0.00000010<9.26750088 after 1000 iterations).\n",
      " Matrix: Warning: no convergence (0.00000010<22.60437393 after 1000 iterations).\n",
      " Matrix: Warning: no convergence (0.00000010<40.74786758 after 1000 iterations).\n",
      " Matrix: Warning: no convergence (0.00000010<5.21771336 after 1000 iterations).\n",
      " Matrix: Warning: no convergence (0.00000010<27.55750465 after 1000 iterations).\n",
      " Matrix: Warning: no convergence (0.00000010<40.68203354 after 1000 iterations).\n",
      " Matrix: Warning: no convergence (0.00000010<37.94713211 after 1000 iterations).\n",
      " Matrix: Warning: no convergence (0.00000010<16.29745102 after 1000 iterations).\n",
      " Matrix: Warning: no convergence (0.00000010<17.35237503 after 1000 iterations).\n"
     ]
    },
    {
     "name": "stderr",
     "output_type": "stream",
     "text": [
      " 65%|██████▍   | 376/581 [42:30<45:02, 13.18s/it]"
     ]
    },
    {
     "name": "stdout",
     "output_type": "stream",
     "text": [
      " Matrix: Warning: no convergence (0.00000010<40.61046219 after 1000 iterations).\n",
      " Matrix: Warning: no convergence (0.00000010<2.97927094 after 1000 iterations).\n",
      " Matrix: Warning: no convergence (0.00000010<32.00059128 after 1000 iterations).\n",
      " Matrix: Warning: no convergence (0.00000010<18.23671532 after 1000 iterations).\n",
      " Matrix: Warning: no convergence (0.00000010<4.23513651 after 1000 iterations).\n",
      " Matrix: Warning: no convergence (0.00000010<3.24283290 after 1000 iterations).\n",
      " Matrix: Warning: no convergence (0.00000010<3.43614483 after 1000 iterations).\n",
      " Matrix: Warning: no convergence (0.00000010<18.89575005 after 1000 iterations).\n",
      " Matrix: Warning: no convergence (0.00000010<11.49839687 after 1000 iterations).\n",
      " Matrix: Warning: no convergence (0.00000010<17.82803726 after 1000 iterations).\n",
      " Matrix: Warning: no convergence (0.00000010<31.45883369 after 1000 iterations).\n",
      " Matrix: Warning: no convergence (0.00000010<10.01903534 after 1000 iterations).\n",
      " Matrix: Warning: no convergence (0.00000010<30.64261818 after 1000 iterations).\n",
      " Matrix: Warning: no convergence (0.00000010<28.16243362 after 1000 iterations).\n",
      " Matrix: Warning: no convergence (0.00000010<4.31791210 after 1000 iterations).\n",
      " Matrix: Warning: no convergence (0.00000010<10.21167946 after 1000 iterations).\n",
      " Matrix: Warning: no convergence (0.00000010<9.32610226 after 1000 iterations).\n",
      " Matrix: Warning: no convergence (0.00000010<10.04356003 after 1000 iterations).\n",
      " Matrix: Warning: no convergence (0.00000010<6.03348207 after 1000 iterations).\n",
      " Matrix: Warning: no convergence (0.00000010<10.10277367 after 1000 iterations).\n",
      " Matrix: Warning: no convergence (0.00000010<4.98621750 after 1000 iterations).\n",
      " Matrix: Warning: no convergence (0.00000010<13.25678444 after 1000 iterations).\n",
      " Matrix: Warning: no convergence (0.00000010<41.41667938 after 1000 iterations).\n",
      " Matrix: Warning: no convergence (0.00000010<40.79758453 after 1000 iterations).\n",
      " Matrix: Warning: no convergence (0.00000010<40.45508194 after 1000 iterations).\n",
      " Matrix: Warning: no convergence (0.00000010<20.92136383 after 1000 iterations).\n",
      " Matrix: Warning: no convergence (0.00000010<3.42110372 after 1000 iterations).\n",
      " Matrix: Warning: no convergence (0.00000010<8.10291767 after 1000 iterations).\n",
      " Matrix: Warning: no convergence (0.00000010<697.24163818 after 1000 iterations).\n",
      " Matrix: Warning: no convergence (0.00000010<40.01919174 after 1000 iterations).\n",
      " Matrix: Warning: no convergence (0.00000010<17.64022064 after 1000 iterations).\n",
      " Matrix: Warning: no convergence (0.00000010<38.24944687 after 1000 iterations).\n",
      " Matrix: Warning: no convergence (0.00000010<41.26625061 after 1000 iterations).\n",
      " Matrix: Warning: no convergence (0.00000010<37.44170380 after 1000 iterations).\n",
      " Matrix: Warning: no convergence (0.00000010<37.74710083 after 1000 iterations).\n",
      " Matrix: Warning: no convergence (0.00000010<20.07788277 after 1000 iterations).\n",
      " Matrix: Warning: no convergence (0.00000010<41.79202271 after 1000 iterations).\n",
      " Matrix: Warning: no convergence (0.00000010<40.05437469 after 1000 iterations).\n",
      " Matrix: Warning: no convergence (0.00000010<15.38082600 after 1000 iterations).\n",
      " Matrix: Warning: no convergence (0.00000010<37.70365906 after 1000 iterations).\n",
      " Matrix: Warning: no convergence (0.00000010<2.91979575 after 1000 iterations).\n",
      " Matrix: Warning: no convergence (0.00000010<5.19432497 after 1000 iterations).\n",
      " Matrix: Warning: no convergence (0.00000010<1.59324312 after 1000 iterations).\n",
      " Matrix: Warning: no convergence (0.00000010<19.70435143 after 1000 iterations).\n",
      " Matrix: Warning: no convergence (0.00000010<40.09010696 after 1000 iterations).\n",
      " Matrix: Warning: no convergence (0.00000010<41.27425003 after 1000 iterations).\n",
      " Matrix: Warning: no convergence (0.00000010<31.32556915 after 1000 iterations).\n",
      " Matrix: Warning: no convergence (0.00000010<19.54911804 after 1000 iterations).\n",
      " Matrix: Warning: no convergence (0.00000010<16.90365028 after 1000 iterations).\n"
     ]
    },
    {
     "name": "stderr",
     "output_type": "stream",
     "text": [
      " 66%|██████▌   | 382/581 [43:39<37:50, 11.41s/it]"
     ]
    },
    {
     "name": "stdout",
     "output_type": "stream",
     "text": [
      " Matrix: Warning: no convergence (0.00000010<534.62786865 after 1000 iterations).\n"
     ]
    },
    {
     "name": "stderr",
     "output_type": "stream",
     "text": [
      " 66%|██████▌   | 384/581 [44:08<42:30, 12.95s/it]"
     ]
    },
    {
     "name": "stdout",
     "output_type": "stream",
     "text": [
      " Matrix: Warning: no convergence (0.00000010<461.13095093 after 1000 iterations).\n"
     ]
    },
    {
     "name": "stderr",
     "output_type": "stream",
     "text": [
      " 66%|██████▋   | 385/581 [44:22<43:13, 13.23s/it]"
     ]
    },
    {
     "name": "stdout",
     "output_type": "stream",
     "text": [
      " Matrix: Warning: no convergence (0.00000010<536.43377686 after 1000 iterations).\n"
     ]
    },
    {
     "name": "stderr",
     "output_type": "stream",
     "text": [
      " 68%|██████▊   | 393/581 [46:09<41:55, 13.38s/it]"
     ]
    },
    {
     "name": "stdout",
     "output_type": "stream",
     "text": [
      " Matrix: Warning: no convergence (0.00000010<100.97120667 after 1000 iterations).\n",
      " Matrix: Warning: no convergence (0.00000010<177.75856018 after 1000 iterations).\n"
     ]
    },
    {
     "name": "stderr",
     "output_type": "stream",
     "text": [
      " 68%|██████▊   | 395/581 [46:38<42:59, 13.87s/it]"
     ]
    },
    {
     "name": "stdout",
     "output_type": "stream",
     "text": [
      " Matrix: Warning: no convergence (0.00000010<271.58236694 after 1000 iterations).\n"
     ]
    },
    {
     "name": "stderr",
     "output_type": "stream",
     "text": [
      " 68%|██████▊   | 396/581 [46:55<45:53, 14.88s/it]"
     ]
    },
    {
     "name": "stdout",
     "output_type": "stream",
     "text": [
      " Matrix: Warning: no convergence (0.00000010<11.08640671 after 1000 iterations).\n"
     ]
    },
    {
     "name": "stderr",
     "output_type": "stream",
     "text": [
      " 69%|██████▊   | 398/581 [47:25<45:49, 15.02s/it]"
     ]
    },
    {
     "name": "stdout",
     "output_type": "stream",
     "text": [
      " Matrix: Warning: no convergence (0.00000010<310.92181396 after 1000 iterations).\n"
     ]
    },
    {
     "name": "stderr",
     "output_type": "stream",
     "text": [
      " 69%|██████▉   | 401/581 [48:09<44:16, 14.76s/it]"
     ]
    },
    {
     "name": "stdout",
     "output_type": "stream",
     "text": [
      " Matrix: Warning: no convergence (0.00000010<5.62433481 after 1000 iterations).\n",
      " Matrix: Warning: no convergence (0.00000010<242.82757568 after 1000 iterations).\n"
     ]
    },
    {
     "name": "stderr",
     "output_type": "stream",
     "text": [
      " 71%|███████▏  | 414/581 [51:29<42:20, 15.21s/it]"
     ]
    },
    {
     "name": "stdout",
     "output_type": "stream",
     "text": [
      " Matrix: Warning: no convergence (0.00000010<29.60606194 after 1000 iterations).\n",
      " Matrix: Warning: no convergence (0.00000010<258.87554932 after 1000 iterations).\n"
     ]
    },
    {
     "name": "stderr",
     "output_type": "stream",
     "text": [
      " 72%|███████▏  | 416/581 [52:00<42:17, 15.38s/it]"
     ]
    },
    {
     "name": "stdout",
     "output_type": "stream",
     "text": [
      " Matrix: Warning: no convergence (0.00000010<26.79266930 after 1000 iterations).\n",
      " Matrix: Warning: no convergence (0.00000010<2.97049499 after 1000 iterations).\n",
      " Matrix: Warning: no convergence (0.00000010<31.37931442 after 1000 iterations).\n",
      " Matrix: Warning: no convergence (0.00000010<18.94048691 after 1000 iterations).\n",
      " Matrix: Warning: no convergence (0.00000010<4.23195648 after 1000 iterations).\n",
      " Matrix: Warning: no convergence (0.00000010<3.24083900 after 1000 iterations).\n",
      " Matrix: Warning: no convergence (0.00000010<3.43349385 after 1000 iterations).\n",
      " Matrix: Warning: no convergence (0.00000010<19.52635574 after 1000 iterations).\n",
      " Matrix: Warning: no convergence (0.00000010<11.48807144 after 1000 iterations).\n",
      " Matrix: Warning: no convergence (0.00000010<8.91103363 after 1000 iterations).\n",
      " Matrix: Warning: no convergence (0.00000010<41.54058456 after 1000 iterations).\n",
      " Matrix: Warning: no convergence (0.00000010<9.99938869 after 1000 iterations).\n",
      " Matrix: Warning: no convergence (0.00000010<39.57071686 after 1000 iterations).\n",
      " Matrix: Warning: no convergence (0.00000010<15.29519176 after 1000 iterations).\n",
      " Matrix: Warning: no convergence (0.00000010<13.16847038 after 1000 iterations).\n",
      " Matrix: Warning: no convergence (0.00000010<3.32289886 after 1000 iterations).\n",
      " Matrix: Warning: no convergence (0.00000010<8.12254238 after 1000 iterations).\n",
      " Matrix: Warning: no convergence (0.00000010<10.17739868 after 1000 iterations).\n",
      " Matrix: Warning: no convergence (0.00000010<10.02899837 after 1000 iterations).\n",
      " Matrix: Warning: no convergence (0.00000010<1.35504889 after 1000 iterations).\n",
      " Matrix: Warning: no convergence (0.00000010<10.08430576 after 1000 iterations).\n",
      " Matrix: Warning: no convergence (0.00000010<4.65767288 after 1000 iterations).\n",
      " Matrix: Warning: no convergence (0.00000010<40.95962143 after 1000 iterations).\n",
      " Matrix: Warning: no convergence (0.00000010<13.23710155 after 1000 iterations).\n",
      " Matrix: Warning: no convergence (0.00000010<41.36463928 after 1000 iterations).\n",
      " Matrix: Warning: no convergence (0.00000010<8.15234470 after 1000 iterations).\n",
      " Matrix: Warning: no convergence (0.00000010<40.75387192 after 1000 iterations).\n",
      " Matrix: Warning: no convergence (0.00000010<40.40718842 after 1000 iterations).\n",
      " Matrix: Warning: no convergence (0.00000010<13.25679016 after 1000 iterations).\n",
      " Matrix: Warning: no convergence (0.00000010<40.73816681 after 1000 iterations).\n",
      " Matrix: Warning: no convergence (0.00000010<21.61732292 after 1000 iterations).\n",
      " Matrix: Warning: no convergence (0.00000010<20.50390434 after 1000 iterations).\n",
      " Matrix: Warning: no convergence (0.00000010<31.30244255 after 1000 iterations).\n",
      " Matrix: Warning: no convergence (0.00000010<35.72011185 after 1000 iterations).\n",
      " Matrix: Warning: no convergence (0.00000010<38.20112610 after 1000 iterations).\n",
      " Matrix: Warning: no convergence (0.00000010<41.21049881 after 1000 iterations).\n",
      " Matrix: Warning: no convergence (0.00000010<40.39732361 after 1000 iterations).\n",
      " Matrix: Warning: no convergence (0.00000010<37.92670059 after 1000 iterations).\n",
      " Matrix: Warning: no convergence (0.00000010<35.99837875 after 1000 iterations).\n",
      " Matrix: Warning: no convergence (0.00000010<35.71002960 after 1000 iterations).\n",
      " Matrix: Warning: no convergence (0.00000010<35.89318848 after 1000 iterations).\n",
      " Matrix: Warning: no convergence (0.00000010<39.25676727 after 1000 iterations).\n",
      " Matrix: Warning: no convergence (0.00000010<4.07938385 after 1000 iterations).\n",
      " Matrix: Warning: no convergence (0.00000010<28.59832954 after 1000 iterations).\n",
      " Matrix: Warning: no convergence (0.00000010<1.21369421 after 1000 iterations).\n",
      " Matrix: Warning: no convergence (0.00000010<15.68981743 after 1000 iterations).\n",
      " Matrix: Warning: no convergence (0.00000010<19.06416512 after 1000 iterations).\n",
      " Matrix: Warning: no convergence (0.00000010<1.29552615 after 1000 iterations).\n",
      " Matrix: Warning: no convergence (0.00000010<2.90864515 after 1000 iterations).\n",
      " Matrix: Warning: no convergence (0.00000010<5.16622543 after 1000 iterations).\n",
      " Matrix: Warning: no convergence (0.00000010<1.58267152 after 1000 iterations).\n",
      " Matrix: Warning: no convergence (0.00000010<11.74635983 after 1000 iterations).\n",
      " Matrix: Warning: no convergence (0.00000010<37.62193680 after 1000 iterations).\n",
      " Matrix: Warning: no convergence (0.00000010<17.24756241 after 1000 iterations).\n",
      " Matrix: Warning: no convergence (0.00000010<10.45700073 after 1000 iterations).\n",
      " Matrix: Warning: no convergence (0.00000010<33.14543533 after 1000 iterations).\n",
      " Matrix: Warning: no convergence (0.00000010<16.16671371 after 1000 iterations).\n",
      " Matrix: Warning: no convergence (0.00000010<19.50585938 after 1000 iterations).\n",
      " Matrix: Warning: no convergence (0.00000010<16.87283707 after 1000 iterations).\n",
      " Matrix: Warning: no convergence (0.00000010<22.42147064 after 1000 iterations).\n"
     ]
    },
    {
     "name": "stderr",
     "output_type": "stream",
     "text": [
      " 72%|███████▏  | 419/581 [52:50<43:50, 16.24s/it]"
     ]
    },
    {
     "name": "stdout",
     "output_type": "stream",
     "text": [
      " Matrix: Warning: no convergence (0.00000010<51.68282700 after 1000 iterations).\n",
      " Matrix: Warning: no convergence (0.00000010<90.00460815 after 1000 iterations).\n",
      " Matrix: Warning: no convergence (0.00000010<148.11358643 after 1000 iterations).\n",
      " Matrix: Warning: no convergence (0.00000010<206.31117249 after 1000 iterations).\n",
      " Matrix: Warning: no convergence (0.00000010<148.29795837 after 1000 iterations).\n"
     ]
    },
    {
     "name": "stderr",
     "output_type": "stream",
     "text": [
      " 73%|███████▎  | 422/581 [53:48<48:26, 18.28s/it]"
     ]
    },
    {
     "name": "stdout",
     "output_type": "stream",
     "text": [
      " Matrix: Warning: no convergence (0.00000010<31.66504669 after 1000 iterations).\n",
      " Matrix: Warning: no convergence (0.00000010<2.96557570 after 1000 iterations).\n",
      " Matrix: Warning: no convergence (0.00000010<2.11417365 after 1000 iterations).\n",
      " Matrix: Warning: no convergence (0.00000010<2.01295495 after 1000 iterations).\n",
      " Matrix: Warning: no convergence (0.00000010<6.16364765 after 1000 iterations).\n",
      " Matrix: Warning: no convergence (0.00000010<3.07960558 after 1000 iterations).\n",
      " Matrix: Warning: no convergence (0.00000010<4.22197247 after 1000 iterations).\n",
      " Matrix: Warning: no convergence (0.00000010<3.22766161 after 1000 iterations).\n",
      " Matrix: Warning: no convergence (0.00000010<3.42051244 after 1000 iterations).\n",
      " Matrix: Warning: no convergence (0.00000010<5.90376472 after 1000 iterations).\n",
      " Matrix: Warning: no convergence (0.00000010<5.97805023 after 1000 iterations).\n",
      " Matrix: Warning: no convergence (0.00000010<5.94667196 after 1000 iterations).\n",
      " Matrix: Warning: no convergence (0.00000010<11.52725315 after 1000 iterations).\n",
      " Matrix: Warning: no convergence (0.00000010<8.84136009 after 1000 iterations).\n",
      " Matrix: Warning: no convergence (0.00000010<14.88027859 after 1000 iterations).\n",
      " Matrix: Warning: no convergence (0.00000010<31.63752747 after 1000 iterations).\n",
      " Matrix: Warning: no convergence (0.00000010<10.05261993 after 1000 iterations).\n",
      " Matrix: Warning: no convergence (0.00000010<31.00630951 after 1000 iterations).\n",
      " Matrix: Warning: no convergence (0.00000010<2.56895590 after 1000 iterations).\n",
      " Matrix: Warning: no convergence (0.00000010<9.78653336 after 1000 iterations).\n",
      " Matrix: Warning: no convergence (0.00000010<10.90831661 after 1000 iterations).\n",
      " Matrix: Warning: no convergence (0.00000010<15.46338177 after 1000 iterations).\n",
      " Matrix: Warning: no convergence (0.00000010<10.26579094 after 1000 iterations).\n",
      " Matrix: Warning: no convergence (0.00000010<9.33504391 after 1000 iterations).\n",
      " Matrix: Warning: no convergence (0.00000010<10.08260918 after 1000 iterations).\n",
      " Matrix: Warning: no convergence (0.00000010<16.38280296 after 1000 iterations).\n",
      " Matrix: Warning: no convergence (0.00000010<18.13970947 after 1000 iterations).\n",
      " Matrix: Warning: no convergence (0.00000010<10.12530994 after 1000 iterations).\n",
      " Matrix: Warning: no convergence (0.00000010<18.20792007 after 1000 iterations).\n",
      " Matrix: Warning: no convergence (0.00000010<10.96212292 after 1000 iterations).\n",
      " Matrix: Warning: no convergence (0.00000010<16.97833633 after 1000 iterations).\n",
      " Matrix: Warning: no convergence (0.00000010<16.11741638 after 1000 iterations).\n",
      " Matrix: Warning: no convergence (0.00000010<16.89524460 after 1000 iterations).\n",
      " Matrix: Warning: no convergence (0.00000010<16.45309448 after 1000 iterations).\n",
      " Matrix: Warning: no convergence (0.00000010<15.95794201 after 1000 iterations).\n",
      " Matrix: Warning: no convergence (0.00000010<28.14739609 after 1000 iterations).\n",
      " Matrix: Warning: no convergence (0.00000010<13.28129673 after 1000 iterations).\n",
      " Matrix: Warning: no convergence (0.00000010<17.37832832 after 1000 iterations).\n",
      " Matrix: Warning: no convergence (0.00000010<40.88225174 after 1000 iterations).\n",
      " Matrix: Warning: no convergence (0.00000010<10.38068485 after 1000 iterations).\n",
      " Matrix: Warning: no convergence (0.00000010<40.61435318 after 1000 iterations).\n",
      " Matrix: Warning: no convergence (0.00000010<40.22779465 after 1000 iterations).\n",
      " Matrix: Warning: no convergence (0.00000010<40.78722763 after 1000 iterations).\n",
      " Matrix: Warning: no convergence (0.00000010<40.50238800 after 1000 iterations).\n",
      " Matrix: Warning: no convergence (0.00000010<40.91968536 after 1000 iterations).\n",
      " Matrix: Warning: no convergence (0.00000010<19.85932541 after 1000 iterations).\n",
      " Matrix: Warning: no convergence (0.00000010<34.83248520 after 1000 iterations).\n",
      " Matrix: Warning: no convergence (0.00000010<39.59503937 after 1000 iterations).\n",
      " Matrix: Warning: no convergence (0.00000010<41.06165695 after 1000 iterations).\n",
      " Matrix: Warning: no convergence (0.00000010<10.30014515 after 1000 iterations).\n",
      " Matrix: Warning: no convergence (0.00000010<40.47977448 after 1000 iterations).\n",
      " Matrix: Warning: no convergence (0.00000010<39.09196091 after 1000 iterations).\n",
      " Matrix: Warning: no convergence (0.00000010<31.26128769 after 1000 iterations).\n",
      " Matrix: Warning: no convergence (0.00000010<36.45697784 after 1000 iterations).\n",
      " Matrix: Warning: no convergence (0.00000010<39.34433746 after 1000 iterations).\n",
      " Matrix: Warning: no convergence (0.00000010<41.18113327 after 1000 iterations).\n",
      " Matrix: Warning: no convergence (0.00000010<37.85474396 after 1000 iterations).\n",
      " Matrix: Warning: no convergence (0.00000010<38.07186508 after 1000 iterations).\n",
      " Matrix: Warning: no convergence (0.00000010<41.08940506 after 1000 iterations).\n",
      " Matrix: Warning: no convergence (0.00000010<40.55130768 after 1000 iterations).\n",
      " Matrix: Warning: no convergence (0.00000010<37.82381439 after 1000 iterations).\n",
      " Matrix: Warning: no convergence (0.00000010<37.15242767 after 1000 iterations).\n",
      " Matrix: Warning: no convergence (0.00000010<37.71897507 after 1000 iterations).\n",
      " Matrix: Warning: no convergence (0.00000010<40.85917664 after 1000 iterations).\n",
      " Matrix: Warning: no convergence (0.00000010<11.44341660 after 1000 iterations).\n",
      " Matrix: Warning: no convergence (0.00000010<39.84945679 after 1000 iterations).\n",
      " Matrix: Warning: no convergence (0.00000010<41.47122955 after 1000 iterations).\n",
      " Matrix: Warning: no convergence (0.00000010<39.44235229 after 1000 iterations).\n",
      " Matrix: Warning: no convergence (0.00000010<3.85913825 after 1000 iterations).\n",
      " Matrix: Warning: no convergence (0.00000010<19.87011909 after 1000 iterations).\n",
      " Matrix: Warning: no convergence (0.00000010<1.22241652 after 1000 iterations).\n",
      " Matrix: Warning: no convergence (0.00000010<0.89060539 after 1000 iterations).\n",
      " Matrix: Warning: no convergence (0.00000010<1.20773911 after 1000 iterations).\n",
      " Matrix: Warning: no convergence (0.00000010<2.17770600 after 1000 iterations).\n",
      " Matrix: Warning: no convergence (0.00000010<40.44784164 after 1000 iterations).\n",
      " Matrix: Warning: no convergence (0.00000010<1.29561651 after 1000 iterations).\n",
      " Matrix: Warning: no convergence (0.00000010<1.87618637 after 1000 iterations).\n",
      " Matrix: Warning: no convergence (0.00000010<4.53623962 after 1000 iterations).\n",
      " Matrix: Warning: no convergence (0.00000010<8.17108822 after 1000 iterations).\n",
      " Matrix: Warning: no convergence (0.00000010<6.91348219 after 1000 iterations).\n",
      " Matrix: Warning: no convergence (0.00000010<0.80099744 after 1000 iterations).\n",
      " Matrix: Warning: no convergence (0.00000010<9.45243549 after 1000 iterations).\n",
      " Matrix: Warning: no convergence (0.00000010<2.93342638 after 1000 iterations).\n",
      " Matrix: Warning: no convergence (0.00000010<5.24615669 after 1000 iterations).\n",
      " Matrix: Warning: no convergence (0.00000010<1.59748173 after 1000 iterations).\n",
      " Matrix: Warning: no convergence (0.00000010<39.93547058 after 1000 iterations).\n",
      " Matrix: Warning: no convergence (0.00000010<17.73403931 after 1000 iterations).\n",
      " Matrix: Warning: no convergence (0.00000010<17.57368469 after 1000 iterations).\n",
      " Matrix: Warning: no convergence (0.00000010<17.69907188 after 1000 iterations).\n",
      " Matrix: Warning: no convergence (0.00000010<31.84568596 after 1000 iterations).\n",
      " Matrix: Warning: no convergence (0.00000010<31.22540283 after 1000 iterations).\n",
      " Matrix: Warning: no convergence (0.00000010<19.47364426 after 1000 iterations).\n",
      " Matrix: Warning: no convergence (0.00000010<37.58025360 after 1000 iterations).\n",
      " Matrix: Warning: no convergence (0.00000010<16.92674828 after 1000 iterations).\n"
     ]
    },
    {
     "name": "stderr",
     "output_type": "stream",
     "text": [
      " 73%|███████▎  | 424/581 [54:23<46:42, 17.85s/it]"
     ]
    },
    {
     "name": "stdout",
     "output_type": "stream",
     "text": [
      " Matrix: Warning: no convergence (0.00000010<31.49401093 after 1000 iterations).\n",
      " Matrix: Warning: no convergence (0.00000010<2.97864819 after 1000 iterations).\n",
      " Matrix: Warning: no convergence (0.00000010<2.12046075 after 1000 iterations).\n",
      " Matrix: Warning: no convergence (0.00000010<2.01908112 after 1000 iterations).\n",
      " Matrix: Warning: no convergence (0.00000010<6.17654753 after 1000 iterations).\n",
      " Matrix: Warning: no convergence (0.00000010<3.08897519 after 1000 iterations).\n",
      " Matrix: Warning: no convergence (0.00000010<4.23264170 after 1000 iterations).\n",
      " Matrix: Warning: no convergence (0.00000010<3.23585701 after 1000 iterations).\n",
      " Matrix: Warning: no convergence (0.00000010<3.42918730 after 1000 iterations).\n",
      " Matrix: Warning: no convergence (0.00000010<5.91987991 after 1000 iterations).\n",
      " Matrix: Warning: no convergence (0.00000010<5.99282360 after 1000 iterations).\n",
      " Matrix: Warning: no convergence (0.00000010<5.96077442 after 1000 iterations).\n",
      " Matrix: Warning: no convergence (0.00000010<11.51387024 after 1000 iterations).\n",
      " Matrix: Warning: no convergence (0.00000010<8.79374886 after 1000 iterations).\n",
      " Matrix: Warning: no convergence (0.00000010<16.63133812 after 1000 iterations).\n",
      " Matrix: Warning: no convergence (0.00000010<21.34648895 after 1000 iterations).\n",
      " Matrix: Warning: no convergence (0.00000010<10.04189396 after 1000 iterations).\n",
      " Matrix: Warning: no convergence (0.00000010<35.79607391 after 1000 iterations).\n",
      " Matrix: Warning: no convergence (0.00000010<13.15066624 after 1000 iterations).\n",
      " Matrix: Warning: no convergence (0.00000010<4.44896555 after 1000 iterations).\n",
      " Matrix: Warning: no convergence (0.00000010<9.76288509 after 1000 iterations).\n",
      " Matrix: Warning: no convergence (0.00000010<10.88004208 after 1000 iterations).\n",
      " Matrix: Warning: no convergence (0.00000010<15.49187946 after 1000 iterations).\n",
      " Matrix: Warning: no convergence (0.00000010<10.24155331 after 1000 iterations).\n",
      " Matrix: Warning: no convergence (0.00000010<9.33680153 after 1000 iterations).\n",
      " Matrix: Warning: no convergence (0.00000010<9.34745979 after 1000 iterations).\n",
      " Matrix: Warning: no convergence (0.00000010<10.06206417 after 1000 iterations).\n",
      " Matrix: Warning: no convergence (0.00000010<16.41411781 after 1000 iterations).\n",
      " Matrix: Warning: no convergence (0.00000010<18.17428780 after 1000 iterations).\n",
      " Matrix: Warning: no convergence (0.00000010<10.13320923 after 1000 iterations).\n",
      " Matrix: Warning: no convergence (0.00000010<40.03878403 after 1000 iterations).\n",
      " Matrix: Warning: no convergence (0.00000010<16.16023254 after 1000 iterations).\n",
      " Matrix: Warning: no convergence (0.00000010<16.92898750 after 1000 iterations).\n",
      " Matrix: Warning: no convergence (0.00000010<16.48560333 after 1000 iterations).\n",
      " Matrix: Warning: no convergence (0.00000010<15.99014473 after 1000 iterations).\n",
      " Matrix: Warning: no convergence (0.00000010<13.27423668 after 1000 iterations).\n",
      " Matrix: Warning: no convergence (0.00000010<17.40905571 after 1000 iterations).\n",
      " Matrix: Warning: no convergence (0.00000010<41.46893692 after 1000 iterations).\n",
      " Matrix: Warning: no convergence (0.00000010<40.69080734 after 1000 iterations).\n",
      " Matrix: Warning: no convergence (0.00000010<40.33462906 after 1000 iterations).\n",
      " Matrix: Warning: no convergence (0.00000010<40.85933685 after 1000 iterations).\n",
      " Matrix: Warning: no convergence (0.00000010<1.39256954 after 1000 iterations).\n",
      " Matrix: Warning: no convergence (0.00000010<40.79885101 after 1000 iterations).\n",
      " Matrix: Warning: no convergence (0.00000010<18.52436066 after 1000 iterations).\n",
      " Matrix: Warning: no convergence (0.00000010<40.41389084 after 1000 iterations).\n",
      " Matrix: Warning: no convergence (0.00000010<39.54315567 after 1000 iterations).\n",
      " Matrix: Warning: no convergence (0.00000010<20.72831726 after 1000 iterations).\n",
      " Matrix: Warning: no convergence (0.00000010<36.28685379 after 1000 iterations).\n",
      " Matrix: Warning: no convergence (0.00000010<40.50415039 after 1000 iterations).\n",
      " Matrix: Warning: no convergence (0.00000010<40.57977676 after 1000 iterations).\n",
      " Matrix: Warning: no convergence (0.00000010<40.66579437 after 1000 iterations).\n",
      " Matrix: Warning: no convergence (0.00000010<30.33218193 after 1000 iterations).\n",
      " Matrix: Warning: no convergence (0.00000010<31.15213966 after 1000 iterations).\n",
      " Matrix: Warning: no convergence (0.00000010<40.72570801 after 1000 iterations).\n",
      " Matrix: Warning: no convergence (0.00000010<39.36610413 after 1000 iterations).\n",
      " Matrix: Warning: no convergence (0.00000010<15.02115345 after 1000 iterations).\n",
      " Matrix: Warning: no convergence (0.00000010<38.13873291 after 1000 iterations).\n",
      " Matrix: Warning: no convergence (0.00000010<41.14846420 after 1000 iterations).\n",
      " Matrix: Warning: no convergence (0.00000010<40.62980270 after 1000 iterations).\n",
      " Matrix: Warning: no convergence (0.00000010<37.89099884 after 1000 iterations).\n",
      " Matrix: Warning: no convergence (0.00000010<37.21866226 after 1000 iterations).\n",
      " Matrix: Warning: no convergence (0.00000010<37.80124283 after 1000 iterations).\n",
      " Matrix: Warning: no convergence (0.00000010<18.26196671 after 1000 iterations).\n",
      " Matrix: Warning: no convergence (0.00000010<28.40268517 after 1000 iterations).\n",
      " Matrix: Warning: no convergence (0.00000010<1.84028625 after 1000 iterations).\n",
      " Matrix: Warning: no convergence (0.00000010<20.03727913 after 1000 iterations).\n",
      " Matrix: Warning: no convergence (0.00000010<3.80808425 after 1000 iterations).\n",
      " Matrix: Warning: no convergence (0.00000010<4.46854734 after 1000 iterations).\n",
      " Matrix: Warning: no convergence (0.00000010<7.10056877 after 1000 iterations).\n",
      " Matrix: Warning: no convergence (0.00000010<6.74499178 after 1000 iterations).\n",
      " Matrix: Warning: no convergence (0.00000010<0.80519742 after 1000 iterations).\n",
      " Matrix: Warning: no convergence (0.00000010<8.37132645 after 1000 iterations).\n",
      " Matrix: Warning: no convergence (0.00000010<2.90306664 after 1000 iterations).\n",
      " Matrix: Warning: no convergence (0.00000010<5.16064548 after 1000 iterations).\n",
      " Matrix: Warning: no convergence (0.00000010<1.59774673 after 1000 iterations).\n",
      " Matrix: Warning: no convergence (0.00000010<3.90878034 after 1000 iterations).\n",
      " Matrix: Warning: no convergence (0.00000010<1.41324925 after 1000 iterations).\n",
      " Matrix: Warning: no convergence (0.00000010<3.81573606 after 1000 iterations).\n",
      " Matrix: Warning: no convergence (0.00000010<40.07431793 after 1000 iterations).\n",
      " Matrix: Warning: no convergence (0.00000010<17.58665848 after 1000 iterations).\n",
      " Matrix: Warning: no convergence (0.00000010<16.01030922 after 1000 iterations).\n",
      " Matrix: Warning: no convergence (0.00000010<30.57452202 after 1000 iterations).\n",
      " Matrix: Warning: no convergence (0.00000010<25.59064674 after 1000 iterations).\n",
      " Matrix: Warning: no convergence (0.00000010<19.43330193 after 1000 iterations).\n",
      " Matrix: Warning: no convergence (0.00000010<16.90942001 after 1000 iterations).\n"
     ]
    },
    {
     "name": "stderr",
     "output_type": "stream",
     "text": [
      " 74%|███████▍  | 430/581 [56:09<45:19, 18.01s/it]"
     ]
    },
    {
     "name": "stdout",
     "output_type": "stream",
     "text": [
      " Matrix: Warning: no convergence (0.00000010<11.22774601 after 1000 iterations).\n",
      " Matrix: Warning: no convergence (0.00000010<33.68052673 after 1000 iterations).\n",
      " Matrix: Warning: no convergence (0.00000010<36.76829910 after 1000 iterations).\n",
      " Matrix: Warning: no convergence (0.00000010<14.07164764 after 1000 iterations).\n",
      " Matrix: Warning: no convergence (0.00000010<68.42096710 after 1000 iterations).\n",
      " Matrix: Warning: no convergence (0.00000010<41.95638275 after 1000 iterations).\n",
      " Matrix: Warning: no convergence (0.00000010<75.15352631 after 1000 iterations).\n",
      " Matrix: Warning: no convergence (0.00000010<59.54885483 after 1000 iterations).\n"
     ]
    },
    {
     "name": "stderr",
     "output_type": "stream",
     "text": [
      " 76%|███████▌  | 439/581 [58:29<39:54, 16.86s/it]"
     ]
    },
    {
     "name": "stdout",
     "output_type": "stream",
     "text": [
      " Matrix: Warning: no convergence (0.00000010<32.07011414 after 1000 iterations).\n",
      " Matrix: Warning: no convergence (0.00000010<2.96469808 after 1000 iterations).\n",
      " Matrix: Warning: no convergence (0.00000010<2.11595392 after 1000 iterations).\n",
      " Matrix: Warning: no convergence (0.00000010<2.01614404 after 1000 iterations).\n",
      " Matrix: Warning: no convergence (0.00000010<6.19061661 after 1000 iterations).\n",
      " Matrix: Warning: no convergence (0.00000010<3.08432126 after 1000 iterations).\n",
      " Matrix: Warning: no convergence (0.00000010<37.09093094 after 1000 iterations).\n",
      " Matrix: Warning: no convergence (0.00000010<3.42954731 after 1000 iterations).\n",
      " Matrix: Warning: no convergence (0.00000010<5.92344475 after 1000 iterations).\n",
      " Matrix: Warning: no convergence (0.00000010<5.98806620 after 1000 iterations).\n",
      " Matrix: Warning: no convergence (0.00000010<5.96525669 after 1000 iterations).\n",
      " Matrix: Warning: no convergence (0.00000010<11.47617531 after 1000 iterations).\n",
      " Matrix: Warning: no convergence (0.00000010<31.08849144 after 1000 iterations).\n",
      " Matrix: Warning: no convergence (0.00000010<30.88084030 after 1000 iterations).\n",
      " Matrix: Warning: no convergence (0.00000010<10.00117970 after 1000 iterations).\n",
      " Matrix: Warning: no convergence (0.00000010<39.37748337 after 1000 iterations).\n",
      " Matrix: Warning: no convergence (0.00000010<2.36667323 after 1000 iterations).\n",
      " Matrix: Warning: no convergence (0.00000010<9.72176361 after 1000 iterations).\n",
      " Matrix: Warning: no convergence (0.00000010<10.85457897 after 1000 iterations).\n",
      " Matrix: Warning: no convergence (0.00000010<15.49206924 after 1000 iterations).\n",
      " Matrix: Warning: no convergence (0.00000010<10.20146179 after 1000 iterations).\n",
      " Matrix: Warning: no convergence (0.00000010<9.28246021 after 1000 iterations).\n",
      " Matrix: Warning: no convergence (0.00000010<10.03072262 after 1000 iterations).\n",
      " Matrix: Warning: no convergence (0.00000010<16.41326141 after 1000 iterations).\n",
      " Matrix: Warning: no convergence (0.00000010<18.17294121 after 1000 iterations).\n",
      " Matrix: Warning: no convergence (0.00000010<10.07397175 after 1000 iterations).\n",
      " Matrix: Warning: no convergence (0.00000010<37.86629105 after 1000 iterations).\n",
      " Matrix: Warning: no convergence (0.00000010<16.12708855 after 1000 iterations).\n",
      " Matrix: Warning: no convergence (0.00000010<16.92799377 after 1000 iterations).\n",
      " Matrix: Warning: no convergence (0.00000010<16.48466110 after 1000 iterations).\n",
      " Matrix: Warning: no convergence (0.00000010<15.98884773 after 1000 iterations).\n",
      " Matrix: Warning: no convergence (0.00000010<32.42230606 after 1000 iterations).\n",
      " Matrix: Warning: no convergence (0.00000010<13.22806168 after 1000 iterations).\n",
      " Matrix: Warning: no convergence (0.00000010<17.41127205 after 1000 iterations).\n",
      " Matrix: Warning: no convergence (0.00000010<41.02144623 after 1000 iterations).\n",
      " Matrix: Warning: no convergence (0.00000010<10.32882309 after 1000 iterations).\n",
      " Matrix: Warning: no convergence (0.00000010<40.68607712 after 1000 iterations).\n",
      " Matrix: Warning: no convergence (0.00000010<40.31884003 after 1000 iterations).\n",
      " Matrix: Warning: no convergence (0.00000010<40.86141205 after 1000 iterations).\n",
      " Matrix: Warning: no convergence (0.00000010<40.57590866 after 1000 iterations).\n",
      " Matrix: Warning: no convergence (0.00000010<40.99399948 after 1000 iterations).\n",
      " Matrix: Warning: no convergence (0.00000010<35.46287918 after 1000 iterations).\n",
      " Matrix: Warning: no convergence (0.00000010<39.67642593 after 1000 iterations).\n",
      " Matrix: Warning: no convergence (0.00000010<10.43093300 after 1000 iterations).\n",
      " Matrix: Warning: no convergence (0.00000010<38.39954376 after 1000 iterations).\n",
      " Matrix: Warning: no convergence (0.00000010<35.59883118 after 1000 iterations).\n",
      " Matrix: Warning: no convergence (0.00000010<39.41538239 after 1000 iterations).\n",
      " Matrix: Warning: no convergence (0.00000010<41.25489807 after 1000 iterations).\n",
      " Matrix: Warning: no convergence (0.00000010<37.92403412 after 1000 iterations).\n",
      " Matrix: Warning: no convergence (0.00000010<38.14042282 after 1000 iterations).\n",
      " Matrix: Warning: no convergence (0.00000010<41.16114044 after 1000 iterations).\n",
      " Matrix: Warning: no convergence (0.00000010<40.62642288 after 1000 iterations).\n",
      " Matrix: Warning: no convergence (0.00000010<37.89273453 after 1000 iterations).\n",
      " Matrix: Warning: no convergence (0.00000010<37.83919144 after 1000 iterations).\n",
      " Matrix: Warning: no convergence (0.00000010<40.97161484 after 1000 iterations).\n",
      " Matrix: Warning: no convergence (0.00000010<40.58547974 after 1000 iterations).\n",
      " Matrix: Warning: no convergence (0.00000010<40.32514191 after 1000 iterations).\n",
      " Matrix: Warning: no convergence (0.00000010<41.20166016 after 1000 iterations).\n",
      " Matrix: Warning: no convergence (0.00000010<3.87683058 after 1000 iterations).\n",
      " Matrix: Warning: no convergence (0.00000010<19.33906555 after 1000 iterations).\n",
      " Matrix: Warning: no convergence (0.00000010<34.01829910 after 1000 iterations).\n",
      " Matrix: Warning: no convergence (0.00000010<2.18326998 after 1000 iterations).\n",
      " Matrix: Warning: no convergence (0.00000010<13.15824890 after 1000 iterations).\n",
      " Matrix: Warning: no convergence (0.00000010<4.53935194 after 1000 iterations).\n",
      " Matrix: Warning: no convergence (0.00000010<33.81424713 after 1000 iterations).\n",
      " Matrix: Warning: no convergence (0.00000010<6.85437536 after 1000 iterations).\n",
      " Matrix: Warning: no convergence (0.00000010<9.48023319 after 1000 iterations).\n",
      " Matrix: Warning: no convergence (0.00000010<5.24486589 after 1000 iterations).\n",
      " Matrix: Warning: no convergence (0.00000010<1.60114384 after 1000 iterations).\n",
      " Matrix: Warning: no convergence (0.00000010<39.31256104 after 1000 iterations).\n",
      " Matrix: Warning: no convergence (0.00000010<16.40429306 after 1000 iterations).\n",
      " Matrix: Warning: no convergence (0.00000010<17.68401146 after 1000 iterations).\n",
      " Matrix: Warning: no convergence (0.00000010<18.12929344 after 1000 iterations).\n",
      " Matrix: Warning: no convergence (0.00000010<31.83303070 after 1000 iterations).\n",
      " Matrix: Warning: no convergence (0.00000010<35.43931580 after 1000 iterations).\n",
      " Matrix: Warning: no convergence (0.00000010<19.55130005 after 1000 iterations).\n"
     ]
    },
    {
     "name": "stderr",
     "output_type": "stream",
     "text": [
      " 76%|███████▌  | 441/581 [59:00<37:26, 16.05s/it]"
     ]
    },
    {
     "name": "stdout",
     "output_type": "stream",
     "text": [
      " Matrix: Warning: no convergence (0.00000010<11.27362633 after 1000 iterations).\n",
      " Matrix: Warning: no convergence (0.00000010<34.73313522 after 1000 iterations).\n",
      " Matrix: Warning: no convergence (0.00000010<47.89035034 after 1000 iterations).\n",
      " Matrix: Warning: no convergence (0.00000010<13.04702187 after 1000 iterations).\n",
      " Matrix: Warning: no convergence (0.00000010<67.86849213 after 1000 iterations).\n",
      " Matrix: Warning: no convergence (0.00000010<42.52878571 after 1000 iterations).\n",
      " Matrix: Warning: no convergence (0.00000010<75.44457245 after 1000 iterations).\n",
      " Matrix: Warning: no convergence (0.00000010<59.82751465 after 1000 iterations).\n"
     ]
    },
    {
     "name": "stderr",
     "output_type": "stream",
     "text": [
      " 76%|███████▌  | 442/581 [59:15<36:45, 15.87s/it]"
     ]
    },
    {
     "name": "stdout",
     "output_type": "stream",
     "text": [
      " Matrix: Warning: no convergence (0.00000010<519.86773682 after 1000 iterations).\n",
      " Matrix: Warning: no convergence (0.00000010<10.24978161 after 1000 iterations).\n",
      " Matrix: Warning: no convergence (0.00000010<2.96080542 after 1000 iterations).\n",
      " Matrix: Warning: no convergence (0.00000010<31.20870209 after 1000 iterations).\n",
      " Matrix: Warning: no convergence (0.00000010<18.74462891 after 1000 iterations).\n",
      " Matrix: Warning: no convergence (0.00000010<4.21034431 after 1000 iterations).\n",
      " Matrix: Warning: no convergence (0.00000010<3.22271132 after 1000 iterations).\n",
      " Matrix: Warning: no convergence (0.00000010<3.41483212 after 1000 iterations).\n",
      " Matrix: Warning: no convergence (0.00000010<19.32142067 after 1000 iterations).\n",
      " Matrix: Warning: no convergence (0.00000010<8.21205425 after 1000 iterations).\n",
      " Matrix: Warning: no convergence (0.00000010<569.61309814 after 1000 iterations).\n",
      " Matrix: Warning: no convergence (0.00000010<224.13609314 after 1000 iterations).\n",
      " Matrix: Warning: no convergence (0.00000010<245.46301270 after 1000 iterations).\n",
      " Matrix: Warning: no convergence (0.00000010<258.16091919 after 1000 iterations).\n",
      " Matrix: Warning: no convergence (0.00000010<232.77783203 after 1000 iterations).\n",
      " Matrix: Warning: no convergence (0.00000010<11.39085197 after 1000 iterations).\n",
      " Matrix: Warning: no convergence (0.00000010<792.82403564 after 1000 iterations).\n",
      " Matrix: Warning: no convergence (0.00000010<7.65828562 after 1000 iterations).\n",
      " Matrix: Warning: no convergence (0.00000010<8.69289970 after 1000 iterations).\n",
      " Matrix: Warning: no convergence (0.00000010<15.28360367 after 1000 iterations).\n",
      " Matrix: Warning: no convergence (0.00000010<36.64033890 after 1000 iterations).\n",
      " Matrix: Warning: no convergence (0.00000010<9.91611195 after 1000 iterations).\n",
      " Matrix: Warning: no convergence (0.00000010<33.31747437 after 1000 iterations).\n",
      " Matrix: Warning: no convergence (0.00000010<13.08805752 after 1000 iterations).\n",
      " Matrix: Warning: no convergence (0.00000010<38.25455093 after 1000 iterations).\n",
      " Matrix: Warning: no convergence (0.00000010<3.29071951 after 1000 iterations).\n",
      " Matrix: Warning: no convergence (0.00000010<8.06446075 after 1000 iterations).\n",
      " Matrix: Warning: no convergence (0.00000010<9.20128727 after 1000 iterations).\n",
      " Matrix: Warning: no convergence (0.00000010<10.12158871 after 1000 iterations).\n",
      " Matrix: Warning: no convergence (0.00000010<9.95490932 after 1000 iterations).\n",
      " Matrix: Warning: no convergence (0.00000010<1.18036067 after 1000 iterations).\n",
      " Matrix: Warning: no convergence (0.00000010<9.96951294 after 1000 iterations).\n",
      " Matrix: Warning: no convergence (0.00000010<4.56148863 after 1000 iterations).\n",
      " Matrix: Warning: no convergence (0.00000010<40.72754669 after 1000 iterations).\n",
      " Matrix: Warning: no convergence (0.00000010<13.12315083 after 1000 iterations).\n",
      " Matrix: Warning: no convergence (0.00000010<7.22681761 after 1000 iterations).\n",
      " Matrix: Warning: no convergence (0.00000010<41.18674469 after 1000 iterations).\n",
      " Matrix: Warning: no convergence (0.00000010<8.06558895 after 1000 iterations).\n",
      " Matrix: Warning: no convergence (0.00000010<31.19607544 after 1000 iterations).\n",
      " Matrix: Warning: no convergence (0.00000010<40.16856003 after 1000 iterations).\n",
      " Matrix: Warning: no convergence (0.00000010<40.11217880 after 1000 iterations).\n",
      " Matrix: Warning: no convergence (0.00000010<39.88011551 after 1000 iterations).\n",
      " Matrix: Warning: no convergence (0.00000010<39.37650681 after 1000 iterations).\n",
      " Matrix: Warning: no convergence (0.00000010<40.50930023 after 1000 iterations).\n",
      " Matrix: Warning: no convergence (0.00000010<36.06747818 after 1000 iterations).\n",
      " Matrix: Warning: no convergence (0.00000010<6.90384579 after 1000 iterations).\n",
      " Matrix: Warning: no convergence (0.00000010<10.29550266 after 1000 iterations).\n",
      " Matrix: Warning: no convergence (0.00000010<38.89792252 after 1000 iterations).\n",
      " Matrix: Warning: no convergence (0.00000010<37.85249329 after 1000 iterations).\n",
      " Matrix: Warning: no convergence (0.00000010<40.82001114 after 1000 iterations).\n",
      " Matrix: Warning: no convergence (0.00000010<33.13660431 after 1000 iterations).\n",
      " Matrix: Warning: no convergence (0.00000010<37.99995804 after 1000 iterations).\n",
      " Matrix: Warning: no convergence (0.00000010<41.01957703 after 1000 iterations).\n",
      " Matrix: Warning: no convergence (0.00000010<40.29001999 after 1000 iterations).\n",
      " Matrix: Warning: no convergence (0.00000010<37.69480515 after 1000 iterations).\n",
      " Matrix: Warning: no convergence (0.00000010<497.72839355 after 1000 iterations).\n",
      " Matrix: Warning: no convergence (0.00000010<17.76512909 after 1000 iterations).\n",
      " Matrix: Warning: no convergence (0.00000010<403.26382446 after 1000 iterations).\n",
      " Matrix: Warning: no convergence (0.00000010<1.91767538 after 1000 iterations).\n",
      " Matrix: Warning: no convergence (0.00000010<1.82983303 after 1000 iterations).\n",
      " Matrix: Warning: no convergence (0.00000010<11.18779755 after 1000 iterations).\n",
      " Matrix: Warning: no convergence (0.00000010<4.15416908 after 1000 iterations).\n",
      " Matrix: Warning: no convergence (0.00000010<40.98442459 after 1000 iterations).\n",
      " Matrix: Warning: no convergence (0.00000010<15.42488575 after 1000 iterations).\n",
      " Matrix: Warning: no convergence (0.00000010<18.76628685 after 1000 iterations).\n",
      " Matrix: Warning: no convergence (0.00000010<2.95734906 after 1000 iterations).\n",
      " Matrix: Warning: no convergence (0.00000010<5.27653742 after 1000 iterations).\n",
      " Matrix: Warning: no convergence (0.00000010<1.59669375 after 1000 iterations).\n",
      " Matrix: Warning: no convergence (0.00000010<2.48219681 after 1000 iterations).\n",
      " Matrix: Warning: no convergence (0.00000010<37.32025528 after 1000 iterations).\n",
      " Matrix: Warning: no convergence (0.00000010<17.27010727 after 1000 iterations).\n",
      " Matrix: Warning: no convergence (0.00000010<10.40820408 after 1000 iterations).\n",
      " Matrix: Warning: no convergence (0.00000010<32.28157043 after 1000 iterations).\n",
      " Matrix: Warning: no convergence (0.00000010<16.24134827 after 1000 iterations).\n",
      " Matrix: Warning: no convergence (0.00000010<19.57827187 after 1000 iterations).\n",
      " Matrix: Warning: no convergence (0.00000010<16.76950264 after 1000 iterations).\n",
      " Matrix: Warning: no convergence (0.00000010<22.30672646 after 1000 iterations).\n"
     ]
    },
    {
     "name": "stderr",
     "output_type": "stream",
     "text": [
      " 77%|███████▋  | 446/581 [1:00:15<34:00, 15.11s/it]"
     ]
    },
    {
     "name": "stdout",
     "output_type": "stream",
     "text": [
      " Matrix: Warning: no convergence (0.00000010<40.48953247 after 1000 iterations).\n",
      " Matrix: Warning: no convergence (0.00000010<2.96660018 after 1000 iterations).\n",
      " Matrix: Warning: no convergence (0.00000010<2.11383152 after 1000 iterations).\n",
      " Matrix: Warning: no convergence (0.00000010<2.01264000 after 1000 iterations).\n",
      " Matrix: Warning: no convergence (0.00000010<6.20031834 after 1000 iterations).\n",
      " Matrix: Warning: no convergence (0.00000010<3.07975316 after 1000 iterations).\n",
      " Matrix: Warning: no convergence (0.00000010<4.22448540 after 1000 iterations).\n",
      " Matrix: Warning: no convergence (0.00000010<3.22970796 after 1000 iterations).\n",
      " Matrix: Warning: no convergence (0.00000010<3.42249131 after 1000 iterations).\n",
      " Matrix: Warning: no convergence (0.00000010<5.93082905 after 1000 iterations).\n",
      " Matrix: Warning: no convergence (0.00000010<5.98228979 after 1000 iterations).\n",
      " Matrix: Warning: no convergence (0.00000010<5.97289181 after 1000 iterations).\n",
      " Matrix: Warning: no convergence (0.00000010<8.77689934 after 1000 iterations).\n",
      " Matrix: Warning: no convergence (0.00000010<14.89960098 after 1000 iterations).\n",
      " Matrix: Warning: no convergence (0.00000010<40.54838181 after 1000 iterations).\n",
      " Matrix: Warning: no convergence (0.00000010<9.98969173 after 1000 iterations).\n",
      " Matrix: Warning: no convergence (0.00000010<39.61462021 after 1000 iterations).\n",
      " Matrix: Warning: no convergence (0.00000010<5.03975582 after 1000 iterations).\n",
      " Matrix: Warning: no convergence (0.00000010<9.69790173 after 1000 iterations).\n",
      " Matrix: Warning: no convergence (0.00000010<10.84297943 after 1000 iterations).\n",
      " Matrix: Warning: no convergence (0.00000010<15.48192215 after 1000 iterations).\n",
      " Matrix: Warning: no convergence (0.00000010<10.17708397 after 1000 iterations).\n",
      " Matrix: Warning: no convergence (0.00000010<9.27717209 after 1000 iterations).\n",
      " Matrix: Warning: no convergence (0.00000010<10.01867199 after 1000 iterations).\n",
      " Matrix: Warning: no convergence (0.00000010<16.40140533 after 1000 iterations).\n",
      " Matrix: Warning: no convergence (0.00000010<18.16140175 after 1000 iterations).\n",
      " Matrix: Warning: no convergence (0.00000010<10.06780434 after 1000 iterations).\n",
      " Matrix: Warning: no convergence (0.00000010<18.23078918 after 1000 iterations).\n",
      " Matrix: Warning: no convergence (0.00000010<10.89990520 after 1000 iterations).\n",
      " Matrix: Warning: no convergence (0.00000010<16.99632645 after 1000 iterations).\n",
      " Matrix: Warning: no convergence (0.00000010<16.13565445 after 1000 iterations).\n",
      " Matrix: Warning: no convergence (0.00000010<16.91439247 after 1000 iterations).\n",
      " Matrix: Warning: no convergence (0.00000010<16.47157097 after 1000 iterations).\n",
      " Matrix: Warning: no convergence (0.00000010<15.97494507 after 1000 iterations).\n",
      " Matrix: Warning: no convergence (0.00000010<13.21708012 after 1000 iterations).\n",
      " Matrix: Warning: no convergence (0.00000010<17.40058899 after 1000 iterations).\n",
      " Matrix: Warning: no convergence (0.00000010<41.06841278 after 1000 iterations).\n",
      " Matrix: Warning: no convergence (0.00000010<40.66230011 after 1000 iterations).\n",
      " Matrix: Warning: no convergence (0.00000010<40.30025101 after 1000 iterations).\n",
      " Matrix: Warning: no convergence (0.00000010<40.84157944 after 1000 iterations).\n",
      " Matrix: Warning: no convergence (0.00000010<40.55574417 after 1000 iterations).\n",
      " Matrix: Warning: no convergence (0.00000010<13.13930321 after 1000 iterations).\n",
      " Matrix: Warning: no convergence (0.00000010<37.55318451 after 1000 iterations).\n",
      " Matrix: Warning: no convergence (0.00000010<39.66271591 after 1000 iterations).\n",
      " Matrix: Warning: no convergence (0.00000010<41.11548233 after 1000 iterations).\n",
      " Matrix: Warning: no convergence (0.00000010<8.85247326 after 1000 iterations).\n",
      " Matrix: Warning: no convergence (0.00000010<40.54761505 after 1000 iterations).\n",
      " Matrix: Warning: no convergence (0.00000010<39.09830093 after 1000 iterations).\n",
      " Matrix: Warning: no convergence (0.00000010<39.57857895 after 1000 iterations).\n",
      " Matrix: Warning: no convergence (0.00000010<37.47862625 after 1000 iterations).\n",
      " Matrix: Warning: no convergence (0.00000010<39.60145187 after 1000 iterations).\n",
      " Matrix: Warning: no convergence (0.00000010<39.37255478 after 1000 iterations).\n",
      " Matrix: Warning: no convergence (0.00000010<41.23114395 after 1000 iterations).\n",
      " Matrix: Warning: no convergence (0.00000010<37.90741730 after 1000 iterations).\n",
      " Matrix: Warning: no convergence (0.00000010<38.12172699 after 1000 iterations).\n",
      " Matrix: Warning: no convergence (0.00000010<41.13302231 after 1000 iterations).\n",
      " Matrix: Warning: no convergence (0.00000010<40.60334396 after 1000 iterations).\n",
      " Matrix: Warning: no convergence (0.00000010<37.87410736 after 1000 iterations).\n",
      " Matrix: Warning: no convergence (0.00000010<37.20111465 after 1000 iterations).\n",
      " Matrix: Warning: no convergence (0.00000010<37.85617065 after 1000 iterations).\n",
      " Matrix: Warning: no convergence (0.00000010<40.91108704 after 1000 iterations).\n",
      " Matrix: Warning: no convergence (0.00000010<11.44069386 after 1000 iterations).\n",
      " Matrix: Warning: no convergence (0.00000010<35.75334167 after 1000 iterations).\n",
      " Matrix: Warning: no convergence (0.00000010<35.92243958 after 1000 iterations).\n",
      " Matrix: Warning: no convergence (0.00000010<3.85688090 after 1000 iterations).\n",
      " Matrix: Warning: no convergence (0.00000010<17.32015800 after 1000 iterations).\n",
      " Matrix: Warning: no convergence (0.00000010<1.22189796 after 1000 iterations).\n",
      " Matrix: Warning: no convergence (0.00000010<0.88973880 after 1000 iterations).\n",
      " Matrix: Warning: no convergence (0.00000010<1.20654130 after 1000 iterations).\n",
      " Matrix: Warning: no convergence (0.00000010<2.17811346 after 1000 iterations).\n",
      " Matrix: Warning: no convergence (0.00000010<18.80327034 after 1000 iterations).\n",
      " Matrix: Warning: no convergence (0.00000010<1.29836822 after 1000 iterations).\n",
      " Matrix: Warning: no convergence (0.00000010<1.87573099 after 1000 iterations).\n",
      " Matrix: Warning: no convergence (0.00000010<4.51597309 after 1000 iterations).\n",
      " Matrix: Warning: no convergence (0.00000010<8.12630558 after 1000 iterations).\n",
      " Matrix: Warning: no convergence (0.00000010<6.87188768 after 1000 iterations).\n",
      " Matrix: Warning: no convergence (0.00000010<0.79882091 after 1000 iterations).\n",
      " Matrix: Warning: no convergence (0.00000010<9.45506859 after 1000 iterations).\n",
      " Matrix: Warning: no convergence (0.00000010<2.92759109 after 1000 iterations).\n",
      " Matrix: Warning: no convergence (0.00000010<5.21971846 after 1000 iterations).\n",
      " Matrix: Warning: no convergence (0.00000010<1.59620702 after 1000 iterations).\n",
      " Matrix: Warning: no convergence (0.00000010<17.23618889 after 1000 iterations).\n",
      " Matrix: Warning: no convergence (0.00000010<11.64690113 after 1000 iterations).\n",
      " Matrix: Warning: no convergence (0.00000010<17.66850853 after 1000 iterations).\n",
      " Matrix: Warning: no convergence (0.00000010<18.15546036 after 1000 iterations).\n",
      " Matrix: Warning: no convergence (0.00000010<31.84221268 after 1000 iterations).\n",
      " Matrix: Warning: no convergence (0.00000010<33.39027023 after 1000 iterations).\n",
      " Matrix: Warning: no convergence (0.00000010<19.52928734 after 1000 iterations).\n",
      " Matrix: Warning: no convergence (0.00000010<36.55463409 after 1000 iterations).\n",
      " Matrix: Warning: no convergence (0.00000010<16.85409737 after 1000 iterations).\n"
     ]
    },
    {
     "name": "stderr",
     "output_type": "stream",
     "text": [
      " 78%|███████▊  | 453/581 [1:01:58<30:33, 14.32s/it]"
     ]
    },
    {
     "name": "stdout",
     "output_type": "stream",
     "text": [
      " Matrix: Warning: no convergence (0.00000010<31.19527245 after 1000 iterations).\n",
      " Matrix: Warning: no convergence (0.00000010<2.95701981 after 1000 iterations).\n",
      " Matrix: Warning: no convergence (0.00000010<2.10819530 after 1000 iterations).\n",
      " Matrix: Warning: no convergence (0.00000010<2.00919032 after 1000 iterations).\n",
      " Matrix: Warning: no convergence (0.00000010<6.16987371 after 1000 iterations).\n",
      " Matrix: Warning: no convergence (0.00000010<3.07432628 after 1000 iterations).\n",
      " Matrix: Warning: no convergence (0.00000010<4.21681070 after 1000 iterations).\n",
      " Matrix: Warning: no convergence (0.00000010<3.22375917 after 1000 iterations).\n",
      " Matrix: Warning: no convergence (0.00000010<3.41631675 after 1000 iterations).\n",
      " Matrix: Warning: no convergence (0.00000010<5.90282202 after 1000 iterations).\n",
      " Matrix: Warning: no convergence (0.00000010<5.97140598 after 1000 iterations).\n",
      " Matrix: Warning: no convergence (0.00000010<5.94569826 after 1000 iterations).\n",
      " Matrix: Warning: no convergence (0.00000010<11.50751877 after 1000 iterations).\n",
      " Matrix: Warning: no convergence (0.00000010<18.83182526 after 1000 iterations).\n",
      " Matrix: Warning: no convergence (0.00000010<32.13788605 after 1000 iterations).\n",
      " Matrix: Warning: no convergence (0.00000010<10.04271126 after 1000 iterations).\n",
      " Matrix: Warning: no convergence (0.00000010<39.66753769 after 1000 iterations).\n",
      " Matrix: Warning: no convergence (0.00000010<1.85876322 after 1000 iterations).\n",
      " Matrix: Warning: no convergence (0.00000010<9.76394749 after 1000 iterations).\n",
      " Matrix: Warning: no convergence (0.00000010<10.90166187 after 1000 iterations).\n",
      " Matrix: Warning: no convergence (0.00000010<15.45432663 after 1000 iterations).\n",
      " Matrix: Warning: no convergence (0.00000010<10.24382305 after 1000 iterations).\n",
      " Matrix: Warning: no convergence (0.00000010<9.33087730 after 1000 iterations).\n",
      " Matrix: Warning: no convergence (0.00000010<9.35165787 after 1000 iterations).\n",
      " Matrix: Warning: no convergence (0.00000010<10.07029152 after 1000 iterations).\n",
      " Matrix: Warning: no convergence (0.00000010<16.37218094 after 1000 iterations).\n",
      " Matrix: Warning: no convergence (0.00000010<18.12884331 after 1000 iterations).\n",
      " Matrix: Warning: no convergence (0.00000010<10.11630535 after 1000 iterations).\n",
      " Matrix: Warning: no convergence (0.00000010<39.94976425 after 1000 iterations).\n",
      " Matrix: Warning: no convergence (0.00000010<16.11906815 after 1000 iterations).\n",
      " Matrix: Warning: no convergence (0.00000010<16.88423538 after 1000 iterations).\n",
      " Matrix: Warning: no convergence (0.00000010<16.44227791 after 1000 iterations).\n",
      " Matrix: Warning: no convergence (0.00000010<15.94670200 after 1000 iterations).\n",
      " Matrix: Warning: no convergence (0.00000010<41.15621948 after 1000 iterations).\n",
      " Matrix: Warning: no convergence (0.00000010<13.26764679 after 1000 iterations).\n",
      " Matrix: Warning: no convergence (0.00000010<17.36927795 after 1000 iterations).\n",
      " Matrix: Warning: no convergence (0.00000010<40.99934387 after 1000 iterations).\n",
      " Matrix: Warning: no convergence (0.00000010<10.36486149 after 1000 iterations).\n",
      " Matrix: Warning: no convergence (0.00000010<40.58982468 after 1000 iterations).\n",
      " Matrix: Warning: no convergence (0.00000010<40.19591522 after 1000 iterations).\n",
      " Matrix: Warning: no convergence (0.00000010<40.76824570 after 1000 iterations).\n",
      " Matrix: Warning: no convergence (0.00000010<40.48300552 after 1000 iterations).\n",
      " Matrix: Warning: no convergence (0.00000010<40.90005493 after 1000 iterations).\n",
      " Matrix: Warning: no convergence (0.00000010<13.26438904 after 1000 iterations).\n",
      " Matrix: Warning: no convergence (0.00000010<31.10089684 after 1000 iterations).\n",
      " Matrix: Warning: no convergence (0.00000010<16.82817841 after 1000 iterations).\n",
      " Matrix: Warning: no convergence (0.00000010<8.93236446 after 1000 iterations).\n",
      " Matrix: Warning: no convergence (0.00000010<40.45337296 after 1000 iterations).\n",
      " Matrix: Warning: no convergence (0.00000010<20.36224174 after 1000 iterations).\n",
      " Matrix: Warning: no convergence (0.00000010<30.99089050 after 1000 iterations).\n",
      " Matrix: Warning: no convergence (0.00000010<39.31448746 after 1000 iterations).\n",
      " Matrix: Warning: no convergence (0.00000010<35.35848236 after 1000 iterations).\n",
      " Matrix: Warning: no convergence (0.00000010<38.04946136 after 1000 iterations).\n",
      " Matrix: Warning: no convergence (0.00000010<41.06993866 after 1000 iterations).\n",
      " Matrix: Warning: no convergence (0.00000010<40.52649307 after 1000 iterations).\n",
      " Matrix: Warning: no convergence (0.00000010<37.80636597 after 1000 iterations).\n",
      " Matrix: Warning: no convergence (0.00000010<37.13457489 after 1000 iterations).\n",
      " Matrix: Warning: no convergence (0.00000010<37.72446442 after 1000 iterations).\n",
      " Matrix: Warning: no convergence (0.00000010<20.27680016 after 1000 iterations).\n",
      " Matrix: Warning: no convergence (0.00000010<35.85478592 after 1000 iterations).\n",
      " Matrix: Warning: no convergence (0.00000010<39.15965271 after 1000 iterations).\n",
      " Matrix: Warning: no convergence (0.00000010<3.87257648 after 1000 iterations).\n",
      " Matrix: Warning: no convergence (0.00000010<4.54932642 after 1000 iterations).\n",
      " Matrix: Warning: no convergence (0.00000010<7.20940542 after 1000 iterations).\n",
      " Matrix: Warning: no convergence (0.00000010<6.85390997 after 1000 iterations).\n",
      " Matrix: Warning: no convergence (0.00000010<0.79792279 after 1000 iterations).\n",
      " Matrix: Warning: no convergence (0.00000010<8.46871758 after 1000 iterations).\n",
      " Matrix: Warning: no convergence (0.00000010<2.94522119 after 1000 iterations).\n",
      " Matrix: Warning: no convergence (0.00000010<5.26654148 after 1000 iterations).\n",
      " Matrix: Warning: no convergence (0.00000010<1.59390140 after 1000 iterations).\n",
      " Matrix: Warning: no convergence (0.00000010<17.41272354 after 1000 iterations).\n",
      " Matrix: Warning: no convergence (0.00000010<11.80664158 after 1000 iterations).\n",
      " Matrix: Warning: no convergence (0.00000010<17.57997131 after 1000 iterations).\n",
      " Matrix: Warning: no convergence (0.00000010<16.36807632 after 1000 iterations).\n",
      " Matrix: Warning: no convergence (0.00000010<30.78426933 after 1000 iterations).\n",
      " Matrix: Warning: no convergence (0.00000010<33.43263626 after 1000 iterations).\n",
      " Matrix: Warning: no convergence (0.00000010<19.50882721 after 1000 iterations).\n",
      " Matrix: Warning: no convergence (0.00000010<16.91237450 after 1000 iterations).\n"
     ]
    },
    {
     "name": "stderr",
     "output_type": "stream",
     "text": [
      " 78%|███████▊  | 456/581 [1:02:50<34:00, 16.33s/it]"
     ]
    },
    {
     "name": "stdout",
     "output_type": "stream",
     "text": [
      " Matrix: Warning: no convergence (0.00000010<31.66696930 after 1000 iterations).\n",
      " Matrix: Warning: no convergence (0.00000010<2.97220564 after 1000 iterations).\n",
      " Matrix: Warning: no convergence (0.00000010<2.11819386 after 1000 iterations).\n",
      " Matrix: Warning: no convergence (0.00000010<2.01682353 after 1000 iterations).\n",
      " Matrix: Warning: no convergence (0.00000010<6.20052195 after 1000 iterations).\n",
      " Matrix: Warning: no convergence (0.00000010<3.08547091 after 1000 iterations).\n",
      " Matrix: Warning: no convergence (0.00000010<4.23144674 after 1000 iterations).\n",
      " Matrix: Warning: no convergence (0.00000010<3.23493624 after 1000 iterations).\n",
      " Matrix: Warning: no convergence (0.00000010<3.42801547 after 1000 iterations).\n",
      " Matrix: Warning: no convergence (0.00000010<5.94358349 after 1000 iterations).\n",
      " Matrix: Warning: no convergence (0.00000010<5.99116707 after 1000 iterations).\n",
      " Matrix: Warning: no convergence (0.00000010<5.98619986 after 1000 iterations).\n",
      " Matrix: Warning: no convergence (0.00000010<11.56279659 after 1000 iterations).\n",
      " Matrix: Warning: no convergence (0.00000010<8.76048946 after 1000 iterations).\n",
      " Matrix: Warning: no convergence (0.00000010<17.99529266 after 1000 iterations).\n",
      " Matrix: Warning: no convergence (0.00000010<37.91215515 after 1000 iterations).\n",
      " Matrix: Warning: no convergence (0.00000010<10.04226112 after 1000 iterations).\n",
      " Matrix: Warning: no convergence (0.00000010<39.91316223 after 1000 iterations).\n",
      " Matrix: Warning: no convergence (0.00000010<13.15366459 after 1000 iterations).\n",
      " Matrix: Warning: no convergence (0.00000010<3.89622831 after 1000 iterations).\n",
      " Matrix: Warning: no convergence (0.00000010<9.74487019 after 1000 iterations).\n",
      " Matrix: Warning: no convergence (0.00000010<10.84883690 after 1000 iterations).\n",
      " Matrix: Warning: no convergence (0.00000010<15.49843407 after 1000 iterations).\n",
      " Matrix: Warning: no convergence (0.00000010<10.22300720 after 1000 iterations).\n",
      " Matrix: Warning: no convergence (0.00000010<9.34660721 after 1000 iterations).\n",
      " Matrix: Warning: no convergence (0.00000010<9.35019302 after 1000 iterations).\n",
      " Matrix: Warning: no convergence (0.00000010<10.06251240 after 1000 iterations).\n",
      " Matrix: Warning: no convergence (0.00000010<16.41891289 after 1000 iterations).\n",
      " Matrix: Warning: no convergence (0.00000010<18.18122864 after 1000 iterations).\n",
      " Matrix: Warning: no convergence (0.00000010<10.17083645 after 1000 iterations).\n",
      " Matrix: Warning: no convergence (0.00000010<40.10128784 after 1000 iterations).\n",
      " Matrix: Warning: no convergence (0.00000010<16.16697121 after 1000 iterations).\n",
      " Matrix: Warning: no convergence (0.00000010<16.93323517 after 1000 iterations).\n",
      " Matrix: Warning: no convergence (0.00000010<16.49048042 after 1000 iterations).\n",
      " Matrix: Warning: no convergence (0.00000010<15.99373436 after 1000 iterations).\n",
      " Matrix: Warning: no convergence (0.00000010<13.30213165 after 1000 iterations).\n",
      " Matrix: Warning: no convergence (0.00000010<17.41820908 after 1000 iterations).\n",
      " Matrix: Warning: no convergence (0.00000010<41.43123627 after 1000 iterations).\n",
      " Matrix: Warning: no convergence (0.00000010<40.70903015 after 1000 iterations).\n",
      " Matrix: Warning: no convergence (0.00000010<40.44383621 after 1000 iterations).\n",
      " Matrix: Warning: no convergence (0.00000010<40.88539886 after 1000 iterations).\n",
      " Matrix: Warning: no convergence (0.00000010<40.59976578 after 1000 iterations).\n",
      " Matrix: Warning: no convergence (0.00000010<1.38457978 after 1000 iterations).\n",
      " Matrix: Warning: no convergence (0.00000010<40.82433701 after 1000 iterations).\n",
      " Matrix: Warning: no convergence (0.00000010<29.56977463 after 1000 iterations).\n",
      " Matrix: Warning: no convergence (0.00000010<184.11763000 after 1000 iterations).\n",
      " Matrix: Warning: no convergence (0.00000010<30.29628944 after 1000 iterations).\n",
      " Matrix: Warning: no convergence (0.00000010<39.65107346 after 1000 iterations).\n",
      " Matrix: Warning: no convergence (0.00000010<16.35413742 after 1000 iterations).\n",
      " Matrix: Warning: no convergence (0.00000010<36.59041595 after 1000 iterations).\n",
      " Matrix: Warning: no convergence (0.00000010<40.52765656 after 1000 iterations).\n",
      " Matrix: Warning: no convergence (0.00000010<40.68749619 after 1000 iterations).\n",
      " Matrix: Warning: no convergence (0.00000010<40.69071960 after 1000 iterations).\n",
      " Matrix: Warning: no convergence (0.00000010<30.35064125 after 1000 iterations).\n",
      " Matrix: Warning: no convergence (0.00000010<31.17014122 after 1000 iterations).\n",
      " Matrix: Warning: no convergence (0.00000010<40.74333191 after 1000 iterations).\n",
      " Matrix: Warning: no convergence (0.00000010<39.41312408 after 1000 iterations).\n",
      " Matrix: Warning: no convergence (0.00000010<15.22237492 after 1000 iterations).\n",
      " Matrix: Warning: no convergence (0.00000010<38.16095734 after 1000 iterations).\n",
      " Matrix: Warning: no convergence (0.00000010<41.12594223 after 1000 iterations).\n",
      " Matrix: Warning: no convergence (0.00000010<40.66286469 after 1000 iterations).\n",
      " Matrix: Warning: no convergence (0.00000010<37.91411972 after 1000 iterations).\n",
      " Matrix: Warning: no convergence (0.00000010<37.24163055 after 1000 iterations).\n",
      " Matrix: Warning: no convergence (0.00000010<37.88710403 after 1000 iterations).\n",
      " Matrix: Warning: no convergence (0.00000010<20.70913124 after 1000 iterations).\n",
      " Matrix: Warning: no convergence (0.00000010<29.56532478 after 1000 iterations).\n",
      " Matrix: Warning: no convergence (0.00000010<1.83388722 after 1000 iterations).\n",
      " Matrix: Warning: no convergence (0.00000010<20.08316803 after 1000 iterations).\n",
      " Matrix: Warning: no convergence (0.00000010<3.64701724 after 1000 iterations).\n",
      " Matrix: Warning: no convergence (0.00000010<4.24158096 after 1000 iterations).\n",
      " Matrix: Warning: no convergence (0.00000010<9.52248859 after 1000 iterations).\n",
      " Matrix: Warning: no convergence (0.00000010<8.21694946 after 1000 iterations).\n",
      " Matrix: Warning: no convergence (0.00000010<0.80160868 after 1000 iterations).\n",
      " Matrix: Warning: no convergence (0.00000010<12.56641197 after 1000 iterations).\n",
      " Matrix: Warning: no convergence (0.00000010<2.76734614 after 1000 iterations).\n",
      " Matrix: Warning: no convergence (0.00000010<4.89043617 after 1000 iterations).\n",
      " Matrix: Warning: no convergence (0.00000010<1.59611034 after 1000 iterations).\n",
      " Matrix: Warning: no convergence (0.00000010<3.75006270 after 1000 iterations).\n",
      " Matrix: Warning: no convergence (0.00000010<1.38389945 after 1000 iterations).\n",
      " Matrix: Warning: no convergence (0.00000010<3.74720645 after 1000 iterations).\n",
      " Matrix: Warning: no convergence (0.00000010<40.09518433 after 1000 iterations).\n",
      " Matrix: Warning: no convergence (0.00000010<17.49405670 after 1000 iterations).\n",
      " Matrix: Warning: no convergence (0.00000010<26.59858894 after 1000 iterations).\n",
      " Matrix: Warning: no convergence (0.00000010<34.59610367 after 1000 iterations).\n",
      " Matrix: Warning: no convergence (0.00000010<31.47318268 after 1000 iterations).\n",
      " Matrix: Warning: no convergence (0.00000010<19.09197426 after 1000 iterations).\n",
      " Matrix: Warning: no convergence (0.00000010<16.86969566 after 1000 iterations).\n"
     ]
    },
    {
     "name": "stderr",
     "output_type": "stream",
     "text": [
      " 79%|███████▉  | 459/581 [1:03:37<31:29, 15.49s/it]"
     ]
    },
    {
     "name": "stdout",
     "output_type": "stream",
     "text": [
      " Matrix: Warning: no convergence (0.00000010<26.27241325 after 1000 iterations).\n",
      " Matrix: Warning: no convergence (0.00000010<20.30051804 after 1000 iterations).\n"
     ]
    },
    {
     "name": "stderr",
     "output_type": "stream",
     "text": [
      " 79%|███████▉  | 460/581 [1:03:54<31:43, 15.73s/it]"
     ]
    },
    {
     "name": "stdout",
     "output_type": "stream",
     "text": [
      " Matrix: Warning: no convergence (0.00000010<31.24239922 after 1000 iterations).\n",
      " Matrix: Warning: no convergence (0.00000010<2.98141956 after 1000 iterations).\n",
      " Matrix: Warning: no convergence (0.00000010<2.12134027 after 1000 iterations).\n",
      " Matrix: Warning: no convergence (0.00000010<2.02005959 after 1000 iterations).\n",
      " Matrix: Warning: no convergence (0.00000010<6.16196012 after 1000 iterations).\n",
      " Matrix: Warning: no convergence (0.00000010<3.09010673 after 1000 iterations).\n",
      " Matrix: Warning: no convergence (0.00000010<4.23544025 after 1000 iterations).\n",
      " Matrix: Warning: no convergence (0.00000010<3.23773551 after 1000 iterations).\n",
      " Matrix: Warning: no convergence (0.00000010<3.43112397 after 1000 iterations).\n",
      " Matrix: Warning: no convergence (0.00000010<5.90565062 after 1000 iterations).\n",
      " Matrix: Warning: no convergence (0.00000010<5.99586916 after 1000 iterations).\n",
      " Matrix: Warning: no convergence (0.00000010<5.94700146 after 1000 iterations).\n",
      " Matrix: Warning: no convergence (0.00000010<11.52247810 after 1000 iterations).\n",
      " Matrix: Warning: no convergence (0.00000010<8.80063820 after 1000 iterations).\n",
      " Matrix: Warning: no convergence (0.00000010<8.82835674 after 1000 iterations).\n",
      " Matrix: Warning: no convergence (0.00000010<14.90888309 after 1000 iterations).\n",
      " Matrix: Warning: no convergence (0.00000010<40.81626129 after 1000 iterations).\n",
      " Matrix: Warning: no convergence (0.00000010<10.04726219 after 1000 iterations).\n",
      " Matrix: Warning: no convergence (0.00000010<35.15288925 after 1000 iterations).\n",
      " Matrix: Warning: no convergence (0.00000010<13.15664482 after 1000 iterations).\n",
      " Matrix: Warning: no convergence (0.00000010<4.67314529 after 1000 iterations).\n",
      " Matrix: Warning: no convergence (0.00000010<9.76584053 after 1000 iterations).\n",
      " Matrix: Warning: no convergence (0.00000010<10.89260769 after 1000 iterations).\n",
      " Matrix: Warning: no convergence (0.00000010<15.49639988 after 1000 iterations).\n",
      " Matrix: Warning: no convergence (0.00000010<10.24606514 after 1000 iterations).\n",
      " Matrix: Warning: no convergence (0.00000010<9.33904648 after 1000 iterations).\n",
      " Matrix: Warning: no convergence (0.00000010<9.35475254 after 1000 iterations).\n",
      " Matrix: Warning: no convergence (0.00000010<10.06898212 after 1000 iterations).\n",
      " Matrix: Warning: no convergence (0.00000010<16.41699791 after 1000 iterations).\n",
      " Matrix: Warning: no convergence (0.00000010<18.18110657 after 1000 iterations).\n",
      " Matrix: Warning: no convergence (0.00000010<10.12840271 after 1000 iterations).\n",
      " Matrix: Warning: no convergence (0.00000010<18.24314690 after 1000 iterations).\n",
      " Matrix: Warning: no convergence (0.00000010<10.94839287 after 1000 iterations).\n",
      " Matrix: Warning: no convergence (0.00000010<17.01689911 after 1000 iterations).\n",
      " Matrix: Warning: no convergence (0.00000010<16.15597343 after 1000 iterations).\n",
      " Matrix: Warning: no convergence (0.00000010<16.93621445 after 1000 iterations).\n",
      " Matrix: Warning: no convergence (0.00000010<16.49400520 after 1000 iterations).\n",
      " Matrix: Warning: no convergence (0.00000010<15.99813747 after 1000 iterations).\n",
      " Matrix: Warning: no convergence (0.00000010<9.50896549 after 1000 iterations).\n",
      " Matrix: Warning: no convergence (0.00000010<13.28118420 after 1000 iterations).\n",
      " Matrix: Warning: no convergence (0.00000010<17.41413689 after 1000 iterations).\n",
      " Matrix: Warning: no convergence (0.00000010<41.44680786 after 1000 iterations).\n",
      " Matrix: Warning: no convergence (0.00000010<40.71686554 after 1000 iterations).\n",
      " Matrix: Warning: no convergence (0.00000010<40.34799194 after 1000 iterations).\n",
      " Matrix: Warning: no convergence (0.00000010<40.88526917 after 1000 iterations).\n",
      " Matrix: Warning: no convergence (0.00000010<5.45166874 after 1000 iterations).\n",
      " Matrix: Warning: no convergence (0.00000010<40.82522964 after 1000 iterations).\n",
      " Matrix: Warning: no convergence (0.00000010<22.95407295 after 1000 iterations).\n",
      " Matrix: Warning: no convergence (0.00000010<23.95886612 after 1000 iterations).\n",
      " Matrix: Warning: no convergence (0.00000010<39.54705429 after 1000 iterations).\n",
      " Matrix: Warning: no convergence (0.00000010<39.69946289 after 1000 iterations).\n",
      " Matrix: Warning: no convergence (0.00000010<41.16083145 after 1000 iterations).\n",
      " Matrix: Warning: no convergence (0.00000010<36.27529144 after 1000 iterations).\n",
      " Matrix: Warning: no convergence (0.00000010<40.52971268 after 1000 iterations).\n",
      " Matrix: Warning: no convergence (0.00000010<40.58610153 after 1000 iterations).\n",
      " Matrix: Warning: no convergence (0.00000010<40.69153595 after 1000 iterations).\n",
      " Matrix: Warning: no convergence (0.00000010<39.36951447 after 1000 iterations).\n",
      " Matrix: Warning: no convergence (0.00000010<30.16044998 after 1000 iterations).\n",
      " Matrix: Warning: no convergence (0.00000010<29.66433144 after 1000 iterations).\n",
      " Matrix: Warning: no convergence (0.00000010<40.74628448 after 1000 iterations).\n",
      " Matrix: Warning: no convergence (0.00000010<39.43437958 after 1000 iterations).\n",
      " Matrix: Warning: no convergence (0.00000010<41.27611160 after 1000 iterations).\n",
      " Matrix: Warning: no convergence (0.00000010<37.94254684 after 1000 iterations).\n",
      " Matrix: Warning: no convergence (0.00000010<38.16502380 after 1000 iterations).\n",
      " Matrix: Warning: no convergence (0.00000010<41.17587662 after 1000 iterations).\n",
      " Matrix: Warning: no convergence (0.00000010<40.64714050 after 1000 iterations).\n",
      " Matrix: Warning: no convergence (0.00000010<37.91349411 after 1000 iterations).\n",
      " Matrix: Warning: no convergence (0.00000010<37.24209595 after 1000 iterations).\n",
      " Matrix: Warning: no convergence (0.00000010<37.85542679 after 1000 iterations).\n",
      " Matrix: Warning: no convergence (0.00000010<40.88736343 after 1000 iterations).\n",
      " Matrix: Warning: no convergence (0.00000010<11.40609741 after 1000 iterations).\n",
      " Matrix: Warning: no convergence (0.00000010<1.79037797 after 1000 iterations).\n",
      " Matrix: Warning: no convergence (0.00000010<1.84607482 after 1000 iterations).\n",
      " Matrix: Warning: no convergence (0.00000010<13.34778690 after 1000 iterations).\n",
      " Matrix: Warning: no convergence (0.00000010<17.65094948 after 1000 iterations).\n",
      " Matrix: Warning: no convergence (0.00000010<3.84320259 after 1000 iterations).\n",
      " Matrix: Warning: no convergence (0.00000010<38.52719498 after 1000 iterations).\n",
      " Matrix: Warning: no convergence (0.00000010<1.23102880 after 1000 iterations).\n",
      " Matrix: Warning: no convergence (0.00000010<0.89416265 after 1000 iterations).\n",
      " Matrix: Warning: no convergence (0.00000010<1.21242833 after 1000 iterations).\n",
      " Matrix: Warning: no convergence (0.00000010<2.18431330 after 1000 iterations).\n",
      " Matrix: Warning: no convergence (0.00000010<6.94504976 after 1000 iterations).\n",
      " Matrix: Warning: no convergence (0.00000010<1.29783630 after 1000 iterations).\n",
      " Matrix: Warning: no convergence (0.00000010<1.88345504 after 1000 iterations).\n",
      " Matrix: Warning: no convergence (0.00000010<4.50087357 after 1000 iterations).\n",
      " Matrix: Warning: no convergence (0.00000010<6.96261501 after 1000 iterations).\n",
      " Matrix: Warning: no convergence (0.00000010<6.60740519 after 1000 iterations).\n",
      " Matrix: Warning: no convergence (0.00000010<0.80622607 after 1000 iterations).\n",
      " Matrix: Warning: no convergence (0.00000010<8.06548214 after 1000 iterations).\n",
      " Matrix: Warning: no convergence (0.00000010<2.94394970 after 1000 iterations).\n",
      " Matrix: Warning: no convergence (0.00000010<5.21574068 after 1000 iterations).\n",
      " Matrix: Warning: no convergence (0.00000010<1.60212541 after 1000 iterations).\n",
      " Matrix: Warning: no convergence (0.00000010<3.93859458 after 1000 iterations).\n",
      " Matrix: Warning: no convergence (0.00000010<1.41422200 after 1000 iterations).\n",
      " Matrix: Warning: no convergence (0.00000010<3.63701129 after 1000 iterations).\n",
      " Matrix: Warning: no convergence (0.00000010<40.09105682 after 1000 iterations).\n",
      " Matrix: Warning: no convergence (0.00000010<17.61145782 after 1000 iterations).\n",
      " Matrix: Warning: no convergence (0.00000010<14.89113140 after 1000 iterations).\n",
      " Matrix: Warning: no convergence (0.00000010<30.07375336 after 1000 iterations).\n",
      " Matrix: Warning: no convergence (0.00000010<34.14103699 after 1000 iterations).\n",
      " Matrix: Warning: no convergence (0.00000010<19.48021126 after 1000 iterations).\n",
      " Matrix: Warning: no convergence (0.00000010<37.46717453 after 1000 iterations).\n",
      " Matrix: Warning: no convergence (0.00000010<16.92838478 after 1000 iterations).\n"
     ]
    },
    {
     "name": "stderr",
     "output_type": "stream",
     "text": [
      " 80%|███████▉  | 464/581 [1:04:51<28:33, 14.64s/it]"
     ]
    },
    {
     "name": "stdout",
     "output_type": "stream",
     "text": [
      " Matrix: Warning: no convergence (0.00000010<40.72805023 after 1000 iterations).\n",
      " Matrix: Warning: no convergence (0.00000010<2.97317004 after 1000 iterations).\n",
      " Matrix: Warning: no convergence (0.00000010<2.11884999 after 1000 iterations).\n",
      " Matrix: Warning: no convergence (0.00000010<2.01798344 after 1000 iterations).\n",
      " Matrix: Warning: no convergence (0.00000010<6.16197109 after 1000 iterations).\n",
      " Matrix: Warning: no convergence (0.00000010<3.08743691 after 1000 iterations).\n",
      " Matrix: Warning: no convergence (0.00000010<4.23201799 after 1000 iterations).\n",
      " Matrix: Warning: no convergence (0.00000010<3.23529267 after 1000 iterations).\n",
      " Matrix: Warning: no convergence (0.00000010<3.42852330 after 1000 iterations).\n",
      " Matrix: Warning: no convergence (0.00000010<5.89868832 after 1000 iterations).\n",
      " Matrix: Warning: no convergence (0.00000010<5.99175406 after 1000 iterations).\n",
      " Matrix: Warning: no convergence (0.00000010<5.93944740 after 1000 iterations).\n",
      " Matrix: Warning: no convergence (0.00000010<11.47065735 after 1000 iterations).\n",
      " Matrix: Warning: no convergence (0.00000010<18.45699120 after 1000 iterations).\n",
      " Matrix: Warning: no convergence (0.00000010<34.34115219 after 1000 iterations).\n",
      " Matrix: Warning: no convergence (0.00000010<10.00738716 after 1000 iterations).\n",
      " Matrix: Warning: no convergence (0.00000010<39.71056747 after 1000 iterations).\n",
      " Matrix: Warning: no convergence (0.00000010<2.09575105 after 1000 iterations).\n",
      " Matrix: Warning: no convergence (0.00000010<9.72677040 after 1000 iterations).\n",
      " Matrix: Warning: no convergence (0.00000010<10.84487534 after 1000 iterations).\n",
      " Matrix: Warning: no convergence (0.00000010<15.49216270 after 1000 iterations).\n",
      " Matrix: Warning: no convergence (0.00000010<10.20664978 after 1000 iterations).\n",
      " Matrix: Warning: no convergence (0.00000010<9.29629421 after 1000 iterations).\n",
      " Matrix: Warning: no convergence (0.00000010<9.31180859 after 1000 iterations).\n",
      " Matrix: Warning: no convergence (0.00000010<10.02444935 after 1000 iterations).\n",
      " Matrix: Warning: no convergence (0.00000010<16.41329956 after 1000 iterations).\n",
      " Matrix: Warning: no convergence (0.00000010<18.17466354 after 1000 iterations).\n",
      " Matrix: Warning: no convergence (0.00000010<10.08675098 after 1000 iterations).\n",
      " Matrix: Warning: no convergence (0.00000010<39.96202469 after 1000 iterations).\n",
      " Matrix: Warning: no convergence (0.00000010<16.16485023 after 1000 iterations).\n",
      " Matrix: Warning: no convergence (0.00000010<16.92838860 after 1000 iterations).\n",
      " Matrix: Warning: no convergence (0.00000010<16.48577881 after 1000 iterations).\n",
      " Matrix: Warning: no convergence (0.00000010<15.98988533 after 1000 iterations).\n",
      " Matrix: Warning: no convergence (0.00000010<13.22908878 after 1000 iterations).\n",
      " Matrix: Warning: no convergence (0.00000010<41.28922653 after 1000 iterations).\n",
      " Matrix: Warning: no convergence (0.00000010<40.69630814 after 1000 iterations).\n",
      " Matrix: Warning: no convergence (0.00000010<40.33675385 after 1000 iterations).\n",
      " Matrix: Warning: no convergence (0.00000010<40.86634445 after 1000 iterations).\n",
      " Matrix: Warning: no convergence (0.00000010<40.58109665 after 1000 iterations).\n",
      " Matrix: Warning: no convergence (0.00000010<12.92191315 after 1000 iterations).\n",
      " Matrix: Warning: no convergence (0.00000010<22.91870689 after 1000 iterations).\n",
      " Matrix: Warning: no convergence (0.00000010<16.80668259 after 1000 iterations).\n",
      " Matrix: Warning: no convergence (0.00000010<8.82345963 after 1000 iterations).\n",
      " Matrix: Warning: no convergence (0.00000010<40.56856155 after 1000 iterations).\n",
      " Matrix: Warning: no convergence (0.00000010<4.09082699 after 1000 iterations).\n",
      " Matrix: Warning: no convergence (0.00000010<39.51244354 after 1000 iterations).\n",
      " Matrix: Warning: no convergence (0.00000010<39.41934204 after 1000 iterations).\n",
      " Matrix: Warning: no convergence (0.00000010<15.33048534 after 1000 iterations).\n",
      " Matrix: Warning: no convergence (0.00000010<38.14461136 after 1000 iterations).\n",
      " Matrix: Warning: no convergence (0.00000010<41.16259384 after 1000 iterations).\n",
      " Matrix: Warning: no convergence (0.00000010<40.63241577 after 1000 iterations).\n",
      " Matrix: Warning: no convergence (0.00000010<37.89656448 after 1000 iterations).\n",
      " Matrix: Warning: no convergence (0.00000010<37.22458267 after 1000 iterations).\n",
      " Matrix: Warning: no convergence (0.00000010<37.84968567 after 1000 iterations).\n",
      " Matrix: Warning: no convergence (0.00000010<20.32981682 after 1000 iterations).\n",
      " Matrix: Warning: no convergence (0.00000010<35.71552277 after 1000 iterations).\n",
      " Matrix: Warning: no convergence (0.00000010<39.11610794 after 1000 iterations).\n",
      " Matrix: Warning: no convergence (0.00000010<3.85375690 after 1000 iterations).\n",
      " Matrix: Warning: no convergence (0.00000010<4.51355219 after 1000 iterations).\n",
      " Matrix: Warning: no convergence (0.00000010<7.24411535 after 1000 iterations).\n",
      " Matrix: Warning: no convergence (0.00000010<6.88555574 after 1000 iterations).\n",
      " Matrix: Warning: no convergence (0.00000010<0.80412942 after 1000 iterations).\n",
      " Matrix: Warning: no convergence (0.00000010<8.73324203 after 1000 iterations).\n",
      " Matrix: Warning: no convergence (0.00000010<2.93793941 after 1000 iterations).\n",
      " Matrix: Warning: no convergence (0.00000010<5.21060610 after 1000 iterations).\n",
      " Matrix: Warning: no convergence (0.00000010<1.58399928 after 1000 iterations).\n",
      " Matrix: Warning: no convergence (0.00000010<17.35905075 after 1000 iterations).\n",
      " Matrix: Warning: no convergence (0.00000010<11.35066986 after 1000 iterations).\n",
      " Matrix: Warning: no convergence (0.00000010<17.65620995 after 1000 iterations).\n",
      " Matrix: Warning: no convergence (0.00000010<16.25378036 after 1000 iterations).\n",
      " Matrix: Warning: no convergence (0.00000010<31.01274490 after 1000 iterations).\n",
      " Matrix: Warning: no convergence (0.00000010<34.06932831 after 1000 iterations).\n",
      " Matrix: Warning: no convergence (0.00000010<19.52005577 after 1000 iterations).\n",
      " Matrix: Warning: no convergence (0.00000010<16.87670517 after 1000 iterations).\n"
     ]
    },
    {
     "name": "stderr",
     "output_type": "stream",
     "text": [
      " 81%|████████  | 472/581 [1:06:58<27:09, 14.95s/it]"
     ]
    },
    {
     "name": "stdout",
     "output_type": "stream",
     "text": [
      " Matrix: Warning: no convergence (0.00000010<652.23114014 after 1000 iterations).\n",
      " Matrix: Warning: no convergence (0.00000010<260.21557617 after 1000 iterations).\n"
     ]
    },
    {
     "name": "stderr",
     "output_type": "stream",
     "text": [
      " 81%|████████▏ | 473/581 [1:07:12<26:07, 14.52s/it]"
     ]
    },
    {
     "name": "stdout",
     "output_type": "stream",
     "text": [
      " Matrix: Warning: no convergence (0.00000010<666.61468506 after 1000 iterations).\n",
      " Matrix: Warning: no convergence (0.00000010<10.18191528 after 1000 iterations).\n",
      " Matrix: Warning: no convergence (0.00000010<2.97876787 after 1000 iterations).\n",
      " Matrix: Warning: no convergence (0.00000010<31.37306213 after 1000 iterations).\n",
      " Matrix: Warning: no convergence (0.00000010<18.73684502 after 1000 iterations).\n",
      " Matrix: Warning: no convergence (0.00000010<4.23488617 after 1000 iterations).\n",
      " Matrix: Warning: no convergence (0.00000010<3.24256706 after 1000 iterations).\n",
      " Matrix: Warning: no convergence (0.00000010<3.43552089 after 1000 iterations).\n",
      " Matrix: Warning: no convergence (0.00000010<19.31201935 after 1000 iterations).\n",
      " Matrix: Warning: no convergence (0.00000010<222.42268372 after 1000 iterations).\n",
      " Matrix: Warning: no convergence (0.00000010<243.89085388 after 1000 iterations).\n",
      " Matrix: Warning: no convergence (0.00000010<256.26248169 after 1000 iterations).\n",
      " Matrix: Warning: no convergence (0.00000010<230.91716003 after 1000 iterations).\n",
      " Matrix: Warning: no convergence (0.00000010<11.46536350 after 1000 iterations).\n",
      " Matrix: Warning: no convergence (0.00000010<785.98205566 after 1000 iterations).\n",
      " Matrix: Warning: no convergence (0.00000010<8.80480671 after 1000 iterations).\n",
      " Matrix: Warning: no convergence (0.00000010<41.54385757 after 1000 iterations).\n",
      " Matrix: Warning: no convergence (0.00000010<9.98845768 after 1000 iterations).\n",
      " Matrix: Warning: no convergence (0.00000010<39.48279953 after 1000 iterations).\n",
      " Matrix: Warning: no convergence (0.00000010<15.62004471 after 1000 iterations).\n",
      " Matrix: Warning: no convergence (0.00000010<13.16812420 after 1000 iterations).\n",
      " Matrix: Warning: no convergence (0.00000010<3.32132912 after 1000 iterations).\n",
      " Matrix: Warning: no convergence (0.00000010<8.11896992 after 1000 iterations).\n",
      " Matrix: Warning: no convergence (0.00000010<10.20840740 after 1000 iterations).\n",
      " Matrix: Warning: no convergence (0.00000010<10.01752663 after 1000 iterations).\n",
      " Matrix: Warning: no convergence (0.00000010<1.36199594 after 1000 iterations).\n",
      " Matrix: Warning: no convergence (0.00000010<10.05633354 after 1000 iterations).\n",
      " Matrix: Warning: no convergence (0.00000010<4.60906506 after 1000 iterations).\n",
      " Matrix: Warning: no convergence (0.00000010<40.90543747 after 1000 iterations).\n",
      " Matrix: Warning: no convergence (0.00000010<13.21305561 after 1000 iterations).\n",
      " Matrix: Warning: no convergence (0.00000010<41.30730438 after 1000 iterations).\n",
      " Matrix: Warning: no convergence (0.00000010<8.13348293 after 1000 iterations).\n",
      " Matrix: Warning: no convergence (0.00000010<40.74872589 after 1000 iterations).\n",
      " Matrix: Warning: no convergence (0.00000010<40.39373016 after 1000 iterations).\n",
      " Matrix: Warning: no convergence (0.00000010<13.10202599 after 1000 iterations).\n",
      " Matrix: Warning: no convergence (0.00000010<40.73407745 after 1000 iterations).\n",
      " Matrix: Warning: no convergence (0.00000010<21.41628265 after 1000 iterations).\n",
      " Matrix: Warning: no convergence (0.00000010<20.13688660 after 1000 iterations).\n",
      " Matrix: Warning: no convergence (0.00000010<31.13326645 after 1000 iterations).\n",
      " Matrix: Warning: no convergence (0.00000010<35.70448303 after 1000 iterations).\n",
      " Matrix: Warning: no convergence (0.00000010<38.19366455 after 1000 iterations).\n",
      " Matrix: Warning: no convergence (0.00000010<41.21706390 after 1000 iterations).\n",
      " Matrix: Warning: no convergence (0.00000010<40.39226532 after 1000 iterations).\n",
      " Matrix: Warning: no convergence (0.00000010<37.84350967 after 1000 iterations).\n",
      " Matrix: Warning: no convergence (0.00000010<579.28527832 after 1000 iterations).\n",
      " Matrix: Warning: no convergence (0.00000010<23.11507607 after 1000 iterations).\n",
      " Matrix: Warning: no convergence (0.00000010<35.92501450 after 1000 iterations).\n",
      " Matrix: Warning: no convergence (0.00000010<611.33776855 after 1000 iterations).\n",
      " Matrix: Warning: no convergence (0.00000010<36.02768326 after 1000 iterations).\n",
      " Matrix: Warning: no convergence (0.00000010<39.33299637 after 1000 iterations).\n",
      " Matrix: Warning: no convergence (0.00000010<4.13057232 after 1000 iterations).\n",
      " Matrix: Warning: no convergence (0.00000010<28.66831779 after 1000 iterations).\n",
      " Matrix: Warning: no convergence (0.00000010<1.21685851 after 1000 iterations).\n",
      " Matrix: Warning: no convergence (0.00000010<15.37998962 after 1000 iterations).\n",
      " Matrix: Warning: no convergence (0.00000010<18.75834656 after 1000 iterations).\n",
      " Matrix: Warning: no convergence (0.00000010<1.29820132 after 1000 iterations).\n",
      " Matrix: Warning: no convergence (0.00000010<2.93962836 after 1000 iterations).\n",
      " Matrix: Warning: no convergence (0.00000010<5.22979784 after 1000 iterations).\n",
      " Matrix: Warning: no convergence (0.00000010<1.60544360 after 1000 iterations).\n",
      " Matrix: Warning: no convergence (0.00000010<11.63373470 after 1000 iterations).\n",
      " Matrix: Warning: no convergence (0.00000010<37.50747299 after 1000 iterations).\n",
      " Matrix: Warning: no convergence (0.00000010<17.29457474 after 1000 iterations).\n",
      " Matrix: Warning: no convergence (0.00000010<10.46551228 after 1000 iterations).\n",
      " Matrix: Warning: no convergence (0.00000010<33.33026505 after 1000 iterations).\n",
      " Matrix: Warning: no convergence (0.00000010<16.24017715 after 1000 iterations).\n",
      " Matrix: Warning: no convergence (0.00000010<19.57538223 after 1000 iterations).\n",
      " Matrix: Warning: no convergence (0.00000010<16.86941719 after 1000 iterations).\n",
      " Matrix: Warning: no convergence (0.00000010<22.42035103 after 1000 iterations).\n"
     ]
    },
    {
     "name": "stderr",
     "output_type": "stream",
     "text": [
      " 82%|████████▏ | 474/581 [1:07:26<25:48, 14.47s/it]"
     ]
    },
    {
     "name": "stdout",
     "output_type": "stream",
     "text": [
      " Matrix: Warning: no convergence (0.00000010<93.44910431 after 1000 iterations).\n",
      " Matrix: Warning: no convergence (0.00000010<122.05161285 after 1000 iterations).\n",
      " Matrix: Warning: no convergence (0.00000010<179.26528931 after 1000 iterations).\n",
      " Matrix: Warning: no convergence (0.00000010<173.01268005 after 1000 iterations).\n"
     ]
    },
    {
     "name": "stderr",
     "output_type": "stream",
     "text": [
      " 83%|████████▎ | 480/581 [1:09:13<29:31, 17.53s/it]"
     ]
    },
    {
     "name": "stdout",
     "output_type": "stream",
     "text": [
      " Matrix: Warning: no convergence (0.00000010<53.73326111 after 1000 iterations).\n",
      " Matrix: Warning: no convergence (0.00000010<88.38262939 after 1000 iterations).\n",
      " Matrix: Warning: no convergence (0.00000010<59.75754547 after 1000 iterations).\n",
      " Matrix: Warning: no convergence (0.00000010<113.52712250 after 1000 iterations).\n"
     ]
    },
    {
     "name": "stderr",
     "output_type": "stream",
     "text": [
      " 83%|████████▎ | 485/581 [1:10:42<27:53, 17.43s/it]"
     ]
    },
    {
     "name": "stdout",
     "output_type": "stream",
     "text": [
      " Matrix: Warning: no convergence (0.00000010<624.54895020 after 1000 iterations).\n"
     ]
    },
    {
     "name": "stderr",
     "output_type": "stream",
     "text": [
      " 84%|████████▎ | 486/581 [1:11:00<28:11, 17.81s/it]"
     ]
    },
    {
     "name": "stdout",
     "output_type": "stream",
     "text": [
      " Matrix: Warning: no convergence (0.00000010<141.96182251 after 1000 iterations).\n",
      " Matrix: Warning: no convergence (0.00000010<211.04933167 after 1000 iterations).\n",
      " Matrix: Warning: no convergence (0.00000010<126.86297607 after 1000 iterations).\n"
     ]
    },
    {
     "name": "stderr",
     "output_type": "stream",
     "text": [
      " 84%|████████▍ | 488/581 [1:11:36<27:28, 17.73s/it]"
     ]
    },
    {
     "name": "stdout",
     "output_type": "stream",
     "text": [
      " Matrix: Warning: no convergence (0.00000010<40.58333969 after 1000 iterations).\n",
      " Matrix: Warning: no convergence (0.00000010<2.98263359 after 1000 iterations).\n",
      " Matrix: Warning: no convergence (0.00000010<2.12640095 after 1000 iterations).\n",
      " Matrix: Warning: no convergence (0.00000010<2.02546501 after 1000 iterations).\n",
      " Matrix: Warning: no convergence (0.00000010<6.19337893 after 1000 iterations).\n",
      " Matrix: Warning: no convergence (0.00000010<3.09847403 after 1000 iterations).\n",
      " Matrix: Warning: no convergence (0.00000010<4.24258852 after 1000 iterations).\n",
      " Matrix: Warning: no convergence (0.00000010<3.24363494 after 1000 iterations).\n",
      " Matrix: Warning: no convergence (0.00000010<3.43747163 after 1000 iterations).\n",
      " Matrix: Warning: no convergence (0.00000010<5.92152023 after 1000 iterations).\n",
      " Matrix: Warning: no convergence (0.00000010<6.00669813 after 1000 iterations).\n",
      " Matrix: Warning: no convergence (0.00000010<5.96191835 after 1000 iterations).\n",
      " Matrix: Warning: no convergence (0.00000010<8.84857559 after 1000 iterations).\n",
      " Matrix: Warning: no convergence (0.00000010<14.93056870 after 1000 iterations).\n",
      " Matrix: Warning: no convergence (0.00000010<11.28716660 after 1000 iterations).\n",
      " Matrix: Warning: no convergence (0.00000010<10.06473541 after 1000 iterations).\n",
      " Matrix: Warning: no convergence (0.00000010<39.76906586 after 1000 iterations).\n",
      " Matrix: Warning: no convergence (0.00000010<2.70813227 after 1000 iterations).\n",
      " Matrix: Warning: no convergence (0.00000010<9.80126858 after 1000 iterations).\n",
      " Matrix: Warning: no convergence (0.00000010<10.92372608 after 1000 iterations).\n",
      " Matrix: Warning: no convergence (0.00000010<15.51806736 after 1000 iterations).\n",
      " Matrix: Warning: no convergence (0.00000010<10.28163719 after 1000 iterations).\n",
      " Matrix: Warning: no convergence (0.00000010<9.33939838 after 1000 iterations).\n",
      " Matrix: Warning: no convergence (0.00000010<10.10038280 after 1000 iterations).\n",
      " Matrix: Warning: no convergence (0.00000010<16.44411850 after 1000 iterations).\n",
      " Matrix: Warning: no convergence (0.00000010<18.20571136 after 1000 iterations).\n",
      " Matrix: Warning: no convergence (0.00000010<10.13460445 after 1000 iterations).\n",
      " Matrix: Warning: no convergence (0.00000010<18.27347183 after 1000 iterations).\n",
      " Matrix: Warning: no convergence (0.00000010<10.98552227 after 1000 iterations).\n",
      " Matrix: Warning: no convergence (0.00000010<17.04376602 after 1000 iterations).\n",
      " Matrix: Warning: no convergence (0.00000010<16.17691994 after 1000 iterations).\n",
      " Matrix: Warning: no convergence (0.00000010<16.95692062 after 1000 iterations).\n",
      " Matrix: Warning: no convergence (0.00000010<16.51304245 after 1000 iterations).\n",
      " Matrix: Warning: no convergence (0.00000010<16.01762581 after 1000 iterations).\n",
      " Matrix: Warning: no convergence (0.00000010<13.30297565 after 1000 iterations).\n",
      " Matrix: Warning: no convergence (0.00000010<17.43691063 after 1000 iterations).\n",
      " Matrix: Warning: no convergence (0.00000010<41.16536331 after 1000 iterations).\n",
      " Matrix: Warning: no convergence (0.00000010<40.75581741 after 1000 iterations).\n",
      " Matrix: Warning: no convergence (0.00000010<40.37519073 after 1000 iterations).\n",
      " Matrix: Warning: no convergence (0.00000010<40.91872406 after 1000 iterations).\n",
      " Matrix: Warning: no convergence (0.00000010<13.26295757 after 1000 iterations).\n",
      " Matrix: Warning: no convergence (0.00000010<35.24462509 after 1000 iterations).\n",
      " Matrix: Warning: no convergence (0.00000010<39.73246765 after 1000 iterations).\n",
      " Matrix: Warning: no convergence (0.00000010<41.19545364 after 1000 iterations).\n",
      " Matrix: Warning: no convergence (0.00000010<8.97735596 after 1000 iterations).\n",
      " Matrix: Warning: no convergence (0.00000010<40.61890793 after 1000 iterations).\n",
      " Matrix: Warning: no convergence (0.00000010<39.28436279 after 1000 iterations).\n",
      " Matrix: Warning: no convergence (0.00000010<27.92858696 after 1000 iterations).\n",
      " Matrix: Warning: no convergence (0.00000010<37.66341400 after 1000 iterations).\n",
      " Matrix: Warning: no convergence (0.00000010<39.56539917 after 1000 iterations).\n",
      " Matrix: Warning: no convergence (0.00000010<39.54519272 after 1000 iterations).\n",
      " Matrix: Warning: no convergence (0.00000010<41.31570435 after 1000 iterations).\n",
      " Matrix: Warning: no convergence (0.00000010<37.97439194 after 1000 iterations).\n",
      " Matrix: Warning: no convergence (0.00000010<38.19462967 after 1000 iterations).\n",
      " Matrix: Warning: no convergence (0.00000010<41.22070312 after 1000 iterations).\n",
      " Matrix: Warning: no convergence (0.00000010<40.68816757 after 1000 iterations).\n",
      " Matrix: Warning: no convergence (0.00000010<37.94701767 after 1000 iterations).\n",
      " Matrix: Warning: no convergence (0.00000010<37.27340317 after 1000 iterations).\n",
      " Matrix: Warning: no convergence (0.00000010<37.78719711 after 1000 iterations).\n",
      " Matrix: Warning: no convergence (0.00000010<40.94362259 after 1000 iterations).\n",
      " Matrix: Warning: no convergence (0.00000010<11.46152782 after 1000 iterations).\n",
      " Matrix: Warning: no convergence (0.00000010<35.67188263 after 1000 iterations).\n",
      " Matrix: Warning: no convergence (0.00000010<35.81367874 after 1000 iterations).\n",
      " Matrix: Warning: no convergence (0.00000010<3.85099196 after 1000 iterations).\n",
      " Matrix: Warning: no convergence (0.00000010<15.54191494 after 1000 iterations).\n",
      " Matrix: Warning: no convergence (0.00000010<1.22604096 after 1000 iterations).\n",
      " Matrix: Warning: no convergence (0.00000010<0.89735365 after 1000 iterations).\n",
      " Matrix: Warning: no convergence (0.00000010<1.21669340 after 1000 iterations).\n",
      " Matrix: Warning: no convergence (0.00000010<2.18885350 after 1000 iterations).\n",
      " Matrix: Warning: no convergence (0.00000010<19.08415604 after 1000 iterations).\n",
      " Matrix: Warning: no convergence (0.00000010<1.30501831 after 1000 iterations).\n",
      " Matrix: Warning: no convergence (0.00000010<1.88744497 after 1000 iterations).\n",
      " Matrix: Warning: no convergence (0.00000010<4.53999901 after 1000 iterations).\n",
      " Matrix: Warning: no convergence (0.00000010<8.31988907 after 1000 iterations).\n",
      " Matrix: Warning: no convergence (0.00000010<7.05607986 after 1000 iterations).\n",
      " Matrix: Warning: no convergence (0.00000010<0.80988258 after 1000 iterations).\n",
      " Matrix: Warning: no convergence (0.00000010<9.77179146 after 1000 iterations).\n",
      " Matrix: Warning: no convergence (0.00000010<2.95644283 after 1000 iterations).\n",
      " Matrix: Warning: no convergence (0.00000010<5.23722792 after 1000 iterations).\n",
      " Matrix: Warning: no convergence (0.00000010<1.58754802 after 1000 iterations).\n",
      " Matrix: Warning: no convergence (0.00000010<17.53226089 after 1000 iterations).\n",
      " Matrix: Warning: no convergence (0.00000010<11.69153595 after 1000 iterations).\n",
      " Matrix: Warning: no convergence (0.00000010<17.63939285 after 1000 iterations).\n",
      " Matrix: Warning: no convergence (0.00000010<18.46695137 after 1000 iterations).\n",
      " Matrix: Warning: no convergence (0.00000010<32.26389313 after 1000 iterations).\n",
      " Matrix: Warning: no convergence (0.00000010<34.01235962 after 1000 iterations).\n",
      " Matrix: Warning: no convergence (0.00000010<19.52344131 after 1000 iterations).\n",
      " Matrix: Warning: no convergence (0.00000010<37.75270081 after 1000 iterations).\n",
      " Matrix: Warning: no convergence (0.00000010<16.96338463 after 1000 iterations).\n"
     ]
    },
    {
     "name": "stderr",
     "output_type": "stream",
     "text": [
      " 85%|████████▍ | 492/581 [1:12:44<25:03, 16.89s/it]"
     ]
    },
    {
     "name": "stdout",
     "output_type": "stream",
     "text": [
      " Matrix: Warning: no convergence (0.00000010<739.54266357 after 1000 iterations).\n",
      " Matrix: Warning: no convergence (0.00000010<2.97503185 after 1000 iterations).\n",
      " Matrix: Warning: no convergence (0.00000010<31.59025002 after 1000 iterations).\n",
      " Matrix: Warning: no convergence (0.00000010<18.56385994 after 1000 iterations).\n",
      " Matrix: Warning: no convergence (0.00000010<28.63800812 after 1000 iterations).\n",
      " Matrix: Warning: no convergence (0.00000010<3.43265152 after 1000 iterations).\n",
      " Matrix: Warning: no convergence (0.00000010<286.38031006 after 1000 iterations).\n",
      " Matrix: Warning: no convergence (0.00000010<245.21466064 after 1000 iterations).\n",
      " Matrix: Warning: no convergence (0.00000010<227.40103149 after 1000 iterations).\n",
      " Matrix: Warning: no convergence (0.00000010<17.53352737 after 1000 iterations).\n",
      " Matrix: Warning: no convergence (0.00000010<9.99717712 after 1000 iterations).\n",
      " Matrix: Warning: no convergence (0.00000010<34.51481247 after 1000 iterations).\n",
      " Matrix: Warning: no convergence (0.00000010<40.36226273 after 1000 iterations).\n",
      " Matrix: Warning: no convergence (0.00000010<13.15288067 after 1000 iterations).\n",
      " Matrix: Warning: no convergence (0.00000010<3.77619576 after 1000 iterations).\n",
      " Matrix: Warning: no convergence (0.00000010<10.20948505 after 1000 iterations).\n",
      " Matrix: Warning: no convergence (0.00000010<9.30858040 after 1000 iterations).\n",
      " Matrix: Warning: no convergence (0.00000010<10.03122139 after 1000 iterations).\n",
      " Matrix: Warning: no convergence (0.00000010<1.80777836 after 1000 iterations).\n",
      " Matrix: Warning: no convergence (0.00000010<10.06056118 after 1000 iterations).\n",
      " Matrix: Warning: no convergence (0.00000010<4.77065992 after 1000 iterations).\n",
      " Matrix: Warning: no convergence (0.00000010<13.22061253 after 1000 iterations).\n",
      " Matrix: Warning: no convergence (0.00000010<41.31195068 after 1000 iterations).\n",
      " Matrix: Warning: no convergence (0.00000010<8.14284801 after 1000 iterations).\n",
      " Matrix: Warning: no convergence (0.00000010<40.69668961 after 1000 iterations).\n",
      " Matrix: Warning: no convergence (0.00000010<40.32264328 after 1000 iterations).\n",
      " Matrix: Warning: no convergence (0.00000010<19.49969864 after 1000 iterations).\n",
      " Matrix: Warning: no convergence (0.00000010<40.64045715 after 1000 iterations).\n",
      " Matrix: Warning: no convergence (0.00000010<20.62616920 after 1000 iterations).\n",
      " Matrix: Warning: no convergence (0.00000010<19.26678848 after 1000 iterations).\n",
      " Matrix: Warning: no convergence (0.00000010<40.69990921 after 1000 iterations).\n",
      " Matrix: Warning: no convergence (0.00000010<22.15707970 after 1000 iterations).\n",
      " Matrix: Warning: no convergence (0.00000010<38.14760208 after 1000 iterations).\n",
      " Matrix: Warning: no convergence (0.00000010<41.16729736 after 1000 iterations).\n",
      " Matrix: Warning: no convergence (0.00000010<40.01723099 after 1000 iterations).\n",
      " Matrix: Warning: no convergence (0.00000010<37.76464462 after 1000 iterations).\n",
      " Matrix: Warning: no convergence (0.00000010<594.43292236 after 1000 iterations).\n",
      " Matrix: Warning: no convergence (0.00000010<19.61369133 after 1000 iterations).\n",
      " Matrix: Warning: no convergence (0.00000010<414.31185913 after 1000 iterations).\n",
      " Matrix: Warning: no convergence (0.00000010<41.01118088 after 1000 iterations).\n",
      " Matrix: Warning: no convergence (0.00000010<41.16052628 after 1000 iterations).\n",
      " Matrix: Warning: no convergence (0.00000010<4.13426447 after 1000 iterations).\n",
      " Matrix: Warning: no convergence (0.00000010<15.60312557 after 1000 iterations).\n",
      " Matrix: Warning: no convergence (0.00000010<13.61971855 after 1000 iterations).\n",
      " Matrix: Warning: no convergence (0.00000010<1.29631686 after 1000 iterations).\n",
      " Matrix: Warning: no convergence (0.00000010<2.95195198 after 1000 iterations).\n",
      " Matrix: Warning: no convergence (0.00000010<5.25364780 after 1000 iterations).\n",
      " Matrix: Warning: no convergence (0.00000010<1.60129094 after 1000 iterations).\n",
      " Matrix: Warning: no convergence (0.00000010<17.24895096 after 1000 iterations).\n",
      " Matrix: Warning: no convergence (0.00000010<40.89159775 after 1000 iterations).\n",
      " Matrix: Warning: no convergence (0.00000010<34.61264038 after 1000 iterations).\n",
      " Matrix: Warning: no convergence (0.00000010<33.45508957 after 1000 iterations).\n",
      " Matrix: Warning: no convergence (0.00000010<16.22308922 after 1000 iterations).\n",
      " Matrix: Warning: no convergence (0.00000010<19.57752419 after 1000 iterations).\n",
      " Matrix: Warning: no convergence (0.00000010<16.88007736 after 1000 iterations).\n"
     ]
    },
    {
     "name": "stderr",
     "output_type": "stream",
     "text": [
      " 85%|████████▍ | 493/581 [1:12:59<23:49, 16.24s/it]"
     ]
    },
    {
     "name": "stdout",
     "output_type": "stream",
     "text": [
      " Matrix: Warning: no convergence (0.00000010<343.31439209 after 1000 iterations).\n"
     ]
    },
    {
     "name": "stderr",
     "output_type": "stream",
     "text": [
      " 85%|████████▌ | 494/581 [1:13:15<23:13, 16.01s/it]"
     ]
    },
    {
     "name": "stdout",
     "output_type": "stream",
     "text": [
      " Matrix: Warning: no convergence (0.00000010<692.75933838 after 1000 iterations).\n"
     ]
    },
    {
     "name": "stderr",
     "output_type": "stream",
     "text": [
      " 86%|████████▌ | 497/581 [1:13:59<21:16, 15.19s/it]"
     ]
    },
    {
     "name": "stdout",
     "output_type": "stream",
     "text": [
      " Matrix: Warning: no convergence (0.00000010<847.35662842 after 1000 iterations).\n",
      " Matrix: Warning: no convergence (0.00000010<12.82954884 after 1000 iterations).\n",
      " Matrix: Warning: no convergence (0.00000010<2.96623468 after 1000 iterations).\n",
      " Matrix: Warning: no convergence (0.00000010<31.04050636 after 1000 iterations).\n",
      " Matrix: Warning: no convergence (0.00000010<18.99429703 after 1000 iterations).\n",
      " Matrix: Warning: no convergence (0.00000010<4.22233534 after 1000 iterations).\n",
      " Matrix: Warning: no convergence (0.00000010<3.23064446 after 1000 iterations).\n",
      " Matrix: Warning: no convergence (0.00000010<3.42371726 after 1000 iterations).\n",
      " Matrix: Warning: no convergence (0.00000010<19.56963921 after 1000 iterations).\n",
      " Matrix: Warning: no convergence (0.00000010<651.45642090 after 1000 iterations).\n",
      " Matrix: Warning: no convergence (0.00000010<236.65802002 after 1000 iterations).\n",
      " Matrix: Warning: no convergence (0.00000010<260.20578003 after 1000 iterations).\n",
      " Matrix: Warning: no convergence (0.00000010<274.27102661 after 1000 iterations).\n",
      " Matrix: Warning: no convergence (0.00000010<247.60182190 after 1000 iterations).\n",
      " Matrix: Warning: no convergence (0.00000010<11.31043434 after 1000 iterations).\n",
      " Matrix: Warning: no convergence (0.00000010<913.71441650 after 1000 iterations).\n",
      " Matrix: Warning: no convergence (0.00000010<18.32866478 after 1000 iterations).\n",
      " Matrix: Warning: no convergence (0.00000010<41.43268585 after 1000 iterations).\n",
      " Matrix: Warning: no convergence (0.00000010<9.88583183 after 1000 iterations).\n",
      " Matrix: Warning: no convergence (0.00000010<32.14308167 after 1000 iterations).\n",
      " Matrix: Warning: no convergence (0.00000010<9.54762077 after 1000 iterations).\n",
      " Matrix: Warning: no convergence (0.00000010<13.10554695 after 1000 iterations).\n",
      " Matrix: Warning: no convergence (0.00000010<3.12987685 after 1000 iterations).\n",
      " Matrix: Warning: no convergence (0.00000010<8.04563522 after 1000 iterations).\n",
      " Matrix: Warning: no convergence (0.00000010<10.12122345 after 1000 iterations).\n",
      " Matrix: Warning: no convergence (0.00000010<9.19163227 after 1000 iterations).\n",
      " Matrix: Warning: no convergence (0.00000010<9.91050529 after 1000 iterations).\n",
      " Matrix: Warning: no convergence (0.00000010<1.21678650 after 1000 iterations).\n",
      " Matrix: Warning: no convergence (0.00000010<9.93339062 after 1000 iterations).\n",
      " Matrix: Warning: no convergence (0.00000010<4.44958258 after 1000 iterations).\n",
      " Matrix: Warning: no convergence (0.00000010<41.14251709 after 1000 iterations).\n",
      " Matrix: Warning: no convergence (0.00000010<13.07256413 after 1000 iterations).\n",
      " Matrix: Warning: no convergence (0.00000010<41.05060577 after 1000 iterations).\n",
      " Matrix: Warning: no convergence (0.00000010<8.04838848 after 1000 iterations).\n",
      " Matrix: Warning: no convergence (0.00000010<40.62084579 after 1000 iterations).\n",
      " Matrix: Warning: no convergence (0.00000010<40.21978378 after 1000 iterations).\n",
      " Matrix: Warning: no convergence (0.00000010<21.02680397 after 1000 iterations).\n",
      " Matrix: Warning: no convergence (0.00000010<40.63150024 after 1000 iterations).\n",
      " Matrix: Warning: no convergence (0.00000010<21.71393776 after 1000 iterations).\n",
      " Matrix: Warning: no convergence (0.00000010<21.15601540 after 1000 iterations).\n",
      " Matrix: Warning: no convergence (0.00000010<31.46692276 after 1000 iterations).\n",
      " Matrix: Warning: no convergence (0.00000010<35.61354065 after 1000 iterations).\n",
      " Matrix: Warning: no convergence (0.00000010<38.07772827 after 1000 iterations).\n",
      " Matrix: Warning: no convergence (0.00000010<41.12215805 after 1000 iterations).\n",
      " Matrix: Warning: no convergence (0.00000010<40.35806656 after 1000 iterations).\n",
      " Matrix: Warning: no convergence (0.00000010<37.78500748 after 1000 iterations).\n",
      " Matrix: Warning: no convergence (0.00000010<413.56082153 after 1000 iterations).\n",
      " Matrix: Warning: no convergence (0.00000010<20.05616570 after 1000 iterations).\n",
      " Matrix: Warning: no convergence (0.00000010<427.94790649 after 1000 iterations).\n",
      " Matrix: Warning: no convergence (0.00000010<41.54315948 after 1000 iterations).\n",
      " Matrix: Warning: no convergence (0.00000010<40.56094742 after 1000 iterations).\n",
      " Matrix: Warning: no convergence (0.00000010<4.25733042 after 1000 iterations).\n",
      " Matrix: Warning: no convergence (0.00000010<15.80409908 after 1000 iterations).\n",
      " Matrix: Warning: no convergence (0.00000010<19.16778564 after 1000 iterations).\n",
      " Matrix: Warning: no convergence (0.00000010<1.29388201 after 1000 iterations).\n",
      " Matrix: Warning: no convergence (0.00000010<3.04552960 after 1000 iterations).\n",
      " Matrix: Warning: no convergence (0.00000010<5.43093824 after 1000 iterations).\n",
      " Matrix: Warning: no convergence (0.00000010<1.60325706 after 1000 iterations).\n",
      " Matrix: Warning: no convergence (0.00000010<18.68144798 after 1000 iterations).\n",
      " Matrix: Warning: no convergence (0.00000010<37.56047821 after 1000 iterations).\n",
      " Matrix: Warning: no convergence (0.00000010<17.41622162 after 1000 iterations).\n",
      " Matrix: Warning: no convergence (0.00000010<10.43687820 after 1000 iterations).\n",
      " Matrix: Warning: no convergence (0.00000010<33.12433624 after 1000 iterations).\n",
      " Matrix: Warning: no convergence (0.00000010<16.43723297 after 1000 iterations).\n",
      " Matrix: Warning: no convergence (0.00000010<19.85291862 after 1000 iterations).\n",
      " Matrix: Warning: no convergence (0.00000010<16.75282478 after 1000 iterations).\n",
      " Matrix: Warning: no convergence (0.00000010<22.35589790 after 1000 iterations).\n"
     ]
    },
    {
     "name": "stderr",
     "output_type": "stream",
     "text": [
      " 86%|████████▌ | 500/581 [1:14:46<21:17, 15.77s/it]"
     ]
    },
    {
     "name": "stdout",
     "output_type": "stream",
     "text": [
      " Matrix: Warning: no convergence (0.00000010<40.47781754 after 1000 iterations).\n",
      " Matrix: Warning: no convergence (0.00000010<2.97860980 after 1000 iterations).\n",
      " Matrix: Warning: no convergence (0.00000010<32.25036240 after 1000 iterations).\n",
      " Matrix: Warning: no convergence (0.00000010<15.84523773 after 1000 iterations).\n",
      " Matrix: Warning: no convergence (0.00000010<4.22996616 after 1000 iterations).\n",
      " Matrix: Warning: no convergence (0.00000010<3.23736572 after 1000 iterations).\n",
      " Matrix: Warning: no convergence (0.00000010<3.43031883 after 1000 iterations).\n",
      " Matrix: Warning: no convergence (0.00000010<16.89086342 after 1000 iterations).\n",
      " Matrix: Warning: no convergence (0.00000010<7.45840788 after 1000 iterations).\n",
      " Matrix: Warning: no convergence (0.00000010<26.11428070 after 1000 iterations).\n",
      " Matrix: Warning: no convergence (0.00000010<10.10701752 after 1000 iterations).\n",
      " Matrix: Warning: no convergence (0.00000010<39.75510025 after 1000 iterations).\n",
      " Matrix: Warning: no convergence (0.00000010<30.68272209 after 1000 iterations).\n",
      " Matrix: Warning: no convergence (0.00000010<3.79250360 after 1000 iterations).\n",
      " Matrix: Warning: no convergence (0.00000010<10.31249142 after 1000 iterations).\n",
      " Matrix: Warning: no convergence (0.00000010<10.14042568 after 1000 iterations).\n",
      " Matrix: Warning: no convergence (0.00000010<0.63419080 after 1000 iterations).\n",
      " Matrix: Warning: no convergence (0.00000010<10.18310452 after 1000 iterations).\n",
      " Matrix: Warning: no convergence (0.00000010<5.10970116 after 1000 iterations).\n",
      " Matrix: Warning: no convergence (0.00000010<13.34323215 after 1000 iterations).\n",
      " Matrix: Warning: no convergence (0.00000010<40.93578720 after 1000 iterations).\n",
      " Matrix: Warning: no convergence (0.00000010<40.65138245 after 1000 iterations).\n",
      " Matrix: Warning: no convergence (0.00000010<40.25685501 after 1000 iterations).\n",
      " Matrix: Warning: no convergence (0.00000010<13.14808369 after 1000 iterations).\n",
      " Matrix: Warning: no convergence (0.00000010<25.01981354 after 1000 iterations).\n",
      " Matrix: Warning: no convergence (0.00000010<28.04010963 after 1000 iterations).\n",
      " Matrix: Warning: no convergence (0.00000010<37.50326920 after 1000 iterations).\n",
      " Matrix: Warning: no convergence (0.00000010<39.51492691 after 1000 iterations).\n",
      " Matrix: Warning: no convergence (0.00000010<36.73052597 after 1000 iterations).\n",
      " Matrix: Warning: no convergence (0.00000010<38.10153961 after 1000 iterations).\n",
      " Matrix: Warning: no convergence (0.00000010<41.12061691 after 1000 iterations).\n",
      " Matrix: Warning: no convergence (0.00000010<40.73739624 after 1000 iterations).\n",
      " Matrix: Warning: no convergence (0.00000010<37.62050629 after 1000 iterations).\n",
      " Matrix: Warning: no convergence (0.00000010<34.70490646 after 1000 iterations).\n",
      " Matrix: Warning: no convergence (0.00000010<35.39164734 after 1000 iterations).\n",
      " Matrix: Warning: no convergence (0.00000010<35.61553574 after 1000 iterations).\n",
      " Matrix: Warning: no convergence (0.00000010<27.49289322 after 1000 iterations).\n",
      " Matrix: Warning: no convergence (0.00000010<1.21774232 after 1000 iterations).\n",
      " Matrix: Warning: no convergence (0.00000010<11.82228661 after 1000 iterations).\n",
      " Matrix: Warning: no convergence (0.00000010<35.68943024 after 1000 iterations).\n",
      " Matrix: Warning: no convergence (0.00000010<2.95506740 after 1000 iterations).\n",
      " Matrix: Warning: no convergence (0.00000010<5.22749519 after 1000 iterations).\n",
      " Matrix: Warning: no convergence (0.00000010<1.60448611 after 1000 iterations).\n",
      " Matrix: Warning: no convergence (0.00000010<11.57044888 after 1000 iterations).\n",
      " Matrix: Warning: no convergence (0.00000010<40.67316055 after 1000 iterations).\n",
      " Matrix: Warning: no convergence (0.00000010<40.99951553 after 1000 iterations).\n",
      " Matrix: Warning: no convergence (0.00000010<34.11118698 after 1000 iterations).\n",
      " Matrix: Warning: no convergence (0.00000010<19.43137741 after 1000 iterations).\n",
      " Matrix: Warning: no convergence (0.00000010<16.99505234 after 1000 iterations).\n"
     ]
    },
    {
     "name": "stderr",
     "output_type": "stream",
     "text": [
      " 86%|████████▌ | 501/581 [1:15:03<21:13, 15.92s/it]"
     ]
    },
    {
     "name": "stdout",
     "output_type": "stream",
     "text": [
      " Matrix: Warning: no convergence (0.00000010<2.98077798 after 1000 iterations).\n",
      " Matrix: Warning: no convergence (0.00000010<2.12657166 after 1000 iterations).\n",
      " Matrix: Warning: no convergence (0.00000010<2.02714515 after 1000 iterations).\n",
      " Matrix: Warning: no convergence (0.00000010<6.18727255 after 1000 iterations).\n",
      " Matrix: Warning: no convergence (0.00000010<3.10069060 after 1000 iterations).\n",
      " Matrix: Warning: no convergence (0.00000010<4.24237871 after 1000 iterations).\n",
      " Matrix: Warning: no convergence (0.00000010<3.24363613 after 1000 iterations).\n",
      " Matrix: Warning: no convergence (0.00000010<3.43749022 after 1000 iterations).\n",
      " Matrix: Warning: no convergence (0.00000010<5.92432404 after 1000 iterations).\n",
      " Matrix: Warning: no convergence (0.00000010<6.00602913 after 1000 iterations).\n",
      " Matrix: Warning: no convergence (0.00000010<5.96249628 after 1000 iterations).\n",
      " Matrix: Warning: no convergence (0.00000010<11.56075954 after 1000 iterations).\n",
      " Matrix: Warning: no convergence (0.00000010<18.44834328 after 1000 iterations).\n",
      " Matrix: Warning: no convergence (0.00000010<29.43095970 after 1000 iterations).\n",
      " Matrix: Warning: no convergence (0.00000010<10.07388878 after 1000 iterations).\n",
      " Matrix: Warning: no convergence (0.00000010<39.74148178 after 1000 iterations).\n",
      " Matrix: Warning: no convergence (0.00000010<1.91132748 after 1000 iterations).\n",
      " Matrix: Warning: no convergence (0.00000010<9.78712940 after 1000 iterations).\n",
      " Matrix: Warning: no convergence (0.00000010<10.93149471 after 1000 iterations).\n",
      " Matrix: Warning: no convergence (0.00000010<15.50500107 after 1000 iterations).\n",
      " Matrix: Warning: no convergence (0.00000010<10.26644039 after 1000 iterations).\n",
      " Matrix: Warning: no convergence (0.00000010<9.36333942 after 1000 iterations).\n",
      " Matrix: Warning: no convergence (0.00000010<9.38462448 after 1000 iterations).\n",
      " Matrix: Warning: no convergence (0.00000010<10.10947323 after 1000 iterations).\n",
      " Matrix: Warning: no convergence (0.00000010<16.43269539 after 1000 iterations).\n",
      " Matrix: Warning: no convergence (0.00000010<18.19209862 after 1000 iterations).\n",
      " Matrix: Warning: no convergence (0.00000010<10.15644169 after 1000 iterations).\n",
      " Matrix: Warning: no convergence (0.00000010<40.01687241 after 1000 iterations).\n",
      " Matrix: Warning: no convergence (0.00000010<16.16702843 after 1000 iterations).\n",
      " Matrix: Warning: no convergence (0.00000010<16.94447136 after 1000 iterations).\n",
      " Matrix: Warning: no convergence (0.00000010<16.50046921 after 1000 iterations).\n",
      " Matrix: Warning: no convergence (0.00000010<16.00638199 after 1000 iterations).\n",
      " Matrix: Warning: no convergence (0.00000010<13.31585789 after 1000 iterations).\n",
      " Matrix: Warning: no convergence (0.00000010<41.26656723 after 1000 iterations).\n",
      " Matrix: Warning: no convergence (0.00000010<40.71967697 after 1000 iterations).\n",
      " Matrix: Warning: no convergence (0.00000010<40.33691025 after 1000 iterations).\n",
      " Matrix: Warning: no convergence (0.00000010<40.87659454 after 1000 iterations).\n",
      " Matrix: Warning: no convergence (0.00000010<13.45221329 after 1000 iterations).\n",
      " Matrix: Warning: no convergence (0.00000010<18.76621628 after 1000 iterations).\n",
      " Matrix: Warning: no convergence (0.00000010<19.25946617 after 1000 iterations).\n",
      " Matrix: Warning: no convergence (0.00000010<9.16460609 after 1000 iterations).\n",
      " Matrix: Warning: no convergence (0.00000010<40.58226013 after 1000 iterations).\n",
      " Matrix: Warning: no convergence (0.00000010<2.28553939 after 1000 iterations).\n",
      " Matrix: Warning: no convergence (0.00000010<39.61524200 after 1000 iterations).\n",
      " Matrix: Warning: no convergence (0.00000010<39.42155838 after 1000 iterations).\n",
      " Matrix: Warning: no convergence (0.00000010<15.11013889 after 1000 iterations).\n",
      " Matrix: Warning: no convergence (0.00000010<38.15803528 after 1000 iterations).\n",
      " Matrix: Warning: no convergence (0.00000010<41.17374420 after 1000 iterations).\n",
      " Matrix: Warning: no convergence (0.00000010<40.64706039 after 1000 iterations).\n",
      " Matrix: Warning: no convergence (0.00000010<37.90869141 after 1000 iterations).\n",
      " Matrix: Warning: no convergence (0.00000010<37.23563385 after 1000 iterations).\n",
      " Matrix: Warning: no convergence (0.00000010<37.77711868 after 1000 iterations).\n",
      " Matrix: Warning: no convergence (0.00000010<18.53459740 after 1000 iterations).\n",
      " Matrix: Warning: no convergence (0.00000010<35.74865341 after 1000 iterations).\n",
      " Matrix: Warning: no convergence (0.00000010<39.14244461 after 1000 iterations).\n",
      " Matrix: Warning: no convergence (0.00000010<3.83869815 after 1000 iterations).\n",
      " Matrix: Warning: no convergence (0.00000010<4.49998951 after 1000 iterations).\n",
      " Matrix: Warning: no convergence (0.00000010<6.89310026 after 1000 iterations).\n",
      " Matrix: Warning: no convergence (0.00000010<6.54811192 after 1000 iterations).\n",
      " Matrix: Warning: no convergence (0.00000010<0.81419700 after 1000 iterations).\n",
      " Matrix: Warning: no convergence (0.00000010<8.98122311 after 1000 iterations).\n",
      " Matrix: Warning: no convergence (0.00000010<2.95331407 after 1000 iterations).\n",
      " Matrix: Warning: no convergence (0.00000010<5.21890688 after 1000 iterations).\n",
      " Matrix: Warning: no convergence (0.00000010<1.61076915 after 1000 iterations).\n",
      " Matrix: Warning: no convergence (0.00000010<17.31607246 after 1000 iterations).\n",
      " Matrix: Warning: no convergence (0.00000010<11.89099312 after 1000 iterations).\n",
      " Matrix: Warning: no convergence (0.00000010<17.57201004 after 1000 iterations).\n",
      " Matrix: Warning: no convergence (0.00000010<16.56992912 after 1000 iterations).\n",
      " Matrix: Warning: no convergence (0.00000010<31.09646034 after 1000 iterations).\n",
      " Matrix: Warning: no convergence (0.00000010<33.70629883 after 1000 iterations).\n",
      " Matrix: Warning: no convergence (0.00000010<19.45624733 after 1000 iterations).\n",
      " Matrix: Warning: no convergence (0.00000010<16.96468353 after 1000 iterations).\n"
     ]
    },
    {
     "name": "stderr",
     "output_type": "stream",
     "text": [
      " 86%|████████▋ | 502/581 [1:15:18<20:44, 15.75s/it]"
     ]
    },
    {
     "name": "stdout",
     "output_type": "stream",
     "text": [
      " Matrix: Warning: no convergence (0.00000010<40.41911316 after 1000 iterations).\n",
      " Matrix: Warning: no convergence (0.00000010<2.96194196 after 1000 iterations).\n",
      " Matrix: Warning: no convergence (0.00000010<2.12154770 after 1000 iterations).\n",
      " Matrix: Warning: no convergence (0.00000010<2.02048516 after 1000 iterations).\n",
      " Matrix: Warning: no convergence (0.00000010<6.17118835 after 1000 iterations).\n",
      " Matrix: Warning: no convergence (0.00000010<3.09073567 after 1000 iterations).\n",
      " Matrix: Warning: no convergence (0.00000010<4.22910357 after 1000 iterations).\n",
      " Matrix: Warning: no convergence (0.00000010<3.23326945 after 1000 iterations).\n",
      " Matrix: Warning: no convergence (0.00000010<3.42666292 after 1000 iterations).\n",
      " Matrix: Warning: no convergence (0.00000010<5.90806484 after 1000 iterations).\n",
      " Matrix: Warning: no convergence (0.00000010<5.98829508 after 1000 iterations).\n",
      " Matrix: Warning: no convergence (0.00000010<5.94741297 after 1000 iterations).\n",
      " Matrix: Warning: no convergence (0.00000010<8.81939030 after 1000 iterations).\n",
      " Matrix: Warning: no convergence (0.00000010<14.86765862 after 1000 iterations).\n",
      " Matrix: Warning: no convergence (0.00000010<28.72547722 after 1000 iterations).\n",
      " Matrix: Warning: no convergence (0.00000010<10.02080154 after 1000 iterations).\n",
      " Matrix: Warning: no convergence (0.00000010<36.74687195 after 1000 iterations).\n",
      " Matrix: Warning: no convergence (0.00000010<1.89792407 after 1000 iterations).\n",
      " Matrix: Warning: no convergence (0.00000010<9.77000332 after 1000 iterations).\n",
      " Matrix: Warning: no convergence (0.00000010<10.88649082 after 1000 iterations).\n",
      " Matrix: Warning: no convergence (0.00000010<15.45659733 after 1000 iterations).\n",
      " Matrix: Warning: no convergence (0.00000010<10.24752998 after 1000 iterations).\n",
      " Matrix: Warning: no convergence (0.00000010<9.30412102 after 1000 iterations).\n",
      " Matrix: Warning: no convergence (0.00000010<10.05438709 after 1000 iterations).\n",
      " Matrix: Warning: no convergence (0.00000010<16.38079071 after 1000 iterations).\n",
      " Matrix: Warning: no convergence (0.00000010<18.13912010 after 1000 iterations).\n",
      " Matrix: Warning: no convergence (0.00000010<10.08046818 after 1000 iterations).\n",
      " Matrix: Warning: no convergence (0.00000010<18.20309830 after 1000 iterations).\n",
      " Matrix: Warning: no convergence (0.00000010<10.92572784 after 1000 iterations).\n",
      " Matrix: Warning: no convergence (0.00000010<16.98158455 after 1000 iterations).\n",
      " Matrix: Warning: no convergence (0.00000010<16.11920357 after 1000 iterations).\n",
      " Matrix: Warning: no convergence (0.00000010<16.89542580 after 1000 iterations).\n",
      " Matrix: Warning: no convergence (0.00000010<16.45328522 after 1000 iterations).\n",
      " Matrix: Warning: no convergence (0.00000010<15.96043015 after 1000 iterations).\n",
      " Matrix: Warning: no convergence (0.00000010<13.23871803 after 1000 iterations).\n",
      " Matrix: Warning: no convergence (0.00000010<17.36544991 after 1000 iterations).\n",
      " Matrix: Warning: no convergence (0.00000010<41.13230515 after 1000 iterations).\n",
      " Matrix: Warning: no convergence (0.00000010<40.60437393 after 1000 iterations).\n",
      " Matrix: Warning: no convergence (0.00000010<40.19094849 after 1000 iterations).\n",
      " Matrix: Warning: no convergence (0.00000010<40.76335144 after 1000 iterations).\n",
      " Matrix: Warning: no convergence (0.00000010<17.36992836 after 1000 iterations).\n",
      " Matrix: Warning: no convergence (0.00000010<24.64782143 after 1000 iterations).\n",
      " Matrix: Warning: no convergence (0.00000010<39.54447937 after 1000 iterations).\n",
      " Matrix: Warning: no convergence (0.00000010<41.03943253 after 1000 iterations).\n",
      " Matrix: Warning: no convergence (0.00000010<9.19773579 after 1000 iterations).\n",
      " Matrix: Warning: no convergence (0.00000010<40.42915344 after 1000 iterations).\n",
      " Matrix: Warning: no convergence (0.00000010<39.24366379 after 1000 iterations).\n",
      " Matrix: Warning: no convergence (0.00000010<35.47626114 after 1000 iterations).\n",
      " Matrix: Warning: no convergence (0.00000010<38.09611511 after 1000 iterations).\n",
      " Matrix: Warning: no convergence (0.00000010<39.52036285 after 1000 iterations).\n",
      " Matrix: Warning: no convergence (0.00000010<39.32174683 after 1000 iterations).\n",
      " Matrix: Warning: no convergence (0.00000010<41.15665054 after 1000 iterations).\n",
      " Matrix: Warning: no convergence (0.00000010<37.82910156 after 1000 iterations).\n",
      " Matrix: Warning: no convergence (0.00000010<38.05061340 after 1000 iterations).\n",
      " Matrix: Warning: no convergence (0.00000010<41.07295227 after 1000 iterations).\n",
      " Matrix: Warning: no convergence (0.00000010<40.52059937 after 1000 iterations).\n",
      " Matrix: Warning: no convergence (0.00000010<37.80416489 after 1000 iterations).\n",
      " Matrix: Warning: no convergence (0.00000010<37.13270569 after 1000 iterations).\n",
      " Matrix: Warning: no convergence (0.00000010<37.76263428 after 1000 iterations).\n",
      " Matrix: Warning: no convergence (0.00000010<40.80101013 after 1000 iterations).\n",
      " Matrix: Warning: no convergence (0.00000010<11.56548882 after 1000 iterations).\n",
      " Matrix: Warning: no convergence (0.00000010<39.98680115 after 1000 iterations).\n",
      " Matrix: Warning: no convergence (0.00000010<39.65942764 after 1000 iterations).\n",
      " Matrix: Warning: no convergence (0.00000010<3.92241526 after 1000 iterations).\n",
      " Matrix: Warning: no convergence (0.00000010<15.63410187 after 1000 iterations).\n",
      " Matrix: Warning: no convergence (0.00000010<1.22261155 after 1000 iterations).\n",
      " Matrix: Warning: no convergence (0.00000010<0.89587772 after 1000 iterations).\n",
      " Matrix: Warning: no convergence (0.00000010<1.21475363 after 1000 iterations).\n",
      " Matrix: Warning: no convergence (0.00000010<2.18295932 after 1000 iterations).\n",
      " Matrix: Warning: no convergence (0.00000010<35.28228378 after 1000 iterations).\n",
      " Matrix: Warning: no convergence (0.00000010<1.30150855 after 1000 iterations).\n",
      " Matrix: Warning: no convergence (0.00000010<1.88303971 after 1000 iterations).\n",
      " Matrix: Warning: no convergence (0.00000010<4.58466625 after 1000 iterations).\n",
      " Matrix: Warning: no convergence (0.00000010<6.90173292 after 1000 iterations).\n",
      " Matrix: Warning: no convergence (0.00000010<6.54218483 after 1000 iterations).\n",
      " Matrix: Warning: no convergence (0.00000010<0.81153589 after 1000 iterations).\n",
      " Matrix: Warning: no convergence (0.00000010<8.90142918 after 1000 iterations).\n",
      " Matrix: Warning: no convergence (0.00000010<3.00315166 after 1000 iterations).\n",
      " Matrix: Warning: no convergence (0.00000010<5.34679794 after 1000 iterations).\n",
      " Matrix: Warning: no convergence (0.00000010<1.60725152 after 1000 iterations).\n",
      " Matrix: Warning: no convergence (0.00000010<34.49047089 after 1000 iterations).\n",
      " Matrix: Warning: no convergence (0.00000010<15.11581039 after 1000 iterations).\n",
      " Matrix: Warning: no convergence (0.00000010<17.59792328 after 1000 iterations).\n",
      " Matrix: Warning: no convergence (0.00000010<16.60329056 after 1000 iterations).\n",
      " Matrix: Warning: no convergence (0.00000010<31.02143288 after 1000 iterations).\n",
      " Matrix: Warning: no convergence (0.00000010<34.16477585 after 1000 iterations).\n",
      " Matrix: Warning: no convergence (0.00000010<19.57232857 after 1000 iterations).\n",
      " Matrix: Warning: no convergence (0.00000010<37.29098892 after 1000 iterations).\n",
      " Matrix: Warning: no convergence (0.00000010<16.91128731 after 1000 iterations).\n"
     ]
    },
    {
     "name": "stderr",
     "output_type": "stream",
     "text": [
      " 87%|████████▋ | 504/581 [1:15:50<20:37, 16.08s/it]"
     ]
    },
    {
     "name": "stdout",
     "output_type": "stream",
     "text": [
      " Matrix: Warning: no convergence (0.00000010<31.31889534 after 1000 iterations).\n",
      " Matrix: Warning: no convergence (0.00000010<2.96622062 after 1000 iterations).\n",
      " Matrix: Warning: no convergence (0.00000010<2.11280131 after 1000 iterations).\n",
      " Matrix: Warning: no convergence (0.00000010<2.01150537 after 1000 iterations).\n",
      " Matrix: Warning: no convergence (0.00000010<6.17553616 after 1000 iterations).\n",
      " Matrix: Warning: no convergence (0.00000010<3.07685399 after 1000 iterations).\n",
      " Matrix: Warning: no convergence (0.00000010<4.22155285 after 1000 iterations).\n",
      " Matrix: Warning: no convergence (0.00000010<3.22733188 after 1000 iterations).\n",
      " Matrix: Warning: no convergence (0.00000010<3.41999650 after 1000 iterations).\n",
      " Matrix: Warning: no convergence (0.00000010<5.90348244 after 1000 iterations).\n",
      " Matrix: Warning: no convergence (0.00000010<5.97674799 after 1000 iterations).\n",
      " Matrix: Warning: no convergence (0.00000010<5.94591904 after 1000 iterations).\n",
      " Matrix: Warning: no convergence (0.00000010<11.54151440 after 1000 iterations).\n",
      " Matrix: Warning: no convergence (0.00000010<8.80488682 after 1000 iterations).\n",
      " Matrix: Warning: no convergence (0.00000010<8.83282852 after 1000 iterations).\n",
      " Matrix: Warning: no convergence (0.00000010<14.88284588 after 1000 iterations).\n",
      " Matrix: Warning: no convergence (0.00000010<28.83622169 after 1000 iterations).\n",
      " Matrix: Warning: no convergence (0.00000010<10.04618740 after 1000 iterations).\n",
      " Matrix: Warning: no convergence (0.00000010<38.06672287 after 1000 iterations).\n",
      " Matrix: Warning: no convergence (0.00000010<13.12740898 after 1000 iterations).\n",
      " Matrix: Warning: no convergence (0.00000010<1.85098720 after 1000 iterations).\n",
      " Matrix: Warning: no convergence (0.00000010<9.72603416 after 1000 iterations).\n",
      " Matrix: Warning: no convergence (0.00000010<10.91011238 after 1000 iterations).\n",
      " Matrix: Warning: no convergence (0.00000010<15.46640015 after 1000 iterations).\n",
      " Matrix: Warning: no convergence (0.00000010<10.20722198 after 1000 iterations).\n",
      " Matrix: Warning: no convergence (0.00000010<9.33792877 after 1000 iterations).\n",
      " Matrix: Warning: no convergence (0.00000010<10.08240414 after 1000 iterations).\n",
      " Matrix: Warning: no convergence (0.00000010<16.38377380 after 1000 iterations).\n",
      " Matrix: Warning: no convergence (0.00000010<18.14356613 after 1000 iterations).\n",
      " Matrix: Warning: no convergence (0.00000010<10.12696648 after 1000 iterations).\n",
      " Matrix: Warning: no convergence (0.00000010<18.20870972 after 1000 iterations).\n",
      " Matrix: Warning: no convergence (0.00000010<10.97536469 after 1000 iterations).\n",
      " Matrix: Warning: no convergence (0.00000010<16.97942734 after 1000 iterations).\n",
      " Matrix: Warning: no convergence (0.00000010<16.12029457 after 1000 iterations).\n",
      " Matrix: Warning: no convergence (0.00000010<16.89865685 after 1000 iterations).\n",
      " Matrix: Warning: no convergence (0.00000010<16.45696068 after 1000 iterations).\n",
      " Matrix: Warning: no convergence (0.00000010<15.96093655 after 1000 iterations).\n",
      " Matrix: Warning: no convergence (0.00000010<9.50494766 after 1000 iterations).\n",
      " Matrix: Warning: no convergence (0.00000010<13.28819847 after 1000 iterations).\n",
      " Matrix: Warning: no convergence (0.00000010<17.38249588 after 1000 iterations).\n",
      " Matrix: Warning: no convergence (0.00000010<41.29890060 after 1000 iterations).\n",
      " Matrix: Warning: no convergence (0.00000010<40.63249207 after 1000 iterations).\n",
      " Matrix: Warning: no convergence (0.00000010<40.25613022 after 1000 iterations).\n",
      " Matrix: Warning: no convergence (0.00000010<40.80813599 after 1000 iterations).\n",
      " Matrix: Warning: no convergence (0.00000010<40.52216721 after 1000 iterations).\n",
      " Matrix: Warning: no convergence (0.00000010<5.43967533 after 1000 iterations).\n",
      " Matrix: Warning: no convergence (0.00000010<40.74806213 after 1000 iterations).\n",
      " Matrix: Warning: no convergence (0.00000010<30.33337975 after 1000 iterations).\n",
      " Matrix: Warning: no convergence (0.00000010<204.04455566 after 1000 iterations).\n",
      " Matrix: Warning: no convergence (0.00000010<31.50392151 after 1000 iterations).\n",
      " Matrix: Warning: no convergence (0.00000010<39.47432709 after 1000 iterations).\n",
      " Matrix: Warning: no convergence (0.00000010<39.62446976 after 1000 iterations).\n",
      " Matrix: Warning: no convergence (0.00000010<41.08126831 after 1000 iterations).\n",
      " Matrix: Warning: no convergence (0.00000010<36.19018173 after 1000 iterations).\n",
      " Matrix: Warning: no convergence (0.00000010<40.44989014 after 1000 iterations).\n",
      " Matrix: Warning: no convergence (0.00000010<40.51030350 after 1000 iterations).\n",
      " Matrix: Warning: no convergence (0.00000010<40.61316299 after 1000 iterations).\n",
      " Matrix: Warning: no convergence (0.00000010<39.26217651 after 1000 iterations).\n",
      " Matrix: Warning: no convergence (0.00000010<28.79597664 after 1000 iterations).\n",
      " Matrix: Warning: no convergence (0.00000010<29.53729248 after 1000 iterations).\n",
      " Matrix: Warning: no convergence (0.00000010<40.68238449 after 1000 iterations).\n",
      " Matrix: Warning: no convergence (0.00000010<39.32263947 after 1000 iterations).\n",
      " Matrix: Warning: no convergence (0.00000010<41.19646072 after 1000 iterations).\n",
      " Matrix: Warning: no convergence (0.00000010<37.87817383 after 1000 iterations).\n",
      " Matrix: Warning: no convergence (0.00000010<38.09259796 after 1000 iterations).\n",
      " Matrix: Warning: no convergence (0.00000010<41.09686279 after 1000 iterations).\n",
      " Matrix: Warning: no convergence (0.00000010<40.56837845 after 1000 iterations).\n",
      " Matrix: Warning: no convergence (0.00000010<37.84096146 after 1000 iterations).\n",
      " Matrix: Warning: no convergence (0.00000010<37.17092896 after 1000 iterations).\n",
      " Matrix: Warning: no convergence (0.00000010<37.78563690 after 1000 iterations).\n",
      " Matrix: Warning: no convergence (0.00000010<40.82908249 after 1000 iterations).\n",
      " Matrix: Warning: no convergence (0.00000010<11.37375355 after 1000 iterations).\n",
      " Matrix: Warning: no convergence (0.00000010<1.78179467 after 1000 iterations).\n",
      " Matrix: Warning: no convergence (0.00000010<1.83812213 after 1000 iterations).\n",
      " Matrix: Warning: no convergence (0.00000010<22.87863159 after 1000 iterations).\n",
      " Matrix: Warning: no convergence (0.00000010<1.82802367 after 1000 iterations).\n",
      " Matrix: Warning: no convergence (0.00000010<17.54465485 after 1000 iterations).\n",
      " Matrix: Warning: no convergence (0.00000010<3.83088660 after 1000 iterations).\n",
      " Matrix: Warning: no convergence (0.00000010<19.77460289 after 1000 iterations).\n",
      " Matrix: Warning: no convergence (0.00000010<1.22227907 after 1000 iterations).\n",
      " Matrix: Warning: no convergence (0.00000010<0.88943350 after 1000 iterations).\n",
      " Matrix: Warning: no convergence (0.00000010<1.20617568 after 1000 iterations).\n",
      " Matrix: Warning: no convergence (0.00000010<2.17691445 after 1000 iterations).\n",
      " Matrix: Warning: no convergence (0.00000010<6.94256210 after 1000 iterations).\n",
      " Matrix: Warning: no convergence (0.00000010<1.29525483 after 1000 iterations).\n",
      " Matrix: Warning: no convergence (0.00000010<1.87457335 after 1000 iterations).\n",
      " Matrix: Warning: no convergence (0.00000010<4.48833132 after 1000 iterations).\n",
      " Matrix: Warning: no convergence (0.00000010<6.87538528 after 1000 iterations).\n",
      " Matrix: Warning: no convergence (0.00000010<6.52110863 after 1000 iterations).\n",
      " Matrix: Warning: no convergence (0.00000010<0.79942060 after 1000 iterations).\n",
      " Matrix: Warning: no convergence (0.00000010<8.88463688 after 1000 iterations).\n",
      " Matrix: Warning: no convergence (0.00000010<2.91741347 after 1000 iterations).\n",
      " Matrix: Warning: no convergence (0.00000010<5.19317961 after 1000 iterations).\n",
      " Matrix: Warning: no convergence (0.00000010<1.58205998 after 1000 iterations).\n",
      " Matrix: Warning: no convergence (0.00000010<3.93114448 after 1000 iterations).\n",
      " Matrix: Warning: no convergence (0.00000010<1.40051174 after 1000 iterations).\n",
      " Matrix: Warning: no convergence (0.00000010<3.31394792 after 1000 iterations).\n",
      " Matrix: Warning: no convergence (0.00000010<40.01654053 after 1000 iterations).\n",
      " Matrix: Warning: no convergence (0.00000010<17.56756973 after 1000 iterations).\n",
      " Matrix: Warning: no convergence (0.00000010<16.57654762 after 1000 iterations).\n",
      " Matrix: Warning: no convergence (0.00000010<31.00183678 after 1000 iterations).\n",
      " Matrix: Warning: no convergence (0.00000010<34.07527924 after 1000 iterations).\n",
      " Matrix: Warning: no convergence (0.00000010<19.42977333 after 1000 iterations).\n",
      " Matrix: Warning: no convergence (0.00000010<37.52360916 after 1000 iterations).\n",
      " Matrix: Warning: no convergence (0.00000010<16.91543198 after 1000 iterations).\n"
     ]
    },
    {
     "name": "stderr",
     "output_type": "stream",
     "text": [
      " 87%|████████▋ | 505/581 [1:16:07<20:24, 16.11s/it]"
     ]
    },
    {
     "name": "stdout",
     "output_type": "stream",
     "text": [
      " Matrix: Warning: no convergence (0.00000010<706.51538086 after 1000 iterations).\n",
      " Matrix: Warning: no convergence (0.00000010<40.86577606 after 1000 iterations).\n",
      " Matrix: Warning: no convergence (0.00000010<2.96988797 after 1000 iterations).\n",
      " Matrix: Warning: no convergence (0.00000010<31.36296844 after 1000 iterations).\n",
      " Matrix: Warning: no convergence (0.00000010<17.80851364 after 1000 iterations).\n",
      " Matrix: Warning: no convergence (0.00000010<4.22093439 after 1000 iterations).\n",
      " Matrix: Warning: no convergence (0.00000010<3.23199677 after 1000 iterations).\n",
      " Matrix: Warning: no convergence (0.00000010<3.42457128 after 1000 iterations).\n",
      " Matrix: Warning: no convergence (0.00000010<18.79391670 after 1000 iterations).\n",
      " Matrix: Warning: no convergence (0.00000010<610.32263184 after 1000 iterations).\n",
      " Matrix: Warning: no convergence (0.00000010<192.07077026 after 1000 iterations).\n",
      " Matrix: Warning: no convergence (0.00000010<11.51000786 after 1000 iterations).\n",
      " Matrix: Warning: no convergence (0.00000010<17.51401520 after 1000 iterations).\n",
      " Matrix: Warning: no convergence (0.00000010<25.72103310 after 1000 iterations).\n",
      " Matrix: Warning: no convergence (0.00000010<10.04109097 after 1000 iterations).\n",
      " Matrix: Warning: no convergence (0.00000010<39.89827728 after 1000 iterations).\n",
      " Matrix: Warning: no convergence (0.00000010<30.96363068 after 1000 iterations).\n",
      " Matrix: Warning: no convergence (0.00000010<3.71120930 after 1000 iterations).\n",
      " Matrix: Warning: no convergence (0.00000010<10.21724892 after 1000 iterations).\n",
      " Matrix: Warning: no convergence (0.00000010<9.34844875 after 1000 iterations).\n",
      " Matrix: Warning: no convergence (0.00000010<10.06325150 after 1000 iterations).\n",
      " Matrix: Warning: no convergence (0.00000010<1.07479072 after 1000 iterations).\n",
      " Matrix: Warning: no convergence (0.00000010<10.11718464 after 1000 iterations).\n",
      " Matrix: Warning: no convergence (0.00000010<4.63691282 after 1000 iterations).\n",
      " Matrix: Warning: no convergence (0.00000010<13.26971912 after 1000 iterations).\n",
      " Matrix: Warning: no convergence (0.00000010<41.28053284 after 1000 iterations).\n",
      " Matrix: Warning: no convergence (0.00000010<40.68469238 after 1000 iterations).\n",
      " Matrix: Warning: no convergence (0.00000010<40.30212021 after 1000 iterations).\n",
      " Matrix: Warning: no convergence (0.00000010<12.97739410 after 1000 iterations).\n",
      " Matrix: Warning: no convergence (0.00000010<21.58071518 after 1000 iterations).\n",
      " Matrix: Warning: no convergence (0.00000010<1.91166520 after 1000 iterations).\n",
      " Matrix: Warning: no convergence (0.00000010<39.58614731 after 1000 iterations).\n",
      " Matrix: Warning: no convergence (0.00000010<14.91736412 after 1000 iterations).\n",
      " Matrix: Warning: no convergence (0.00000010<38.13658905 after 1000 iterations).\n",
      " Matrix: Warning: no convergence (0.00000010<41.15680695 after 1000 iterations).\n",
      " Matrix: Warning: no convergence (0.00000010<40.53876495 after 1000 iterations).\n",
      " Matrix: Warning: no convergence (0.00000010<37.84156418 after 1000 iterations).\n",
      " Matrix: Warning: no convergence (0.00000010<503.50653076 after 1000 iterations).\n",
      " Matrix: Warning: no convergence (0.00000010<17.18464661 after 1000 iterations).\n",
      " Matrix: Warning: no convergence (0.00000010<371.49179077 after 1000 iterations).\n",
      " Matrix: Warning: no convergence (0.00000010<35.62900162 after 1000 iterations).\n",
      " Matrix: Warning: no convergence (0.00000010<39.06747055 after 1000 iterations).\n",
      " Matrix: Warning: no convergence (0.00000010<13.99615192 after 1000 iterations).\n",
      " Matrix: Warning: no convergence (0.00000010<35.88251495 after 1000 iterations).\n",
      " Matrix: Warning: no convergence (0.00000010<2.95683694 after 1000 iterations).\n",
      " Matrix: Warning: no convergence (0.00000010<5.25243521 after 1000 iterations).\n",
      " Matrix: Warning: no convergence (0.00000010<1.58416307 after 1000 iterations).\n",
      " Matrix: Warning: no convergence (0.00000010<11.41899967 after 1000 iterations).\n",
      " Matrix: Warning: no convergence (0.00000010<40.72850800 after 1000 iterations).\n",
      " Matrix: Warning: no convergence (0.00000010<41.01390839 after 1000 iterations).\n",
      " Matrix: Warning: no convergence (0.00000010<34.09655762 after 1000 iterations).\n",
      " Matrix: Warning: no convergence (0.00000010<19.53041840 after 1000 iterations).\n",
      " Matrix: Warning: no convergence (0.00000010<16.92005157 after 1000 iterations).\n"
     ]
    },
    {
     "name": "stderr",
     "output_type": "stream",
     "text": [
      " 88%|████████▊ | 513/581 [1:18:15<18:25, 16.26s/it]"
     ]
    },
    {
     "name": "stdout",
     "output_type": "stream",
     "text": [
      " Matrix: Warning: no convergence (0.00000010<30.82552719 after 1000 iterations).\n",
      " Matrix: Warning: no convergence (0.00000010<2.99588680 after 1000 iterations).\n",
      " Matrix: Warning: no convergence (0.00000010<2.13212872 after 1000 iterations).\n",
      " Matrix: Warning: no convergence (0.00000010<2.03310776 after 1000 iterations).\n",
      " Matrix: Warning: no convergence (0.00000010<6.16237450 after 1000 iterations).\n",
      " Matrix: Warning: no convergence (0.00000010<3.10962152 after 1000 iterations).\n",
      " Matrix: Warning: no convergence (0.00000010<4.25076866 after 1000 iterations).\n",
      " Matrix: Warning: no convergence (0.00000010<3.25015974 after 1000 iterations).\n",
      " Matrix: Warning: no convergence (0.00000010<3.44448900 after 1000 iterations).\n",
      " Matrix: Warning: no convergence (0.00000010<5.90358114 after 1000 iterations).\n",
      " Matrix: Warning: no convergence (0.00000010<6.01778269 after 1000 iterations).\n",
      " Matrix: Warning: no convergence (0.00000010<5.94112968 after 1000 iterations).\n",
      " Matrix: Warning: no convergence (0.00000010<11.67452812 after 1000 iterations).\n",
      " Matrix: Warning: no convergence (0.00000010<8.90966511 after 1000 iterations).\n",
      " Matrix: Warning: no convergence (0.00000010<18.44892883 after 1000 iterations).\n",
      " Matrix: Warning: no convergence (0.00000010<23.19484901 after 1000 iterations).\n",
      " Matrix: Warning: no convergence (0.00000010<10.16193008 after 1000 iterations).\n",
      " Matrix: Warning: no convergence (0.00000010<35.06624222 after 1000 iterations).\n",
      " Matrix: Warning: no convergence (0.00000010<13.17701054 after 1000 iterations).\n",
      " Matrix: Warning: no convergence (0.00000010<4.66672850 after 1000 iterations).\n",
      " Matrix: Warning: no convergence (0.00000010<9.87329960 after 1000 iterations).\n",
      " Matrix: Warning: no convergence (0.00000010<11.02610493 after 1000 iterations).\n",
      " Matrix: Warning: no convergence (0.00000010<15.52009201 after 1000 iterations).\n",
      " Matrix: Warning: no convergence (0.00000010<10.35377789 after 1000 iterations).\n",
      " Matrix: Warning: no convergence (0.00000010<9.45238209 after 1000 iterations).\n",
      " Matrix: Warning: no convergence (0.00000010<9.47632599 after 1000 iterations).\n",
      " Matrix: Warning: no convergence (0.00000010<10.20678139 after 1000 iterations).\n",
      " Matrix: Warning: no convergence (0.00000010<16.45207214 after 1000 iterations).\n",
      " Matrix: Warning: no convergence (0.00000010<18.21542740 after 1000 iterations).\n",
      " Matrix: Warning: no convergence (0.00000010<10.24676514 after 1000 iterations).\n",
      " Matrix: Warning: no convergence (0.00000010<39.95707703 after 1000 iterations).\n",
      " Matrix: Warning: no convergence (0.00000010<16.18166542 after 1000 iterations).\n",
      " Matrix: Warning: no convergence (0.00000010<16.96529388 after 1000 iterations).\n",
      " Matrix: Warning: no convergence (0.00000010<16.52066612 after 1000 iterations).\n",
      " Matrix: Warning: no convergence (0.00000010<16.02696037 after 1000 iterations).\n",
      " Matrix: Warning: no convergence (0.00000010<13.42561626 after 1000 iterations).\n",
      " Matrix: Warning: no convergence (0.00000010<17.43396568 after 1000 iterations).\n",
      " Matrix: Warning: no convergence (0.00000010<41.40027618 after 1000 iterations).\n",
      " Matrix: Warning: no convergence (0.00000010<40.76141739 after 1000 iterations).\n",
      " Matrix: Warning: no convergence (0.00000010<40.37047958 after 1000 iterations).\n",
      " Matrix: Warning: no convergence (0.00000010<40.91604996 after 1000 iterations).\n",
      " Matrix: Warning: no convergence (0.00000010<1.55432642 after 1000 iterations).\n",
      " Matrix: Warning: no convergence (0.00000010<31.03619003 after 1000 iterations).\n",
      " Matrix: Warning: no convergence (0.00000010<16.68837738 after 1000 iterations).\n",
      " Matrix: Warning: no convergence (0.00000010<39.58612442 after 1000 iterations).\n",
      " Matrix: Warning: no convergence (0.00000010<23.54247284 after 1000 iterations).\n",
      " Matrix: Warning: no convergence (0.00000010<36.30956268 after 1000 iterations).\n",
      " Matrix: Warning: no convergence (0.00000010<40.56365967 after 1000 iterations).\n",
      " Matrix: Warning: no convergence (0.00000010<40.62281036 after 1000 iterations).\n",
      " Matrix: Warning: no convergence (0.00000010<29.40827370 after 1000 iterations).\n",
      " Matrix: Warning: no convergence (0.00000010<31.53271866 after 1000 iterations).\n",
      " Matrix: Warning: no convergence (0.00000010<40.83546448 after 1000 iterations).\n",
      " Matrix: Warning: no convergence (0.00000010<39.64506531 after 1000 iterations).\n",
      " Matrix: Warning: no convergence (0.00000010<14.72141647 after 1000 iterations).\n",
      " Matrix: Warning: no convergence (0.00000010<38.19774628 after 1000 iterations).\n",
      " Matrix: Warning: no convergence (0.00000010<41.20437622 after 1000 iterations).\n",
      " Matrix: Warning: no convergence (0.00000010<40.68184662 after 1000 iterations).\n",
      " Matrix: Warning: no convergence (0.00000010<37.94607925 after 1000 iterations).\n",
      " Matrix: Warning: no convergence (0.00000010<37.27214050 after 1000 iterations).\n",
      " Matrix: Warning: no convergence (0.00000010<37.78131866 after 1000 iterations).\n",
      " Matrix: Warning: no convergence (0.00000010<16.05486870 after 1000 iterations).\n",
      " Matrix: Warning: no convergence (0.00000010<30.40172195 after 1000 iterations).\n",
      " Matrix: Warning: no convergence (0.00000010<1.84998167 after 1000 iterations).\n",
      " Matrix: Warning: no convergence (0.00000010<17.83560753 after 1000 iterations).\n",
      " Matrix: Warning: no convergence (0.00000010<3.83502889 after 1000 iterations).\n",
      " Matrix: Warning: no convergence (0.00000010<4.45089769 after 1000 iterations).\n",
      " Matrix: Warning: no convergence (0.00000010<7.34261227 after 1000 iterations).\n",
      " Matrix: Warning: no convergence (0.00000010<6.96419477 after 1000 iterations).\n",
      " Matrix: Warning: no convergence (0.00000010<0.81837666 after 1000 iterations).\n",
      " Matrix: Warning: no convergence (0.00000010<8.56756306 after 1000 iterations).\n",
      " Matrix: Warning: no convergence (0.00000010<2.93994713 after 1000 iterations).\n",
      " Matrix: Warning: no convergence (0.00000010<5.21630144 after 1000 iterations).\n",
      " Matrix: Warning: no convergence (0.00000010<1.61767495 after 1000 iterations).\n",
      " Matrix: Warning: no convergence (0.00000010<3.91818953 after 1000 iterations).\n",
      " Matrix: Warning: no convergence (0.00000010<1.43316615 after 1000 iterations).\n",
      " Matrix: Warning: no convergence (0.00000010<2.07485008 after 1000 iterations).\n",
      " Matrix: Warning: no convergence (0.00000010<40.12437439 after 1000 iterations).\n",
      " Matrix: Warning: no convergence (0.00000010<17.47026825 after 1000 iterations).\n",
      " Matrix: Warning: no convergence (0.00000010<15.44007111 after 1000 iterations).\n",
      " Matrix: Warning: no convergence (0.00000010<30.52104759 after 1000 iterations).\n",
      " Matrix: Warning: no convergence (0.00000010<34.37855911 after 1000 iterations).\n",
      " Matrix: Warning: no convergence (0.00000010<19.33891678 after 1000 iterations).\n",
      " Matrix: Warning: no convergence (0.00000010<17.07571983 after 1000 iterations).\n"
     ]
    },
    {
     "name": "stderr",
     "output_type": "stream",
     "text": [
      " 89%|████████▉ | 516/581 [1:19:13<19:30, 18.00s/it]"
     ]
    },
    {
     "name": "stdout",
     "output_type": "stream",
     "text": [
      " Matrix: Warning: no convergence (0.00000010<8.67577839 after 1000 iterations).\n",
      " Matrix: Warning: no convergence (0.00000010<32.11170959 after 1000 iterations).\n",
      " Matrix: Warning: no convergence (0.00000010<16.46951103 after 1000 iterations).\n",
      " Matrix: Warning: no convergence (0.00000010<10.09595680 after 1000 iterations).\n",
      " Matrix: Warning: no convergence (0.00000010<9.17351913 after 1000 iterations).\n",
      " Matrix: Warning: no convergence (0.00000010<10.83070278 after 1000 iterations).\n",
      " Matrix: Warning: no convergence (0.00000010<22.29555130 after 1000 iterations).\n",
      " Matrix: Warning: no convergence (0.00000010<18.11922836 after 1000 iterations).\n",
      " Matrix: Warning: no convergence (0.00000010<40.99944305 after 1000 iterations).\n",
      " Matrix: Warning: no convergence (0.00000010<21.33820915 after 1000 iterations).\n",
      " Matrix: Warning: no convergence (0.00000010<5.17049026 after 1000 iterations).\n",
      " Matrix: Warning: no convergence (0.00000010<38.14063644 after 1000 iterations).\n",
      " Matrix: Warning: no convergence (0.00000010<27.62689209 after 1000 iterations).\n",
      " Matrix: Warning: no convergence (0.00000010<38.12960815 after 1000 iterations).\n",
      " Matrix: Warning: no convergence (0.00000010<10.72800636 after 1000 iterations).\n",
      " Matrix: Warning: no convergence (0.00000010<18.98745537 after 1000 iterations).\n"
     ]
    },
    {
     "name": "stderr",
     "output_type": "stream",
     "text": [
      " 90%|████████▉ | 522/581 [1:21:06<18:16, 18.58s/it]"
     ]
    },
    {
     "name": "stdout",
     "output_type": "stream",
     "text": [
      " Matrix: Warning: no convergence (0.00000010<2.98101640 after 1000 iterations).\n",
      " Matrix: Warning: no convergence (0.00000010<2.12494040 after 1000 iterations).\n",
      " Matrix: Warning: no convergence (0.00000010<2.02417350 after 1000 iterations).\n",
      " Matrix: Warning: no convergence (0.00000010<6.20881844 after 1000 iterations).\n",
      " Matrix: Warning: no convergence (0.00000010<3.09685850 after 1000 iterations).\n",
      " Matrix: Warning: no convergence (0.00000010<4.24304962 after 1000 iterations).\n",
      " Matrix: Warning: no convergence (0.00000010<3.24383593 after 1000 iterations).\n",
      " Matrix: Warning: no convergence (0.00000010<3.43761277 after 1000 iterations).\n",
      " Matrix: Warning: no convergence (0.00000010<5.93759155 after 1000 iterations).\n",
      " Matrix: Warning: no convergence (0.00000010<6.00748730 after 1000 iterations).\n",
      " Matrix: Warning: no convergence (0.00000010<5.97810268 after 1000 iterations).\n",
      " Matrix: Warning: no convergence (0.00000010<11.50771141 after 1000 iterations).\n",
      " Matrix: Warning: no convergence (0.00000010<17.52837753 after 1000 iterations).\n",
      " Matrix: Warning: no convergence (0.00000010<26.64637184 after 1000 iterations).\n",
      " Matrix: Warning: no convergence (0.00000010<10.02968311 after 1000 iterations).\n",
      " Matrix: Warning: no convergence (0.00000010<39.71895599 after 1000 iterations).\n",
      " Matrix: Warning: no convergence (0.00000010<2.25183582 after 1000 iterations).\n",
      " Matrix: Warning: no convergence (0.00000010<9.75524044 after 1000 iterations).\n",
      " Matrix: Warning: no convergence (0.00000010<10.87516594 after 1000 iterations).\n",
      " Matrix: Warning: no convergence (0.00000010<15.52762318 after 1000 iterations).\n",
      " Matrix: Warning: no convergence (0.00000010<10.23523331 after 1000 iterations).\n",
      " Matrix: Warning: no convergence (0.00000010<9.31422520 after 1000 iterations).\n",
      " Matrix: Warning: no convergence (0.00000010<9.33637810 after 1000 iterations).\n",
      " Matrix: Warning: no convergence (0.00000010<10.05482292 after 1000 iterations).\n",
      " Matrix: Warning: no convergence (0.00000010<16.45224953 after 1000 iterations).\n",
      " Matrix: Warning: no convergence (0.00000010<18.21653938 after 1000 iterations).\n",
      " Matrix: Warning: no convergence (0.00000010<10.11119461 after 1000 iterations).\n",
      " Matrix: Warning: no convergence (0.00000010<40.07762527 after 1000 iterations).\n",
      " Matrix: Warning: no convergence (0.00000010<16.19993019 after 1000 iterations).\n",
      " Matrix: Warning: no convergence (0.00000010<16.96755409 after 1000 iterations).\n",
      " Matrix: Warning: no convergence (0.00000010<16.52352905 after 1000 iterations).\n",
      " Matrix: Warning: no convergence (0.00000010<16.02700233 after 1000 iterations).\n",
      " Matrix: Warning: no convergence (0.00000010<13.26475525 after 1000 iterations).\n",
      " Matrix: Warning: no convergence (0.00000010<41.21432114 after 1000 iterations).\n",
      " Matrix: Warning: no convergence (0.00000010<40.78527069 after 1000 iterations).\n",
      " Matrix: Warning: no convergence (0.00000010<40.42849350 after 1000 iterations).\n",
      " Matrix: Warning: no convergence (0.00000010<40.95327377 after 1000 iterations).\n",
      " Matrix: Warning: no convergence (0.00000010<13.34063530 after 1000 iterations).\n",
      " Matrix: Warning: no convergence (0.00000010<37.73957443 after 1000 iterations).\n",
      " Matrix: Warning: no convergence (0.00000010<17.27088165 after 1000 iterations).\n",
      " Matrix: Warning: no convergence (0.00000010<9.04950047 after 1000 iterations).\n",
      " Matrix: Warning: no convergence (0.00000010<40.66845322 after 1000 iterations).\n",
      " Matrix: Warning: no convergence (0.00000010<2.46906352 after 1000 iterations).\n",
      " Matrix: Warning: no convergence (0.00000010<39.51893997 after 1000 iterations).\n",
      " Matrix: Warning: no convergence (0.00000010<39.47639847 after 1000 iterations).\n",
      " Matrix: Warning: no convergence (0.00000010<15.05350971 after 1000 iterations).\n",
      " Matrix: Warning: no convergence (0.00000010<38.22657394 after 1000 iterations).\n",
      " Matrix: Warning: no convergence (0.00000010<41.24576187 after 1000 iterations).\n",
      " Matrix: Warning: no convergence (0.00000010<40.72254181 after 1000 iterations).\n",
      " Matrix: Warning: no convergence (0.00000010<37.97809219 after 1000 iterations).\n",
      " Matrix: Warning: no convergence (0.00000010<37.30427170 after 1000 iterations).\n",
      " Matrix: Warning: no convergence (0.00000010<37.89160538 after 1000 iterations).\n",
      " Matrix: Warning: no convergence (0.00000010<19.91599083 after 1000 iterations).\n",
      " Matrix: Warning: no convergence (0.00000010<35.85878754 after 1000 iterations).\n",
      " Matrix: Warning: no convergence (0.00000010<39.24549484 after 1000 iterations).\n",
      " Matrix: Warning: no convergence (0.00000010<3.83623409 after 1000 iterations).\n",
      " Matrix: Warning: no convergence (0.00000010<4.50012589 after 1000 iterations).\n",
      " Matrix: Warning: no convergence (0.00000010<7.74783468 after 1000 iterations).\n",
      " Matrix: Warning: no convergence (0.00000010<6.51837063 after 1000 iterations).\n",
      " Matrix: Warning: no convergence (0.00000010<0.80772650 after 1000 iterations).\n",
      " Matrix: Warning: no convergence (0.00000010<9.89339066 after 1000 iterations).\n",
      " Matrix: Warning: no convergence (0.00000010<2.92432451 after 1000 iterations).\n",
      " Matrix: Warning: no convergence (0.00000010<5.19403076 after 1000 iterations).\n",
      " Matrix: Warning: no convergence (0.00000010<1.59558916 after 1000 iterations).\n",
      " Matrix: Warning: no convergence (0.00000010<17.43773079 after 1000 iterations).\n",
      " Matrix: Warning: no convergence (0.00000010<11.79146576 after 1000 iterations).\n",
      " Matrix: Warning: no convergence (0.00000010<17.67820930 after 1000 iterations).\n",
      " Matrix: Warning: no convergence (0.00000010<18.77207565 after 1000 iterations).\n",
      " Matrix: Warning: no convergence (0.00000010<32.14121246 after 1000 iterations).\n",
      " Matrix: Warning: no convergence (0.00000010<33.67695618 after 1000 iterations).\n",
      " Matrix: Warning: no convergence (0.00000010<19.53338623 after 1000 iterations).\n",
      " Matrix: Warning: no convergence (0.00000010<16.91436386 after 1000 iterations).\n"
     ]
    },
    {
     "name": "stderr",
     "output_type": "stream",
     "text": [
      " 90%|█████████ | 523/581 [1:21:26<18:33, 19.21s/it]"
     ]
    },
    {
     "name": "stdout",
     "output_type": "stream",
     "text": [
      " Matrix: Warning: no convergence (0.00000010<31.80772400 after 1000 iterations).\n",
      " Matrix: Warning: no convergence (0.00000010<2.96806717 after 1000 iterations).\n",
      " Matrix: Warning: no convergence (0.00000010<2.11711574 after 1000 iterations).\n",
      " Matrix: Warning: no convergence (0.00000010<2.01638317 after 1000 iterations).\n",
      " Matrix: Warning: no convergence (0.00000010<6.19959497 after 1000 iterations).\n",
      " Matrix: Warning: no convergence (0.00000010<3.08480477 after 1000 iterations).\n",
      " Matrix: Warning: no convergence (0.00000010<4.22979927 after 1000 iterations).\n",
      " Matrix: Warning: no convergence (0.00000010<3.23373771 after 1000 iterations).\n",
      " Matrix: Warning: no convergence (0.00000010<3.42679572 after 1000 iterations).\n",
      " Matrix: Warning: no convergence (0.00000010<5.93918610 after 1000 iterations).\n",
      " Matrix: Warning: no convergence (0.00000010<5.98915195 after 1000 iterations).\n",
      " Matrix: Warning: no convergence (0.00000010<5.98132658 after 1000 iterations).\n",
      " Matrix: Warning: no convergence (0.00000010<11.44995689 after 1000 iterations).\n",
      " Matrix: Warning: no convergence (0.00000010<17.78174400 after 1000 iterations).\n",
      " Matrix: Warning: no convergence (0.00000010<38.51288605 after 1000 iterations).\n",
      " Matrix: Warning: no convergence (0.00000010<9.98122883 after 1000 iterations).\n",
      " Matrix: Warning: no convergence (0.00000010<31.72705460 after 1000 iterations).\n",
      " Matrix: Warning: no convergence (0.00000010<3.89727187 after 1000 iterations).\n",
      " Matrix: Warning: no convergence (0.00000010<9.74022675 after 1000 iterations).\n",
      " Matrix: Warning: no convergence (0.00000010<10.80459976 after 1000 iterations).\n",
      " Matrix: Warning: no convergence (0.00000010<15.49322128 after 1000 iterations).\n",
      " Matrix: Warning: no convergence (0.00000010<10.21900558 after 1000 iterations).\n",
      " Matrix: Warning: no convergence (0.00000010<9.26650810 after 1000 iterations).\n",
      " Matrix: Warning: no convergence (0.00000010<9.28478813 after 1000 iterations).\n",
      " Matrix: Warning: no convergence (0.00000010<9.99678421 after 1000 iterations).\n",
      " Matrix: Warning: no convergence (0.00000010<16.41420937 after 1000 iterations).\n",
      " Matrix: Warning: no convergence (0.00000010<18.17470551 after 1000 iterations).\n",
      " Matrix: Warning: no convergence (0.00000010<10.06975460 after 1000 iterations).\n",
      " Matrix: Warning: no convergence (0.00000010<39.95308304 after 1000 iterations).\n",
      " Matrix: Warning: no convergence (0.00000010<16.16171646 after 1000 iterations).\n",
      " Matrix: Warning: no convergence (0.00000010<16.92734909 after 1000 iterations).\n",
      " Matrix: Warning: no convergence (0.00000010<16.48429871 after 1000 iterations).\n",
      " Matrix: Warning: no convergence (0.00000010<15.98789692 after 1000 iterations).\n",
      " Matrix: Warning: no convergence (0.00000010<41.21653366 after 1000 iterations).\n",
      " Matrix: Warning: no convergence (0.00000010<13.20512295 after 1000 iterations).\n",
      " Matrix: Warning: no convergence (0.00000010<17.41246796 after 1000 iterations).\n",
      " Matrix: Warning: no convergence (0.00000010<40.85225677 after 1000 iterations).\n",
      " Matrix: Warning: no convergence (0.00000010<10.31234550 after 1000 iterations).\n",
      " Matrix: Warning: no convergence (0.00000010<40.69036484 after 1000 iterations).\n",
      " Matrix: Warning: no convergence (0.00000010<40.36761856 after 1000 iterations).\n",
      " Matrix: Warning: no convergence (0.00000010<40.86694717 after 1000 iterations).\n",
      " Matrix: Warning: no convergence (0.00000010<40.58137512 after 1000 iterations).\n",
      " Matrix: Warning: no convergence (0.00000010<40.99955750 after 1000 iterations).\n",
      " Matrix: Warning: no convergence (0.00000010<21.14427185 after 1000 iterations).\n",
      " Matrix: Warning: no convergence (0.00000010<35.19935608 after 1000 iterations).\n",
      " Matrix: Warning: no convergence (0.00000010<16.96707726 after 1000 iterations).\n",
      " Matrix: Warning: no convergence (0.00000010<11.45399189 after 1000 iterations).\n",
      " Matrix: Warning: no convergence (0.00000010<40.60155106 after 1000 iterations).\n",
      " Matrix: Warning: no convergence (0.00000010<20.31305313 after 1000 iterations).\n",
      " Matrix: Warning: no convergence (0.00000010<31.29840279 after 1000 iterations).\n",
      " Matrix: Warning: no convergence (0.00000010<39.41322327 after 1000 iterations).\n",
      " Matrix: Warning: no convergence (0.00000010<35.53607559 after 1000 iterations).\n",
      " Matrix: Warning: no convergence (0.00000010<38.14226532 after 1000 iterations).\n",
      " Matrix: Warning: no convergence (0.00000010<41.14801788 after 1000 iterations).\n",
      " Matrix: Warning: no convergence (0.00000010<40.63812637 after 1000 iterations).\n",
      " Matrix: Warning: no convergence (0.00000010<37.89728928 after 1000 iterations).\n",
      " Matrix: Warning: no convergence (0.00000010<37.22461319 after 1000 iterations).\n",
      " Matrix: Warning: no convergence (0.00000010<37.85845566 after 1000 iterations).\n",
      " Matrix: Warning: no convergence (0.00000010<20.04207420 after 1000 iterations).\n",
      " Matrix: Warning: no convergence (0.00000010<41.63348770 after 1000 iterations).\n",
      " Matrix: Warning: no convergence (0.00000010<40.54938507 after 1000 iterations).\n",
      " Matrix: Warning: no convergence (0.00000010<3.80893373 after 1000 iterations).\n",
      " Matrix: Warning: no convergence (0.00000010<4.45170164 after 1000 iterations).\n",
      " Matrix: Warning: no convergence (0.00000010<9.53569889 after 1000 iterations).\n",
      " Matrix: Warning: no convergence (0.00000010<8.23015308 after 1000 iterations).\n",
      " Matrix: Warning: no convergence (0.00000010<0.80144429 after 1000 iterations).\n",
      " Matrix: Warning: no convergence (0.00000010<12.66836929 after 1000 iterations).\n",
      " Matrix: Warning: no convergence (0.00000010<2.88674235 after 1000 iterations).\n",
      " Matrix: Warning: no convergence (0.00000010<5.13810730 after 1000 iterations).\n",
      " Matrix: Warning: no convergence (0.00000010<1.59994483 after 1000 iterations).\n",
      " Matrix: Warning: no convergence (0.00000010<40.85665894 after 1000 iterations).\n",
      " Matrix: Warning: no convergence (0.00000010<18.81878662 after 1000 iterations).\n",
      " Matrix: Warning: no convergence (0.00000010<17.66049767 after 1000 iterations).\n",
      " Matrix: Warning: no convergence (0.00000010<26.55718422 after 1000 iterations).\n",
      " Matrix: Warning: no convergence (0.00000010<34.57300949 after 1000 iterations).\n",
      " Matrix: Warning: no convergence (0.00000010<33.34541321 after 1000 iterations).\n",
      " Matrix: Warning: no convergence (0.00000010<19.44008636 after 1000 iterations).\n",
      " Matrix: Warning: no convergence (0.00000010<16.83254433 after 1000 iterations).\n"
     ]
    },
    {
     "name": "stderr",
     "output_type": "stream",
     "text": [
      " 90%|█████████ | 524/581 [1:21:47<18:40, 19.66s/it]"
     ]
    },
    {
     "name": "stdout",
     "output_type": "stream",
     "text": [
      " Matrix: Warning: no convergence (0.00000010<40.42623520 after 1000 iterations).\n",
      " Matrix: Warning: no convergence (0.00000010<2.96569467 after 1000 iterations).\n",
      " Matrix: Warning: no convergence (0.00000010<2.11351705 after 1000 iterations).\n",
      " Matrix: Warning: no convergence (0.00000010<2.01242232 after 1000 iterations).\n",
      " Matrix: Warning: no convergence (0.00000010<6.20634937 after 1000 iterations).\n",
      " Matrix: Warning: no convergence (0.00000010<3.07922816 after 1000 iterations).\n",
      " Matrix: Warning: no convergence (0.00000010<4.22364616 after 1000 iterations).\n",
      " Matrix: Warning: no convergence (0.00000010<3.22901702 after 1000 iterations).\n",
      " Matrix: Warning: no convergence (0.00000010<3.42180157 after 1000 iterations).\n",
      " Matrix: Warning: no convergence (0.00000010<5.94336653 after 1000 iterations).\n",
      " Matrix: Warning: no convergence (0.00000010<5.98087168 after 1000 iterations).\n",
      " Matrix: Warning: no convergence (0.00000010<5.98594713 after 1000 iterations).\n",
      " Matrix: Warning: no convergence (0.00000010<8.76739502 after 1000 iterations).\n",
      " Matrix: Warning: no convergence (0.00000010<14.89493084 after 1000 iterations).\n",
      " Matrix: Warning: no convergence (0.00000010<25.66375732 after 1000 iterations).\n",
      " Matrix: Warning: no convergence (0.00000010<9.98573399 after 1000 iterations).\n",
      " Matrix: Warning: no convergence (0.00000010<35.90462875 after 1000 iterations).\n",
      " Matrix: Warning: no convergence (0.00000010<2.87979579 after 1000 iterations).\n",
      " Matrix: Warning: no convergence (0.00000010<9.71480656 after 1000 iterations).\n",
      " Matrix: Warning: no convergence (0.00000010<10.82628345 after 1000 iterations).\n",
      " Matrix: Warning: no convergence (0.00000010<15.47756386 after 1000 iterations).\n",
      " Matrix: Warning: no convergence (0.00000010<10.19327831 after 1000 iterations).\n",
      " Matrix: Warning: no convergence (0.00000010<9.27473545 after 1000 iterations).\n",
      " Matrix: Warning: no convergence (0.00000010<10.00917244 after 1000 iterations).\n",
      " Matrix: Warning: no convergence (0.00000010<16.39671326 after 1000 iterations).\n",
      " Matrix: Warning: no convergence (0.00000010<18.15628815 after 1000 iterations).\n",
      " Matrix: Warning: no convergence (0.00000010<10.07089329 after 1000 iterations).\n",
      " Matrix: Warning: no convergence (0.00000010<18.22484970 after 1000 iterations).\n",
      " Matrix: Warning: no convergence (0.00000010<10.88811779 after 1000 iterations).\n",
      " Matrix: Warning: no convergence (0.00000010<16.99184227 after 1000 iterations).\n",
      " Matrix: Warning: no convergence (0.00000010<16.13132858 after 1000 iterations).\n",
      " Matrix: Warning: no convergence (0.00000010<16.90989494 after 1000 iterations).\n",
      " Matrix: Warning: no convergence (0.00000010<16.46730614 after 1000 iterations).\n",
      " Matrix: Warning: no convergence (0.00000010<15.97093296 after 1000 iterations).\n",
      " Matrix: Warning: no convergence (0.00000010<13.21154976 after 1000 iterations).\n",
      " Matrix: Warning: no convergence (0.00000010<17.39538765 after 1000 iterations).\n",
      " Matrix: Warning: no convergence (0.00000010<41.03219223 after 1000 iterations).\n",
      " Matrix: Warning: no convergence (0.00000010<40.65175247 after 1000 iterations).\n",
      " Matrix: Warning: no convergence (0.00000010<40.30564117 after 1000 iterations).\n",
      " Matrix: Warning: no convergence (0.00000010<40.83044052 after 1000 iterations).\n",
      " Matrix: Warning: no convergence (0.00000010<40.54473877 after 1000 iterations).\n",
      " Matrix: Warning: no convergence (0.00000010<17.89877129 after 1000 iterations).\n",
      " Matrix: Warning: no convergence (0.00000010<33.12001038 after 1000 iterations).\n",
      " Matrix: Warning: no convergence (0.00000010<39.66702271 after 1000 iterations).\n",
      " Matrix: Warning: no convergence (0.00000010<41.10430527 after 1000 iterations).\n",
      " Matrix: Warning: no convergence (0.00000010<9.31669140 after 1000 iterations).\n",
      " Matrix: Warning: no convergence (0.00000010<40.55049515 after 1000 iterations).\n",
      " Matrix: Warning: no convergence (0.00000010<39.09170914 after 1000 iterations).\n",
      " Matrix: Warning: no convergence (0.00000010<39.49109268 after 1000 iterations).\n",
      " Matrix: Warning: no convergence (0.00000010<37.80009079 after 1000 iterations).\n",
      " Matrix: Warning: no convergence (0.00000010<39.58132553 after 1000 iterations).\n",
      " Matrix: Warning: no convergence (0.00000010<39.36188507 after 1000 iterations).\n",
      " Matrix: Warning: no convergence (0.00000010<41.21893311 after 1000 iterations).\n",
      " Matrix: Warning: no convergence (0.00000010<37.89708328 after 1000 iterations).\n",
      " Matrix: Warning: no convergence (0.00000010<38.11177444 after 1000 iterations).\n",
      " Matrix: Warning: no convergence (0.00000010<41.11479187 after 1000 iterations).\n",
      " Matrix: Warning: no convergence (0.00000010<40.59550858 after 1000 iterations).\n",
      " Matrix: Warning: no convergence (0.00000010<37.86361313 after 1000 iterations).\n",
      " Matrix: Warning: no convergence (0.00000010<37.19112778 after 1000 iterations).\n",
      " Matrix: Warning: no convergence (0.00000010<37.82808685 after 1000 iterations).\n",
      " Matrix: Warning: no convergence (0.00000010<40.88137054 after 1000 iterations).\n",
      " Matrix: Warning: no convergence (0.00000010<11.37643909 after 1000 iterations).\n",
      " Matrix: Warning: no convergence (0.00000010<40.45829773 after 1000 iterations).\n",
      " Matrix: Warning: no convergence (0.00000010<40.16574478 after 1000 iterations).\n",
      " Matrix: Warning: no convergence (0.00000010<3.82578826 after 1000 iterations).\n",
      " Matrix: Warning: no convergence (0.00000010<17.32028580 after 1000 iterations).\n",
      " Matrix: Warning: no convergence (0.00000010<1.22171330 after 1000 iterations).\n",
      " Matrix: Warning: no convergence (0.00000010<0.88976902 after 1000 iterations).\n",
      " Matrix: Warning: no convergence (0.00000010<1.20661283 after 1000 iterations).\n",
      " Matrix: Warning: no convergence (0.00000010<2.17790675 after 1000 iterations).\n",
      " Matrix: Warning: no convergence (0.00000010<36.45520782 after 1000 iterations).\n",
      " Matrix: Warning: no convergence (0.00000010<1.29669213 after 1000 iterations).\n",
      " Matrix: Warning: no convergence (0.00000010<1.87568784 after 1000 iterations).\n",
      " Matrix: Warning: no convergence (0.00000010<4.47590256 after 1000 iterations).\n",
      " Matrix: Warning: no convergence (0.00000010<8.11674118 after 1000 iterations).\n",
      " Matrix: Warning: no convergence (0.00000010<6.86068010 after 1000 iterations).\n",
      " Matrix: Warning: no convergence (0.00000010<0.79911429 after 1000 iterations).\n",
      " Matrix: Warning: no convergence (0.00000010<10.59554958 after 1000 iterations).\n",
      " Matrix: Warning: no convergence (0.00000010<2.90094757 after 1000 iterations).\n",
      " Matrix: Warning: no convergence (0.00000010<5.17346287 after 1000 iterations).\n",
      " Matrix: Warning: no convergence (0.00000010<1.59552562 after 1000 iterations).\n",
      " Matrix: Warning: no convergence (0.00000010<35.79205322 after 1000 iterations).\n",
      " Matrix: Warning: no convergence (0.00000010<15.74537563 after 1000 iterations).\n",
      " Matrix: Warning: no convergence (0.00000010<17.64265251 after 1000 iterations).\n",
      " Matrix: Warning: no convergence (0.00000010<20.74017525 after 1000 iterations).\n",
      " Matrix: Warning: no convergence (0.00000010<33.03740692 after 1000 iterations).\n",
      " Matrix: Warning: no convergence (0.00000010<33.10791779 after 1000 iterations).\n",
      " Matrix: Warning: no convergence (0.00000010<19.47220421 after 1000 iterations).\n",
      " Matrix: Warning: no convergence (0.00000010<35.39085770 after 1000 iterations).\n",
      " Matrix: Warning: no convergence (0.00000010<16.84070015 after 1000 iterations).\n"
     ]
    },
    {
     "name": "stderr",
     "output_type": "stream",
     "text": [
      " 92%|█████████▏| 534/581 [1:25:05<15:19, 19.57s/it]"
     ]
    },
    {
     "name": "stdout",
     "output_type": "stream",
     "text": [
      " Matrix: Warning: no convergence (0.00000010<32.02853012 after 1000 iterations).\n",
      " Matrix: Warning: no convergence (0.00000010<2.98547363 after 1000 iterations).\n",
      " Matrix: Warning: no convergence (0.00000010<2.12357187 after 1000 iterations).\n",
      " Matrix: Warning: no convergence (0.00000010<2.02291679 after 1000 iterations).\n",
      " Matrix: Warning: no convergence (0.00000010<6.18219852 after 1000 iterations).\n",
      " Matrix: Warning: no convergence (0.00000010<3.09461260 after 1000 iterations).\n",
      " Matrix: Warning: no convergence (0.00000010<4.23726797 after 1000 iterations).\n",
      " Matrix: Warning: no convergence (0.00000010<3.23956370 after 1000 iterations).\n",
      " Matrix: Warning: no convergence (0.00000010<3.43314433 after 1000 iterations).\n",
      " Matrix: Warning: no convergence (0.00000010<5.91490412 after 1000 iterations).\n",
      " Matrix: Warning: no convergence (0.00000010<5.99921322 after 1000 iterations).\n",
      " Matrix: Warning: no convergence (0.00000010<5.95569849 after 1000 iterations).\n",
      " Matrix: Warning: no convergence (0.00000010<11.55420494 after 1000 iterations).\n",
      " Matrix: Warning: no convergence (0.00000010<8.84486294 after 1000 iterations).\n",
      " Matrix: Warning: no convergence (0.00000010<14.91121483 after 1000 iterations).\n",
      " Matrix: Warning: no convergence (0.00000010<22.38087273 after 1000 iterations).\n",
      " Matrix: Warning: no convergence (0.00000010<10.06703663 after 1000 iterations).\n",
      " Matrix: Warning: no convergence (0.00000010<39.65123749 after 1000 iterations).\n",
      " Matrix: Warning: no convergence (0.00000010<4.72034454 after 1000 iterations).\n",
      " Matrix: Warning: no convergence (0.00000010<9.81269073 after 1000 iterations).\n",
      " Matrix: Warning: no convergence (0.00000010<10.91312122 after 1000 iterations).\n",
      " Matrix: Warning: no convergence (0.00000010<15.49811840 after 1000 iterations).\n",
      " Matrix: Warning: no convergence (0.00000010<10.29246712 after 1000 iterations).\n",
      " Matrix: Warning: no convergence (0.00000010<9.34586430 after 1000 iterations).\n",
      " Matrix: Warning: no convergence (0.00000010<10.09764004 after 1000 iterations).\n",
      " Matrix: Warning: no convergence (0.00000010<16.42292595 after 1000 iterations).\n",
      " Matrix: Warning: no convergence (0.00000010<18.18260765 after 1000 iterations).\n",
      " Matrix: Warning: no convergence (0.00000010<10.14667797 after 1000 iterations).\n",
      " Matrix: Warning: no convergence (0.00000010<18.24996948 after 1000 iterations).\n",
      " Matrix: Warning: no convergence (0.00000010<10.98170853 after 1000 iterations).\n",
      " Matrix: Warning: no convergence (0.00000010<17.02202797 after 1000 iterations).\n",
      " Matrix: Warning: no convergence (0.00000010<16.15644264 after 1000 iterations).\n",
      " Matrix: Warning: no convergence (0.00000010<16.93544197 after 1000 iterations).\n",
      " Matrix: Warning: no convergence (0.00000010<16.49214935 after 1000 iterations).\n",
      " Matrix: Warning: no convergence (0.00000010<15.99736023 after 1000 iterations).\n",
      " Matrix: Warning: no convergence (0.00000010<40.80981445 after 1000 iterations).\n",
      " Matrix: Warning: no convergence (0.00000010<13.30503273 after 1000 iterations).\n",
      " Matrix: Warning: no convergence (0.00000010<41.08722305 after 1000 iterations).\n",
      " Matrix: Warning: no convergence (0.00000010<10.40398312 after 1000 iterations).\n",
      " Matrix: Warning: no convergence (0.00000010<40.70409775 after 1000 iterations).\n",
      " Matrix: Warning: no convergence (0.00000010<40.34061050 after 1000 iterations).\n",
      " Matrix: Warning: no convergence (0.00000010<40.86703110 after 1000 iterations).\n",
      " Matrix: Warning: no convergence (0.00000010<41.00067139 after 1000 iterations).\n",
      " Matrix: Warning: no convergence (0.00000010<13.65227890 after 1000 iterations).\n",
      " Matrix: Warning: no convergence (0.00000010<35.21927643 after 1000 iterations).\n",
      " Matrix: Warning: no convergence (0.00000010<39.70000076 after 1000 iterations).\n",
      " Matrix: Warning: no convergence (0.00000010<41.14344788 after 1000 iterations).\n",
      " Matrix: Warning: no convergence (0.00000010<9.18776798 after 1000 iterations).\n",
      " Matrix: Warning: no convergence (0.00000010<40.58295441 after 1000 iterations).\n",
      " Matrix: Warning: no convergence (0.00000010<39.23003769 after 1000 iterations).\n",
      " Matrix: Warning: no convergence (0.00000010<20.69503784 after 1000 iterations).\n",
      " Matrix: Warning: no convergence (0.00000010<39.51639557 after 1000 iterations).\n",
      " Matrix: Warning: no convergence (0.00000010<41.26170349 after 1000 iterations).\n",
      " Matrix: Warning: no convergence (0.00000010<37.92642212 after 1000 iterations).\n",
      " Matrix: Warning: no convergence (0.00000010<38.14652252 after 1000 iterations).\n",
      " Matrix: Warning: no convergence (0.00000010<41.16001129 after 1000 iterations).\n",
      " Matrix: Warning: no convergence (0.00000010<40.63951874 after 1000 iterations).\n",
      " Matrix: Warning: no convergence (0.00000010<37.89912033 after 1000 iterations).\n",
      " Matrix: Warning: no convergence (0.00000010<37.22639847 after 1000 iterations).\n",
      " Matrix: Warning: no convergence (0.00000010<37.74048233 after 1000 iterations).\n",
      " Matrix: Warning: no convergence (0.00000010<40.97489166 after 1000 iterations).\n",
      " Matrix: Warning: no convergence (0.00000010<11.35876465 after 1000 iterations).\n",
      " Matrix: Warning: no convergence (0.00000010<35.80137634 after 1000 iterations).\n",
      " Matrix: Warning: no convergence (0.00000010<35.88875961 after 1000 iterations).\n",
      " Matrix: Warning: no convergence (0.00000010<3.80842280 after 1000 iterations).\n",
      " Matrix: Warning: no convergence (0.00000010<38.71840668 after 1000 iterations).\n",
      " Matrix: Warning: no convergence (0.00000010<1.23099196 after 1000 iterations).\n",
      " Matrix: Warning: no convergence (0.00000010<0.89621502 after 1000 iterations).\n",
      " Matrix: Warning: no convergence (0.00000010<1.21514285 after 1000 iterations).\n",
      " Matrix: Warning: no convergence (0.00000010<2.18607330 after 1000 iterations).\n",
      " Matrix: Warning: no convergence (0.00000010<18.89926910 after 1000 iterations).\n",
      " Matrix: Warning: no convergence (0.00000010<1.30336928 after 1000 iterations).\n",
      " Matrix: Warning: no convergence (0.00000010<1.88504863 after 1000 iterations).\n",
      " Matrix: Warning: no convergence (0.00000010<4.48155308 after 1000 iterations).\n",
      " Matrix: Warning: no convergence (0.00000010<7.19192076 after 1000 iterations).\n",
      " Matrix: Warning: no convergence (0.00000010<6.83579588 after 1000 iterations).\n",
      " Matrix: Warning: no convergence (0.00000010<0.80896175 after 1000 iterations).\n",
      " Matrix: Warning: no convergence (0.00000010<8.53854370 after 1000 iterations).\n",
      " Matrix: Warning: no convergence (0.00000010<2.92538691 after 1000 iterations).\n",
      " Matrix: Warning: no convergence (0.00000010<5.17247009 after 1000 iterations).\n",
      " Matrix: Warning: no convergence (0.00000010<1.60068929 after 1000 iterations).\n",
      " Matrix: Warning: no convergence (0.00000010<17.35500336 after 1000 iterations).\n",
      " Matrix: Warning: no convergence (0.00000010<12.10350990 after 1000 iterations).\n",
      " Matrix: Warning: no convergence (0.00000010<17.57293510 after 1000 iterations).\n",
      " Matrix: Warning: no convergence (0.00000010<16.18754387 after 1000 iterations).\n",
      " Matrix: Warning: no convergence (0.00000010<30.86139297 after 1000 iterations).\n",
      " Matrix: Warning: no convergence (0.00000010<33.37125778 after 1000 iterations).\n",
      " Matrix: Warning: no convergence (0.00000010<19.41764069 after 1000 iterations).\n",
      " Matrix: Warning: no convergence (0.00000010<37.82028961 after 1000 iterations).\n",
      " Matrix: Warning: no convergence (0.00000010<16.94832230 after 1000 iterations).\n"
     ]
    },
    {
     "name": "stderr",
     "output_type": "stream",
     "text": [
      " 92%|█████████▏| 537/581 [1:26:09<15:16, 20.83s/it]"
     ]
    },
    {
     "name": "stdout",
     "output_type": "stream",
     "text": [
      " Matrix: Warning: no convergence (0.00000010<1194.49951172 after 1000 iterations).\n"
     ]
    },
    {
     "name": "stderr",
     "output_type": "stream",
     "text": [
      " 93%|█████████▎| 538/581 [1:26:36<16:13, 22.65s/it]"
     ]
    },
    {
     "name": "stdout",
     "output_type": "stream",
     "text": [
      " Matrix: Warning: no convergence (0.00000010<354.38238525 after 1000 iterations).\n"
     ]
    },
    {
     "name": "stderr",
     "output_type": "stream",
     "text": [
      " 93%|█████████▎| 540/581 [1:27:25<15:53, 23.26s/it]"
     ]
    },
    {
     "name": "stdout",
     "output_type": "stream",
     "text": [
      " Matrix: Warning: no convergence (0.00000010<215.16236877 after 1000 iterations).\n"
     ]
    },
    {
     "name": "stderr",
     "output_type": "stream",
     "text": [
      " 93%|█████████▎| 541/581 [1:27:45<14:45, 22.13s/it]"
     ]
    },
    {
     "name": "stdout",
     "output_type": "stream",
     "text": [
      " Matrix: Warning: no convergence (0.00000010<45.04265594 after 1000 iterations).\n"
     ]
    },
    {
     "name": "stderr",
     "output_type": "stream",
     "text": [
      " 94%|█████████▍| 547/581 [1:29:39<10:57, 19.34s/it]"
     ]
    },
    {
     "name": "stdout",
     "output_type": "stream",
     "text": [
      " Matrix: Warning: no convergence (0.00000010<231.33035278 after 1000 iterations).\n"
     ]
    },
    {
     "name": "stderr",
     "output_type": "stream",
     "text": [
      " 94%|█████████▍| 548/581 [1:30:00<10:46, 19.58s/it]"
     ]
    },
    {
     "name": "stdout",
     "output_type": "stream",
     "text": [
      " Matrix: Warning: no convergence (0.00000010<138.44076538 after 1000 iterations).\n",
      " Matrix: Warning: no convergence (0.00000010<135.69403076 after 1000 iterations).\n"
     ]
    },
    {
     "name": "stderr",
     "output_type": "stream",
     "text": [
      " 94%|█████████▍| 549/581 [1:30:20<10:32, 19.76s/it]"
     ]
    },
    {
     "name": "stdout",
     "output_type": "stream",
     "text": [
      " Matrix: Warning: no convergence (0.00000010<150.48873901 after 1000 iterations).\n",
      " Matrix: Warning: no convergence (0.00000010<120.47911835 after 1000 iterations).\n"
     ]
    },
    {
     "name": "stderr",
     "output_type": "stream",
     "text": [
      " 95%|█████████▍| 551/581 [1:31:01<10:11, 20.39s/it]"
     ]
    },
    {
     "name": "stdout",
     "output_type": "stream",
     "text": [
      " Matrix: Warning: no convergence (0.00000010<31.91006279 after 1000 iterations).\n",
      " Matrix: Warning: no convergence (0.00000010<2.96437478 after 1000 iterations).\n",
      " Matrix: Warning: no convergence (0.00000010<2.11532736 after 1000 iterations).\n",
      " Matrix: Warning: no convergence (0.00000010<2.01487660 after 1000 iterations).\n",
      " Matrix: Warning: no convergence (0.00000010<6.20004368 after 1000 iterations).\n",
      " Matrix: Warning: no convergence (0.00000010<3.08241463 after 1000 iterations).\n",
      " Matrix: Warning: no convergence (0.00000010<4.22611809 after 1000 iterations).\n",
      " Matrix: Warning: no convergence (0.00000010<3.23090935 after 1000 iterations).\n",
      " Matrix: Warning: no convergence (0.00000010<3.42389488 after 1000 iterations).\n",
      " Matrix: Warning: no convergence (0.00000010<5.93485212 after 1000 iterations).\n",
      " Matrix: Warning: no convergence (0.00000010<5.98402596 after 1000 iterations).\n",
      " Matrix: Warning: no convergence (0.00000010<5.97655582 after 1000 iterations).\n",
      " Matrix: Warning: no convergence (0.00000010<11.45184898 after 1000 iterations).\n",
      " Matrix: Warning: no convergence (0.00000010<17.99153328 after 1000 iterations).\n",
      " Matrix: Warning: no convergence (0.00000010<41.48326492 after 1000 iterations).\n",
      " Matrix: Warning: no convergence (0.00000010<9.98374557 after 1000 iterations).\n",
      " Matrix: Warning: no convergence (0.00000010<32.11446762 after 1000 iterations).\n",
      " Matrix: Warning: no convergence (0.00000010<4.77556181 after 1000 iterations).\n",
      " Matrix: Warning: no convergence (0.00000010<9.70832634 after 1000 iterations).\n",
      " Matrix: Warning: no convergence (0.00000010<10.82782269 after 1000 iterations).\n",
      " Matrix: Warning: no convergence (0.00000010<15.48037052 after 1000 iterations).\n",
      " Matrix: Warning: no convergence (0.00000010<10.18664837 after 1000 iterations).\n",
      " Matrix: Warning: no convergence (0.00000010<9.27034664 after 1000 iterations).\n",
      " Matrix: Warning: no convergence (0.00000010<9.29140854 after 1000 iterations).\n",
      " Matrix: Warning: no convergence (0.00000010<10.00805473 after 1000 iterations).\n",
      " Matrix: Warning: no convergence (0.00000010<16.40090179 after 1000 iterations).\n",
      " Matrix: Warning: no convergence (0.00000010<18.15935898 after 1000 iterations).\n",
      " Matrix: Warning: no convergence (0.00000010<10.06427479 after 1000 iterations).\n",
      " Matrix: Warning: no convergence (0.00000010<39.06960297 after 1000 iterations).\n",
      " Matrix: Warning: no convergence (0.00000010<16.14602470 after 1000 iterations).\n",
      " Matrix: Warning: no convergence (0.00000010<16.91142845 after 1000 iterations).\n",
      " Matrix: Warning: no convergence (0.00000010<16.46933556 after 1000 iterations).\n",
      " Matrix: Warning: no convergence (0.00000010<15.97352982 after 1000 iterations).\n",
      " Matrix: Warning: no convergence (0.00000010<41.15101242 after 1000 iterations).\n",
      " Matrix: Warning: no convergence (0.00000010<13.20529842 after 1000 iterations).\n",
      " Matrix: Warning: no convergence (0.00000010<17.39794731 after 1000 iterations).\n",
      " Matrix: Warning: no convergence (0.00000010<40.49089432 after 1000 iterations).\n",
      " Matrix: Warning: no convergence (0.00000010<10.31024170 after 1000 iterations).\n",
      " Matrix: Warning: no convergence (0.00000010<40.65487289 after 1000 iterations).\n",
      " Matrix: Warning: no convergence (0.00000010<40.29936218 after 1000 iterations).\n",
      " Matrix: Warning: no convergence (0.00000010<40.83077240 after 1000 iterations).\n",
      " Matrix: Warning: no convergence (0.00000010<40.54551697 after 1000 iterations).\n",
      " Matrix: Warning: no convergence (0.00000010<40.96329498 after 1000 iterations).\n",
      " Matrix: Warning: no convergence (0.00000010<19.08202362 after 1000 iterations).\n",
      " Matrix: Warning: no convergence (0.00000010<24.23017502 after 1000 iterations).\n",
      " Matrix: Warning: no convergence (0.00000010<16.89579582 after 1000 iterations).\n",
      " Matrix: Warning: no convergence (0.00000010<9.57847309 after 1000 iterations).\n",
      " Matrix: Warning: no convergence (0.00000010<40.54365921 after 1000 iterations).\n",
      " Matrix: Warning: no convergence (0.00000010<32.73524857 after 1000 iterations).\n",
      " Matrix: Warning: no convergence (0.00000010<34.09030151 after 1000 iterations).\n",
      " Matrix: Warning: no convergence (0.00000010<39.37771606 after 1000 iterations).\n",
      " Matrix: Warning: no convergence (0.00000010<35.45403671 after 1000 iterations).\n",
      " Matrix: Warning: no convergence (0.00000010<38.10898209 after 1000 iterations).\n",
      " Matrix: Warning: no convergence (0.00000010<41.12405396 after 1000 iterations).\n",
      " Matrix: Warning: no convergence (0.00000010<40.59797287 after 1000 iterations).\n",
      " Matrix: Warning: no convergence (0.00000010<37.86413574 after 1000 iterations).\n",
      " Matrix: Warning: no convergence (0.00000010<37.19180298 after 1000 iterations).\n",
      " Matrix: Warning: no convergence (0.00000010<37.81803131 after 1000 iterations).\n",
      " Matrix: Warning: no convergence (0.00000010<19.96897888 after 1000 iterations).\n",
      " Matrix: Warning: no convergence (0.00000010<41.62739563 after 1000 iterations).\n",
      " Matrix: Warning: no convergence (0.00000010<39.95883179 after 1000 iterations).\n",
      " Matrix: Warning: no convergence (0.00000010<3.85040927 after 1000 iterations).\n",
      " Matrix: Warning: no convergence (0.00000010<4.50543499 after 1000 iterations).\n",
      " Matrix: Warning: no convergence (0.00000010<7.14609766 after 1000 iterations).\n",
      " Matrix: Warning: no convergence (0.00000010<6.78945923 after 1000 iterations).\n",
      " Matrix: Warning: no convergence (0.00000010<0.80113238 after 1000 iterations).\n",
      " Matrix: Warning: no convergence (0.00000010<8.48671341 after 1000 iterations).\n",
      " Matrix: Warning: no convergence (0.00000010<2.91951609 after 1000 iterations).\n",
      " Matrix: Warning: no convergence (0.00000010<5.20681286 after 1000 iterations).\n",
      " Matrix: Warning: no convergence (0.00000010<1.59987807 after 1000 iterations).\n",
      " Matrix: Warning: no convergence (0.00000010<40.50933456 after 1000 iterations).\n",
      " Matrix: Warning: no convergence (0.00000010<16.88642120 after 1000 iterations).\n",
      " Matrix: Warning: no convergence (0.00000010<17.66137123 after 1000 iterations).\n",
      " Matrix: Warning: no convergence (0.00000010<15.98649120 after 1000 iterations).\n",
      " Matrix: Warning: no convergence (0.00000010<30.75976753 after 1000 iterations).\n",
      " Matrix: Warning: no convergence (0.00000010<30.96875954 after 1000 iterations).\n",
      " Matrix: Warning: no convergence (0.00000010<19.51644516 after 1000 iterations).\n",
      " Matrix: Warning: no convergence (0.00000010<16.84354591 after 1000 iterations).\n"
     ]
    },
    {
     "name": "stderr",
     "output_type": "stream",
     "text": [
      " 96%|█████████▌| 556/581 [1:32:42<08:25, 20.22s/it]"
     ]
    },
    {
     "name": "stdout",
     "output_type": "stream",
     "text": [
      " Matrix: Warning: no convergence (0.00000010<34.25111008 after 1000 iterations).\n",
      " Matrix: Warning: no convergence (0.00000010<26.36318398 after 1000 iterations).\n",
      " Matrix: Warning: no convergence (0.00000010<59.07849503 after 1000 iterations).\n"
     ]
    },
    {
     "name": "stderr",
     "output_type": "stream",
     "text": [
      " 96%|█████████▌| 558/581 [1:33:31<08:40, 22.61s/it]"
     ]
    },
    {
     "name": "stdout",
     "output_type": "stream",
     "text": [
      " Matrix: Warning: no convergence (0.00000010<10.98883343 after 1000 iterations).\n"
     ]
    },
    {
     "name": "stderr",
     "output_type": "stream",
     "text": [
      " 96%|█████████▌| 559/581 [1:33:59<08:51, 24.15s/it]"
     ]
    },
    {
     "name": "stdout",
     "output_type": "stream",
     "text": [
      " Matrix: Warning: no convergence (0.00000010<263.68551636 after 1000 iterations).\n"
     ]
    },
    {
     "name": "stderr",
     "output_type": "stream",
     "text": [
      " 97%|█████████▋| 565/581 [1:36:36<06:26, 24.14s/it]"
     ]
    },
    {
     "name": "stdout",
     "output_type": "stream",
     "text": [
      " Matrix: Warning: no convergence (0.00000010<11.83456707 after 1000 iterations).\n",
      " Matrix: Warning: no convergence (0.00000010<33.50266266 after 1000 iterations).\n",
      " Matrix: Warning: no convergence (0.00000010<40.94198990 after 1000 iterations).\n",
      " Matrix: Warning: no convergence (0.00000010<30.87380981 after 1000 iterations).\n",
      " Matrix: Warning: no convergence (0.00000010<35.62539673 after 1000 iterations).\n",
      " Matrix: Warning: no convergence (0.00000010<35.17345047 after 1000 iterations).\n",
      " Matrix: Warning: no convergence (0.00000010<31.05100822 after 1000 iterations).\n",
      " Matrix: Warning: no convergence (0.00000010<22.85115051 after 1000 iterations).\n"
     ]
    },
    {
     "name": "stderr",
     "output_type": "stream",
     "text": [
      " 98%|█████████▊| 568/581 [1:37:39<04:47, 22.09s/it]"
     ]
    },
    {
     "name": "stdout",
     "output_type": "stream",
     "text": [
      " Matrix: Warning: no convergence (0.00000010<8.45167065 after 1000 iterations).\n",
      " Matrix: Warning: no convergence (0.00000010<6.65525150 after 1000 iterations).\n"
     ]
    },
    {
     "name": "stderr",
     "output_type": "stream",
     "text": [
      " 98%|█████████▊| 570/581 [1:38:19<03:51, 21.06s/it]"
     ]
    },
    {
     "name": "stdout",
     "output_type": "stream",
     "text": [
      " Matrix: Warning: no convergence (0.00000010<62.24431992 after 1000 iterations).\n"
     ]
    },
    {
     "name": "stderr",
     "output_type": "stream",
     "text": [
      " 98%|█████████▊| 571/581 [1:38:40<03:29, 20.93s/it]"
     ]
    },
    {
     "name": "stdout",
     "output_type": "stream",
     "text": [
      " Matrix: Warning: no convergence (0.00000010<67.49591064 after 1000 iterations).\n",
      " Matrix: Warning: no convergence (0.00000010<51.75359726 after 1000 iterations).\n",
      " Matrix: Warning: no convergence (0.00000010<52.39937592 after 1000 iterations).\n",
      " Matrix: Warning: no convergence (0.00000010<59.23835754 after 1000 iterations).\n",
      " Matrix: Warning: no convergence (0.00000010<35.44075394 after 1000 iterations).\n",
      " Matrix: Warning: no convergence (0.00000010<55.47127914 after 1000 iterations).\n"
     ]
    },
    {
     "name": "stderr",
     "output_type": "stream",
     "text": [
      " 98%|█████████▊| 572/581 [1:39:02<03:10, 21.17s/it]"
     ]
    },
    {
     "name": "stdout",
     "output_type": "stream",
     "text": [
      " Matrix: Warning: no convergence (0.00000010<44.94522095 after 1000 iterations).\n"
     ]
    },
    {
     "name": "stderr",
     "output_type": "stream",
     "text": [
      " 99%|█████████▉| 574/581 [1:39:44<02:27, 21.06s/it]"
     ]
    },
    {
     "name": "stdout",
     "output_type": "stream",
     "text": [
      " Matrix: Warning: no convergence (0.00000010<108.81437683 after 1000 iterations).\n",
      " Matrix: Warning: no convergence (0.00000010<81.14581299 after 1000 iterations).\n"
     ]
    },
    {
     "name": "stderr",
     "output_type": "stream",
     "text": [
      " 99%|█████████▉| 575/581 [1:40:04<02:05, 20.87s/it]"
     ]
    },
    {
     "name": "stdout",
     "output_type": "stream",
     "text": [
      " Matrix: Warning: no convergence (0.00000010<34.12934875 after 1000 iterations).\n",
      " Matrix: Warning: no convergence (0.00000010<28.68329430 after 1000 iterations).\n",
      " Matrix: Warning: no convergence (0.00000010<32.66906357 after 1000 iterations).\n",
      " Matrix: Warning: no convergence (0.00000010<34.32393265 after 1000 iterations).\n",
      " Matrix: Warning: no convergence (0.00000010<40.40593338 after 1000 iterations).\n",
      " Matrix: Warning: no convergence (0.00000010<29.41438484 after 1000 iterations).\n",
      " Matrix: Warning: no convergence (0.00000010<37.99231720 after 1000 iterations).\n",
      " Matrix: Warning: no convergence (0.00000010<25.87316704 after 1000 iterations).\n"
     ]
    },
    {
     "name": "stderr",
     "output_type": "stream",
     "text": [
      " 99%|█████████▉| 576/581 [1:40:26<01:46, 21.22s/it]"
     ]
    },
    {
     "name": "stdout",
     "output_type": "stream",
     "text": [
      " Matrix: Warning: no convergence (0.00000010<27.22029877 after 1000 iterations).\n",
      " Matrix: Warning: no convergence (0.00000010<27.94483185 after 1000 iterations).\n",
      " Matrix: Warning: no convergence (0.00000010<30.12499619 after 1000 iterations).\n",
      " Matrix: Warning: no convergence (0.00000010<40.99065399 after 1000 iterations).\n",
      " Matrix: Warning: no convergence (0.00000010<41.77658844 after 1000 iterations).\n",
      " Matrix: Warning: no convergence (0.00000010<28.64157486 after 1000 iterations).\n",
      " Matrix: Warning: no convergence (0.00000010<30.66089821 after 1000 iterations).\n",
      " Matrix: Warning: no convergence (0.00000010<39.99286652 after 1000 iterations).\n",
      " Matrix: Warning: no convergence (0.00000010<29.03949547 after 1000 iterations).\n",
      " Matrix: Warning: no convergence (0.00000010<28.73970604 after 1000 iterations).\n",
      " Matrix: Warning: no convergence (0.00000010<20.93433571 after 1000 iterations).\n",
      " Matrix: Warning: no convergence (0.00000010<21.57257080 after 1000 iterations).\n"
     ]
    },
    {
     "name": "stderr",
     "output_type": "stream",
     "text": [
      "100%|█████████▉| 579/581 [1:41:30<00:42, 21.26s/it]"
     ]
    },
    {
     "name": "stdout",
     "output_type": "stream",
     "text": [
      " Matrix: Warning: no convergence (0.00000010<11.41327190 after 1000 iterations).\n",
      " Matrix: Warning: no convergence (0.00000010<25.29393387 after 1000 iterations).\n",
      " Matrix: Warning: no convergence (0.00000010<6.23114157 after 1000 iterations).\n",
      " Matrix: Warning: no convergence (0.00000010<22.76463509 after 1000 iterations).\n",
      " Matrix: Warning: no convergence (0.00000010<40.34659958 after 1000 iterations).\n",
      " Matrix: Warning: no convergence (0.00000010<38.60853195 after 1000 iterations).\n",
      " Matrix: Warning: no convergence (0.00000010<16.27878571 after 1000 iterations).\n",
      " Matrix: Warning: no convergence (0.00000010<39.07561874 after 1000 iterations).\n",
      " Matrix: Warning: no convergence (0.00000010<39.95089340 after 1000 iterations).\n",
      " Matrix: Warning: no convergence (0.00000010<37.62973022 after 1000 iterations).\n",
      " Matrix: Warning: no convergence (0.00000010<41.50996399 after 1000 iterations).\n",
      " Matrix: Warning: no convergence (0.00000010<39.63706970 after 1000 iterations).\n",
      " Matrix: Warning: no convergence (0.00000010<13.74257088 after 1000 iterations).\n",
      " Matrix: Warning: no convergence (0.00000010<40.08892822 after 1000 iterations).\n",
      " Matrix: Warning: no convergence (0.00000010<25.10595322 after 1000 iterations).\n",
      " Matrix: Warning: no convergence (0.00000010<40.20052338 after 1000 iterations).\n",
      " Matrix: Warning: no convergence (0.00000010<33.28092194 after 1000 iterations).\n",
      " Matrix: Warning: no convergence (0.00000010<39.51155472 after 1000 iterations).\n",
      " Matrix: Warning: no convergence (0.00000010<34.79218674 after 1000 iterations).\n",
      " Matrix: Warning: no convergence (0.00000010<0.79057187 after 1000 iterations).\n",
      " Matrix: Warning: no convergence (0.00000010<0.68742895 after 1000 iterations).\n",
      " Matrix: Warning: no convergence (0.00000010<10.02860165 after 1000 iterations).\n",
      " Matrix: Warning: no convergence (0.00000010<6.86137056 after 1000 iterations).\n"
     ]
    },
    {
     "name": "stderr",
     "output_type": "stream",
     "text": [
      "100%|█████████▉| 580/581 [1:41:51<00:21, 21.26s/it]"
     ]
    },
    {
     "name": "stdout",
     "output_type": "stream",
     "text": [
      " Matrix: Warning: no convergence (0.00000010<169.10023499 after 1000 iterations).\n",
      " Matrix: Warning: no convergence (0.00000010<206.75856018 after 1000 iterations).\n",
      " Matrix: Warning: no convergence (0.00000010<339.77688599 after 1000 iterations).\n",
      " Matrix: Warning: no convergence (0.00000010<281.43161011 after 1000 iterations).\n",
      " Matrix: Warning: no convergence (0.00000010<315.53558350 after 1000 iterations).\n"
     ]
    },
    {
     "name": "stderr",
     "output_type": "stream",
     "text": [
      "100%|██████████| 581/581 [1:42:13<00:00, 10.56s/it]\n"
     ]
    }
   ],
   "source": [
    "for i in tqdm(range(len(a))):\n",
    "    for j in range(len(a)):\n",
    "        if j<i:\n",
    "            if mat[i][j] == 0:\n",
    "                try:\n",
    "                    mat[i][j]=(list(pymol.cmd.align(a[i],a[j],cycles=0))[0])\n",
    "                    mat[j][i]=mat[i][j]\n",
    "                except:\n",
    "                    data_stati.append([a[i],a[j]])\n",
    "                    continue\n",
    "            else:\n",
    "                continue\n",
    "        elif i==j:\n",
    "            mat[i][j]=0\n",
    "        else:\n",
    "            continue"
   ]
  },
  {
   "cell_type": "code",
   "execution_count": 7,
   "metadata": {},
   "outputs": [],
   "source": [
    "# pymol.cmd.align(a[0],a[1],cycles=0)"
   ]
  },
  {
   "cell_type": "code",
   "execution_count": 1,
   "metadata": {},
   "outputs": [
    {
     "ename": "NameError",
     "evalue": "name 'np' is not defined",
     "output_type": "error",
     "traceback": [
      "\u001b[0;31m---------------------------------------------------------------------------\u001b[0m",
      "\u001b[0;31mNameError\u001b[0m                                 Traceback (most recent call last)",
      "\u001b[0;32m/tmp/ipykernel_23613/2215460562.py\u001b[0m in \u001b[0;36m<module>\u001b[0;34m\u001b[0m\n\u001b[0;32m----> 1\u001b[0;31m \u001b[0mnp\u001b[0m\u001b[0;34m.\u001b[0m\u001b[0msavetxt\u001b[0m\u001b[0;34m(\u001b[0m\u001b[0;34m\"rmsd_result1.txt\"\u001b[0m\u001b[0;34m,\u001b[0m \u001b[0mmat\u001b[0m\u001b[0;34m,\u001b[0m \u001b[0mfmt\u001b[0m \u001b[0;34m=\u001b[0m \u001b[0;34m'%f'\u001b[0m\u001b[0;34m,\u001b[0m \u001b[0mdelimiter\u001b[0m \u001b[0;34m=\u001b[0m \u001b[0;34m' '\u001b[0m\u001b[0;34m)\u001b[0m\u001b[0;34m\u001b[0m\u001b[0;34m\u001b[0m\u001b[0m\n\u001b[0m",
      "\u001b[0;31mNameError\u001b[0m: name 'np' is not defined"
     ]
    }
   ],
   "source": [
    "np.savetxt(\"rmsd_result1.txt\", mat, fmt = '%f', delimiter = ' ')\n"
   ]
  }
 ],
 "metadata": {
  "kernelspec": {
   "display_name": "pymol",
   "language": "python",
   "name": "python3"
  },
  "language_info": {
   "codemirror_mode": {
    "name": "ipython",
    "version": 3
   },
   "file_extension": ".py",
   "mimetype": "text/x-python",
   "name": "python",
   "nbconvert_exporter": "python",
   "pygments_lexer": "ipython3",
   "version": "3.7.12"
  },
  "orig_nbformat": 4
 },
 "nbformat": 4,
 "nbformat_minor": 2
}
