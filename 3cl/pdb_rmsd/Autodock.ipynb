{
 "cells": [
  {
   "cell_type": "code",
   "execution_count": null,
   "metadata": {},
   "outputs": [],
   "source": [
    "from vina import Vina\n",
    "v = Vina(sf_name='vina')"
   ]
  },
  {
   "cell_type": "code",
   "execution_count": null,
   "metadata": {},
   "outputs": [],
   "source": [
    "v.set_receptor('7rfs_receptor.pdbqt')\n",
    "\n",
    "v.set_ligand_from_file('7rfs_ligand.pdbqt')\n",
    "v.compute_vina_maps(center=[12.000, 0.000, 20.000], box_size=[60, 60, 60])\n",
    "# print(1)\n",
    "# Score the current pose\n",
    "energy = v.score()\n",
    "print('Score before minimization: %.3f (kcal/mol)' % energy[0])\n",
    "print(1)\n",
    "\n",
    "# Minimized locally the current pose\n",
    "energy_minimized = v.optimize()\n",
    "print('Score after minimization : %.3f (kcal/mol)' % energy_minimized[0])\n",
    "v.write_pose('7rfs_ligand_minimized.pdbqt', overwrite=True)\n",
    "\n",
    "# Dock the ligand\n",
    "v.dock(exhaustiveness=32, n_poses=20)\n",
    "v.write_poses('7rfs_ligand_vina_out.pdbqt', n_poses=5, overwrite=True)"
   ]
  }
 ],
 "metadata": {
  "language_info": {
   "name": "python"
  },
  "orig_nbformat": 4
 },
 "nbformat": 4,
 "nbformat_minor": 2
}
