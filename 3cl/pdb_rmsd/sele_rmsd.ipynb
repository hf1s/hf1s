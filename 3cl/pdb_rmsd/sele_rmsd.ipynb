{
 "cells": [
  {
   "cell_type": "code",
   "execution_count": 8,
   "metadata": {},
   "outputs": [],
   "source": [
    "import pymol\n",
    "from tqdm import tqdm\n",
    "import json\n",
    "import os\n",
    "import numpy as np\n"
   ]
  },
  {
   "cell_type": "code",
   "execution_count": 2,
   "metadata": {},
   "outputs": [],
   "source": [
    "receptor_pdb_list=['7ENE','7L0D','7L10','7M04','7M90','7RFS','7RVT','7S6X','6LU7']"
   ]
  },
  {
   "cell_type": "code",
   "execution_count": 3,
   "metadata": {},
   "outputs": [
    {
     "name": "stderr",
     "output_type": "stream",
     "text": [
      "100%|██████████| 9/9 [00:00<00:00, 139.36it/s]"
     ]
    },
    {
     "name": "stdout",
     "output_type": "stream",
     "text": [
      " PyMOL not running, entering library mode (experimental)\n"
     ]
    },
    {
     "name": "stderr",
     "output_type": "stream",
     "text": [
      "\n"
     ]
    }
   ],
   "source": [
    "for i in tqdm(receptor_pdb_list):\n",
    "    path=os.listdir(f'../gett_pdb/{i}/{i}_result/')\n",
    "    for j in path:\n",
    "        if j[-12:-6]=='cavity':\n",
    "            pymol.cmd.load(f'../gett_pdb/{i}/{i}_result/{j}')"
   ]
  },
  {
   "cell_type": "code",
   "execution_count": 4,
   "metadata": {},
   "outputs": [],
   "source": [
    "a = pymol.cmd.get_object_list()\n",
    "mat = np.zeros((len(a), len(a)))\n",
    "data_stati = []"
   ]
  },
  {
   "cell_type": "code",
   "execution_count": 5,
   "metadata": {},
   "outputs": [
    {
     "name": "stderr",
     "output_type": "stream",
     "text": [
      "100%|██████████| 9/9 [00:00<00:00, 499.36it/s]\n"
     ]
    }
   ],
   "source": [
    "for i in tqdm(range(len(a))):\n",
    "    for j in range(len(a)):\n",
    "        if j<i:\n",
    "            if mat[i][j] == 0:\n",
    "                try:\n",
    "                    mat[i][j]=(list(pymol.cmd.align(a[i],a[j],cycles=0))[0])\n",
    "                    mat[j][i]=mat[i][j]\n",
    "                except:\n",
    "                    data_stati.append([a[i],a[j]])\n",
    "                    continue\n",
    "            else:\n",
    "                continue\n",
    "        elif i==j:\n",
    "            mat[i][j]=0\n",
    "        else:\n",
    "            continue"
   ]
  },
  {
   "cell_type": "code",
   "execution_count": 6,
   "metadata": {},
   "outputs": [],
   "source": [
    "np.savetxt(\"sele_rmsd_result1.txt\", mat, fmt = '%f', delimiter = ' ')\n"
   ]
  }
 ],
 "metadata": {
  "kernelspec": {
   "display_name": "pymol",
   "language": "python",
   "name": "python3"
  },
  "language_info": {
   "codemirror_mode": {
    "name": "ipython",
    "version": 3
   },
   "file_extension": ".py",
   "mimetype": "text/x-python",
   "name": "python",
   "nbconvert_exporter": "python",
   "pygments_lexer": "ipython3",
   "version": "3.7.12"
  },
  "orig_nbformat": 4
 },
 "nbformat": 4,
 "nbformat_minor": 2
}
