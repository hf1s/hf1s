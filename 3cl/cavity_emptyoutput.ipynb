{
 "cells": [
  {
   "cell_type": "code",
   "execution_count": 1,
   "metadata": {},
   "outputs": [],
   "source": [
    "import os \n",
    "import pandas as pd\n",
    "import numpy as np\n",
    "from tqdm import tqdm\n",
    "import json\n",
    "import requests\n",
    "import warnings\n",
    "from typing import Optional\n",
    "import time"
   ]
  },
  {
   "cell_type": "code",
   "execution_count": 2,
   "metadata": {},
   "outputs": [],
   "source": [
    "with open('./gett_pdb/pdbbid.csv', 'r') as f:\n",
    "    text = f.read()\n",
    "pdb_ids = text.split(',')"
   ]
  },
  {
   "cell_type": "code",
   "execution_count": 3,
   "metadata": {},
   "outputs": [],
   "source": [
    "no_ligand_stru_list=[]\n",
    "no_pdb_file_list=[]\n",
    "cavity_empty_list=[]\n",
    "true_list=[]\n",
    "for i in pdb_ids:\n",
    "    if os.path.exists(f'./gett_pdb/{i}'):\n",
    "        if os.path.exists(f'./gett_pdb/{i}/{i}_mol2'):\n",
    "            if os.path.exists(f'./gett_pdb/{i}/{i}_mol2/ligand.mol2'):\n",
    "                true_list.append(i)\n",
    "            else:\n",
    "                cavity_empty_list.append(i)\n",
    "        else:\n",
    "            no_pdb_file_list.append(i)\n",
    "    else:\n",
    "        no_ligand_stru_list.append(i)"
   ]
  },
  {
   "cell_type": "code",
   "execution_count": 4,
   "metadata": {},
   "outputs": [],
   "source": [
    "with open('./error_list/no_ligand_stru_list.txt', 'w') as f:\n",
    "    for i in no_ligand_stru_list:\n",
    "        f.write(i + ' ')"
   ]
  },
  {
   "cell_type": "code",
   "execution_count": 5,
   "metadata": {},
   "outputs": [],
   "source": [
    "with open('./error_list/no_pdb_file.txt', 'w') as f:\n",
    "    for i in no_pdb_file_list:\n",
    "        f.write(i + ',')"
   ]
  },
  {
   "cell_type": "code",
   "execution_count": 6,
   "metadata": {},
   "outputs": [],
   "source": [
    "with open('./error_list/no_cavity_list.txt', 'w') as f:\n",
    "    for i in cavity_empty_list:\n",
    "        f.write(i + ',')"
   ]
  },
  {
   "cell_type": "code",
   "execution_count": 7,
   "metadata": {},
   "outputs": [],
   "source": [
    "with open('./error_list/true_pdb_id.txt', 'w') as f:\n",
    "    for i in true_list:\n",
    "        f.write(i + ',')"
   ]
  },
  {
   "cell_type": "code",
   "execution_count": null,
   "metadata": {},
   "outputs": [],
   "source": [
    "# cavity_empty_list(138)\n",
    "# cavity_super_list(2)\n",
    "# no_cavity_list(774)\n",
    "# no_ligand_stru_list(113)\n",
    "# no_pdb_file_list(26)\n",
    "# true_list(581)\n"
   ]
  }
 ],
 "metadata": {
  "kernelspec": {
   "display_name": "zth3cl",
   "language": "python",
   "name": "python3"
  },
  "language_info": {
   "codemirror_mode": {
    "name": "ipython",
    "version": 3
   },
   "file_extension": ".py",
   "mimetype": "text/x-python",
   "name": "python",
   "nbconvert_exporter": "python",
   "pygments_lexer": "ipython3",
   "version": "3.7.12"
  },
  "orig_nbformat": 4
 },
 "nbformat": 4,
 "nbformat_minor": 2
}
