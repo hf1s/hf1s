{
 "cells": [
  {
   "cell_type": "code",
   "execution_count": 52,
   "metadata": {},
   "outputs": [],
   "source": [
    "from rdkit import Chem\n",
    "from rdkit.Chem import AllChem as Chem\n",
    "from rdkit.Chem import Draw\n",
    "from rdkit.Chem import Fragments\n",
    "from ClickReaction import BocRemoval\n",
    "from ClickReaction import CuAAC\n",
    "from rdkit.Chem import  Descriptors\n",
    "from rdkit.Chem.Draw import IPythonConsole\n",
    "import io\n",
    "import itertools\n",
    "from PIL import Image\n",
    "from ClickReaction import BocRemoval\n",
    "from tqdm import tqdm\n",
    "import re\n",
    "from rdkit.Chem import Lipinski\n",
    "from rdkit.Chem import Descriptors\n",
    "from rdkit.Chem import Crippen\n",
    "import json\n",
    "import csv\n",
    "import numpy as np"
   ]
  },
  {
   "cell_type": "code",
   "execution_count": 53,
   "metadata": {},
   "outputs": [],
   "source": [
    "def replace_specific_pattern(text, pattern, replacement):\n",
    "    return re.sub(pattern, replacement, text)\n",
    "rxn = Chem.ReactionFromSmarts('[*:6][C:1]#[C:2].[N-:3]=[N+:4]=[N:5]>>[N:5]1([C:2]=[C:1]([*:6])[N:3]=[N:4]1)')"
   ]
  },
  {
   "cell_type": "code",
   "execution_count": 54,
   "metadata": {},
   "outputs": [],
   "source": [
    "def convert_primary_amines_to_diazonium(smiles):\n",
    "    molecule = Chem.MolFromSmiles(smiles)\n",
    "    primary_amine_pattern = Chem.MolFromSmarts('[NX3;H2]')  \n",
    "    diazonium_pattern = Chem.MolFromSmiles('[N]=[N+]=[N-]')\n",
    "    wrong_smiles = Chem.MolFromSmiles('C([N]=[N+]=[N-])[N]=[N+]=[N-]')\n",
    "    wrong_smiles_2 = Chem.MolFromSmiles('C(=O)[N]=[N+]=[N-]')\n",
    "    true_smiles = Chem.MolFromSmiles('C(N)N')\n",
    "    true_smiles_2 = Chem.MolFromSmiles('C(=O)N')\n",
    "    if molecule.HasSubstructMatch(primary_amine_pattern):\n",
    "        modified_molecule = Chem.ReplaceSubstructs(molecule, primary_amine_pattern, diazonium_pattern, replaceAll=True)[0]\n",
    "        if modified_molecule.HasSubstructMatch(wrong_smiles):\n",
    "            modified_molecule = Chem.ReplaceSubstructs(modified_molecule, wrong_smiles, true_smiles, replaceAll=True)[0]\n",
    "        elif modified_molecule.HasSubstructMatch(wrong_smiles_2):\n",
    "            modified_molecule = Chem.ReplaceSubstructs(modified_molecule, wrong_smiles_2, true_smiles_2, replaceAll=True)[0]\n",
    "        new_smiles = Chem.MolToSmiles(modified_molecule, isomericSmiles=True)\n",
    "        return new_smiles\n",
    "    elif '[NH2+]' in smiles:\n",
    "        try:\n",
    "            boc_protected_amine = Chem.MolFromSmiles(smiles)\n",
    "            reaction = BocRemoval(bocamine=boc_protected_amine)\n",
    "            molecule = reaction.get_product()\n",
    "            modified_molecule = Chem.ReplaceSubstructs(molecule, primary_amine_pattern, diazonium_pattern, replaceAll=True)[0]\n",
    "            new_smiles = Chem.MolToSmiles(modified_molecule, isomericSmiles=True)\n",
    "            return new_smiles\n",
    "        except:\n",
    "            # print(smiles,\"无法脱Boc\")\n",
    "            return None\n",
    "    else:\n",
    "        # print( smiles,\"未找到一级胺\")\n",
    "        return None"
   ]
  },
  {
   "cell_type": "code",
   "execution_count": 55,
   "metadata": {},
   "outputs": [],
   "source": [
    "def convert_diazo_to_triaz( acetylene_smiles,amine_smiles):\n",
    "    rxn = Chem.ReactionFromSmarts('[*:6][C:1]#[C:2].[N-:3]=[N+:4]=[N:5]>>[N:5]1([C:2]=[C:1]([*:6])[N:3]=[N:4]1)')\n",
    "    try:\n",
    "        product = rxn.RunReactants((Chem.MolFromSmiles(amine_smiles), Chem.MolFromSmiles(acetylene_smiles)))\n",
    "        # jb函数要两个括号\n",
    "        a=Chem.MolToSmiles(product[0][0])\n",
    "        if '[N+]=[N-]' in a or '[N-]=[N+]' in a:\n",
    "            a = replace_specific_pattern(a,r'(?<!N=)\\[N\\+\\]=\\[N-\\]|(?<!\\[N\\-\\]=)\\[N-\\]=\\[N\\+\\](?!\\=N)','N=N')\n",
    "        return a\n",
    "    except:\n",
    "        # print(amine_smiles,acetylene_smiles,\"未找到反应产物\")\n",
    "        return None"
   ]
  },
  {
   "cell_type": "code",
   "execution_count": 56,
   "metadata": {},
   "outputs": [],
   "source": [
    "def smiles_to_image_grid(smiles_list, img_size=(200, 200), mols_per_row=4, kekulize=True):\n",
    "    mols = [Chem.MolFromSmiles(smiles) for smiles in smiles_list]\n",
    "    if kekulize:\n",
    "        for mol in mols:\n",
    "            Chem.Kekulize(mol)\n",
    "    img = Draw.MolsToGridImage(mols, molsPerRow=mols_per_row, subImgSize=img_size)\n",
    "    return img"
   ]
  },
  {
   "cell_type": "code",
   "execution_count": 57,
   "metadata": {},
   "outputs": [],
   "source": [
    "def save_list_to_csv(filename, data_list):\n",
    "    with open(filename, 'w', newline='', encoding='utf-8') as csvfile:\n",
    "        csv_writer = csv.writer(csvfile)\n",
    "        for item in data_list:\n",
    "            csv_writer.writerow([item])"
   ]
  },
  {
   "cell_type": "code",
   "execution_count": 58,
   "metadata": {},
   "outputs": [],
   "source": [
    "def is_supported_for_autodock(example_smiles):\n",
    "    mol = Chem.MolFromSmiles(example_smiles)\n",
    "    metal_atomic_numbers = [21,22,23,24,25,26,27,28,29,30,31,39,40,41,42,43,44,45,46,47,48,49,72,73,74,75,76,77,78,79,80,81]\n",
    "    \n",
    "    # AutoDock要求分子具有至少3个非氢原子\n",
    "    if mol.GetNumHeavyAtoms() < 3:\n",
    "        return False\n",
    "\n",
    "    # 检查金属原子和原子类型\n",
    "    for atom in mol.GetAtoms():\n",
    "        atomic_num = atom.GetAtomicNum()\n",
    "\n",
    "        # 检查金属原子\n",
    "        if atomic_num in metal_atomic_numbers:\n",
    "            return False\n",
    "\n",
    "        # 检查原子类型是否为AutoDock支持的类型\n",
    "        if atomic_num not in [1, 6, 7, 8, 9, 15, 16, 17, 35, 53]:\n",
    "            return False\n",
    "\n",
    "    return True"
   ]
  },
  {
   "cell_type": "code",
   "execution_count": 59,
   "metadata": {},
   "outputs": [],
   "source": [
    "def filter_druglike(mol):\n",
    "    \"\"\"\n",
    "    Filter molecules with druglike rule of 5 in RDKit.\n",
    "    \"\"\"\n",
    "    if Lipinski.NumHDonors(mol) <= 5 and Lipinski.NumHAcceptors(mol) <= 10 and Descriptors.MolWt(mol) <= 500 and Crippen.MolLogP(mol)<=5 and Lipinski.NumRotatableBonds(mol)<=10:\n",
    "        return True\n",
    "    else:\n",
    "        return False"
   ]
  },
  {
   "cell_type": "code",
   "execution_count": 60,
   "metadata": {},
   "outputs": [],
   "source": [
    "with open ('/home/test/BiDe/BiDe_NH2.csv','r') as f:\n",
    "    lines = f.readlines()\n",
    "    amine_smiles = [l.split(',') for l in lines]\n",
    "with open ('/home/test/BiDe/BiDe_term_acetylene.csv','r') as f:\n",
    "    lines = f.readlines()\n",
    "    ace_smiles = [l.split(',') for l in lines]\n",
    "amine_smiles = amine_smiles[1:]\n",
    "ace_smiles = ace_smiles[1:]"
   ]
  },
  {
   "cell_type": "code",
   "execution_count": 61,
   "metadata": {},
   "outputs": [],
   "source": [
    "with open ('./N3_list_lower_65.csv','r') as f:\n",
    "    N3_list = f.read().splitlines()\n",
    "with open ('./ace_list_lower_65.csv','r') as f:\n",
    "    ace_list = f.read().splitlines()"
   ]
  },
  {
   "cell_type": "code",
   "execution_count": 62,
   "metadata": {},
   "outputs": [],
   "source": [
    "lower_65_NH2_dict = {}\n",
    "lower_65_ace_dict = {}\n",
    "for i in range(len(amine_smiles)):\n",
    "    ligand_smiles = amine_smiles[i][-10].split('.')\n",
    "    for j in range(len(ligand_smiles)):\n",
    "        convert_result = convert_primary_amines_to_diazonium(ligand_smiles[j])\n",
    "        if convert_result in N3_list:\n",
    "            lower_65_NH2_dict[convert_result] = [amine_smiles[i][-10],amine_smiles[i][0],amine_smiles[i][-9]]"
   ]
  },
  {
   "cell_type": "code",
   "execution_count": 63,
   "metadata": {},
   "outputs": [],
   "source": [
    "for i in range(len(ace_smiles)):\n",
    "    if ace_smiles[i][-10] in ace_list:\n",
    "        lower_65_ace_dict[ace_smiles[i][-10]] = [ace_smiles[i][-10],ace_smiles[i][0],ace_smiles[i][-9]]"
   ]
  },
  {
   "cell_type": "code",
   "execution_count": 72,
   "metadata": {},
   "outputs": [],
   "source": [
    "def save_nested_dict_to_json(data, file_name):\n",
    "    with open(file_name, 'w', encoding='utf-8') as file:\n",
    "        json.dump(data, file, ensure_ascii=False, indent=4)"
   ]
  },
  {
   "cell_type": "code",
   "execution_count": 73,
   "metadata": {},
   "outputs": [],
   "source": [
    "save_nested_dict_to_json(lower_65_NH2_dict,'./lower_65_NH2_dict.json')\n",
    "save_nested_dict_to_json(lower_65_ace_dict,'./lower_65_ace_dict.json')"
   ]
  },
  {
   "cell_type": "code",
   "execution_count": 80,
   "metadata": {},
   "outputs": [
    {
     "name": "stderr",
     "output_type": "stream",
     "text": [
      "100%|██████████| 6182/6182 [36:05<00:00,  2.86it/s]\n"
     ]
    }
   ],
   "source": [
    "Click_result_lower_65 = {}\n",
    "k = 0\n",
    "for i in tqdm(N3_list):\n",
    "    for j in ace_list:\n",
    "        b=convert_diazo_to_triaz(i,j)\n",
    "        if filter_druglike(Chem.MolFromSmiles(b)) == True:\n",
    "            Click_result_lower_65[f'{N3_list.index(i)}_{ace_list.index(j)}'] = b\n",
    "        else :\n",
    "            k += 1"
   ]
  },
  {
   "cell_type": "code",
   "execution_count": 81,
   "metadata": {},
   "outputs": [],
   "source": [
    "save_nested_dict_to_json(Click_result_lower_65,'./Click_result_lower_65.json')"
   ]
  }
 ],
 "metadata": {
  "kernelspec": {
   "display_name": "shabi",
   "language": "python",
   "name": "python3"
  },
  "language_info": {
   "codemirror_mode": {
    "name": "ipython",
    "version": 3
   },
   "file_extension": ".py",
   "mimetype": "text/x-python",
   "name": "python",
   "nbconvert_exporter": "python",
   "pygments_lexer": "ipython3",
   "version": "3.7.16"
  },
  "orig_nbformat": 4
 },
 "nbformat": 4,
 "nbformat_minor": 2
}
