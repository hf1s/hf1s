{
 "cells": [
  {
   "cell_type": "code",
   "execution_count": 1,
   "metadata": {},
   "outputs": [],
   "source": [
    "from rdkit import Chem\n",
    "from rdkit.Chem import AllChem as Chem\n",
    "from rdkit.Chem import Draw\n",
    "from rdkit.Chem import Fragments\n",
    "from ClickReaction import BocRemoval\n",
    "from ClickReaction import CuAAC\n",
    "from rdkit.Chem import  Descriptors\n",
    "from rdkit.Chem.Draw import IPythonConsole\n",
    "import io\n",
    "import itertools\n",
    "from PIL import Image\n",
    "from ClickReaction import BocRemoval\n",
    "from tqdm import tqdm\n",
    "import re\n",
    "from rdkit.Chem import Lipinski\n",
    "from rdkit.Chem import Descriptors\n",
    "from rdkit.Chem import Crippen\n",
    "import json\n",
    "import csv\n",
    "import numpy as np"
   ]
  },
  {
   "cell_type": "code",
   "execution_count": 2,
   "metadata": {},
   "outputs": [],
   "source": [
    "def replace_specific_pattern(text, pattern, replacement):\n",
    "    return re.sub(pattern, replacement, text)\n",
    "rxn = Chem.ReactionFromSmarts('[*:6][C:1]#[C:2].[N-:3]=[N+:4]=[N:5]>>[N:5]1([C:2]=[C:1]([*:6])[N:3]=[N:4]1)')"
   ]
  },
  {
   "cell_type": "code",
   "execution_count": 3,
   "metadata": {},
   "outputs": [],
   "source": [
    "def convert_primary_amines_to_diazonium(smiles):\n",
    "    molecule = Chem.MolFromSmiles(smiles)\n",
    "    primary_amine_pattern = Chem.MolFromSmarts('[NX3;H2]')  \n",
    "    diazonium_pattern = Chem.MolFromSmiles('[N]=[N+]=[N-]')\n",
    "    wrong_smiles = Chem.MolFromSmiles('C([N]=[N+]=[N-])[N]=[N+]=[N-]')\n",
    "    wrong_smiles_2 = Chem.MolFromSmiles('C(=O)[N]=[N+]=[N-]')\n",
    "    true_smiles = Chem.MolFromSmiles('C(N)N')\n",
    "    true_smiles_2 = Chem.MolFromSmiles('C(=O)N')\n",
    "    if molecule.HasSubstructMatch(primary_amine_pattern):\n",
    "        modified_molecule = Chem.ReplaceSubstructs(molecule, primary_amine_pattern, diazonium_pattern, replaceAll=True)[0]\n",
    "        if modified_molecule.HasSubstructMatch(wrong_smiles):\n",
    "            modified_molecule = Chem.ReplaceSubstructs(modified_molecule, wrong_smiles, true_smiles, replaceAll=True)[0]\n",
    "        elif modified_molecule.HasSubstructMatch(wrong_smiles_2):\n",
    "            modified_molecule = Chem.ReplaceSubstructs(modified_molecule, wrong_smiles_2, true_smiles_2, replaceAll=True)[0]\n",
    "        new_smiles = Chem.MolToSmiles(modified_molecule, isomericSmiles=True)\n",
    "        return new_smiles\n",
    "    elif '[NH2+]' in smiles:\n",
    "        try:\n",
    "            boc_protected_amine = Chem.MolFromSmiles(smiles)\n",
    "            reaction = BocRemoval(bocamine=boc_protected_amine)\n",
    "            molecule = reaction.get_product()\n",
    "            modified_molecule = Chem.ReplaceSubstructs(molecule, primary_amine_pattern, diazonium_pattern, replaceAll=True)[0]\n",
    "            new_smiles = Chem.MolToSmiles(modified_molecule, isomericSmiles=True)\n",
    "            return new_smiles\n",
    "        except:\n",
    "            # print(smiles,\"无法脱Boc\")\n",
    "            return None\n",
    "    else:\n",
    "        # print( smiles,\"未找到一级胺\")\n",
    "        return None"
   ]
  },
  {
   "cell_type": "code",
   "execution_count": 4,
   "metadata": {},
   "outputs": [],
   "source": [
    "def convert_diazo_to_triaz( acetylene_smiles,amine_smiles):\n",
    "    rxn = Chem.ReactionFromSmarts('[*:6][C:1]#[C:2].[N-:3]=[N+:4]=[N:5]>>[N:5]1([C:2]=[C:1]([*:6])[N:3]=[N:4]1)')\n",
    "    try:\n",
    "        product = rxn.RunReactants((Chem.MolFromSmiles(amine_smiles), Chem.MolFromSmiles(acetylene_smiles)))\n",
    "        # jb函数要两个括号\n",
    "        a=Chem.MolToSmiles(product[0][0])\n",
    "        if '[N+]=[N-]' in a or '[N-]=[N+]' in a:\n",
    "            a = replace_specific_pattern(a,r'(?<!N=)\\[N\\+\\]=\\[N-\\]|(?<!\\[N\\-\\]=)\\[N-\\]=\\[N\\+\\](?!\\=N)','N=N')\n",
    "        return a\n",
    "    except:\n",
    "        # print(amine_smiles,acetylene_smiles,\"未找到反应产物\")\n",
    "        return None"
   ]
  },
  {
   "cell_type": "code",
   "execution_count": 5,
   "metadata": {},
   "outputs": [],
   "source": [
    "def file_imput(file):\n",
    "    with open(file, 'r') as f:\n",
    "        lines = f.readlines()\n",
    "        file_list = [l.split(',')[-10] for l in lines]\n",
    "    return file_list"
   ]
  },
  {
   "cell_type": "code",
   "execution_count": 6,
   "metadata": {},
   "outputs": [],
   "source": [
    "def smiles_to_image_grid(smiles_list, img_size=(200, 200), mols_per_row=4, kekulize=True):\n",
    "    mols = [Chem.MolFromSmiles(smiles) for smiles in smiles_list]\n",
    "    if kekulize:\n",
    "        for mol in mols:\n",
    "            Chem.Kekulize(mol)\n",
    "    img = Draw.MolsToGridImage(mols, molsPerRow=mols_per_row, subImgSize=img_size)\n",
    "    return img"
   ]
  },
  {
   "cell_type": "code",
   "execution_count": 7,
   "metadata": {},
   "outputs": [],
   "source": [
    "def filter_druglike(mol):\n",
    "    \"\"\"\n",
    "    Filter molecules with druglike rule of 5 in RDKit.\n",
    "    \"\"\"\n",
    "    if Lipinski.NumHDonors(mol) <= 5 and Lipinski.NumHAcceptors(mol) <= 10 and Descriptors.MolWt(mol) <= 500 and Crippen.MolLogP(mol)<=5 and Lipinski.NumRotatableBonds(mol)<=10:\n",
    "        return True\n",
    "    else:\n",
    "        return False"
   ]
  },
  {
   "cell_type": "code",
   "execution_count": 8,
   "metadata": {},
   "outputs": [],
   "source": [
    "def save_list_to_csv(filename, data_list):\n",
    "    with open(filename, 'w', newline='', encoding='utf-8') as csvfile:\n",
    "        csv_writer = csv.writer(csvfile)\n",
    "        for item in data_list:\n",
    "            csv_writer.writerow([item])\n"
   ]
  },
  {
   "cell_type": "code",
   "execution_count": 9,
   "metadata": {},
   "outputs": [],
   "source": [
    "def load_list_from_csv(filename):\n",
    "    with open(filename, \"r\", newline=\"\") as csvfile:\n",
    "        reader = csv.reader(csvfile)\n",
    "        return [row for row in reader]"
   ]
  },
  {
   "cell_type": "code",
   "execution_count": 10,
   "metadata": {},
   "outputs": [
    {
     "data": {
      "text/plain": [
       "True"
      ]
     },
     "execution_count": 10,
     "metadata": {},
     "output_type": "execute_result"
    }
   ],
   "source": [
    "filter_druglike(Chem.MolFromSmiles('CCC'))"
   ]
  },
  {
   "cell_type": "code",
   "execution_count": 18,
   "metadata": {},
   "outputs": [],
   "source": [
    "def is_supported_for_autodock(example_smiles):\n",
    "    mol = Chem.MolFromSmiles(example_smiles)\n",
    "    metal_atomic_numbers = [21,22,23,24,25,26,27,28,29,30,31,39,40,41,42,43,44,45,46,47,48,49,72,73,74,75,76,77,78,79,80,81]\n",
    "    \n",
    "    # AutoDock要求分子具有至少3个非氢原子\n",
    "    if mol.GetNumHeavyAtoms() < 3:\n",
    "        return False\n",
    "\n",
    "    # 检查金属原子和原子类型\n",
    "    for atom in mol.GetAtoms():\n",
    "        atomic_num = atom.GetAtomicNum()\n",
    "\n",
    "        # 检查金属原子\n",
    "        if atomic_num in metal_atomic_numbers:\n",
    "            return False\n",
    "\n",
    "        # 检查原子类型是否为AutoDock支持的类型\n",
    "        if atomic_num not in [1, 6, 7, 8, 9, 15, 16, 17, 35, 53]:\n",
    "            return False\n",
    "\n",
    "    return True\n"
   ]
  },
  {
   "cell_type": "code",
   "execution_count": 21,
   "metadata": {},
   "outputs": [],
   "source": [
    "with open('BiDe_NH2_sele.csv', 'r') as f:\n",
    "    lines = f.readlines()\n",
    "amine_smiles_list = []\n",
    "for i in lines:\n",
    "    amine_smiles_list.append(i[:-1])"
   ]
  },
  {
   "cell_type": "code",
   "execution_count": 22,
   "metadata": {},
   "outputs": [],
   "source": [
    "with open ('./BiDe_term_acetylene.csv','r') as f:\n",
    "    lines = f.readlines()\n",
    "    acetylene_smiles = [l.split(',') for l in lines]\n",
    "acetylene_smiles = acetylene_smiles[1:]\n",
    "acetylene_smiles_list = []\n",
    "for i in range(len(acetylene_smiles)):\n",
    "    if float(acetylene_smiles[i][-3]) == 1.0:\n",
    "        acetylene_smiles_list.append(acetylene_smiles[i][-10])"
   ]
  },
  {
   "cell_type": "code",
   "execution_count": 23,
   "metadata": {},
   "outputs": [],
   "source": [
    "N3_smiles_list = file_imput('BiDe_N3.csv')[2:]"
   ]
  },
  {
   "cell_type": "code",
   "execution_count": 24,
   "metadata": {},
   "outputs": [],
   "source": [
    "triazole_smiles_list=[]\n",
    "for i in amine_smiles_list:\n",
    "    a=convert_primary_amines_to_diazonium(i)\n",
    "    N3_smiles_list.append(a)"
   ]
  },
  {
   "cell_type": "code",
   "execution_count": 209,
   "metadata": {},
   "outputs": [
    {
     "name": "stderr",
     "output_type": "stream",
     "text": [
      "100%|██████████| 10077/10077 [1:10:17<00:00,  2.39it/s]\n"
     ]
    }
   ],
   "source": [
    "k = 0\n",
    "for i in tqdm(N3_smiles_list):\n",
    "    c = []\n",
    "    for j in acetylene_smiles_list:\n",
    "        b=convert_diazo_to_triaz(i,j)\n",
    "        if filter_druglike(Chem.MolFromSmiles(b)) == True:\n",
    "            c.append(b)\n",
    "            k += 1\n",
    "        else :\n",
    "            c.append(None)\n",
    "    triazole_smiles_list.append(c)\n"
   ]
  },
  {
   "cell_type": "code",
   "execution_count": 11,
   "metadata": {},
   "outputs": [],
   "source": [
    "def save_nested_dict_to_json(data, file_name):\n",
    "    with open(file_name, 'w', encoding='utf-8') as file:\n",
    "        json.dump(data, file, ensure_ascii=False, indent=4)"
   ]
  },
  {
   "cell_type": "code",
   "execution_count": 231,
   "metadata": {},
   "outputs": [],
   "source": [
    "save_list_to_csv(triazole_smiles_list, \"csv_triazole_smiles.csv\")"
   ]
  },
  {
   "cell_type": "code",
   "execution_count": 33,
   "metadata": {},
   "outputs": [],
   "source": [
    "triazole_smiles_list = load_list_from_csv('csv_triazole_smiles.csv')"
   ]
  },
  {
   "cell_type": "code",
   "execution_count": 24,
   "metadata": {},
   "outputs": [],
   "source": [
    "save_nested_dict_to_json(triazole_smiles_list, 'json_triazole_smiles_list.json')"
   ]
  },
  {
   "cell_type": "code",
   "execution_count": 34,
   "metadata": {},
   "outputs": [],
   "source": [
    "matrix_triazole_smiles = np.array(triazole_smiles_list)"
   ]
  },
  {
   "cell_type": "code",
   "execution_count": 27,
   "metadata": {},
   "outputs": [],
   "source": [
    "with open('acetylene_list.csv', 'w', newline='') as csvfile:\n",
    "    csv_writer = csv.writer(csvfile)\n",
    "    csv_writer.writerows(acetylene_smiles_list)\n",
    "with open('N3_list.csv', 'w', newline='') as csvfile:\n",
    "    csv_writer = csv.writer(csvfile)\n",
    "    csv_writer.writerows(N3_smiles_list)"
   ]
  },
  {
   "cell_type": "code",
   "execution_count": 63,
   "metadata": {},
   "outputs": [],
   "source": [
    "skip_list_row = []\n",
    "for i in range(len(triazole_smiles_list)):\n",
    "    k = 0\n",
    "    for j in triazole_smiles_list[i]:\n",
    "        if j == '':\n",
    "            k += 1\n",
    "        else:\n",
    "            pass\n",
    "    if k > len(triazole_smiles_list[i])/2:\n",
    "        skip_list_row.append(i)\n",
    "    elif is_supported_for_autodock(triazole_smiles_list[i][0]) == False:\n",
    "        skip_list_row.append(i)"
   ]
  },
  {
   "cell_type": "code",
   "execution_count": 57,
   "metadata": {},
   "outputs": [],
   "source": [
    "skip_list_col = []\n",
    "for i in range(635):\n",
    "    k = 0\n",
    "    for j in range(10077):\n",
    "        if matrix_triazole_smiles[j][i] == '':\n",
    "            k += 1\n",
    "        else:\n",
    "            pass\n",
    "    if k > 5039:\n",
    "        skip_list_col.append(i)\n",
    "    elif is_supported_for_autodock(matrix_triazole_smiles[0][i]) == False:\n",
    "        skip_list_col.append(i)"
   ]
  },
  {
   "cell_type": "code",
   "execution_count": 62,
   "metadata": {},
   "outputs": [
    {
     "data": {
      "text/plain": [
       "'CC(C)(C)[Si](C)(C)C1=CN(Cc2cc(F)ccc2B(O)O)N=N1'"
      ]
     },
     "execution_count": 62,
     "metadata": {},
     "output_type": "execute_result"
    }
   ],
   "source": [
    "matrix_triazole_smiles[1016][438]"
   ]
  },
  {
   "cell_type": "code",
   "execution_count": 64,
   "metadata": {},
   "outputs": [
    {
     "data": {
      "text/plain": [
       "True"
      ]
     },
     "execution_count": 64,
     "metadata": {},
     "output_type": "execute_result"
    }
   ],
   "source": [
    "1016 in skip_list_row"
   ]
  },
  {
   "cell_type": "code",
   "execution_count": 65,
   "metadata": {},
   "outputs": [],
   "source": [
    "import random\n",
    "import numpy as np\n",
    "\n",
    "# 设置要从每行和每列中采样的数量\n",
    "samples_per_row = 3\n",
    "samples_per_col = 50\n",
    "\n",
    "sampled_values = []\n",
    "sampled_values_1 = []\n",
    "\n",
    "# 按行采样\n",
    "sampled_sele = {}\n",
    "for row in range(10077):\n",
    "    if row in skip_list_row:\n",
    "        continue\n",
    "    else:\n",
    "        a = []\n",
    "        for col in range(635):\n",
    "            if matrix_triazole_smiles[row, col] != '' and col not in skip_list_col:\n",
    "                a.append(col)\n",
    "        col_indices = random.sample(a, samples_per_row)\n",
    "        for j in col_indices:\n",
    "            sampled_sele[f'{row}_{j}'] = matrix_triazole_smiles[row, j]\n",
    "            sampled_values.append(matrix_triazole_smiles[row, j])"
   ]
  },
  {
   "cell_type": "code",
   "execution_count": 59,
   "metadata": {},
   "outputs": [],
   "source": [
    "# 按列采样\n",
    "sampled_sele_1 = {}\n",
    "for col in range(635):\n",
    "    if col in skip_list_col:\n",
    "        continue\n",
    "    else:\n",
    "        a = []\n",
    "        for row in range(10077):\n",
    "            if matrix_triazole_smiles[row, col] != '' and row not in skip_list_row:\n",
    "                a.append(row)\n",
    "        row_indices = random.sample(a, 50)\n",
    "        for j in row_indices:\n",
    "            sampled_sele_1[f'{j}_{col}'] = matrix_triazole_smiles[j, col]\n",
    "            sampled_values_1.append(matrix_triazole_smiles[j, col])"
   ]
  },
  {
   "cell_type": "code",
   "execution_count": 66,
   "metadata": {},
   "outputs": [],
   "source": [
    "save_nested_dict_to_json(sampled_sele, 'all_NH2.json')\n",
    "save_nested_dict_to_json(sampled_sele_1, 'all_acetylene.json')"
   ]
  },
  {
   "cell_type": "code",
   "execution_count": 50,
   "metadata": {},
   "outputs": [],
   "source": [
    "save_list_to_csv('/home/pku/BiDe/N3.csv', N3_smiles_list)\n"
   ]
  },
  {
   "cell_type": "code",
   "execution_count": 51,
   "metadata": {},
   "outputs": [],
   "source": [
    "save_list_to_csv('/home/pku/BiDe/acytylene.csv', acetylene_smiles_list)"
   ]
  },
  {
   "cell_type": "code",
   "execution_count": 2,
   "metadata": {},
   "outputs": [
    {
     "data": {
      "image/png": "[encoded data removed]",
      "text/plain": [
       "<rdkit.Chem.rdchem.Mol at 0x7f533b82ce90>"
      ]
     },
     "execution_count": 2,
     "metadata": {},
     "output_type": "execute_result"
    }
   ],
   "source": [
    "Chem.MolFromSmiles('O=C1CCC(N2Cc3c(cccc3C3=CN(c4cccc5c4[nH]c4ccccc45)N=N3)C2=O)C(=O)N1')"
   ]
  },
  {
   "cell_type": "code",
   "execution_count": null,
   "metadata": {},
   "outputs": [],
   "source": []
  }
 ],
 "metadata": {
  "kernelspec": {
   "display_name": "shabi",
   "language": "python",
   "name": "python3"
  },
  "language_info": {
   "codemirror_mode": {
    "name": "ipython",
    "version": 3
   },
   "file_extension": ".py",
   "mimetype": "text/x-python",
   "name": "python",
   "nbconvert_exporter": "python",
   "pygments_lexer": "ipython3",
   "version": "3.7.16"
  },
  "orig_nbformat": 4,
  "vscode": {
   "interpreter": {
    "hash": "9cc200f5dd7a3b5c73635786f2e579abd66a7ff9843c659b9b1d043734f8b069"
   }
  }
 },
 "nbformat": 4,
 "nbformat_minor": 2
}
